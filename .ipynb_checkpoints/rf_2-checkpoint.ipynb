{
 "cells": [
  {
   "cell_type": "markdown",
   "metadata": {},
   "source": [
    "## import modules "
   ]
  },
  {
   "cell_type": "code",
   "execution_count": 1,
   "metadata": {},
   "outputs": [],
   "source": [
    "from __future__ import division\n",
    "import numpy as np\n",
    "import pandas as pd\n",
    "import sklearn as sk\n",
    "from sklearn.ensemble import RandomForestRegressor\n",
    "from sklearn.preprocessing import StandardScaler\n",
    "from sklearn.feature_selection import SelectFromModel\n",
    "from sklearn.model_selection import train_test_split\n",
    "import os\n",
    "%matplotlib inline\n",
    "import seaborn as sns\n",
    "import matplotlib.pyplot as plt\n",
    "%config InlineBackend.figure_format = 'svg'\n",
    "from pylab import rcParams\n",
    "rcParams['figure.figsize']=8,5"
   ]
  },
  {
   "cell_type": "markdown",
   "metadata": {},
   "source": [
    "## import data"
   ]
  },
  {
   "cell_type": "code",
   "execution_count": 2,
   "metadata": {},
   "outputs": [],
   "source": [
    "#import data\n",
    "os.chdir(\"/home/gladkov/storage/al_R/3new\")\n",
    "os.listdir()\n",
    "otus = pd.read_csv(\"otu_table_for_rf.txt\", sep=\"\\t\")\n",
    "metadata = pd.read_csv(\"metadata_for_rf.txt\", sep=\"\\t\")\n",
    "\n"
   ]
  },
  {
   "cell_type": "code",
   "execution_count": 3,
   "metadata": {},
   "outputs": [],
   "source": [
    "# same shit that above with merged repeats\n",
    "metadata.index = metadata[\"Unnamed: 0\"]\n",
    "metadata = metadata.drop(columns=[\"Unnamed: 0\"])\n",
    "\n",
    "otus.index = otus[\"Unnamed: 0\"]\n",
    "otus = otus.drop(columns=[\"Unnamed: 0\"])\n",
    "\n",
    "metadata = metadata.drop(columns=[\"Filename\",\"Description\",\"Plant\",\"Inoculation\",\"Al\", \"QRTPCR\", \"SeedCa\"])"
   ]
  },
  {
   "cell_type": "code",
   "execution_count": 6,
   "metadata": {},
   "outputs": [],
   "source": [
    "# Use numpy to convert to arrays\n",
    "import numpy as np# Labels are the values we want to predict\n",
    "\n",
    "feature_list = list(metadata)# Convert to numpy array\n",
    "features = np.array(metadata)\n",
    "labels = np.array(otus)"
   ]
  },
  {
   "cell_type": "code",
   "execution_count": 7,
   "metadata": {},
   "outputs": [],
   "source": [
    "# Using Skicit-learn to split data into training and testing sets\n",
    "from sklearn.model_selection import train_test_split# Split the data into training and testing sets\n",
    "train_features, test_features, train_labels, test_labels = train_test_split(features, labels, test_size = 0.25, random_state = 42)"
   ]
  },
  {
   "cell_type": "code",
   "execution_count": 8,
   "metadata": {},
   "outputs": [
    {
     "name": "stdout",
     "output_type": "stream",
     "text": [
      "Training Features Shape: (46, 104)\n",
      "Training Labels Shape: (46, 9971)\n",
      "Testing Features Shape: (16, 104)\n",
      "Testing Labels Shape: (16, 9971)\n"
     ]
    }
   ],
   "source": [
    "print('Training Features Shape:', train_features.shape)\n",
    "print('Training Labels Shape:', train_labels.shape)\n",
    "print('Testing Features Shape:', test_features.shape)\n",
    "print('Testing Labels Shape:', test_labels.shape)"
   ]
  },
  {
   "cell_type": "code",
   "execution_count": 10,
   "metadata": {},
   "outputs": [
    {
     "name": "stdout",
     "output_type": "stream",
     "text": [
      "Fitting 3 folds for each of 100 candidates, totalling 300 fits\n"
     ]
    },
    {
     "name": "stderr",
     "output_type": "stream",
     "text": [
      "[Parallel(n_jobs=30)]: Using backend LokyBackend with 30 concurrent workers.\n",
      "[Parallel(n_jobs=30)]: Done 102 tasks      | elapsed: 15.6min\n",
      "[Parallel(n_jobs=30)]: Done 300 out of 300 | elapsed: 61.3min finished\n"
     ]
    },
    {
     "data": {
      "text/plain": [
       "RandomizedSearchCV(cv=3, error_score=nan,\n",
       "                   estimator=RandomForestRegressor(bootstrap=True,\n",
       "                                                   ccp_alpha=0.0,\n",
       "                                                   criterion='mse',\n",
       "                                                   max_depth=None,\n",
       "                                                   max_features='auto',\n",
       "                                                   max_leaf_nodes=None,\n",
       "                                                   max_samples=None,\n",
       "                                                   min_impurity_decrease=0.0,\n",
       "                                                   min_impurity_split=None,\n",
       "                                                   min_samples_leaf=1,\n",
       "                                                   min_samples_split=2,\n",
       "                                                   min_weight_fraction_leaf=0.0,\n",
       "                                                   n_estimators=100,\n",
       "                                                   n_jobs=None, oob_score=Fals...\n",
       "                   param_distributions={'bootstrap': [True, False],\n",
       "                                        'max_depth': [10, 20, 30, 40, 50, 60,\n",
       "                                                      70, 80, 90, 100, 110,\n",
       "                                                      None],\n",
       "                                        'max_features': ['auto', 'sqrt'],\n",
       "                                        'min_samples_leaf': [1, 2, 4],\n",
       "                                        'min_samples_split': [2, 5, 10],\n",
       "                                        'n_estimators': [200, 400, 600, 800,\n",
       "                                                         1000, 1200, 1400, 1600,\n",
       "                                                         1800, 2000]},\n",
       "                   pre_dispatch='2*n_jobs', random_state=42, refit=True,\n",
       "                   return_train_score=False, scoring=None, verbose=2)"
      ]
     },
     "execution_count": 10,
     "metadata": {},
     "output_type": "execute_result"
    }
   ],
   "source": [
    "from sklearn.model_selection import RandomizedSearchCV\n",
    "\n",
    "# Number of trees in random forest\n",
    "n_estimators = [int(x) for x in np.linspace(start = 200, stop = 2000, num = 10)]\n",
    "# Number of features to consider at every split\n",
    "max_features = ['auto', 'sqrt']\n",
    "# Maximum number of levels in tree\n",
    "max_depth = [int(x) for x in np.linspace(10, 110, num = 11)]\n",
    "max_depth.append(None)\n",
    "# Minimum number of samples required to split a node\n",
    "min_samples_split = [2, 5, 10]\n",
    "# Minimum number of samples required at each leaf node\n",
    "min_samples_leaf = [1, 2, 4]\n",
    "# Method of selecting samples for training each tree\n",
    "bootstrap = [True, False]# Create the random grid\n",
    "random_grid = {'n_estimators': n_estimators,\n",
    "               'max_features': max_features,\n",
    "               'max_depth': max_depth,\n",
    "               'min_samples_split': min_samples_split,\n",
    "               'min_samples_leaf': min_samples_leaf,\n",
    "               'bootstrap': bootstrap}\n",
    "# Use the random grid to search for best hyperparameters\n",
    "# First create the base model to tune\n",
    "rf = RandomForestRegressor()\n",
    "# Random search of parameters, using 3 fold cross validation, \n",
    "# search across 100 different combinations, and use all available cores\n",
    "rf_random = RandomizedSearchCV(estimator = rf, param_distributions = random_grid, n_iter = 100, cv = 3, verbose=2, random_state=42, n_jobs = 30)# Fit the random search model\n",
    "rf_random.fit(train_features, train_labels)"
   ]
  },
  {
   "cell_type": "code",
   "execution_count": 11,
   "metadata": {},
   "outputs": [
    {
     "data": {
      "text/plain": [
       "{'n_estimators': 1600,\n",
       " 'min_samples_split': 10,\n",
       " 'min_samples_leaf': 1,\n",
       " 'max_features': 'sqrt',\n",
       " 'max_depth': 20,\n",
       " 'bootstrap': True}"
      ]
     },
     "execution_count": 11,
     "metadata": {},
     "output_type": "execute_result"
    }
   ],
   "source": [
    "rf_random.best_params_"
   ]
  },
  {
   "cell_type": "code",
   "execution_count": 12,
   "metadata": {},
   "outputs": [
    {
     "data": {
      "text/plain": [
       "RandomForestRegressor(bootstrap=True, ccp_alpha=0.0, criterion='mse',\n",
       "                      max_depth=20, max_features='sqrt', max_leaf_nodes=None,\n",
       "                      max_samples=None, min_impurity_decrease=0.0,\n",
       "                      min_impurity_split=None, min_samples_leaf=1,\n",
       "                      min_samples_split=10, min_weight_fraction_leaf=0.0,\n",
       "                      n_estimators=1600, n_jobs=None, oob_score=False,\n",
       "                      random_state=None, verbose=0, warm_start=False)"
      ]
     },
     "execution_count": 12,
     "metadata": {},
     "output_type": "execute_result"
    }
   ],
   "source": [
    "rf = RandomForestRegressor(bootstrap=True, ccp_alpha=0.0, criterion='mse',\n",
    "                      max_depth=20, max_features='sqrt', max_leaf_nodes=None,\n",
    "                      max_samples=None, min_impurity_decrease=0.0,\n",
    "                      min_impurity_split=None, min_samples_leaf=1,\n",
    "                      min_samples_split=10, min_weight_fraction_leaf=0.0,\n",
    "                      n_estimators=1600, n_jobs=None, oob_score=False,\n",
    "                      random_state=None, verbose=0, warm_start=False)\n",
    "rf.fit(train_features, train_labels)"
   ]
  },
  {
   "cell_type": "code",
   "execution_count": 13,
   "metadata": {
    "scrolled": true
   },
   "outputs": [
    {
     "name": "stdout",
     "output_type": "stream",
     "text": [
      "Model Performance\n",
      "Average Error: 0.2774 degrees.\n",
      "Accuracy = 92.03%.\n"
     ]
    }
   ],
   "source": [
    "def evaluate(model, test_features, test_labels):\n",
    "    predictions = model.predict(test_features)\n",
    "    errors = abs(predictions - test_labels)\n",
    "    mape = 100 * np.mean(errors / test_labels)\n",
    "    accuracy = 100 - mape\n",
    "    print('Model Performance')\n",
    "    print('Average Error: {:0.4f} degrees.'.format(np.mean(errors)))\n",
    "    print('Accuracy = {:0.2f}%.'.format(accuracy))\n",
    "    \n",
    "    return accuracy\n",
    "\n",
    "random_accuracy = evaluate(rf, test_features, test_labels)"
   ]
  },
  {
   "cell_type": "code",
   "execution_count": 14,
   "metadata": {},
   "outputs": [
    {
     "name": "stdout",
     "output_type": "stream",
     "text": [
      "Variable: SeedMg               Importance: 0.032\n",
      "Variable: BineMn               Importance: 0.028\n",
      "Variable: pH                   Importance: 0.019\n",
      "Variable: SeedS                Importance: 0.019\n",
      "Variable: BinePerPlantMo       Importance: 0.019\n",
      "Variable: BineMg               Importance: 0.018\n",
      "Variable: BineP                Importance: 0.017\n",
      "Variable: SeedMo               Importance: 0.017\n",
      "Variable: BineCo               Importance: 0.016\n",
      "Variable: BineMo               Importance: 0.015\n",
      "Variable: SeedN                Importance: 0.014\n",
      "Variable: BineCu               Importance: 0.014\n",
      "Variable: BineZn               Importance: 0.014\n",
      "Variable: BineNi               Importance: 0.013\n",
      "Variable: SeedP                Importance: 0.013\n",
      "Variable: SoilMn               Importance: 0.013\n",
      "Variable: BineSeedPerPlantP    Importance: 0.013\n",
      "Variable: BineM                Importance: 0.012\n",
      "Variable: Arb                  Importance: 0.012\n",
      "Variable: NitBine              Importance: 0.012\n",
      "Variable: NitSeed              Importance: 0.012\n",
      "Variable: SeedK                Importance: 0.012\n",
      "Variable: SeedMn               Importance: 0.012\n",
      "Variable: BinePerPlantMn       Importance: 0.012\n",
      "Variable: BineSeedPerPlantNi   Importance: 0.012\n",
      "Variable: Mic                  Importance: 0.011\n",
      "Variable: BineB                Importance: 0.011\n",
      "Variable: SeedCo               Importance: 0.011\n",
      "Variable: SeedNi               Importance: 0.011\n",
      "Variable: SoilFe               Importance: 0.011\n",
      "Variable: BinePerPLantZn       Importance: 0.011\n",
      "Variable: Nit15                Importance: 0.01\n",
      "Variable: BineFe               Importance: 0.01\n",
      "Variable: BineS                Importance: 0.01\n",
      "Variable: SoilAl               Importance: 0.01\n",
      "Variable: BinePerPlantAl       Importance: 0.01\n",
      "Variable: SeedPerPlantMo       Importance: 0.01\n",
      "Variable: SeedPerPlantNi       Importance: 0.01\n",
      "Variable: NodPerPlant.1        Importance: 0.009\n",
      "Variable: NitBineSeedPerPlant  Importance: 0.009\n",
      "Variable: BineAl               Importance: 0.009\n",
      "Variable: SeedB                Importance: 0.009\n",
      "Variable: SoilMo               Importance: 0.009\n",
      "Variable: SoilNi               Importance: 0.009\n",
      "Variable: BinePerPlantK        Importance: 0.009\n",
      "Variable: BinePerPlantSe       Importance: 0.009\n",
      "Variable: BineSeedPerPlantB    Importance: 0.009\n",
      "Variable: SeedMOne             Importance: 0.008\n",
      "Variable: Ves                  Importance: 0.008\n",
      "Variable: NitPerPlant          Importance: 0.008\n",
      "Variable: Nit15SeedPerPlant    Importance: 0.008\n",
      "Variable: Nit15BineSeedPerPlant Importance: 0.008\n",
      "Variable: BineCa               Importance: 0.008\n",
      "Variable: SeedAl               Importance: 0.008\n",
      "Variable: SeedCu               Importance: 0.008\n",
      "Variable: SeedZn               Importance: 0.008\n",
      "Variable: SoilCa               Importance: 0.008\n",
      "Variable: SoilCo               Importance: 0.008\n",
      "Variable: SoilP                Importance: 0.008\n",
      "Variable: BinePerPlantB        Importance: 0.008\n",
      "Variable: BinePerPlantCu       Importance: 0.008\n",
      "Variable: BinePerPlantNi       Importance: 0.008\n",
      "Variable: SeedPerPlantCo       Importance: 0.008\n",
      "Variable: SeedPerPlantMg       Importance: 0.008\n",
      "Variable: BineSeedPerPlantFe   Importance: 0.008\n",
      "Variable: BineSeedPerPlantMo   Importance: 0.008\n",
      "Variable: BineSeedM            Importance: 0.007\n",
      "Variable: NodPerPlant          Importance: 0.007\n",
      "Variable: Nit15PerPlant        Importance: 0.007\n",
      "Variable: NitSeed15            Importance: 0.007\n",
      "Variable: NitSeedPerPlant      Importance: 0.007\n",
      "Variable: BineK                Importance: 0.007\n",
      "Variable: SeedFe               Importance: 0.007\n",
      "Variable: SoilB                Importance: 0.007\n",
      "Variable: SoilCu               Importance: 0.007\n",
      "Variable: SoilZn               Importance: 0.007\n",
      "Variable: BinePerPlantFe       Importance: 0.007\n",
      "Variable: BinePerPlantMg       Importance: 0.007\n",
      "Variable: BinePerPlantP        Importance: 0.007\n",
      "Variable: SeedPerPlantFe       Importance: 0.007\n",
      "Variable: SeedPerPlantMn       Importance: 0.007\n",
      "Variable: SeedPerPlantZn       Importance: 0.007\n",
      "Variable: BineSeedPerPlantK    Importance: 0.007\n",
      "Variable: BineSeedPerPlantS    Importance: 0.007\n",
      "Variable: BineSeedPerPlantS.1  Importance: 0.007\n",
      "Variable: SeedM                Importance: 0.006\n",
      "Variable: SoilS                Importance: 0.006\n",
      "Variable: BinePerPlantCo       Importance: 0.006\n",
      "Variable: SeedPerPlantAl       Importance: 0.006\n",
      "Variable: SeedPerPlantB        Importance: 0.006\n",
      "Variable: SeedPerPlantCa       Importance: 0.006\n",
      "Variable: SeedPerPlantK        Importance: 0.006\n",
      "Variable: SeedPerPlantP        Importance: 0.006\n",
      "Variable: BineSeedPerPlantCa   Importance: 0.006\n",
      "Variable: BineSeedPerPlantCo   Importance: 0.006\n",
      "Variable: BineSeedPerPlantMg   Importance: 0.006\n",
      "Variable: BineSeedPerPlantZn   Importance: 0.006\n",
      "Variable: SoilMg               Importance: 0.005\n",
      "Variable: BinePerPLantCa       Importance: 0.005\n",
      "Variable: BineSeedPerPlantAl   Importance: 0.005\n",
      "Variable: BineSeedPerPlantCu   Importance: 0.005\n",
      "Variable: SoilK                Importance: 0.004\n",
      "Variable: SeedPerPlantCu       Importance: 0.004\n",
      "Variable: SeedPerPlantS        Importance: 0.004\n"
     ]
    }
   ],
   "source": [
    "# Get numerical feature importances\n",
    "importances = list(rf.feature_importances_)# List of tuples with variable and importance\n",
    "feature_importances = [(feature, round(importance, 3)) for feature, importance in zip(feature_list, importances)]# Sort the feature importances by most important first\n",
    "feature_importances = sorted(feature_importances, key = lambda x: x[1], reverse = True)# Print out the feature and importances \n",
    "[print('Variable: {:20} Importance: {}'.format(*pair)) for pair in feature_importances];"
   ]
  }
 ],
 "metadata": {
  "kernelspec": {
   "display_name": "Python 3",
   "language": "python",
   "name": "python3"
  },
  "language_info": {
   "codemirror_mode": {
    "name": "ipython",
    "version": 3
   },
   "file_extension": ".py",
   "mimetype": "text/x-python",
   "name": "python",
   "nbconvert_exporter": "python",
   "pygments_lexer": "ipython3",
   "version": "3.7.6"
  }
 },
 "nbformat": 4,
 "nbformat_minor": 4
}
