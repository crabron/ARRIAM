{
 "cells": [
  {
   "cell_type": "code",
   "execution_count": 1,
   "metadata": {},
   "outputs": [],
   "source": [
    "import os\n",
    "# %load_ext rpy2.ipython - for pandas envinroment only \n",
    "# import vamb\n",
    "# %config IPCompleter.greedy=True\n",
    "%config Completer.use_jedi = False"
   ]
  },
  {
   "cell_type": "code",
   "execution_count": 6,
   "metadata": {},
   "outputs": [
    {
     "data": {
      "text/html": [
       "<div>\n",
       "<style scoped>\n",
       "    .dataframe tbody tr th:only-of-type {\n",
       "        vertical-align: middle;\n",
       "    }\n",
       "\n",
       "    .dataframe tbody tr th {\n",
       "        vertical-align: top;\n",
       "    }\n",
       "\n",
       "    .dataframe thead th {\n",
       "        text-align: right;\n",
       "    }\n",
       "</style>\n",
       "<table border=\"1\" class=\"dataframe\">\n",
       "  <thead>\n",
       "    <tr style=\"text-align: right;\">\n",
       "      <th></th>\n",
       "      <th>0</th>\n",
       "      <th>1</th>\n",
       "      <th>2</th>\n",
       "      <th>3</th>\n",
       "      <th>4</th>\n",
       "      <th>5</th>\n",
       "      <th>6</th>\n",
       "      <th>7</th>\n",
       "      <th>8</th>\n",
       "      <th>9</th>\n",
       "    </tr>\n",
       "  </thead>\n",
       "  <tbody>\n",
       "    <tr>\n",
       "      <th>cups_of_coffee</th>\n",
       "      <td>0</td>\n",
       "      <td>1</td>\n",
       "      <td>2</td>\n",
       "      <td>3</td>\n",
       "      <td>4</td>\n",
       "      <td>5</td>\n",
       "      <td>6</td>\n",
       "      <td>7</td>\n",
       "      <td>8</td>\n",
       "      <td>9</td>\n",
       "    </tr>\n",
       "    <tr>\n",
       "      <th>productivity</th>\n",
       "      <td>2</td>\n",
       "      <td>5</td>\n",
       "      <td>6</td>\n",
       "      <td>8</td>\n",
       "      <td>9</td>\n",
       "      <td>8</td>\n",
       "      <td>0</td>\n",
       "      <td>1</td>\n",
       "      <td>0</td>\n",
       "      <td>-1</td>\n",
       "    </tr>\n",
       "  </tbody>\n",
       "</table>\n",
       "</div>"
      ],
      "text/plain": [
       "                0  1  2  3  4  5  6  7  8  9\n",
       "cups_of_coffee  0  1  2  3  4  5  6  7  8  9\n",
       "productivity    2  5  6  8  9  8  0  1  0 -1"
      ]
     },
     "execution_count": 6,
     "metadata": {},
     "output_type": "execute_result"
    }
   ],
   "source": [
    "import pandas as pd\n",
    "import numpy as np\n",
    "df = pd.DataFrame({\n",
    "    'cups_of_coffee': [0, 1, 2, 3, 4, 5, 6, 7, 8, 9],\n",
    "    'productivity': [2, 5, 6, 8, 9, 8, 0, 1, 0, -1]\n",
    "})\n",
    "df.transpose()"
   ]
  },
  {
   "cell_type": "code",
   "execution_count": 10,
   "metadata": {},
   "outputs": [
    {
     "data": {
      "text/plain": [
       "['consensus.fasta']"
      ]
     },
     "execution_count": 10,
     "metadata": {},
     "output_type": "execute_result"
    }
   ],
   "source": [
    "os.chdir('/home/gladkov2/storage/metagenome/bact_4x/vamb')\n",
    "ldrir = os.listdir()\n",
    "\n",
    "ldrir"
   ]
  },
  {
   "cell_type": "code",
   "execution_count": 3,
   "metadata": {},
   "outputs": [
    {
     "name": "stdout",
     "output_type": "stream",
     "text": [
      "[1] 10  7  6  3  1\n"
     ]
    }
   ],
   "source": [
    "%%R\n",
    "set.seed(100) \n",
    "s <- sample(1:10, 5)\n",
    "print(s)"
   ]
  },
  {
   "cell_type": "code",
   "execution_count": 8,
   "metadata": {},
   "outputs": [
    {
     "name": "stdout",
     "output_type": "stream",
     "text": [
      "[1] 10  7  6  3  1\n"
     ]
    }
   ],
   "source": [
    "%%R\n",
    "print(s)"
   ]
  },
  {
   "cell_type": "code",
   "execution_count": 7,
   "metadata": {},
   "outputs": [
    {
     "data": {
      "text/html": [
       "<div>\n",
       "<style scoped>\n",
       "    .dataframe tbody tr th:only-of-type {\n",
       "        vertical-align: middle;\n",
       "    }\n",
       "\n",
       "    .dataframe tbody tr th {\n",
       "        vertical-align: top;\n",
       "    }\n",
       "\n",
       "    .dataframe thead th {\n",
       "        text-align: right;\n",
       "    }\n",
       "</style>\n",
       "<table border=\"1\" class=\"dataframe\">\n",
       "  <thead>\n",
       "    <tr style=\"text-align: right;\">\n",
       "      <th></th>\n",
       "      <th>cups_of_coffee</th>\n",
       "      <th>productivity</th>\n",
       "    </tr>\n",
       "  </thead>\n",
       "  <tbody>\n",
       "    <tr>\n",
       "      <th>0</th>\n",
       "      <td>0</td>\n",
       "      <td>2</td>\n",
       "    </tr>\n",
       "    <tr>\n",
       "      <th>1</th>\n",
       "      <td>1</td>\n",
       "      <td>5</td>\n",
       "    </tr>\n",
       "    <tr>\n",
       "      <th>2</th>\n",
       "      <td>2</td>\n",
       "      <td>6</td>\n",
       "    </tr>\n",
       "    <tr>\n",
       "      <th>3</th>\n",
       "      <td>3</td>\n",
       "      <td>8</td>\n",
       "    </tr>\n",
       "    <tr>\n",
       "      <th>4</th>\n",
       "      <td>4</td>\n",
       "      <td>9</td>\n",
       "    </tr>\n",
       "    <tr>\n",
       "      <th>5</th>\n",
       "      <td>5</td>\n",
       "      <td>8</td>\n",
       "    </tr>\n",
       "    <tr>\n",
       "      <th>6</th>\n",
       "      <td>6</td>\n",
       "      <td>0</td>\n",
       "    </tr>\n",
       "    <tr>\n",
       "      <th>7</th>\n",
       "      <td>7</td>\n",
       "      <td>1</td>\n",
       "    </tr>\n",
       "    <tr>\n",
       "      <th>8</th>\n",
       "      <td>8</td>\n",
       "      <td>0</td>\n",
       "    </tr>\n",
       "    <tr>\n",
       "      <th>9</th>\n",
       "      <td>9</td>\n",
       "      <td>-1</td>\n",
       "    </tr>\n",
       "  </tbody>\n",
       "</table>\n",
       "</div>"
      ],
      "text/plain": [
       "   cups_of_coffee  productivity\n",
       "0               0             2\n",
       "1               1             5\n",
       "2               2             6\n",
       "3               3             8\n",
       "4               4             9\n",
       "5               5             8\n",
       "6               6             0\n",
       "7               7             1\n",
       "8               8             0\n",
       "9               9            -1"
      ]
     },
     "execution_count": 7,
     "metadata": {},
     "output_type": "execute_result"
    }
   ],
   "source": [
    "df"
   ]
  },
  {
   "cell_type": "markdown",
   "metadata": {
    "slideshow": {
     "slide_type": "slide"
    }
   },
   "source": [
    "Change working directory"
   ]
  },
  {
   "cell_type": "code",
   "execution_count": 4,
   "metadata": {},
   "outputs": [
    {
     "name": "stdout",
     "output_type": "stream",
     "text": [
      "/mnt/storage/metagenome/bact_4x/MiShitFull\n",
      "total 1.7G\n",
      "-rw-rw-r--  1 gladkov2 256M Feb  1 13:04 46.sam\n",
      "-rw-rw-r--  1 gladkov2 211M Jan 25 13:23 46_nm_al_sr.sam\n",
      "-rw-r--r--  1 gladkov2 104M Feb 12 13:33 46_con.fa\n",
      "-rw-rw-r--  1 gladkov2  98M Jan 29 14:29 46_F_wa.fq\n",
      "-rw-rw-r--  1 gladkov2  98M Jan 22 15:33 46_F.fq\n",
      "-rw-rw-r--  1 gladkov2  97M Jan 29 14:29 46_R_wa.fq\n",
      "-rw-rw-r--  1 gladkov2  97M Jan 22 15:33 46_R.fq\n",
      "-rwxrwxrwx  1 gladkov2  93M Dec 18 11:08 \u001b[0m\u001b[01;32mconsensus_what_the.fasta\u001b[0m*\n",
      "-rw-rw-r--  1 gladkov2  77M Jan 25 11:45 46_m_al.sam\n",
      "-rw-rw-r--  1 gladkov2  74M Jan 22 15:35 46_um.fq\n",
      "-rw-rw-r--  1 gladkov2  73M Feb  1 13:48 46_al.bam\n",
      "-rw-rw-r--  1 gladkov2  73M Jan 22 15:35 46_m.fq\n",
      "-rw-rw-r--  1 gladkov2  65M Jan 25 13:23 46_nm_al_sr_sorted.bam\n",
      "-rwxrwxrwx  1 gladkov2  48M Nov  4  2019 \u001b[01;32m46_S10_L001_R1_001.fastq.gz\u001b[0m*\n",
      "-rwxrwxrwx  1 gladkov2  31M Nov  4  2019 \u001b[01;32m46_S10_L001_R2_001.fastq.gz\u001b[0m*\n",
      "-rw-rw-r--  1 gladkov2  26M Jan 25 13:18 46_m_al_sr_sorted.bam\n",
      "-rwxrwxrwx  1 gladkov2  26M Nov  4  2019 \u001b[01;32m14_S1_L001_R1_001.fastq.gz\u001b[0m*\n",
      "-rw-rw-r--  1 gladkov2  25M Jan 25 13:11 46_m_al_sorted.bam\n",
      "-rw-rw-r--  1 gladkov2  25M Jan 25 11:53 46_m_al.bam\n",
      "-rwxrwxrwx  1 gladkov2  23M Nov  4  2019 \u001b[01;32m29_S7_L001_R1_001.fastq.gz\u001b[0m*\n",
      "-rwxrwxrwx  1 gladkov2  22M Nov  4  2019 \u001b[01;32m26_S4_L001_R1_001.fastq.gz\u001b[0m*\n",
      "-rwxrwxrwx  1 gladkov2  18M Nov  4  2019 \u001b[01;32m14_S1_L001_R2_001.fastq.gz\u001b[0m*\n",
      "-rwxrwxrwx  1 gladkov2  16M Nov  4  2019 \u001b[01;32m29_S7_L001_R2_001.fastq.gz\u001b[0m*\n",
      "-rwxrwxrwx  1 gladkov2  16M Nov  4  2019 \u001b[01;32m26_S4_L001_R2_001.fastq.gz\u001b[0m*\n",
      "-rw-rw-r--  1 gladkov2 1.2M Jan 22 15:24 multiqc_report.html\n",
      "-rw-rw-r--  1 gladkov2 225K Feb  1 13:52 46_al.bam.bai\n",
      "-rw-rw-r--  1 gladkov2 163K Jan 25 13:23 46_nm_al_sr_sorted.bam.bai\n",
      "-rw-rw-r--  1 gladkov2 140K Jan 25 13:19 46_m_al_sr_sorted.bam.bai\n",
      "-rw-rw-r--  1 gladkov2  82K Feb 12 13:36 46_con.fa.fai\n",
      "-rw-rw-r--  1 gladkov2  82K Feb  1 14:46 46_con_fin.fasta.fai\n",
      "-rw-rw-r--  1 gladkov2  75K Jan 25 13:30 consensus.fasta.fai\n",
      "-rw-rw-r--  1 gladkov2  75K Jan 29 10:32 consensus_what_the.fasta.fai\n",
      "-rw-rw-r--  1 gladkov2  13K Jan 25 13:09 46_m_al.bam.bai\n",
      "-rw-rw-r--  1 gladkov2  13K Jan 25 13:11 46_m_al_sorted.bam.bai\n",
      "drwxrwxr-x  2 gladkov2 4.0K Jan 22 15:24 \u001b[01;34mmultiqc_data\u001b[0m/\n",
      "drwxrwxr-x 11 gladkov2 4.0K Jan 19 11:41 \u001b[01;34mqc\u001b[0m/\n",
      "drwxrwxr-x  3 gladkov2 4.0K Jan 22 15:43 \u001b[01;34mqc_tr\u001b[0m/\n",
      "-rw-rw-r--  1 gladkov2 1.9K Jan 22 15:35 ihist_46.txt\n",
      "lrwxrwxrwx  1 gladkov2  158 Jan 26 12:57 \u001b[01;36m46_con_fin.fasta\u001b[0m -> /home/gladkov2/storage/Bact_comm_4x/20200225_1435_MN24173_FAK85519_967910e6_3_6_1_barcoded/barcode04/flye_2_8_seq_3_6_1_plasmids/medaka_polish/consensus.fasta\n",
      "-rw-rw-r--  1 gladkov2   27 Feb  1 10:42 package-lock.json\n"
     ]
    }
   ],
   "source": [
    "\n",
    "%cd ~/storage/metagenome/bact_4x/MiShitFull/\n",
    "%ll -hS"
   ]
  },
  {
   "cell_type": "markdown",
   "metadata": {},
   "source": [
    "Delete adaptors/non random first 17 nucleotides(?)"
   ]
  },
  {
   "cell_type": "code",
   "execution_count": 3,
   "metadata": {},
   "outputs": [
    {
     "name": "stdout",
     "output_type": "stream",
     "text": [
      "/home/gladkov2/anaconda2/envs/vamb/bbtools/lib//calcmem.sh: line 125: [: 2.68047e+09: integer expression expected\n",
      "java -Djava.library.path=/home/gladkov2/anaconda2/envs/vamb/bbtools/lib/jni/ -ea -Xmx386188m -Xms386188m -cp /home/gladkov2/anaconda2/envs/vamb/bbtools/lib/current/ jgi.BBDukF in1=46_S10_L001_R1_001.fastq.gz in2=46_S10_L001_R2_001.fastq.gz ftl=17 ftr2=2 out1=46_F_wa.fq out2=46_R_wa.fq\n",
      "Executing jgi.BBDukF [in1=46_S10_L001_R1_001.fastq.gz, in2=46_S10_L001_R2_001.fastq.gz, ftl=17, ftr2=2, out1=46_F_wa.fq, out2=46_R_wa.fq]\n",
      "\n",
      "BBDuk version 37.62\n",
      "Initial:\n",
      "Memory: max=388075m, free=379976m, used=8099m\n",
      "\n",
      "Input is being processed as paired\n",
      "Started output streams:\t0.041 seconds.\n",
      "Processing time:   \t\t1.036 seconds.\n",
      "\n",
      "Input:                  \t651950 reads \t\t95446888 bases.\n",
      "FTrimmed:               \t651950 reads (100.00%) \t12387050 bases (12.98%)\n",
      "Total Removed:          \t0 reads (0.00%) \t12387050 bases (12.98%)\n",
      "Result:                 \t651950 reads (100.00%) \t83059838 bases (87.02%)\n",
      "\n",
      "Time:   \t\t\t1.103 seconds.\n",
      "Reads Processed:        651k \t591.17k reads/sec\n",
      "Bases Processed:      95446k \t86.55m bases/sec\n"
     ]
    }
   ],
   "source": [
    "!bbduk.sh  in1=46_S10_L001_R1_001.fastq.gz in2=46_S10_L001_R2_001.fastq.gz \\\n",
    "ftl=17 ftr2=2 \\\n",
    "out1=46_F_wa.fq out2=46_R_wa.fq "
   ]
  },
  {
   "cell_type": "markdown",
   "metadata": {},
   "source": [
    "Everything is ok? See working directory/"
   ]
  },
  {
   "cell_type": "code",
   "execution_count": 9,
   "metadata": {},
   "outputs": [
    {
     "name": "stdout",
     "output_type": "stream",
     "text": [
      "total 1.4G\n",
      "-rw-rw-r--  1 gladkov2  98M Jan 29 14:29 46_F_wa.fq\n",
      "-rw-rw-r--  1 gladkov2  97M Jan 29 14:29 46_R_wa.fq\n",
      "-rw-rw-r--  1 gladkov2  75K Jan 29 10:32 consensus_what_the.fasta.fai\n",
      "lrwxrwxrwx  1 gladkov2  158 Jan 26 12:57 \u001b[0m\u001b[01;36m46_con_fin.fasta\u001b[0m -> /home/gladkov2/storage/Bact_comm_4x/20200225_1435_MN24173_FAK85519_967910e6_3_6_1_barcoded/barcode04/flye_2_8_seq_3_6_1_plasmids/medaka_polish/consensus.fasta\n",
      "-rw-rw-r--  1 gladkov2  75K Jan 25 13:30 consensus.fasta.fai\n",
      "-rw-rw-r--  1 gladkov2 163K Jan 25 13:23 46_nm_al_sr_sorted.bam.bai\n",
      "-rw-rw-r--  1 gladkov2  65M Jan 25 13:23 46_nm_al_sr_sorted.bam\n",
      "-rw-rw-r--  1 gladkov2 211M Jan 25 13:23 46_nm_al_sr.sam\n",
      "-rw-rw-r--  1 gladkov2 140K Jan 25 13:19 46_m_al_sr_sorted.bam.bai\n"
     ]
    }
   ],
   "source": [
    "%ll -th | head"
   ]
  },
  {
   "cell_type": "markdown",
   "metadata": {},
   "source": [
    "Run minimap aligner in short-read reference mode"
   ]
  },
  {
   "cell_type": "code",
   "execution_count": 7,
   "metadata": {},
   "outputs": [
    {
     "name": "stdout",
     "output_type": "stream",
     "text": [
      "[M::mm_idx_gen::2.661*1.32] collected minimizers\n",
      "[M::mm_idx_gen::3.185*1.59] sorted minimizers\n",
      "[M::main::3.186*1.59] loaded/built the index for 1752 target sequence(s)\n",
      "[M::mm_mapopt_update::3.186*1.59] mid_occ = 1000\n",
      "[M::mm_idx_stat] kmer size: 21; skip: 11; is_hpc: 0; #seq: 1752\n",
      "[M::mm_idx_stat::3.408*1.55] distinct minimizers: 17756048 (98.76% are singletons); average occurrences: 1.019; average spacing: 6.000\n",
      "[M::worker_pipeline::17.687*2.72] mapped 393648 sequences\n",
      "[M::worker_pipeline::24.497*2.76] mapped 258302 sequences\n",
      "[M::main] Version: 2.17-r941\n",
      "[M::main] CMD: minimap2 -ax sr 46_con_fin.fasta 46_F_wa.fq 46_R_wa.fq\n",
      "[M::main] Real time: 24.556 sec; CPU: 67.666 sec; Peak RSS: 1.076 GB\n"
     ]
    }
   ],
   "source": [
    "!minimap2 -ax sr 46_con_fin.fasta  46_F_wa.fq 46_R_wa.fq > 46.sam"
   ]
  },
  {
   "cell_type": "code",
   "execution_count": 8,
   "metadata": {},
   "outputs": [
    {
     "name": "stdout",
     "output_type": "stream",
     "text": [
      "total 1.5G\n",
      "-rw-rw-r--  1 gladkov2 256M Feb  1 13:04 46.sam\n",
      "-rw-rw-r--  1 gladkov2   27 Feb  1 10:42 package-lock.json\n",
      "-rw-rw-r--  1 gladkov2  98M Jan 29 14:29 46_F_wa.fq\n",
      "-rw-rw-r--  1 gladkov2  97M Jan 29 14:29 46_R_wa.fq\n",
      "-rw-rw-r--  1 gladkov2  75K Jan 29 10:32 consensus_what_the.fasta.fai\n",
      "lrwxrwxrwx  1 gladkov2  158 Jan 26 12:57 \u001b[0m\u001b[01;36m46_con_fin.fasta\u001b[0m -> /home/gladkov2/storage/Bact_comm_4x/20200225_1435_MN24173_FAK85519_967910e6_3_6_1_barcoded/barcode04/flye_2_8_seq_3_6_1_plasmids/medaka_polish/consensus.fasta\n",
      "-rw-rw-r--  1 gladkov2  75K Jan 25 13:30 consensus.fasta.fai\n",
      "-rw-rw-r--  1 gladkov2 163K Jan 25 13:23 46_nm_al_sr_sorted.bam.bai\n",
      "-rw-rw-r--  1 gladkov2  65M Jan 25 13:23 46_nm_al_sr_sorted.bam\n"
     ]
    }
   ],
   "source": [
    "%ll -th | head"
   ]
  },
  {
   "cell_type": "markdown",
   "metadata": {},
   "source": [
    "Sam to bam"
   ]
  },
  {
   "cell_type": "code",
   "execution_count": 10,
   "metadata": {},
   "outputs": [],
   "source": [
    "!samtools sort 46.sam > 46_al.bam"
   ]
  },
  {
   "cell_type": "code",
   "execution_count": 11,
   "metadata": {},
   "outputs": [
    {
     "name": "stdout",
     "output_type": "stream",
     "text": [
      "total 1.6G\n",
      "-rw-rw-r--  1 gladkov2  73M Feb  1 13:48 46_al.bam\n",
      "-rw-rw-r--  1 gladkov2 256M Feb  1 13:04 46.sam\n",
      "-rw-rw-r--  1 gladkov2   27 Feb  1 10:42 package-lock.json\n",
      "-rw-rw-r--  1 gladkov2  98M Jan 29 14:29 46_F_wa.fq\n",
      "-rw-rw-r--  1 gladkov2  97M Jan 29 14:29 46_R_wa.fq\n",
      "-rw-rw-r--  1 gladkov2  75K Jan 29 10:32 consensus_what_the.fasta.fai\n",
      "lrwxrwxrwx  1 gladkov2  158 Jan 26 12:57 \u001b[0m\u001b[01;36m46_con_fin.fasta\u001b[0m -> /home/gladkov2/storage/Bact_comm_4x/20200225_1435_MN24173_FAK85519_967910e6_3_6_1_barcoded/barcode04/flye_2_8_seq_3_6_1_plasmids/medaka_polish/consensus.fasta\n",
      "-rw-rw-r--  1 gladkov2  75K Jan 25 13:30 consensus.fasta.fai\n",
      "-rw-rw-r--  1 gladkov2 163K Jan 25 13:23 46_nm_al_sr_sorted.bam.bai\n"
     ]
    }
   ],
   "source": [
    "%ll -th | head"
   ]
  },
  {
   "cell_type": "code",
   "execution_count": 5,
   "metadata": {},
   "outputs": [],
   "source": [
    "!rm 46_m_al_sr.sam"
   ]
  },
  {
   "cell_type": "code",
   "execution_count": 12,
   "metadata": {},
   "outputs": [
    {
     "name": "stdout",
     "output_type": "stream",
     "text": [
      "total 1.6G\n",
      "-rw-rw-r--  1 gladkov2  73M Feb  1 13:48 46_al.bam\n",
      "-rw-rw-r--  1 gladkov2 256M Feb  1 13:04 46.sam\n",
      "-rw-rw-r--  1 gladkov2   27 Feb  1 10:42 package-lock.json\n",
      "-rw-rw-r--  1 gladkov2  98M Jan 29 14:29 46_F_wa.fq\n",
      "-rw-rw-r--  1 gladkov2  97M Jan 29 14:29 46_R_wa.fq\n",
      "-rw-rw-r--  1 gladkov2  75K Jan 29 10:32 consensus_what_the.fasta.fai\n",
      "lrwxrwxrwx  1 gladkov2  158 Jan 26 12:57 \u001b[0m\u001b[01;36m46_con_fin.fasta\u001b[0m -> /home/gladkov2/storage/Bact_comm_4x/20200225_1435_MN24173_FAK85519_967910e6_3_6_1_barcoded/barcode04/flye_2_8_seq_3_6_1_plasmids/medaka_polish/consensus.fasta\n",
      "-rw-rw-r--  1 gladkov2  75K Jan 25 13:30 consensus.fasta.fai\n",
      "-rw-rw-r--  1 gladkov2 163K Jan 25 13:23 46_nm_al_sr_sorted.bam.bai\n"
     ]
    }
   ],
   "source": [
    "%ll -th | head"
   ]
  },
  {
   "cell_type": "markdown",
   "metadata": {},
   "source": [
    "Create index and see stats"
   ]
  },
  {
   "cell_type": "code",
   "execution_count": 16,
   "metadata": {},
   "outputs": [
    {
     "name": "stdout",
     "output_type": "stream",
     "text": [
      "652331 + 0 in total (QC-passed reads + QC-failed reads)\n",
      "0 + 0 secondary\n",
      "381 + 0 supplementary\n",
      "0 + 0 duplicates\n",
      "500434 + 0 mapped (76.71% : N/A)\n",
      "651950 + 0 paired in sequencing\n",
      "325975 + 0 read1\n",
      "325975 + 0 read2\n",
      "355822 + 0 properly paired (54.58% : N/A)\n",
      "452134 + 0 with itself and mate mapped\n",
      "47919 + 0 singletons (7.35% : N/A)\n",
      "3186 + 0 with mate mapped to a different chr\n",
      "1701 + 0 with mate mapped to a different chr (mapQ>=5)\n"
     ]
    }
   ],
   "source": [
    "!samtools index 46_al.bam\n",
    "!samtools flagstat 46_al.bam"
   ]
  },
  {
   "cell_type": "code",
   "execution_count": 17,
   "metadata": {},
   "outputs": [
    {
     "name": "stdout",
     "output_type": "stream",
     "text": [
      "total 1.6G\n",
      "-rw-rw-r--  1 gladkov2 225K Feb  1 13:52 46_al.bam.bai\n",
      "-rw-rw-r--  1 gladkov2  73M Feb  1 13:48 46_al.bam\n",
      "-rw-rw-r--  1 gladkov2 256M Feb  1 13:04 46.sam\n",
      "-rw-rw-r--  1 gladkov2   27 Feb  1 10:42 package-lock.json\n",
      "-rw-rw-r--  1 gladkov2  98M Jan 29 14:29 46_F_wa.fq\n",
      "-rw-rw-r--  1 gladkov2  97M Jan 29 14:29 46_R_wa.fq\n",
      "-rw-rw-r--  1 gladkov2  75K Jan 29 10:32 consensus_what_the.fasta.fai\n",
      "lrwxrwxrwx  1 gladkov2  158 Jan 26 12:57 \u001b[0m\u001b[01;36m46_con_fin.fasta\u001b[0m -> /home/gladkov2/storage/Bact_comm_4x/20200225_1435_MN24173_FAK85519_967910e6_3_6_1_barcoded/barcode04/flye_2_8_seq_3_6_1_plasmids/medaka_polish/consensus.fasta\n",
      "-rw-rw-r--  1 gladkov2  75K Jan 25 13:30 consensus.fasta.fai\n"
     ]
    }
   ],
   "source": [
    "%ll -th | head"
   ]
  },
  {
   "cell_type": "raw",
   "metadata": {},
   "source": [
    "Create fai index from 46 consensus shit"
   ]
  },
  {
   "cell_type": "code",
   "execution_count": 25,
   "metadata": {},
   "outputs": [],
   "source": [
    "!samtools faidx 46_con_fin.fasta"
   ]
  },
  {
   "cell_type": "code",
   "execution_count": 26,
   "metadata": {},
   "outputs": [
    {
     "name": "stdout",
     "output_type": "stream",
     "text": [
      "total 1.6G\n",
      "-rw-rw-r--  1 gladkov2  82K Feb  1 14:46 46_con_fin.fasta.fai\n",
      "-rw-rw-r--  1 gladkov2 225K Feb  1 13:52 46_al.bam.bai\n",
      "-rw-rw-r--  1 gladkov2  73M Feb  1 13:48 46_al.bam\n",
      "-rw-rw-r--  1 gladkov2 256M Feb  1 13:04 46.sam\n",
      "-rw-rw-r--  1 gladkov2   27 Feb  1 10:42 package-lock.json\n",
      "-rw-rw-r--  1 gladkov2  98M Jan 29 14:29 46_F_wa.fq\n",
      "-rw-rw-r--  1 gladkov2  97M Jan 29 14:29 46_R_wa.fq\n",
      "-rw-rw-r--  1 gladkov2  75K Jan 29 10:32 consensus_what_the.fasta.fai\n",
      "lrwxrwxrwx  1 gladkov2  158 Jan 26 12:57 \u001b[0m\u001b[01;36m46_con_fin.fasta\u001b[0m -> /home/gladkov2/storage/Bact_comm_4x/20200225_1435_MN24173_FAK85519_967910e6_3_6_1_barcoded/barcode04/flye_2_8_seq_3_6_1_plasmids/medaka_polish/consensus.fasta\n"
     ]
    }
   ],
   "source": [
    "%ll -th | head"
   ]
  },
  {
   "cell_type": "code",
   "execution_count": 7,
   "metadata": {},
   "outputs": [
    {
     "name": "stdout",
     "output_type": "stream",
     "text": [
      "/bin/bash: seqkit: command not found\n",
      "grep: ids.txt: No such file or directory\n"
     ]
    }
   ],
   "source": [
    "!seqkit fx2tab -lg 46_con.fa  | grep -f ids.txt"
   ]
  },
  {
   "cell_type": "markdown",
   "metadata": {},
   "source": [
    "Get top name of top length contigs"
   ]
  },
  {
   "cell_type": "code",
   "execution_count": 14,
   "metadata": {},
   "outputs": [
    {
     "name": "stdout",
     "output_type": "stream",
     "text": [
      "Display basic information about sequences\n",
      "contig_92_segment0 984486 60.33  \n",
      "contig_247_segment0 1067328 62.29  \n",
      "contig_350_segment0 1103017 59.21  \n",
      "contig_46_segment0 1199707 58.29  \n",
      "contig_98_segment0 1445668 61.31  \n",
      "contig_10_segment0 1451703 63.91  \n",
      "contig_100_segment0 3099407 61.93  \n",
      "contig_17_segment0 3405283 65.53  \n",
      "contig_110_segment0 3406878 73.93  \n",
      "contig_29_segment0 3656276 70.04  \n"
     ]
    }
   ],
   "source": [
    "!infoseq 46_con.fa -only -name -length -pgc | sort -k2 -n | tail"
   ]
  },
  {
   "cell_type": "code",
   "execution_count": 5,
   "metadata": {},
   "outputs": [
    {
     "name": "stdout",
     "output_type": "stream",
     "text": [
      "14_S1_L001_R1_001.fastq.gz   46_m_al.bam\n",
      "14_S1_L001_R2_001.fastq.gz   46_m_al.bam.bai\n",
      "26_S4_L001_R1_001.fastq.gz   46_m_al.sam\n",
      "26_S4_L001_R2_001.fastq.gz   46_m_al_sorted.bam\n",
      "29_S7_L001_R1_001.fastq.gz   46_m_al_sorted.bam.bai\n",
      "29_S7_L001_R2_001.fastq.gz   46_m_al_sr_sorted.bam\n",
      "46.sam\t\t\t     46_m_al_sr_sorted.bam.bai\n",
      "46_F.fq\t\t\t     46_nm_al_sr.sam\n",
      "46_F_wa.fq\t\t     46_nm_al_sr_sorted.bam\n",
      "46_R.fq\t\t\t     46_nm_al_sr_sorted.bam.bai\n",
      "46_R_wa.fq\t\t     46_um.fq\n",
      "46_S10_L001_R1_001.fastq.gz  consensus.fasta.fai\n",
      "46_S10_L001_R2_001.fastq.gz  consensus_what_the.fasta\n",
      "46_al.bam\t\t     consensus_what_the.fasta.fai\n",
      "46_al.bam.bai\t\t     ihist_46.txt\n",
      "46_con.fa\t\t     multiqc_data\n",
      "46_con.fa.fai\t\t     multiqc_report.html\n",
      "46_con_fin.fasta\t     package-lock.json\n",
      "46_con_fin.fasta.fai\t     qc\n",
      "46_m.fq\t\t\t     qc_tr\n"
     ]
    }
   ],
   "source": [
    "!cd ../bar02/bar04/out/"
   ]
  },
  {
   "cell_type": "code",
   "execution_count": 7,
   "metadata": {},
   "outputs": [
    {
     "name": "stdout",
     "output_type": "stream",
     "text": [
      "sample\tquery\tmodel\tdescription\tbitscore\tevalue\tdomains_expected\tdomains_observed\n",
      "c1\tODGLODFF_01236\tPF04616.14\tGlycosyl hydrolases family 43\t122.3\t3e-38\t2.2\t1\n",
      "c1\tODGLODFF_03217\tPF00150.18\tCellulase (glycosyl hydrolase family 5)\t170.0\t8.9e-53\t1.0\t1\n",
      "c1\tODGLODFF_03229\tPF04616.14\tGlycosyl hydrolases family 43\t256.2\t4.6e-79\t1.1\t1\n",
      "c1\tODGLODFF_03322\tPF04616.14\tGlycosyl hydrolases family 43\t296.5\t2.5e-91\t1.3\t1\n",
      "c1\tODGLODFF_03370\tPF00150.18\tCellulase (glycosyl hydrolase family 5)\t68.4\t8.8e-22\t1.1\t1\n",
      "c1\tODGLODFF_03401\tPF00933.21\tGlycosyl hydrolase family 3 N terminal domain\t193.8\t5.8e-60\t1.1\t1\n",
      "c1\tODGLODFF_04844\tPF01270.17\tGlycosyl hydrolases family 8\t62.9\t2.8e-20\t1.0\t1\n",
      "c1\tODGLODFF_05436\tPF01270.17\tGlycosyl hydrolases family 8\t58.1\t8.3e-19\t1.0\t1\n",
      "c1\tODGLODFF_05745\tPF01270.17\tGlycosyl hydrolases family 8\t57.8\t9.8e-19\t1.4\t1\n"
     ]
    }
   ],
   "source": [
    "!head ~/storage/metagenome/bact_4x/all_procca_faa/c1_ann.tsv"
   ]
  },
  {
   "cell_type": "code",
   "execution_count": 14,
   "metadata": {},
   "outputs": [],
   "source": [
    "!ln -s ~/storage/metagenome/bact_4x/all_procca_faa/kaiju/pr_01.gff pr_01.gff\n"
   ]
  },
  {
   "cell_type": "code",
   "execution_count": null,
   "metadata": {},
   "outputs": [],
   "source": []
  },
  {
   "cell_type": "code",
   "execution_count": 16,
   "metadata": {},
   "outputs": [
    {
     "name": "stdout",
     "output_type": "stream",
     "text": [
      "##gff-version 3\n",
      "##sequence-region contig_1_segment0 1 28266\n",
      "##sequence-region contig_10_segment0 1 23851\n",
      "##sequence-region contig_100_segment0 1 11204\n",
      "##sequence-region contig_1000_segment0 1 120109\n",
      "##sequence-region contig_1001_segment0 1 18140\n",
      "##sequence-region contig_1002_segment0 1 34550\n",
      "##sequence-region contig_1003_segment0 1 12259\n",
      "##sequence-region contig_1004_segment0 1 2795\n",
      "##sequence-region contig_1005_segment0 1 2020\n"
     ]
    }
   ],
   "source": [
    "!head pr_01.gff"
   ]
  },
  {
   "cell_type": "code",
   "execution_count": 17,
   "metadata": {},
   "outputs": [
    {
     "name": "stdout",
     "output_type": "stream",
     "text": [
      "contig_1_segment0\tProdigal:002006\tCDS\t200\t376\t.\t+\t0\tID=ODGLODFF_00001;inference=ab initio prediction:Prodigal:002006;locus_tag=ODGLODFF_00001;product=hypothetical protein\n",
      "contig_1_segment0\tProdigal:002006\tCDS\t373\t669\t.\t+\t0\tID=ODGLODFF_00002;inference=ab initio prediction:Prodigal:002006;locus_tag=ODGLODFF_00002;product=hypothetical protein\n",
      "contig_1_segment0\tProdigal:002006\tCDS\t1100\t1708\t.\t-\t0\tID=ODGLODFF_00003;inference=ab initio prediction:Prodigal:002006;locus_tag=ODGLODFF_00003;product=hypothetical protein\n",
      "contig_1_segment0\tProdigal:002006\tCDS\t1736\t2020\t.\t-\t0\tID=ODGLODFF_00004;inference=ab initio prediction:Prodigal:002006;locus_tag=ODGLODFF_00004;product=hypothetical protein\n",
      "contig_1_segment0\tProdigal:002006\tCDS\t2320\t3243\t.\t+\t0\tID=ODGLODFF_00005;inference=ab initio prediction:Prodigal:002006;locus_tag=ODGLODFF_00005;product=hypothetical protein\n",
      "contig_1_segment0\tProdigal:002006\tCDS\t3337\t4512\t.\t+\t0\tID=ODGLODFF_00006;inference=ab initio prediction:Prodigal:002006;locus_tag=ODGLODFF_00006;product=hypothetical protein\n",
      "contig_1_segment0\tProdigal:002006\tCDS\t4741\t4851\t.\t-\t0\tID=ODGLODFF_00007;inference=ab initio prediction:Prodigal:002006;locus_tag=ODGLODFF_00007;product=hypothetical protein\n",
      "contig_1_segment0\tProdigal:002006\tCDS\t5108\t5500\t.\t-\t0\tID=ODGLODFF_00008;inference=ab initio prediction:Prodigal:002006;locus_tag=ODGLODFF_00008;product=hypothetical protein\n",
      "contig_1_segment0\tProdigal:002006\tCDS\t5532\t5744\t.\t-\t0\tID=ODGLODFF_00009;inference=ab initio prediction:Prodigal:002006;locus_tag=ODGLODFF_00009;product=hypothetical protein\n",
      "contig_1_segment0\tProdigal:002006\tCDS\t5846\t6205\t.\t-\t0\tID=ODGLODFF_00010;inference=ab initio prediction:Prodigal:002006;locus_tag=ODGLODFF_00010;product=hypothetical protein\n",
      "grep: write error: Broken pipe\n"
     ]
    }
   ],
   "source": [
    "!grep -v '^#' pr_01.gff | head"
   ]
  },
  {
   "cell_type": "code",
   "execution_count": 18,
   "metadata": {},
   "outputs": [
    {
     "name": "stderr",
     "output_type": "stream",
     "text": [
      "Bioconductor version 3.12 (BiocManager 1.30.10), R 4.0.2 (2020-06-22)\n",
      "\n",
      "Installing package(s) 'phyloseq'\n",
      "\n",
      "Warning message in install.packages(...):\n",
      "\"installation of package 'phyloseq' had non-zero exit status\"\n",
      "Updating HTML index of packages in '.Library'\n",
      "\n",
      "Making 'packages.html' ...\n",
      " done\n",
      "\n",
      "Old packages: 'car', 'dendextend', 'future', 'ggraph', 'gplots', 'heatmaply',\n",
      "  'lme4', 'pbkrtest', 'quantreg', 'seriation', 'sf', 'vegan'\n",
      "\n",
      "Warning message in install.packages(update[instlib == l, \"Package\"], l, contriburl = contriburl, :\n",
      "\"installation of package 'dendextend' had non-zero exit status\"\n",
      "Warning message in install.packages(update[instlib == l, \"Package\"], l, contriburl = contriburl, :\n",
      "\"installation of package 'future' had non-zero exit status\"\n",
      "Warning message in install.packages(update[instlib == l, \"Package\"], l, contriburl = contriburl, :\n",
      "\"installation of package 'ggraph' had non-zero exit status\"\n",
      "Warning message in install.packages(update[instlib == l, \"Package\"], l, contriburl = contriburl, :\n",
      "\"installation of package 'gplots' had non-zero exit status\"\n",
      "Warning message in install.packages(update[instlib == l, \"Package\"], l, contriburl = contriburl, :\n",
      "\"installation of package 'lme4' had non-zero exit status\"\n",
      "Warning message in install.packages(update[instlib == l, \"Package\"], l, contriburl = contriburl, :\n",
      "\"installation of package 'quantreg' had non-zero exit status\"\n",
      "Warning message in install.packages(update[instlib == l, \"Package\"], l, contriburl = contriburl, :\n",
      "\"installation of package 'sf' had non-zero exit status\"\n",
      "Warning message in install.packages(update[instlib == l, \"Package\"], l, contriburl = contriburl, :\n",
      "\"installation of package 'vegan' had non-zero exit status\"\n",
      "Warning message in install.packages(update[instlib == l, \"Package\"], l, contriburl = contriburl, :\n",
      "\"installation of package 'pbkrtest' had non-zero exit status\"\n",
      "Warning message in install.packages(update[instlib == l, \"Package\"], l, contriburl = contriburl, :\n",
      "\"installation of package 'seriation' had non-zero exit status\"\n",
      "Warning message in install.packages(update[instlib == l, \"Package\"], l, contriburl = contriburl, :\n",
      "\"installation of package 'car' had non-zero exit status\"\n",
      "Warning message in install.packages(update[instlib == l, \"Package\"], l, contriburl = contriburl, :\n",
      "\"installation of package 'heatmaply' had non-zero exit status\"\n",
      "Updating HTML index of packages in '.Library'\n",
      "\n",
      "Making 'packages.html' ...\n",
      " done\n",
      "\n"
     ]
    }
   ],
   "source": [
    "BiocManager::install(\"phyloseq\", ask = FALSE)"
   ]
  },
  {
   "cell_type": "code",
   "execution_count": null,
   "metadata": {},
   "outputs": [],
   "source": [
    "update.packages()\n",
    "BiocManager::install(\"phyloseq\", ask = FALSE)"
   ]
  },
  {
   "cell_type": "code",
   "execution_count": 17,
   "metadata": {},
   "outputs": [
    {
     "name": "stderr",
     "output_type": "stream",
     "text": [
      "Warning message in install.packages(c(\"gridExtra\", \"car\", \"latticeExtra\", \"Hmisc\")):\n",
      "\"installation of package 'car' had non-zero exit status\"\n",
      "Updating HTML index of packages in '.Library'\n",
      "\n",
      "Making 'packages.html' ...\n",
      " done\n",
      "\n"
     ]
    }
   ],
   "source": [
    "install.packages(c('gridExtra', 'car','latticeExtra', 'Hmisc'))"
   ]
  },
  {
   "cell_type": "code",
   "execution_count": null,
   "metadata": {},
   "outputs": [],
   "source": []
  },
  {
   "cell_type": "code",
   "execution_count": 2,
   "metadata": {},
   "outputs": [
    {
     "name": "stderr",
     "output_type": "stream",
     "text": [
      "Loading required package: usethis\n",
      "\n",
      "-- \u001b[1mAttaching packages\u001b[22m ------------------------------------------------------------------------------------ tidyverse 1.3.0 --\n",
      "\n",
      "\u001b[32mv\u001b[39m \u001b[34mggplot2\u001b[39m 3.3.3     \u001b[32mv\u001b[39m \u001b[34mpurrr  \u001b[39m 0.3.4\n",
      "\u001b[32mv\u001b[39m \u001b[34mtibble \u001b[39m 3.0.5     \u001b[32mv\u001b[39m \u001b[34mdplyr  \u001b[39m 1.0.3\n",
      "\u001b[32mv\u001b[39m \u001b[34mtidyr  \u001b[39m 1.1.2     \u001b[32mv\u001b[39m \u001b[34mstringr\u001b[39m 1.4.0\n",
      "\u001b[32mv\u001b[39m \u001b[34mreadr  \u001b[39m 1.4.0     \u001b[32mv\u001b[39m \u001b[34mforcats\u001b[39m 0.5.0\n",
      "\n",
      "Warning message:\n",
      "\"package 'ggplot2' was built under R version 4.0.3\"\n",
      "Warning message:\n",
      "\"package 'tibble' was built under R version 4.0.3\"\n",
      "Warning message:\n",
      "\"package 'readr' was built under R version 4.0.3\"\n",
      "Warning message:\n",
      "\"package 'dplyr' was built under R version 4.0.3\"\n",
      "-- \u001b[1mConflicts\u001b[22m --------------------------------------------------------------------------------------- tidyverse_conflicts() --\n",
      "\u001b[31mx\u001b[39m \u001b[34mdplyr\u001b[39m::\u001b[32mfilter()\u001b[39m masks \u001b[34mstats\u001b[39m::filter()\n",
      "\u001b[31mx\u001b[39m \u001b[34mdplyr\u001b[39m::\u001b[32mlag()\u001b[39m    masks \u001b[34mstats\u001b[39m::lag()\n",
      "\n"
     ]
    }
   ],
   "source": [
    "library(devtools)\n",
    "library(tidyverse)"
   ]
  },
  {
   "cell_type": "code",
   "execution_count": 9,
   "metadata": {},
   "outputs": [
    {
     "ename": "ERROR",
     "evalue": "Error in library(phyloseq): there is no package called 'phyloseq'\n",
     "output_type": "error",
     "traceback": [
      "Error in library(phyloseq): there is no package called 'phyloseq'\nTraceback:\n",
      "1. library(phyloseq)"
     ]
    }
   ],
   "source": [
    "library(phyloseq)"
   ]
  },
  {
   "cell_type": "code",
   "execution_count": 8,
   "metadata": {},
   "outputs": [
    {
     "data": {
      "text/html": [
       "<table class=\"dataframe\">\n",
       "<caption>A data.frame: 0 × 17</caption>\n",
       "<thead>\n",
       "\t<tr><th scope=col>ID</th><th scope=col>Package</th><th scope=col>LibPath</th><th scope=col>Version</th><th scope=col>Priority</th><th scope=col>Depends</th><th scope=col>Imports</th><th scope=col>LinkingTo</th><th scope=col>Suggests</th><th scope=col>Enhances</th><th scope=col>License</th><th scope=col>License_is_FOSS</th><th scope=col>License_restricts_use</th><th scope=col>OS_type</th><th scope=col>MD5sum</th><th scope=col>NeedsCompilation</th><th scope=col>Built</th></tr>\n",
       "\t<tr><th scope=col>&lt;chr&gt;</th><th scope=col>&lt;chr&gt;</th><th scope=col>&lt;chr&gt;</th><th scope=col>&lt;chr&gt;</th><th scope=col>&lt;chr&gt;</th><th scope=col>&lt;chr&gt;</th><th scope=col>&lt;chr&gt;</th><th scope=col>&lt;chr&gt;</th><th scope=col>&lt;chr&gt;</th><th scope=col>&lt;chr&gt;</th><th scope=col>&lt;chr&gt;</th><th scope=col>&lt;chr&gt;</th><th scope=col>&lt;chr&gt;</th><th scope=col>&lt;chr&gt;</th><th scope=col>&lt;chr&gt;</th><th scope=col>&lt;chr&gt;</th><th scope=col>&lt;chr&gt;</th></tr>\n",
       "</thead>\n",
       "<tbody>\n",
       "</tbody>\n",
       "</table>\n"
      ],
      "text/latex": [
       "A data.frame: 0 × 17\n",
       "\\begin{tabular}{lllllllllllllllll}\n",
       " ID & Package & LibPath & Version & Priority & Depends & Imports & LinkingTo & Suggests & Enhances & License & License\\_is\\_FOSS & License\\_restricts\\_use & OS\\_type & MD5sum & NeedsCompilation & Built\\\\\n",
       " <chr> & <chr> & <chr> & <chr> & <chr> & <chr> & <chr> & <chr> & <chr> & <chr> & <chr> & <chr> & <chr> & <chr> & <chr> & <chr> & <chr>\\\\\n",
       "\\hline\n",
       "\\end{tabular}\n"
      ],
      "text/markdown": [
       "\n",
       "A data.frame: 0 × 17\n",
       "\n",
       "| ID &lt;chr&gt; | Package &lt;chr&gt; | LibPath &lt;chr&gt; | Version &lt;chr&gt; | Priority &lt;chr&gt; | Depends &lt;chr&gt; | Imports &lt;chr&gt; | LinkingTo &lt;chr&gt; | Suggests &lt;chr&gt; | Enhances &lt;chr&gt; | License &lt;chr&gt; | License_is_FOSS &lt;chr&gt; | License_restricts_use &lt;chr&gt; | OS_type &lt;chr&gt; | MD5sum &lt;chr&gt; | NeedsCompilation &lt;chr&gt; | Built &lt;chr&gt; |\n",
       "|---|---|---|---|---|---|---|---|---|---|---|---|---|---|---|---|---|\n",
       "\n"
      ],
      "text/plain": [
       "     ID Package LibPath Version Priority Depends Imports LinkingTo Suggests\n",
       "     Enhances License License_is_FOSS License_restricts_use OS_type MD5sum\n",
       "     NeedsCompilation Built"
      ]
     },
     "metadata": {},
     "output_type": "display_data"
    }
   ],
   "source": [
    "installed.packages()  %>%\n",
    "    as.data.frame() %>% \n",
    "    rownames_to_column(\"ID\") %>% \n",
    "    filter(ID == \"phyloseq\")\n",
    "\n",
    "    \n",
    "    "
   ]
  },
  {
   "cell_type": "code",
   "execution_count": 2,
   "metadata": {},
   "outputs": [
    {
     "name": "stderr",
     "output_type": "stream",
     "text": [
      "bash: line 3: ll: command not found\n"
     ]
    }
   ],
   "source": [
    "%%bash\n",
    "\n",
    "cd /home/gladkov2/storage/metagenome/bact_4x/MiShitFull/\n",
    "ll -hS"
   ]
  },
  {
   "cell_type": "code",
   "execution_count": 6,
   "metadata": {},
   "outputs": [
    {
     "name": "stdout",
     "output_type": "stream",
     "text": [
      "/bin/sh: 1: ll: not found\n"
     ]
    }
   ],
   "source": [
    "!ll"
   ]
  },
  {
   "cell_type": "code",
   "execution_count": 8,
   "metadata": {},
   "outputs": [
    {
     "name": "stdout",
     "output_type": "stream",
     "text": [
      "Python 2.7.16 :: Anaconda, Inc.\n"
     ]
    }
   ],
   "source": [
    "!python --version"
   ]
  },
  {
   "cell_type": "code",
   "execution_count": 9,
   "metadata": {},
   "outputs": [
    {
     "data": {
      "text/plain": [
       "u'/mnt/storage/notebooks'"
      ]
     },
     "execution_count": 9,
     "metadata": {},
     "output_type": "execute_result"
    }
   ],
   "source": [
    "%pwd"
   ]
  },
  {
   "cell_type": "code",
   "execution_count": 10,
   "metadata": {},
   "outputs": [
    {
     "name": "stdout",
     "output_type": "stream",
     "text": [
      "/bin/sh: 1: /home/gladkov2/anaconda2/bin:/home/gladkov2/bin:/home/gladkov2/.local/bin:/home/gladkov2/bin:/home/gladkov2/.local/bin:/home/gladkov2/anaconda2/envs/pandas/bin:/home/gladkov2/anaconda2/condabin:/usr/local/sbin:/usr/local/bin:/usr/sbin:/usr/bin:/sbin:/bin:/usr/games:/usr/local/games:/home/gladkov2/storage/ncbi/ncbi-blast-2.10.1+/bin:/home/gladkov2/storage/metagenome/bact_4x/metasam/dsk/build/bin:/home/gladkov2/storage/ncbi/ncbi-blast-2.10.1+/bin:/home/gladkov2/storage/metagenome/bact_4x/metasam/dsk/build/bin: not found\n"
     ]
    }
   ],
   "source": [
    "!$PATH"
   ]
  },
  {
   "cell_type": "code",
   "execution_count": null,
   "metadata": {},
   "outputs": [],
   "source": []
  },
  {
   "cell_type": "code",
   "execution_count": null,
   "metadata": {},
   "outputs": [],
   "source": []
  }
 ],
 "metadata": {
  "kernelspec": {
   "display_name": "Python 3",
   "language": "python",
   "name": "python3"
  },
  "language_info": {
   "codemirror_mode": {
    "name": "ipython",
    "version": 3
   },
   "file_extension": ".py",
   "mimetype": "text/x-python",
   "name": "python",
   "nbconvert_exporter": "python",
   "pygments_lexer": "ipython3",
   "version": "3.8.5"
  },
  "toc-showcode": true,
  "toc-showmarkdowntxt": true,
  "toc-showtags": false
 },
 "nbformat": 4,
 "nbformat_minor": 4
}
