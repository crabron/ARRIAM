{
 "cells": [
  {
   "cell_type": "code",
   "execution_count": null,
   "metadata": {},
   "outputs": [],
   "source": [
    "import os\n",
    "# %load_ext rpy2.ipython - for pandas envinroment only \n",
    "# import vamb\n",
    "# %config IPCompleter.greedy=True\n",
    "%config Completer.use_jedi = False"
   ]
  },
  {
   "cell_type": "code",
   "execution_count": null,
   "metadata": {},
   "outputs": [],
   "source": [
    "import pandas as pd\n",
    "import numpy as np\n",
    "df = pd.DataFrame({\n",
    "    'cups_of_coffee': [0, 1, 2, 3, 4, 5, 6, 7, 8, 9],\n",
    "    'productivity': [2, 5, 6, 8, 9, 8, 0, 1, 0, -1]\n",
    "})\n",
    "df.transpose()"
   ]
  },
  {
   "cell_type": "code",
   "execution_count": null,
   "metadata": {},
   "outputs": [],
   "source": [
    "os.chdir('/home/gladkov2/storage/metagenome/bact_4x/vamb')\n",
    "ldrir = os.listdir()\n",
    "\n",
    "ldrir"
   ]
  },
  {
   "cell_type": "code",
   "execution_count": null,
   "metadata": {},
   "outputs": [],
   "source": [
    "%%R\n",
    "set.seed(100) \n",
    "s <- sample(1:10, 5)\n",
    "print(s)"
   ]
  },
  {
   "cell_type": "code",
   "execution_count": null,
   "metadata": {},
   "outputs": [],
   "source": [
    "%%R\n",
    "print(s)"
   ]
  },
  {
   "cell_type": "code",
   "execution_count": null,
   "metadata": {},
   "outputs": [],
   "source": [
    "df"
   ]
  },
  {
   "cell_type": "markdown",
   "metadata": {
    "slideshow": {
     "slide_type": "slide"
    }
   },
   "source": [
    "Change working directory"
   ]
  },
  {
   "cell_type": "code",
   "execution_count": null,
   "metadata": {},
   "outputs": [],
   "source": [
    "\n",
    "%cd ~/storage/metagenome/bact_4x/MiShitFull/\n",
    "%ll -hS"
   ]
  },
  {
   "cell_type": "markdown",
   "metadata": {},
   "source": [
    "Delete adaptors/non random first 17 nucleotides(?)"
   ]
  },
  {
   "cell_type": "code",
   "execution_count": null,
   "metadata": {},
   "outputs": [],
   "source": [
    "!bbduk.sh  in1=46_S10_L001_R1_001.fastq.gz in2=46_S10_L001_R2_001.fastq.gz \\\n",
    "ftl=17 ftr2=2 \\\n",
    "out1=46_F_wa.fq out2=46_R_wa.fq "
   ]
  },
  {
   "cell_type": "markdown",
   "metadata": {},
   "source": [
    "Everything is ok? See working directory/"
   ]
  },
  {
   "cell_type": "code",
   "execution_count": null,
   "metadata": {},
   "outputs": [],
   "source": [
    "%ll -th | head"
   ]
  },
  {
   "cell_type": "markdown",
   "metadata": {},
   "source": [
    "Run minimap aligner in short-read reference mode"
   ]
  },
  {
   "cell_type": "code",
   "execution_count": null,
   "metadata": {},
   "outputs": [],
   "source": [
    "!minimap2 -ax sr 46_con_fin.fasta  46_F_wa.fq 46_R_wa.fq > 46.sam"
   ]
  },
  {
   "cell_type": "code",
   "execution_count": null,
   "metadata": {},
   "outputs": [],
   "source": [
    "%ll -th | head"
   ]
  },
  {
   "cell_type": "markdown",
   "metadata": {},
   "source": [
    "Sam to bam"
   ]
  },
  {
   "cell_type": "code",
   "execution_count": null,
   "metadata": {},
   "outputs": [],
   "source": [
    "!samtools sort 46.sam > 46_al.bam"
   ]
  },
  {
   "cell_type": "code",
   "execution_count": null,
   "metadata": {},
   "outputs": [],
   "source": [
    "%ll -th | head"
   ]
  },
  {
   "cell_type": "code",
   "execution_count": null,
   "metadata": {},
   "outputs": [],
   "source": [
    "!rm 46_m_al_sr.sam"
   ]
  },
  {
   "cell_type": "code",
   "execution_count": null,
   "metadata": {},
   "outputs": [],
   "source": [
    "%ll -th | head"
   ]
  },
  {
   "cell_type": "markdown",
   "metadata": {},
   "source": [
    "Create index and see stats"
   ]
  },
  {
   "cell_type": "code",
   "execution_count": null,
   "metadata": {},
   "outputs": [],
   "source": [
    "!samtools index 46_al.bam\n",
    "!samtools flagstat 46_al.bam"
   ]
  },
  {
   "cell_type": "code",
   "execution_count": null,
   "metadata": {},
   "outputs": [],
   "source": [
    "%ll -th | head"
   ]
  },
  {
   "cell_type": "raw",
   "metadata": {},
   "source": [
    "Create fai index from 46 consensus shit"
   ]
  },
  {
   "cell_type": "code",
   "execution_count": null,
   "metadata": {},
   "outputs": [],
   "source": [
    "!samtools faidx 46_con_fin.fasta"
   ]
  },
  {
   "cell_type": "code",
   "execution_count": null,
   "metadata": {},
   "outputs": [],
   "source": [
    "%ll -th | head"
   ]
  },
  {
   "cell_type": "code",
   "execution_count": null,
   "metadata": {},
   "outputs": [],
   "source": [
    "!seqkit fx2tab -lg 46_con.fa  | grep -f ids.txt"
   ]
  },
  {
   "cell_type": "markdown",
   "metadata": {},
   "source": [
    "Get top name of top length contigs"
   ]
  },
  {
   "cell_type": "code",
   "execution_count": null,
   "metadata": {},
   "outputs": [],
   "source": [
    "!infoseq 46_con.fa -only -name -length -pgc | sort -k2 -n | tail -n 15"
   ]
  },
  {
   "cell_type": "code",
   "execution_count": null,
   "metadata": {},
   "outputs": [],
   "source": [
    "!cd ../bar02/bar04/out/"
   ]
  },
  {
   "cell_type": "code",
   "execution_count": null,
   "metadata": {},
   "outputs": [],
   "source": [
    "!head ~/storage/metagenome/bact_4x/all_procca_faa/c1_ann.tsv"
   ]
  },
  {
   "cell_type": "code",
   "execution_count": null,
   "metadata": {},
   "outputs": [],
   "source": [
    "!ln -s ~/storage/metagenome/bact_4x/all_procca_faa/kaiju/pr_01.gff pr_01.gff\n"
   ]
  },
  {
   "cell_type": "code",
   "execution_count": null,
   "metadata": {},
   "outputs": [],
   "source": []
  },
  {
   "cell_type": "code",
   "execution_count": null,
   "metadata": {},
   "outputs": [],
   "source": [
    "!head pr_01.gff"
   ]
  },
  {
   "cell_type": "code",
   "execution_count": null,
   "metadata": {},
   "outputs": [],
   "source": [
    "!grep -v '^#' pr_01.gff | head"
   ]
  },
  {
   "cell_type": "code",
   "execution_count": null,
   "metadata": {},
   "outputs": [],
   "source": [
    "%ll -ht"
   ]
  },
  {
   "cell_type": "code",
   "execution_count": null,
   "metadata": {},
   "outputs": [],
   "source": [
    "!java -version"
   ]
  },
  {
   "cell_type": "code",
   "execution_count": null,
   "metadata": {},
   "outputs": [],
   "source": []
  },
  {
   "cell_type": "markdown",
   "metadata": {},
   "source": [
    "First Pilon round"
   ]
  },
  {
   "cell_type": "code",
   "execution_count": null,
   "metadata": {},
   "outputs": [],
   "source": [
    "!java -Xmx64G -jar /home/gladkov2/anaconda2/pkgs/pilon-1.23-2/share/pilon-1.23-2/pilon-1.23.jar --genome 46_con.fa --changes  --frags 46_al.bam --output pilon_46 --threads 50"
   ]
  },
  {
   "cell_type": "code",
   "execution_count": null,
   "metadata": {},
   "outputs": [],
   "source": [
    "!locate pilon"
   ]
  },
  {
   "cell_type": "markdown",
   "metadata": {},
   "source": [
    "Redo with bwa align"
   ]
  },
  {
   "cell_type": "code",
   "execution_count": null,
   "metadata": {},
   "outputs": [],
   "source": []
  },
  {
   "cell_type": "code",
   "execution_count": 59,
   "metadata": {},
   "outputs": [
    {
     "name": "stdout",
     "output_type": "stream",
     "text": [
      "652331 + 0 in total (QC-passed reads + QC-failed reads)\n",
      "0 + 0 secondary\n",
      "381 + 0 supplementary\n",
      "0 + 0 duplicates\n",
      "500434 + 0 mapped (76.71% : N/A)\n",
      "651950 + 0 paired in sequencing\n",
      "325975 + 0 read1\n",
      "325975 + 0 read2\n",
      "355822 + 0 properly paired (54.58% : N/A)\n",
      "452134 + 0 with itself and mate mapped\n",
      "47919 + 0 singletons (7.35% : N/A)\n",
      "3186 + 0 with mate mapped to a different chr\n",
      "1701 + 0 with mate mapped to a different chr (mapQ>=5)\n"
     ]
    },
    {
     "name": "stderr",
     "output_type": "stream",
     "text": [
      "[M::mm_idx_gen::2.614*1.34] collected minimizers\n",
      "[M::mm_idx_gen::3.111*2.45] sorted minimizers\n",
      "[M::main::3.112*2.45] loaded/built the index for 1752 target sequence(s)\n",
      "[M::mm_mapopt_update::3.112*2.45] mid_occ = 1000\n",
      "[M::mm_idx_stat] kmer size: 21; skip: 11; is_hpc: 0; #seq: 1752\n",
      "[M::mm_idx_stat::3.341*2.35] distinct minimizers: 17756048 (98.76% are singletons); average occurrences: 1.019; average spacing: 6.000\n",
      "[M::worker_pipeline::5.272*15.27] mapped 393648 sequences\n",
      "[M::worker_pipeline::5.700*14.20] mapped 258302 sequences\n",
      "[M::main] Version: 2.17-r941\n",
      "[M::main] CMD: minimap2 -ax sr -t 50 46_con_fin.fasta 46_F_wa.fq 46_R_wa.fq\n",
      "[M::main] Real time: 5.766 sec; CPU: 81.002 sec; Peak RSS: 1.372 GB\n"
     ]
    }
   ],
   "source": [
    "%%bash\n",
    "\n",
    "minimap2 -ax sr 46_con_fin.fasta  46_F_wa.fq 46_R_wa.fq -t 50 > 46_second_var.sam \n",
    "samtools sort 46_second_var.sam > 46_second_var.bam\n",
    "samtools index 46_second_var.bam\n",
    "samtools flagstat 46_second_var.bam"
   ]
  },
  {
   "cell_type": "code",
   "execution_count": 53,
   "metadata": {},
   "outputs": [
    {
     "name": "stdout",
     "output_type": "stream",
     "text": [
      "652332 + 0 in total (QC-passed reads + QC-failed reads)\n",
      "0 + 0 secondary\n",
      "382 + 0 supplementary\n",
      "0 + 0 duplicates\n",
      "500557 + 0 mapped (76.73% : N/A)\n",
      "651950 + 0 paired in sequencing\n",
      "325975 + 0 read1\n",
      "325975 + 0 read2\n",
      "356780 + 0 properly paired (54.73% : N/A)\n",
      "452360 + 0 with itself and mate mapped\n",
      "47815 + 0 singletons (7.33% : N/A)\n",
      "3186 + 0 with mate mapped to a different chr\n",
      "1700 + 0 with mate mapped to a different chr (mapQ>=5)\n"
     ]
    },
    {
     "name": "stderr",
     "output_type": "stream",
     "text": [
      "[M::mm_idx_gen::2.435*1.35] collected minimizers\n",
      "[M::mm_idx_gen::3.033*2.61] sorted minimizers\n",
      "[M::main::3.034*2.61] loaded/built the index for 1752 target sequence(s)\n",
      "[M::mm_mapopt_update::3.034*2.61] mid_occ = 1000\n",
      "[M::mm_idx_stat] kmer size: 21; skip: 11; is_hpc: 0; #seq: 1752\n",
      "[M::mm_idx_stat::3.265*2.50] distinct minimizers: 17756048 (98.76% are singletons); average occurrences: 1.019; average spacing: 6.000\n",
      "[M::worker_pipeline::5.289*14.78] mapped 393648 sequences\n",
      "[M::worker_pipeline::5.659*13.88] mapped 258302 sequences\n",
      "[M::main] Version: 2.17-r941\n",
      "[M::main] CMD: minimap2 -ax sr -F 1500 -t 50 46_con_fin.fasta 46_F_wa.fq 46_R_wa.fq\n",
      "[M::main] Real time: 5.760 sec; CPU: 78.632 sec; Peak RSS: 1.365 GB\n"
     ]
    }
   ],
   "source": [
    "%%bash\n",
    "\n",
    "minimap2 -ax sr -F 1500 46_con_fin.fasta  46_F_wa.fq 46_R_wa.fq -t 50 > 46_second_var.sam \n",
    "samtools sort 46_second_var.sam > 46_second_var.bam\n",
    "# samtools index46_second_var.bam 46_al.bam\n",
    "samtools flagstat 46_second_var.bam"
   ]
  },
  {
   "cell_type": "code",
   "execution_count": 54,
   "metadata": {},
   "outputs": [
    {
     "name": "stdout",
     "output_type": "stream",
     "text": [
      "652331 + 0 in total (QC-passed reads + QC-failed reads)\n",
      "0 + 0 secondary\n",
      "381 + 0 supplementary\n",
      "0 + 0 duplicates\n",
      "500027 + 0 mapped (76.65% : N/A)\n",
      "651950 + 0 paired in sequencing\n",
      "325975 + 0 read1\n",
      "325975 + 0 read2\n",
      "350370 + 0 properly paired (53.74% : N/A)\n",
      "451346 + 0 with itself and mate mapped\n",
      "48300 + 0 singletons (7.41% : N/A)\n",
      "3222 + 0 with mate mapped to a different chr\n",
      "1720 + 0 with mate mapped to a different chr (mapQ>=5)\n"
     ]
    },
    {
     "name": "stderr",
     "output_type": "stream",
     "text": [
      "[M::mm_idx_gen::2.674*1.39] collected minimizers\n",
      "[M::mm_idx_gen::3.158*2.44] sorted minimizers\n",
      "[M::main::3.159*2.44] loaded/built the index for 1752 target sequence(s)\n",
      "[M::mm_mapopt_update::3.159*2.44] mid_occ = 1000\n",
      "[M::mm_idx_stat] kmer size: 21; skip: 11; is_hpc: 0; #seq: 1752\n",
      "[M::mm_idx_stat::3.385*2.35] distinct minimizers: 17756048 (98.76% are singletons); average occurrences: 1.019; average spacing: 6.000\n",
      "[M::worker_pipeline::5.445*14.14] mapped 393648 sequences\n",
      "[M::worker_pipeline::5.833*13.26] mapped 258302 sequences\n",
      "[M::main] Version: 2.17-r941\n",
      "[M::main] CMD: minimap2 -ax sr -F 500 -t 50 46_con_fin.fasta 46_F_wa.fq 46_R_wa.fq\n",
      "[M::main] Real time: 5.910 sec; CPU: 77.429 sec; Peak RSS: 1.374 GB\n"
     ]
    }
   ],
   "source": [
    "%%bash\n",
    "\n",
    "minimap2 -ax sr -F 500 46_con_fin.fasta  46_F_wa.fq 46_R_wa.fq -t 50 > 46_second_var.sam \n",
    "samtools sort 46_second_var.sam > 46_second_var.bam\n",
    "# samtools index46_second_var.bam 46_al.bam\n",
    "samtools flagstat 46_second_var.bam"
   ]
  },
  {
   "cell_type": "markdown",
   "metadata": {},
   "source": [
    "After Pilon Minimap2 and stat"
   ]
  },
  {
   "cell_type": "code",
   "execution_count": 58,
   "metadata": {},
   "outputs": [
    {
     "name": "stdout",
     "output_type": "stream",
     "text": [
      "652330 + 0 in total (QC-passed reads + QC-failed reads)\n",
      "0 + 0 secondary\n",
      "380 + 0 supplementary\n",
      "0 + 0 duplicates\n",
      "500439 + 0 mapped (76.72% : N/A)\n",
      "651950 + 0 paired in sequencing\n",
      "325975 + 0 read1\n",
      "325975 + 0 read2\n",
      "355836 + 0 properly paired (54.58% : N/A)\n",
      "452148 + 0 with itself and mate mapped\n",
      "47911 + 0 singletons (7.35% : N/A)\n",
      "3188 + 0 with mate mapped to a different chr\n",
      "1703 + 0 with mate mapped to a different chr (mapQ>=5)\n"
     ]
    },
    {
     "name": "stderr",
     "output_type": "stream",
     "text": [
      "[M::mm_idx_gen::2.574*1.36] collected minimizers\n",
      "[M::mm_idx_gen::3.061*2.47] sorted minimizers\n",
      "[M::main::3.062*2.47] loaded/built the index for 1752 target sequence(s)\n",
      "[M::mm_mapopt_update::3.062*2.47] mid_occ = 1000\n",
      "[M::mm_idx_stat] kmer size: 21; skip: 11; is_hpc: 0; #seq: 1752\n",
      "[M::mm_idx_stat::3.283*2.37] distinct minimizers: 17756021 (98.76% are singletons); average occurrences: 1.019; average spacing: 6.000\n",
      "[M::worker_pipeline::5.261*14.16] mapped 393648 sequences\n",
      "[M::worker_pipeline::5.700*13.14] mapped 258302 sequences\n",
      "[M::main] Version: 2.17-r941\n",
      "[M::main] CMD: minimap2 -ax sr -t 50 pilon_46.fasta 46_F_wa.fq 46_R_wa.fq\n",
      "[M::main] Real time: 5.794 sec; CPU: 75.005 sec; Peak RSS: 1.374 GB\n"
     ]
    }
   ],
   "source": [
    "%%bash\n",
    "\n",
    "minimap2 -ax sr pilon_46.fasta  46_F_wa.fq 46_R_wa.fq -t 50 > 46_second_var.sam \n",
    "samtools sort 46_second_var.sam > 46_second_var.bam\n",
    "# samtools index46_second_var.bam 46_al.bam\n",
    "samtools flagstat 46_second_var.bam\n",
    "# !minimap2 -ax sr -F 1500 46_con_fin.fasta  46_F_wa.fq 46_R_wa.fq -t 50 > 46_second_var.sam"
   ]
  },
  {
   "cell_type": "code",
   "execution_count": 38,
   "metadata": {},
   "outputs": [
    {
     "name": "stdout",
     "output_type": "stream",
     "text": [
      "Usage: minimap2 [options] <target.fa>|<target.idx> [query.fa] [...]\n",
      "Options:\n",
      "  Indexing:\n",
      "    -H           use homopolymer-compressed k-mer (preferrable for PacBio)\n",
      "    -k INT       k-mer size (no larger than 28) [15]\n",
      "    -w INT       minimizer window size [10]\n",
      "    -I NUM       split index for every ~NUM input bases [4G]\n",
      "    -d FILE      dump index to FILE []\n",
      "  Mapping:\n",
      "    -f FLOAT     filter out top FLOAT fraction of repetitive minimizers [0.0002]\n",
      "    -g NUM       stop chain enlongation if there are no minimizers in INT-bp [5000]\n",
      "    -G NUM       max intron length (effective with -xsplice; changing -r) [200k]\n",
      "    -F NUM       max fragment length (effective with -xsr or in the fragment mode) [800]\n",
      "    -r NUM       bandwidth used in chaining and DP-based alignment [500]\n",
      "    -n INT       minimal number of minimizers on a chain [3]\n",
      "    -m INT       minimal chaining score (matching bases minus log gap penalty) [40]\n",
      "    -X           skip self and dual mappings (for the all-vs-all mode)\n",
      "    -p FLOAT     min secondary-to-primary score ratio [0.8]\n",
      "    -N INT       retain at most INT secondary alignments [5]\n",
      "  Alignment:\n",
      "    -A INT       matching score [2]\n",
      "    -B INT       mismatch penalty [4]\n",
      "    -O INT[,INT] gap open penalty [4,24]\n",
      "    -E INT[,INT] gap extension penalty; a k-long gap costs min{O1+k*E1,O2+k*E2} [2,1]\n",
      "    -z INT[,INT] Z-drop score and inversion Z-drop score [400,200]\n",
      "    -s INT       minimal peak DP alignment score [80]\n",
      "    -u CHAR      how to find GT-AG. f:transcript strand, b:both strands, n:don't match GT-AG [n]\n",
      "  Input/Output:\n",
      "    -a           output in the SAM format (PAF by default)\n",
      "    -o FILE      output alignments to FILE [stdout]\n",
      "    -L           write CIGAR with >65535 ops at the CG tag\n",
      "    -R STR       SAM read group line in a format like '@RG\\tID:foo\\tSM:bar' []\n",
      "    -c           output CIGAR in PAF\n",
      "    --cs[=STR]   output the cs tag; STR is 'short' (if absent) or 'long' [none]\n",
      "    --MD         output the MD tag\n",
      "    --eqx        write =/X CIGAR operators\n",
      "    -Y           use soft clipping for supplementary alignments\n",
      "    -t INT       number of threads [3]\n",
      "    -K NUM       minibatch size for mapping [500M]\n",
      "    --version    show version number\n",
      "  Preset:\n",
      "    -x STR       preset (always applied before other options; see minimap2.1 for details) []\n",
      "                 - map-pb/map-ont: PacBio/Nanopore vs reference mapping\n",
      "                 - ava-pb/ava-ont: PacBio/Nanopore read overlap\n",
      "                 - asm5/asm10/asm20: asm-to-ref mapping, for ~0.1/1/5% sequence divergence\n",
      "                 - splice: long-read spliced alignment\n",
      "                 - sr: genomic short-read mapping\n",
      "\n",
      "See `man ./minimap2.1' for detailed description of these and other advanced command-line options.\n"
     ]
    }
   ],
   "source": [
    "!minimap2"
   ]
  },
  {
   "cell_type": "code",
   "execution_count": 46,
   "metadata": {},
   "outputs": [
    {
     "name": "stdout",
     "output_type": "stream",
     "text": [
      "M00411:44:000000000-CL2RK:1:2119:18753:24836\t99\tcontig_1438_segment0\t3903\t56\t132M\t=\t3940\t168\tATCCTGGTCGGACTCGCGCTCGCGTGTTTGCTCGGCCAGCTGCGCGATCTGCTCATTCGTGTAACGATGACCGACACATTTATCGAGGTGACCGTTTCGTTGCTCACCCCGTTCGCGGTTTATCTAGCCGCC\t:+A,EF,8,@@C8CF5?=5>5))):8055)9*:88)1=D=BD5>=))0859=D**>7*;D)31**0:))18)))+8:,<<FFFE+8>+CD9,?+8C@>FFGFF>>@<B,++8:F:*@*3<C??2F,,3,>FG\tNM:i:6\tms:i:204\tAS:i:204\tnn:i:0\ttp:A:P\tcm:i:3\ts1:i:121\ts2:i:0\tde:f:0.0455\trl:i:0\n",
      "M00411:44:000000000-CL2RK:1:2119:18753:24836\t147\tcontig_1438_segment0\t3940\t60\t131M\t=\t3903\t-168\tAGCTGCGCGATCTGCTCATTCGTGTAAAGATGACCGACACCTTTATCGAGGTGACCATTTCGTTGCTCACCCCGTTCGCGGTTTATCTGGCCGCCGGTGCGCTGGGACTTTCCAACATTCTCGCGGTGGTG\tGGGGGGGGFGGGGCFGFFCGGGGGGGGGFGDGGECGGGGGGGGF@CGGGGGGGGGGGFCFGGGGGGGGGEFDGGGGGGGGFAE9GDC+CGGGGGGGGGGGGGGGGFGGGGGGGGGGFFCF>GGGGGGGGGG\tNM:i:0\tms:i:262\tAS:i:262\tnn:i:0\ttp:A:P\tcm:i:14\ts1:i:121\ts2:i:0\tde:f:0\trl:i:0\n",
      "M00411:44:000000000-CL2RK:1:2119:14539:24840\t73\tcontig_498_segment0\t276\t48\t6S24M3I6D19M1D10M1I36M1I27M\t=\t276\t0\tGGTAGTTCGCATGGTAGGCAAAGACAAGCGTATTATAAACGGCAGACTGGTTAAGTTGGAATGTTTCGATATAAGTCTGGGCGAAAGTGATACCGAAAAGGGTATCCTTAAATTTTGCCAGGCATAC\t4CCCF,C9C>CEG=DDF5*:)0):=D8DD58=55;>*3**))00:55):)0***503*30*0)50;75)*)1C*<CF9F8=E@7=CEFF99<<<BF+@44:+:FGCFFFE?<A?FCF9AFFG6=FCE\tNM:i:14\tms:i:128\tAS:i:128\tnn:i:0\ttp:A:P\tcm:i:5\ts1:i:72\ts2:i:0\tde:f:0.0579\trl:i:0\n",
      "M00411:44:000000000-CL2RK:1:2119:14539:24840\t133\tcontig_498_segment0\t276\t0\t*\t=\t276\t0\tTTTAAGGATACCCTTTTCGGTATCACTTTCGCCCAGACTTATATCGAAAAATTCAAACTTAACCAGTCTGCCGTTTATAATACGCTTGTCTTTGCCTACCATGCGACCTACCGGCTGGTAGTCTATA\tFGGGGGGGGGGGGGGGFFGGGGGCGGCGFGGGGGGGEGGGFFCEFDG<FGFGFGGGFGGGGGGGGDFGGGFGGFGG7FFGGGG@FGGGGGGGFGGGGGGGFGFGGGGGGGGGGGGEGEGDFEFEFGG\trl:i:0\n",
      "M00411:44:000000000-CL2RK:1:2119:13261:24856\t77\t*\t0\t0\t*\t*\t0\t0\tTCATCATACATCATAATCATAATCATCATCATCATCATCACCAACACCATCATCAACATCAACTATATCTTCACCCCTAACCCCTCAATGTGACAACAAACCTATAATTACAATTCATACCACCACC\tGGA<C,,,4,=;=F,4+;*2*5;70*;>9EEFEE7DD7*;58*)1:8>DE5:;9DDD58DD:DC5D*CB***36:,+B,EFFGEEG,,CAFDGFF,<FE<F?ABA,5<AAFFD<E,5EFFF@DE,<F\trl:i:0\n",
      "M00411:44:000000000-CL2RK:1:2119:13261:24856\t141\t*\t0\t0\t*\t*\t0\t0\tTGTAATTATAGGTTTGTTGTCACATGGAGGGGTGAGTGGTGAAGATATAGTTGATGTTGCTGATGGTGGTGGTGATGATGATGATGATGATTATGATTATGATTTATGATGATGATGATGATGTTGT\tFCC,FCE,C@@FFFGGFFGGGGGFFGGAECCGF+CF<C8<C@@6@FFFG9FEEEFGF9F,,CEFGFFGCFFGGGGGGGFF@FFGGGFDCFCFCFGFCFGGGGGGGFFGGGGFGGGGGGGGGFGEEFF\trl:i:0\n",
      "M00411:44:000000000-CL2RK:1:2119:19303:24864\t69\tcontig_1408_segment0\t20902\t0\t*\t=\t20902\t0\tGATCGCCCCGTGCGTGAGATGGGCGACGCGGCGAACGTTTTGCACAAGGAGGCGTGCGTTACGCGAGTCGCCGGATGGCGCTGTAAATTTTGACGGCTTGTGCGACTGCGCGGGGGTCGAGCCCTTTGTCTT\t7EF<F,,=6+@88C=DE=*;*))8>0)8)0)):=5)185=))****5))))01)11>5):)118=A)110)):=++33,@<<@+;7,@FF,,5>BC::F@C,,<*5*1,***C7FC/**8:>E*2;+0+<0+\trl:i:0\n",
      "M00411:44:000000000-CL2RK:1:2119:19303:24864\t137\tcontig_1408_segment0\t20902\t60\t132M\t=\t20902\t0\tAATGGCTCGACCGCCGCGCATTCGCACAAGCCGTCGAAATTTACAGCGCCATCCTTCGACTCGCGTAACGCACGCCGCCTTTGGCAAAACTTTCTCCGCGGCGCACATCTCACGCACGGGTCGATCACGCGG\tEFGGGGGGGGGGGGGGGGG7CFGFGEGCEGCGCFGGGGCGGGFFFGGGGGGGGGFFGGFGGGGGGGGGGGGGGGGGGGGGGGGGGFGGGGGGGGGGGGGGGGFGGGGGGGGGDFGGGGGDGGGGG+<FGGGG\tNM:i:0\tms:i:264\tAS:i:264\tnn:i:0\ttp:A:P\tcm:i:16\ts1:i:125\ts2:i:0\tde:f:0\trl:i:0\n",
      "M00411:44:000000000-CL2RK:1:2119:13250:24871\t77\t*\t0\t0\t*\t*\t0\t0\tTCATCATAAATCATAATCATAATCATCATCATCATCATCACCACCACCATCATCAACATCAACTATATCTTCACCACTAACCCCTCCATGTGACAACAAACCTATAATTACAATTCATACCACCACC\tGFGF;;E,=4;EEF,??DB>D;97;D*5C97*;DD7;DDDD8==9DDFBBDE<;D*8>D5D*0;)DD*0;FBDDBCFF<<CCFFFE,,CEFF<<AFFF@<FFAFGGGGF,<FFFG,5EEF8<,?FFG\trl:i:0\n",
      "M00411:44:000000000-CL2RK:1:2119:13250:24871\t141\t*\t0\t0\t*\t*\t0\t0\tTGTAATTATAGGTTTGTTGTCACATGGAGGGGTTAGTGGTGAAGATATAGTTGATGTTGATGATGGTGGTGGTGATGATGATGATGATGATTATGATTATGATTTATGATGATGATGATGATGTTGT\tFGGFGGGGGFFGEGGGGGGGGGGFAEFCFEGGFEGGFGG@FE,<,FFECFGGGFF<FGFFEF@FFGFGGFGGFGGFGFFFEGGGGGGGGFGGDFGGGGGGGGGFGGGGFFGFGGGGGGGGGGGGGGG\trl:i:0\n"
     ]
    }
   ],
   "source": [
    "!tail 46_second_var.sam"
   ]
  },
  {
   "cell_type": "code",
   "execution_count": 39,
   "metadata": {},
   "outputs": [],
   "source": [
    "import math\n"
   ]
  },
  {
   "cell_type": "code",
   "execution_count": null,
   "metadata": {},
   "outputs": [],
   "source": [
    "with open('46_second_var.sam', 'rt') as sam:\n",
    "    for sam_line in sam:\n",
    "        sam_parts = sam_line.split('\\t')\n",
    "        print(sam_parts[1])\n",
    "    "
   ]
  },
  {
   "cell_type": "code",
   "execution_count": null,
   "metadata": {},
   "outputs": [],
   "source": []
  },
  {
   "cell_type": "code",
   "execution_count": null,
   "metadata": {},
   "outputs": [],
   "source": [
    "\n",
    "    "
   ]
  },
  {
   "cell_type": "code",
   "execution_count": null,
   "metadata": {},
   "outputs": [],
   "source": [
    "%%bash\n",
    "\n",
    "cd /home/gladkov2/storage/metagenome/bact_4x/MiShitFull/\n",
    "ll -hS"
   ]
  },
  {
   "cell_type": "code",
   "execution_count": null,
   "metadata": {},
   "outputs": [],
   "source": [
    "!ll"
   ]
  },
  {
   "cell_type": "code",
   "execution_count": null,
   "metadata": {},
   "outputs": [],
   "source": [
    "!python --version"
   ]
  },
  {
   "cell_type": "code",
   "execution_count": null,
   "metadata": {},
   "outputs": [],
   "source": [
    "%pwd"
   ]
  },
  {
   "cell_type": "code",
   "execution_count": null,
   "metadata": {},
   "outputs": [],
   "source": [
    "!$PATH"
   ]
  },
  {
   "cell_type": "code",
   "execution_count": 5,
   "metadata": {},
   "outputs": [
    {
     "name": "stderr",
     "output_type": "stream",
     "text": [
      "UsageError: Cell magic `%%R` not found.\n"
     ]
    }
   ],
   "source": [
    "%%\n",
    "list.files()"
   ]
  },
  {
   "cell_type": "code",
   "execution_count": null,
   "metadata": {},
   "outputs": [],
   "source": []
  }
 ],
 "metadata": {
  "kernelspec": {
   "display_name": "Python 3",
   "language": "python",
   "name": "python3"
  },
  "language_info": {
   "codemirror_mode": {
    "name": "ipython",
    "version": 3
   },
   "file_extension": ".py",
   "mimetype": "text/x-python",
   "name": "python",
   "nbconvert_exporter": "python",
   "pygments_lexer": "ipython3",
   "version": "3.7.9"
  },
  "toc-showcode": true,
  "toc-showmarkdowntxt": true,
  "toc-showtags": false
 },
 "nbformat": 4,
 "nbformat_minor": 4
}
