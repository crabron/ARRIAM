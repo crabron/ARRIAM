{
 "cells": [
  {
   "cell_type": "code",
   "execution_count": 4,
   "metadata": {},
   "outputs": [],
   "source": [
    "import os\n",
    "# %load_ext rpy2.ipython - for pandas envinroment only \n",
    "# import vamb\n",
    "# %config IPCompleter.greedy=True\n",
    "%config Completer.use_jedi = False"
   ]
  },
  {
   "cell_type": "code",
   "execution_count": null,
   "metadata": {},
   "outputs": [],
   "source": [
    "import pandas as pd\n",
    "import numpy as np\n",
    "df = pd.DataFrame({\n",
    "    'cups_of_coffee': [0, 1, 2, 3, 4, 5, 6, 7, 8, 9],\n",
    "    'productivity': [2, 5, 6, 8, 9, 8, 0, 1, 0, -1]\n",
    "})\n",
    "df.transpose()"
   ]
  },
  {
   "cell_type": "code",
   "execution_count": 89,
   "metadata": {},
   "outputs": [
    {
     "data": {
      "text/plain": [
       "['consensus.fasta']"
      ]
     },
     "execution_count": 89,
     "metadata": {},
     "output_type": "execute_result"
    }
   ],
   "source": [
    "os.chdir('/home/gladkov2/storage/metagenome/bact_4x/vamb')\n",
    "ldrir = os.listdir()\n",
    "\n",
    "ldrir"
   ]
  },
  {
   "cell_type": "code",
   "execution_count": null,
   "metadata": {},
   "outputs": [],
   "source": [
    "%%R\n",
    "set.seed(100) \n",
    "s <- sample(1:10, 5)\n",
    "print(s)"
   ]
  },
  {
   "cell_type": "code",
   "execution_count": null,
   "metadata": {},
   "outputs": [],
   "source": [
    "%%R\n",
    "print(s)"
   ]
  },
  {
   "cell_type": "code",
   "execution_count": null,
   "metadata": {},
   "outputs": [],
   "source": [
    "df"
   ]
  },
  {
   "cell_type": "markdown",
   "metadata": {
    "slideshow": {
     "slide_type": "slide"
    }
   },
   "source": [
    "Change working directory"
   ]
  },
  {
   "cell_type": "code",
   "execution_count": 5,
   "metadata": {},
   "outputs": [
    {
     "name": "stdout",
     "output_type": "stream",
     "text": [
      "/mnt/storage/metagenome/bact_4x/MiShitFull\n",
      "total 3.1G\n",
      "-rw-rw-r--  1 gladkov2 337M Mar 22 14:18 46_con_fin.fasta.bwt.2bit.64\n",
      "-rw-rw-r--  1 gladkov2 256M Mar  5 15:13 46_second_var.sam\n",
      "-rw-rw-r--  1 gladkov2 256M Feb  1 13:04 46.sam\n",
      "-rw-rw-r--  1 gladkov2 247M Mar 22 14:18 46_a_bwa.sam\n",
      "-rw-rw-r--  1 gladkov2 211M Jan 25 13:23 46_nm_al_sr.sam\n",
      "-rw-rw-r--  1 gladkov2 207M Mar 22 14:17 46_con_fin.fasta.0123\n",
      "-rw-rw-r--  1 gladkov2 105M Mar  3 13:03 pilon_46.fasta\n",
      "-rw-rw-r--  1 gladkov2 105M Mar 22 14:28 pilon_46_bwarun.fasta\n",
      "-rw-r--r--  1 gladkov2 104M Feb 12 13:33 46_con.fa\n",
      "-rw-rw-r--  1 gladkov2  98M Jan 29 14:29 46_F_wa.fq\n",
      "-rw-rw-r--  1 gladkov2  98M Jan 22 15:33 46_F.fq\n",
      "-rw-rw-r--  1 gladkov2  97M Jan 29 14:29 46_R_wa.fq\n",
      "-rw-rw-r--  1 gladkov2  97M Jan 22 15:33 46_R.fq\n",
      "-rwxrwxrwx  1 gladkov2  93M Dec 18 11:08 \u001b[0m\u001b[01;32mconsensus_what_the.fasta\u001b[0m*\n",
      "-rw-rw-r--  1 gladkov2  77M Jan 25 11:45 46_m_al.sam\n",
      "-rw-rw-r--  1 gladkov2  77M Mar 22 14:18 46_a_bwa_sorted.bam\n",
      "-rw-rw-r--  1 gladkov2  74M Jan 22 15:35 46_um.fq\n",
      "-rw-rw-r--  1 gladkov2  73M Mar  5 15:13 46_second_var.bam\n",
      "-rw-rw-r--  1 gladkov2  73M Feb  1 13:48 46_al.bam\n",
      "-rw-rw-r--  1 gladkov2  73M Jan 22 15:35 46_m.fq\n",
      "-rw-rw-r--  1 gladkov2  65M Jan 25 13:23 46_nm_al_sr_sorted.bam\n",
      "-rwxrwxrwx  1 gladkov2  48M Nov  4  2019 \u001b[01;32m46_S10_L001_R1_001.fastq.gz\u001b[0m*\n",
      "-rwxrwxrwx  1 gladkov2  31M Nov  4  2019 \u001b[01;32m46_S10_L001_R2_001.fastq.gz\u001b[0m*\n",
      "-rw-rw-r--  1 gladkov2  26M Jan 25 13:18 46_m_al_sr_sorted.bam\n",
      "-rw-rw-r--  1 gladkov2  26M Mar 22 14:17 46_con_fin.fasta.pac\n",
      "-rwxrwxrwx  1 gladkov2  26M Nov  4  2019 \u001b[01;32m14_S1_L001_R1_001.fastq.gz\u001b[0m*\n",
      "-rw-rw-r--  1 gladkov2  25M Jan 25 13:11 46_m_al_sorted.bam\n",
      "-rw-rw-r--  1 gladkov2  25M Jan 25 11:53 46_m_al.bam\n",
      "-rwxrwxrwx  1 gladkov2  23M Nov  4  2019 \u001b[01;32m29_S7_L001_R1_001.fastq.gz\u001b[0m*\n",
      "-rwxrwxrwx  1 gladkov2  22M Nov  4  2019 \u001b[01;32m26_S4_L001_R1_001.fastq.gz\u001b[0m*\n",
      "-rwxrwxrwx  1 gladkov2  18M Nov  4  2019 \u001b[01;32m14_S1_L001_R2_001.fastq.gz\u001b[0m*\n",
      "-rwxrwxrwx  1 gladkov2  16M Nov  4  2019 \u001b[01;32m29_S7_L001_R2_001.fastq.gz\u001b[0m*\n",
      "-rwxrwxrwx  1 gladkov2  16M Nov  4  2019 \u001b[01;32m26_S4_L001_R2_001.fastq.gz\u001b[0m*\n",
      "-rw-rw-r--  1 gladkov2 1.2M Jan 22 15:24 multiqc_report.html\n",
      "-rw-rw-r--  1 gladkov2 226K Mar 22 14:27 46_a_bwa_sorted.bam.bai\n",
      "-rw-rw-r--  1 gladkov2 225K Feb  1 13:52 46_al.bam.bai\n",
      "-rw-rw-r--  1 gladkov2 225K Mar  5 15:13 46_second_var.bam.bai\n",
      "-rw-rw-r--  1 gladkov2 163K Jan 25 13:23 46_nm_al_sr_sorted.bam.bai\n",
      "-rw-rw-r--  1 gladkov2 140K Jan 25 13:19 46_m_al_sr_sorted.bam.bai\n",
      "-rw-rw-r--  1 gladkov2 108K Mar 22 14:17 46_con_fin.fasta.ann\n",
      "-rw-rw-r--  1 gladkov2  82K Feb 12 13:36 46_con.fa.fai\n",
      "-rw-rw-r--  1 gladkov2  82K Feb  1 14:46 46_con_fin.fasta.fai\n",
      "-rw-rw-r--  1 gladkov2  75K Jan 25 13:30 consensus.fasta.fai\n",
      "-rw-rw-r--  1 gladkov2  75K Jan 29 10:32 consensus_what_the.fasta.fai\n",
      "-rw-rw-r--  1 gladkov2  70K Mar 22 14:28 pilon_46_bwarun.changes\n",
      "-rw-rw-r--  1 gladkov2  24K Mar  3 13:03 pilon_46.changes\n",
      "-rw-rw-r--  1 gladkov2  13K Jan 25 13:09 46_m_al.bam.bai\n",
      "-rw-rw-r--  1 gladkov2  13K Jan 25 13:11 46_m_al_sorted.bam.bai\n",
      "drwxrwxr-x  2 gladkov2 4.0K Jan 22 15:24 \u001b[01;34mmultiqc_data\u001b[0m/\n",
      "drwxrwxr-x 11 gladkov2 4.0K Jan 19 11:41 \u001b[01;34mqc\u001b[0m/\n",
      "drwxrwxr-x  3 gladkov2 4.0K Jan 22 15:43 \u001b[01;34mqc_tr\u001b[0m/\n",
      "-rw-rw-r--  1 gladkov2 1.9K Jan 22 15:35 ihist_46.txt\n",
      "lrwxrwxrwx  1 gladkov2  158 Jan 26 12:57 \u001b[01;36m46_con_fin.fasta\u001b[0m -> /home/gladkov2/storage/Bact_comm_4x/20200225_1435_MN24173_FAK85519_967910e6_3_6_1_barcoded/barcode04/flye_2_8_seq_3_6_1_plasmids/medaka_polish/consensus.fasta\n",
      "lrwxrwxrwx  1 gladkov2   72 Feb 24 12:59 \u001b[01;36mpr_01.gff\u001b[0m -> /home/gladkov2/storage/metagenome/bact_4x/all_procca_faa/kaiju/pr_01.gff\n",
      "-rw-rw-r--  1 gladkov2   27 Feb  1 10:42 package-lock.json\n",
      "-rw-rw-r--  1 gladkov2   17 Mar 22 14:17 46_con_fin.fasta.amb\n",
      "-rw-rw-r--  1 gladkov2    0 Mar 22 14:11 46_a_bwamem.sam\n"
     ]
    }
   ],
   "source": [
    "\n",
    "%cd ~/storage/metagenome/bact_4x/MiShitFull/\n",
    "%ll -hS"
   ]
  },
  {
   "cell_type": "markdown",
   "metadata": {},
   "source": [
    "Delete adaptors/non random first 17 nucleotides(?)"
   ]
  },
  {
   "cell_type": "code",
   "execution_count": null,
   "metadata": {},
   "outputs": [],
   "source": [
    "!bbduk.sh  in1=46_S10_L001_R1_001.fastq.gz in2=46_S10_L001_R2_001.fastq.gz \\\n",
    "ftl=17 ftr2=2 \\\n",
    "out1=46_F_wa.fq out2=46_R_wa.fq "
   ]
  },
  {
   "cell_type": "markdown",
   "metadata": {},
   "source": [
    "Everything is ok? See working directory/"
   ]
  },
  {
   "cell_type": "code",
   "execution_count": null,
   "metadata": {},
   "outputs": [],
   "source": [
    "%ll -th | head"
   ]
  },
  {
   "cell_type": "markdown",
   "metadata": {},
   "source": [
    "Run minimap aligner in short-read reference mode"
   ]
  },
  {
   "cell_type": "code",
   "execution_count": null,
   "metadata": {},
   "outputs": [],
   "source": [
    "!minimap2 -ax sr 46_con_fin.fasta  46_F_wa.fq 46_R_wa.fq > 46.sam"
   ]
  },
  {
   "cell_type": "code",
   "execution_count": null,
   "metadata": {},
   "outputs": [],
   "source": [
    "%ll -th | head"
   ]
  },
  {
   "cell_type": "markdown",
   "metadata": {},
   "source": [
    "Sam to bam"
   ]
  },
  {
   "cell_type": "code",
   "execution_count": null,
   "metadata": {},
   "outputs": [],
   "source": [
    "!samtools sort 46.sam > 46_al.bam"
   ]
  },
  {
   "cell_type": "code",
   "execution_count": null,
   "metadata": {},
   "outputs": [],
   "source": [
    "%ll -th | head"
   ]
  },
  {
   "cell_type": "code",
   "execution_count": null,
   "metadata": {},
   "outputs": [],
   "source": [
    "!rm 46_m_al_sr.sam"
   ]
  },
  {
   "cell_type": "code",
   "execution_count": null,
   "metadata": {},
   "outputs": [],
   "source": [
    "%ll -th | head"
   ]
  },
  {
   "cell_type": "markdown",
   "metadata": {},
   "source": [
    "Create index and see stats"
   ]
  },
  {
   "cell_type": "code",
   "execution_count": null,
   "metadata": {},
   "outputs": [],
   "source": [
    "!samtools index 46_al.bam\n",
    "!samtools flagstat 46_al.bam"
   ]
  },
  {
   "cell_type": "code",
   "execution_count": null,
   "metadata": {},
   "outputs": [],
   "source": [
    "%ll -th | head"
   ]
  },
  {
   "cell_type": "raw",
   "metadata": {},
   "source": [
    "Create fai index from 46 consensus shit"
   ]
  },
  {
   "cell_type": "code",
   "execution_count": null,
   "metadata": {},
   "outputs": [],
   "source": [
    "!samtools faidx 46_con_fin.fasta"
   ]
  },
  {
   "cell_type": "code",
   "execution_count": null,
   "metadata": {},
   "outputs": [],
   "source": [
    "%ll -th | head"
   ]
  },
  {
   "cell_type": "code",
   "execution_count": null,
   "metadata": {},
   "outputs": [],
   "source": [
    "!seqkit fx2tab -lg 46_con.fa  | grep -f ids.txt"
   ]
  },
  {
   "cell_type": "markdown",
   "metadata": {},
   "source": [
    "Get top name of top length contigs"
   ]
  },
  {
   "cell_type": "code",
   "execution_count": null,
   "metadata": {},
   "outputs": [],
   "source": [
    "!infoseq 46_con.fa -only -name -length -pgc | sort -k2 -n | tail -n 15"
   ]
  },
  {
   "cell_type": "code",
   "execution_count": null,
   "metadata": {},
   "outputs": [],
   "source": [
    "!cd ../bar02/bar04/out/"
   ]
  },
  {
   "cell_type": "code",
   "execution_count": null,
   "metadata": {},
   "outputs": [],
   "source": [
    "!head ~/storage/metagenome/bact_4x/all_procca_faa/c1_ann.tsv"
   ]
  },
  {
   "cell_type": "code",
   "execution_count": null,
   "metadata": {},
   "outputs": [],
   "source": [
    "!ln -s ~/storage/metagenome/bact_4x/all_procca_faa/kaiju/pr_01.gff pr_01.gff\n"
   ]
  },
  {
   "cell_type": "code",
   "execution_count": null,
   "metadata": {},
   "outputs": [],
   "source": []
  },
  {
   "cell_type": "code",
   "execution_count": null,
   "metadata": {},
   "outputs": [],
   "source": [
    "!head pr_01.gff"
   ]
  },
  {
   "cell_type": "code",
   "execution_count": null,
   "metadata": {},
   "outputs": [],
   "source": [
    "!grep -v '^#' pr_01.gff | head"
   ]
  },
  {
   "cell_type": "code",
   "execution_count": 3,
   "metadata": {},
   "outputs": [
    {
     "name": "stdout",
     "output_type": "stream",
     "text": [
      "total 2.1G\n",
      "-rw-rw-r--  1 gladkov2 225K Mar  5 15:13 46_second_var.bam.bai\n",
      "-rw-rw-r--  1 gladkov2  73M Mar  5 15:13 46_second_var.bam\n",
      "-rw-rw-r--  1 gladkov2 256M Mar  5 15:13 46_second_var.sam\n",
      "-rw-rw-r--  1 gladkov2  24K Mar  3 13:03 pilon_46.changes\n",
      "-rw-rw-r--  1 gladkov2 105M Mar  3 13:03 pilon_46.fasta\n",
      "lrwxrwxrwx  1 gladkov2   72 Feb 24 12:59 \u001b[0m\u001b[01;36mpr_01.gff\u001b[0m -> /home/gladkov2/storage/metagenome/bact_4x/all_procca_faa/kaiju/pr_01.gff\n",
      "-rw-rw-r--  1 gladkov2  82K Feb 12 13:36 46_con.fa.fai\n",
      "-rw-r--r--  1 gladkov2 104M Feb 12 13:33 46_con.fa\n",
      "-rw-rw-r--  1 gladkov2  82K Feb  1 14:46 46_con_fin.fasta.fai\n",
      "-rw-rw-r--  1 gladkov2 225K Feb  1 13:52 46_al.bam.bai\n",
      "-rw-rw-r--  1 gladkov2  73M Feb  1 13:48 46_al.bam\n",
      "-rw-rw-r--  1 gladkov2 256M Feb  1 13:04 46.sam\n",
      "-rw-rw-r--  1 gladkov2   27 Feb  1 10:42 package-lock.json\n",
      "-rw-rw-r--  1 gladkov2  98M Jan 29 14:29 46_F_wa.fq\n",
      "-rw-rw-r--  1 gladkov2  97M Jan 29 14:29 46_R_wa.fq\n",
      "-rw-rw-r--  1 gladkov2  75K Jan 29 10:32 consensus_what_the.fasta.fai\n",
      "lrwxrwxrwx  1 gladkov2  158 Jan 26 12:57 \u001b[01;36m46_con_fin.fasta\u001b[0m -> /home/gladkov2/storage/Bact_comm_4x/20200225_1435_MN24173_FAK85519_967910e6_3_6_1_barcoded/barcode04/flye_2_8_seq_3_6_1_plasmids/medaka_polish/consensus.fasta\n",
      "-rw-rw-r--  1 gladkov2  75K Jan 25 13:30 consensus.fasta.fai\n",
      "-rw-rw-r--  1 gladkov2 163K Jan 25 13:23 46_nm_al_sr_sorted.bam.bai\n",
      "-rw-rw-r--  1 gladkov2  65M Jan 25 13:23 46_nm_al_sr_sorted.bam\n",
      "-rw-rw-r--  1 gladkov2 211M Jan 25 13:23 46_nm_al_sr.sam\n",
      "-rw-rw-r--  1 gladkov2 140K Jan 25 13:19 46_m_al_sr_sorted.bam.bai\n",
      "-rw-rw-r--  1 gladkov2  26M Jan 25 13:18 46_m_al_sr_sorted.bam\n",
      "-rw-rw-r--  1 gladkov2  13K Jan 25 13:11 46_m_al_sorted.bam.bai\n",
      "-rw-rw-r--  1 gladkov2  25M Jan 25 13:11 46_m_al_sorted.bam\n",
      "-rw-rw-r--  1 gladkov2  13K Jan 25 13:09 46_m_al.bam.bai\n",
      "-rw-rw-r--  1 gladkov2  25M Jan 25 11:53 46_m_al.bam\n",
      "-rw-rw-r--  1 gladkov2  77M Jan 25 11:45 46_m_al.sam\n",
      "drwxrwxr-x  3 gladkov2 4.0K Jan 22 15:43 \u001b[01;34mqc_tr\u001b[0m/\n",
      "-rw-rw-r--  1 gladkov2 1.9K Jan 22 15:35 ihist_46.txt\n",
      "-rw-rw-r--  1 gladkov2  73M Jan 22 15:35 46_m.fq\n",
      "-rw-rw-r--  1 gladkov2  74M Jan 22 15:35 46_um.fq\n",
      "-rw-rw-r--  1 gladkov2  98M Jan 22 15:33 46_F.fq\n",
      "-rw-rw-r--  1 gladkov2  97M Jan 22 15:33 46_R.fq\n",
      "drwxrwxr-x  2 gladkov2 4.0K Jan 22 15:24 \u001b[01;34mmultiqc_data\u001b[0m/\n",
      "-rw-rw-r--  1 gladkov2 1.2M Jan 22 15:24 multiqc_report.html\n",
      "drwxrwxr-x 11 gladkov2 4.0K Jan 19 11:41 \u001b[01;34mqc\u001b[0m/\n",
      "-rwxrwxrwx  1 gladkov2  93M Dec 18 11:08 \u001b[01;32mconsensus_what_the.fasta\u001b[0m*\n",
      "-rwxrwxrwx  1 gladkov2  48M Nov  4  2019 \u001b[01;32m46_S10_L001_R1_001.fastq.gz\u001b[0m*\n",
      "-rwxrwxrwx  1 gladkov2  31M Nov  4  2019 \u001b[01;32m46_S10_L001_R2_001.fastq.gz\u001b[0m*\n",
      "-rwxrwxrwx  1 gladkov2  18M Nov  4  2019 \u001b[01;32m14_S1_L001_R2_001.fastq.gz\u001b[0m*\n",
      "-rwxrwxrwx  1 gladkov2  22M Nov  4  2019 \u001b[01;32m26_S4_L001_R1_001.fastq.gz\u001b[0m*\n",
      "-rwxrwxrwx  1 gladkov2  16M Nov  4  2019 \u001b[01;32m26_S4_L001_R2_001.fastq.gz\u001b[0m*\n",
      "-rwxrwxrwx  1 gladkov2  23M Nov  4  2019 \u001b[01;32m29_S7_L001_R1_001.fastq.gz\u001b[0m*\n",
      "-rwxrwxrwx  1 gladkov2  16M Nov  4  2019 \u001b[01;32m29_S7_L001_R2_001.fastq.gz\u001b[0m*\n",
      "-rwxrwxrwx  1 gladkov2  26M Nov  4  2019 \u001b[01;32m14_S1_L001_R1_001.fastq.gz\u001b[0m*\n"
     ]
    }
   ],
   "source": [
    "%ll -ht"
   ]
  },
  {
   "cell_type": "code",
   "execution_count": null,
   "metadata": {},
   "outputs": [],
   "source": [
    "!java -version"
   ]
  },
  {
   "cell_type": "code",
   "execution_count": null,
   "metadata": {},
   "outputs": [],
   "source": []
  },
  {
   "cell_type": "markdown",
   "metadata": {},
   "source": [
    "First Pilon round"
   ]
  },
  {
   "cell_type": "code",
   "execution_count": null,
   "metadata": {},
   "outputs": [],
   "source": [
    "!java -Xmx64G -jar /home/gladkov2/anaconda2/pkgs/pilon-1.23-2/share/pilon-1.23-2/pilon-1.23.jar --genome 46_con.fa --changes  --frags 46_al.bam --output pilon_46 --threads 50"
   ]
  },
  {
   "cell_type": "code",
   "execution_count": null,
   "metadata": {},
   "outputs": [],
   "source": [
    "!locate pilon"
   ]
  },
  {
   "cell_type": "markdown",
   "metadata": {},
   "source": [
    "Redo with bwa align"
   ]
  },
  {
   "cell_type": "code",
   "execution_count": null,
   "metadata": {},
   "outputs": [],
   "source": []
  },
  {
   "cell_type": "code",
   "execution_count": 59,
   "metadata": {},
   "outputs": [
    {
     "name": "stdout",
     "output_type": "stream",
     "text": [
      "652331 + 0 in total (QC-passed reads + QC-failed reads)\n",
      "0 + 0 secondary\n",
      "381 + 0 supplementary\n",
      "0 + 0 duplicates\n",
      "500434 + 0 mapped (76.71% : N/A)\n",
      "651950 + 0 paired in sequencing\n",
      "325975 + 0 read1\n",
      "325975 + 0 read2\n",
      "355822 + 0 properly paired (54.58% : N/A)\n",
      "452134 + 0 with itself and mate mapped\n",
      "47919 + 0 singletons (7.35% : N/A)\n",
      "3186 + 0 with mate mapped to a different chr\n",
      "1701 + 0 with mate mapped to a different chr (mapQ>=5)\n"
     ]
    },
    {
     "name": "stderr",
     "output_type": "stream",
     "text": [
      "[M::mm_idx_gen::2.614*1.34] collected minimizers\n",
      "[M::mm_idx_gen::3.111*2.45] sorted minimizers\n",
      "[M::main::3.112*2.45] loaded/built the index for 1752 target sequence(s)\n",
      "[M::mm_mapopt_update::3.112*2.45] mid_occ = 1000\n",
      "[M::mm_idx_stat] kmer size: 21; skip: 11; is_hpc: 0; #seq: 1752\n",
      "[M::mm_idx_stat::3.341*2.35] distinct minimizers: 17756048 (98.76% are singletons); average occurrences: 1.019; average spacing: 6.000\n",
      "[M::worker_pipeline::5.272*15.27] mapped 393648 sequences\n",
      "[M::worker_pipeline::5.700*14.20] mapped 258302 sequences\n",
      "[M::main] Version: 2.17-r941\n",
      "[M::main] CMD: minimap2 -ax sr -t 50 46_con_fin.fasta 46_F_wa.fq 46_R_wa.fq\n",
      "[M::main] Real time: 5.766 sec; CPU: 81.002 sec; Peak RSS: 1.372 GB\n"
     ]
    }
   ],
   "source": [
    "%%bash\n",
    "\n",
    "minimap2 -ax sr 46_con_fin.fasta  46_F_wa.fq 46_R_wa.fq -t 50 > 46_second_var.sam \n",
    "samtools sort 46_second_var.sam > 46_second_var.bam\n",
    "samtools index 46_second_var.bam\n",
    "samtools flagstat 46_second_var.bam"
   ]
  },
  {
   "cell_type": "code",
   "execution_count": 53,
   "metadata": {},
   "outputs": [
    {
     "name": "stdout",
     "output_type": "stream",
     "text": [
      "652332 + 0 in total (QC-passed reads + QC-failed reads)\n",
      "0 + 0 secondary\n",
      "382 + 0 supplementary\n",
      "0 + 0 duplicates\n",
      "500557 + 0 mapped (76.73% : N/A)\n",
      "651950 + 0 paired in sequencing\n",
      "325975 + 0 read1\n",
      "325975 + 0 read2\n",
      "356780 + 0 properly paired (54.73% : N/A)\n",
      "452360 + 0 with itself and mate mapped\n",
      "47815 + 0 singletons (7.33% : N/A)\n",
      "3186 + 0 with mate mapped to a different chr\n",
      "1700 + 0 with mate mapped to a different chr (mapQ>=5)\n"
     ]
    },
    {
     "name": "stderr",
     "output_type": "stream",
     "text": [
      "[M::mm_idx_gen::2.435*1.35] collected minimizers\n",
      "[M::mm_idx_gen::3.033*2.61] sorted minimizers\n",
      "[M::main::3.034*2.61] loaded/built the index for 1752 target sequence(s)\n",
      "[M::mm_mapopt_update::3.034*2.61] mid_occ = 1000\n",
      "[M::mm_idx_stat] kmer size: 21; skip: 11; is_hpc: 0; #seq: 1752\n",
      "[M::mm_idx_stat::3.265*2.50] distinct minimizers: 17756048 (98.76% are singletons); average occurrences: 1.019; average spacing: 6.000\n",
      "[M::worker_pipeline::5.289*14.78] mapped 393648 sequences\n",
      "[M::worker_pipeline::5.659*13.88] mapped 258302 sequences\n",
      "[M::main] Version: 2.17-r941\n",
      "[M::main] CMD: minimap2 -ax sr -F 1500 -t 50 46_con_fin.fasta 46_F_wa.fq 46_R_wa.fq\n",
      "[M::main] Real time: 5.760 sec; CPU: 78.632 sec; Peak RSS: 1.365 GB\n"
     ]
    }
   ],
   "source": [
    "%%bash\n",
    "\n",
    "minimap2 -ax sr -F 1500 46_con_fin.fasta  46_F_wa.fq 46_R_wa.fq -t 50 > 46_second_var.sam \n",
    "samtools sort 46_second_var.sam > 46_second_var.bam\n",
    "# samtools index46_second_var.bam 46_al.bam\n",
    "samtools flagstat 46_second_var.bam"
   ]
  },
  {
   "cell_type": "code",
   "execution_count": 54,
   "metadata": {},
   "outputs": [
    {
     "name": "stdout",
     "output_type": "stream",
     "text": [
      "652331 + 0 in total (QC-passed reads + QC-failed reads)\n",
      "0 + 0 secondary\n",
      "381 + 0 supplementary\n",
      "0 + 0 duplicates\n",
      "500027 + 0 mapped (76.65% : N/A)\n",
      "651950 + 0 paired in sequencing\n",
      "325975 + 0 read1\n",
      "325975 + 0 read2\n",
      "350370 + 0 properly paired (53.74% : N/A)\n",
      "451346 + 0 with itself and mate mapped\n",
      "48300 + 0 singletons (7.41% : N/A)\n",
      "3222 + 0 with mate mapped to a different chr\n",
      "1720 + 0 with mate mapped to a different chr (mapQ>=5)\n"
     ]
    },
    {
     "name": "stderr",
     "output_type": "stream",
     "text": [
      "[M::mm_idx_gen::2.674*1.39] collected minimizers\n",
      "[M::mm_idx_gen::3.158*2.44] sorted minimizers\n",
      "[M::main::3.159*2.44] loaded/built the index for 1752 target sequence(s)\n",
      "[M::mm_mapopt_update::3.159*2.44] mid_occ = 1000\n",
      "[M::mm_idx_stat] kmer size: 21; skip: 11; is_hpc: 0; #seq: 1752\n",
      "[M::mm_idx_stat::3.385*2.35] distinct minimizers: 17756048 (98.76% are singletons); average occurrences: 1.019; average spacing: 6.000\n",
      "[M::worker_pipeline::5.445*14.14] mapped 393648 sequences\n",
      "[M::worker_pipeline::5.833*13.26] mapped 258302 sequences\n",
      "[M::main] Version: 2.17-r941\n",
      "[M::main] CMD: minimap2 -ax sr -F 500 -t 50 46_con_fin.fasta 46_F_wa.fq 46_R_wa.fq\n",
      "[M::main] Real time: 5.910 sec; CPU: 77.429 sec; Peak RSS: 1.374 GB\n"
     ]
    }
   ],
   "source": [
    "%%bash\n",
    "\n",
    "minimap2 -ax sr -F 500 46_con_fin.fasta  46_F_wa.fq 46_R_wa.fq -t 50 > 46_second_var.sam \n",
    "samtools sort 46_second_var.sam > 46_second_var.bam\n",
    "# samtools index46_second_var.bam 46_al.bam\n",
    "samtools flagstat 46_second_var.bam"
   ]
  },
  {
   "cell_type": "markdown",
   "metadata": {},
   "source": [
    "After Pilon Minimap2 and stat"
   ]
  },
  {
   "cell_type": "code",
   "execution_count": 58,
   "metadata": {},
   "outputs": [
    {
     "name": "stdout",
     "output_type": "stream",
     "text": [
      "652330 + 0 in total (QC-passed reads + QC-failed reads)\n",
      "0 + 0 secondary\n",
      "380 + 0 supplementary\n",
      "0 + 0 duplicates\n",
      "500439 + 0 mapped (76.72% : N/A)\n",
      "651950 + 0 paired in sequencing\n",
      "325975 + 0 read1\n",
      "325975 + 0 read2\n",
      "355836 + 0 properly paired (54.58% : N/A)\n",
      "452148 + 0 with itself and mate mapped\n",
      "47911 + 0 singletons (7.35% : N/A)\n",
      "3188 + 0 with mate mapped to a different chr\n",
      "1703 + 0 with mate mapped to a different chr (mapQ>=5)\n"
     ]
    },
    {
     "name": "stderr",
     "output_type": "stream",
     "text": [
      "[M::mm_idx_gen::2.574*1.36] collected minimizers\n",
      "[M::mm_idx_gen::3.061*2.47] sorted minimizers\n",
      "[M::main::3.062*2.47] loaded/built the index for 1752 target sequence(s)\n",
      "[M::mm_mapopt_update::3.062*2.47] mid_occ = 1000\n",
      "[M::mm_idx_stat] kmer size: 21; skip: 11; is_hpc: 0; #seq: 1752\n",
      "[M::mm_idx_stat::3.283*2.37] distinct minimizers: 17756021 (98.76% are singletons); average occurrences: 1.019; average spacing: 6.000\n",
      "[M::worker_pipeline::5.261*14.16] mapped 393648 sequences\n",
      "[M::worker_pipeline::5.700*13.14] mapped 258302 sequences\n",
      "[M::main] Version: 2.17-r941\n",
      "[M::main] CMD: minimap2 -ax sr -t 50 pilon_46.fasta 46_F_wa.fq 46_R_wa.fq\n",
      "[M::main] Real time: 5.794 sec; CPU: 75.005 sec; Peak RSS: 1.374 GB\n"
     ]
    }
   ],
   "source": [
    "%%bash\n",
    "\n",
    "minimap2 -ax sr pilon_46.fasta  46_F_wa.fq 46_R_wa.fq -t 50 > 46_second_var.sam \n",
    "samtools sort 46_second_var.sam > 46_second_var.bam\n",
    "# samtools index46_second_var.bam 46_al.bam\n",
    "samtools flagstat 46_second_var.bam\n",
    "# !minimap2 -ax sr -F 1500 46_con_fin.fasta  46_F_wa.fq 46_R_wa.fq -t 50 > 46_second_var.sam"
   ]
  },
  {
   "cell_type": "code",
   "execution_count": 38,
   "metadata": {},
   "outputs": [
    {
     "name": "stdout",
     "output_type": "stream",
     "text": [
      "Usage: minimap2 [options] <target.fa>|<target.idx> [query.fa] [...]\n",
      "Options:\n",
      "  Indexing:\n",
      "    -H           use homopolymer-compressed k-mer (preferrable for PacBio)\n",
      "    -k INT       k-mer size (no larger than 28) [15]\n",
      "    -w INT       minimizer window size [10]\n",
      "    -I NUM       split index for every ~NUM input bases [4G]\n",
      "    -d FILE      dump index to FILE []\n",
      "  Mapping:\n",
      "    -f FLOAT     filter out top FLOAT fraction of repetitive minimizers [0.0002]\n",
      "    -g NUM       stop chain enlongation if there are no minimizers in INT-bp [5000]\n",
      "    -G NUM       max intron length (effective with -xsplice; changing -r) [200k]\n",
      "    -F NUM       max fragment length (effective with -xsr or in the fragment mode) [800]\n",
      "    -r NUM       bandwidth used in chaining and DP-based alignment [500]\n",
      "    -n INT       minimal number of minimizers on a chain [3]\n",
      "    -m INT       minimal chaining score (matching bases minus log gap penalty) [40]\n",
      "    -X           skip self and dual mappings (for the all-vs-all mode)\n",
      "    -p FLOAT     min secondary-to-primary score ratio [0.8]\n",
      "    -N INT       retain at most INT secondary alignments [5]\n",
      "  Alignment:\n",
      "    -A INT       matching score [2]\n",
      "    -B INT       mismatch penalty [4]\n",
      "    -O INT[,INT] gap open penalty [4,24]\n",
      "    -E INT[,INT] gap extension penalty; a k-long gap costs min{O1+k*E1,O2+k*E2} [2,1]\n",
      "    -z INT[,INT] Z-drop score and inversion Z-drop score [400,200]\n",
      "    -s INT       minimal peak DP alignment score [80]\n",
      "    -u CHAR      how to find GT-AG. f:transcript strand, b:both strands, n:don't match GT-AG [n]\n",
      "  Input/Output:\n",
      "    -a           output in the SAM format (PAF by default)\n",
      "    -o FILE      output alignments to FILE [stdout]\n",
      "    -L           write CIGAR with >65535 ops at the CG tag\n",
      "    -R STR       SAM read group line in a format like '@RG\\tID:foo\\tSM:bar' []\n",
      "    -c           output CIGAR in PAF\n",
      "    --cs[=STR]   output the cs tag; STR is 'short' (if absent) or 'long' [none]\n",
      "    --MD         output the MD tag\n",
      "    --eqx        write =/X CIGAR operators\n",
      "    -Y           use soft clipping for supplementary alignments\n",
      "    -t INT       number of threads [3]\n",
      "    -K NUM       minibatch size for mapping [500M]\n",
      "    --version    show version number\n",
      "  Preset:\n",
      "    -x STR       preset (always applied before other options; see minimap2.1 for details) []\n",
      "                 - map-pb/map-ont: PacBio/Nanopore vs reference mapping\n",
      "                 - ava-pb/ava-ont: PacBio/Nanopore read overlap\n",
      "                 - asm5/asm10/asm20: asm-to-ref mapping, for ~0.1/1/5% sequence divergence\n",
      "                 - splice: long-read spliced alignment\n",
      "                 - sr: genomic short-read mapping\n",
      "\n",
      "See `man ./minimap2.1' for detailed description of these and other advanced command-line options.\n"
     ]
    }
   ],
   "source": [
    "!minimap2"
   ]
  },
  {
   "cell_type": "code",
   "execution_count": 46,
   "metadata": {},
   "outputs": [
    {
     "name": "stdout",
     "output_type": "stream",
     "text": [
      "M00411:44:000000000-CL2RK:1:2119:18753:24836\t99\tcontig_1438_segment0\t3903\t56\t132M\t=\t3940\t168\tATCCTGGTCGGACTCGCGCTCGCGTGTTTGCTCGGCCAGCTGCGCGATCTGCTCATTCGTGTAACGATGACCGACACATTTATCGAGGTGACCGTTTCGTTGCTCACCCCGTTCGCGGTTTATCTAGCCGCC\t:+A,EF,8,@@C8CF5?=5>5))):8055)9*:88)1=D=BD5>=))0859=D**>7*;D)31**0:))18)))+8:,<<FFFE+8>+CD9,?+8C@>FFGFF>>@<B,++8:F:*@*3<C??2F,,3,>FG\tNM:i:6\tms:i:204\tAS:i:204\tnn:i:0\ttp:A:P\tcm:i:3\ts1:i:121\ts2:i:0\tde:f:0.0455\trl:i:0\n",
      "M00411:44:000000000-CL2RK:1:2119:18753:24836\t147\tcontig_1438_segment0\t3940\t60\t131M\t=\t3903\t-168\tAGCTGCGCGATCTGCTCATTCGTGTAAAGATGACCGACACCTTTATCGAGGTGACCATTTCGTTGCTCACCCCGTTCGCGGTTTATCTGGCCGCCGGTGCGCTGGGACTTTCCAACATTCTCGCGGTGGTG\tGGGGGGGGFGGGGCFGFFCGGGGGGGGGFGDGGECGGGGGGGGF@CGGGGGGGGGGGFCFGGGGGGGGGEFDGGGGGGGGFAE9GDC+CGGGGGGGGGGGGGGGGFGGGGGGGGGGFFCF>GGGGGGGGGG\tNM:i:0\tms:i:262\tAS:i:262\tnn:i:0\ttp:A:P\tcm:i:14\ts1:i:121\ts2:i:0\tde:f:0\trl:i:0\n",
      "M00411:44:000000000-CL2RK:1:2119:14539:24840\t73\tcontig_498_segment0\t276\t48\t6S24M3I6D19M1D10M1I36M1I27M\t=\t276\t0\tGGTAGTTCGCATGGTAGGCAAAGACAAGCGTATTATAAACGGCAGACTGGTTAAGTTGGAATGTTTCGATATAAGTCTGGGCGAAAGTGATACCGAAAAGGGTATCCTTAAATTTTGCCAGGCATAC\t4CCCF,C9C>CEG=DDF5*:)0):=D8DD58=55;>*3**))00:55):)0***503*30*0)50;75)*)1C*<CF9F8=E@7=CEFF99<<<BF+@44:+:FGCFFFE?<A?FCF9AFFG6=FCE\tNM:i:14\tms:i:128\tAS:i:128\tnn:i:0\ttp:A:P\tcm:i:5\ts1:i:72\ts2:i:0\tde:f:0.0579\trl:i:0\n",
      "M00411:44:000000000-CL2RK:1:2119:14539:24840\t133\tcontig_498_segment0\t276\t0\t*\t=\t276\t0\tTTTAAGGATACCCTTTTCGGTATCACTTTCGCCCAGACTTATATCGAAAAATTCAAACTTAACCAGTCTGCCGTTTATAATACGCTTGTCTTTGCCTACCATGCGACCTACCGGCTGGTAGTCTATA\tFGGGGGGGGGGGGGGGFFGGGGGCGGCGFGGGGGGGEGGGFFCEFDG<FGFGFGGGFGGGGGGGGDFGGGFGGFGG7FFGGGG@FGGGGGGGFGGGGGGGFGFGGGGGGGGGGGGEGEGDFEFEFGG\trl:i:0\n",
      "M00411:44:000000000-CL2RK:1:2119:13261:24856\t77\t*\t0\t0\t*\t*\t0\t0\tTCATCATACATCATAATCATAATCATCATCATCATCATCACCAACACCATCATCAACATCAACTATATCTTCACCCCTAACCCCTCAATGTGACAACAAACCTATAATTACAATTCATACCACCACC\tGGA<C,,,4,=;=F,4+;*2*5;70*;>9EEFEE7DD7*;58*)1:8>DE5:;9DDD58DD:DC5D*CB***36:,+B,EFFGEEG,,CAFDGFF,<FE<F?ABA,5<AAFFD<E,5EFFF@DE,<F\trl:i:0\n",
      "M00411:44:000000000-CL2RK:1:2119:13261:24856\t141\t*\t0\t0\t*\t*\t0\t0\tTGTAATTATAGGTTTGTTGTCACATGGAGGGGTGAGTGGTGAAGATATAGTTGATGTTGCTGATGGTGGTGGTGATGATGATGATGATGATTATGATTATGATTTATGATGATGATGATGATGTTGT\tFCC,FCE,C@@FFFGGFFGGGGGFFGGAECCGF+CF<C8<C@@6@FFFG9FEEEFGF9F,,CEFGFFGCFFGGGGGGGFF@FFGGGFDCFCFCFGFCFGGGGGGGFFGGGGFGGGGGGGGGFGEEFF\trl:i:0\n",
      "M00411:44:000000000-CL2RK:1:2119:19303:24864\t69\tcontig_1408_segment0\t20902\t0\t*\t=\t20902\t0\tGATCGCCCCGTGCGTGAGATGGGCGACGCGGCGAACGTTTTGCACAAGGAGGCGTGCGTTACGCGAGTCGCCGGATGGCGCTGTAAATTTTGACGGCTTGTGCGACTGCGCGGGGGTCGAGCCCTTTGTCTT\t7EF<F,,=6+@88C=DE=*;*))8>0)8)0)):=5)185=))****5))))01)11>5):)118=A)110)):=++33,@<<@+;7,@FF,,5>BC::F@C,,<*5*1,***C7FC/**8:>E*2;+0+<0+\trl:i:0\n",
      "M00411:44:000000000-CL2RK:1:2119:19303:24864\t137\tcontig_1408_segment0\t20902\t60\t132M\t=\t20902\t0\tAATGGCTCGACCGCCGCGCATTCGCACAAGCCGTCGAAATTTACAGCGCCATCCTTCGACTCGCGTAACGCACGCCGCCTTTGGCAAAACTTTCTCCGCGGCGCACATCTCACGCACGGGTCGATCACGCGG\tEFGGGGGGGGGGGGGGGGG7CFGFGEGCEGCGCFGGGGCGGGFFFGGGGGGGGGFFGGFGGGGGGGGGGGGGGGGGGGGGGGGGGFGGGGGGGGGGGGGGGGFGGGGGGGGGDFGGGGGDGGGGG+<FGGGG\tNM:i:0\tms:i:264\tAS:i:264\tnn:i:0\ttp:A:P\tcm:i:16\ts1:i:125\ts2:i:0\tde:f:0\trl:i:0\n",
      "M00411:44:000000000-CL2RK:1:2119:13250:24871\t77\t*\t0\t0\t*\t*\t0\t0\tTCATCATAAATCATAATCATAATCATCATCATCATCATCACCACCACCATCATCAACATCAACTATATCTTCACCACTAACCCCTCCATGTGACAACAAACCTATAATTACAATTCATACCACCACC\tGFGF;;E,=4;EEF,??DB>D;97;D*5C97*;DD7;DDDD8==9DDFBBDE<;D*8>D5D*0;)DD*0;FBDDBCFF<<CCFFFE,,CEFF<<AFFF@<FFAFGGGGF,<FFFG,5EEF8<,?FFG\trl:i:0\n",
      "M00411:44:000000000-CL2RK:1:2119:13250:24871\t141\t*\t0\t0\t*\t*\t0\t0\tTGTAATTATAGGTTTGTTGTCACATGGAGGGGTTAGTGGTGAAGATATAGTTGATGTTGATGATGGTGGTGGTGATGATGATGATGATGATTATGATTATGATTTATGATGATGATGATGATGTTGT\tFGGFGGGGGFFGEGGGGGGGGGGFAEFCFEGGFEGGFGG@FE,<,FFECFGGGFF<FGFFEF@FFGFGGFGGFGGFGFFFEGGGGGGGGFGGDFGGGGGGGGGFGGGGFFGFGGGGGGGGGGGGGGG\trl:i:0\n"
     ]
    }
   ],
   "source": [
    "!tail 46_second_var.sam"
   ]
  },
  {
   "cell_type": "markdown",
   "metadata": {},
   "source": [
    "Rerun pilon with bwa"
   ]
  },
  {
   "cell_type": "code",
   "execution_count": null,
   "metadata": {},
   "outputs": [],
   "source": [
    "%%bash\n",
    "\n",
    "bwa-mem2 index 46_con_fin.fasta\n",
    "bwa-mem2 mem -t 50 46_con_fin.fasta 46_F_wa.fq 46_R_wa.fq > 46_a_bwa.sam\n",
    "samtools sort 46_a_bwa.sam > 46_a_bwa_sorted.bam\n",
    "samtools flagstat 46_a_bwa_sorted.bam\n"
   ]
  },
  {
   "cell_type": "code",
   "execution_count": null,
   "metadata": {
    "tags": []
   },
   "outputs": [],
   "source": [
    "%%bash\n",
    "\n",
    "samtools index 46_a_bwa_sorted.bam\n",
    "java -Xmx64G -jar /home/gladkov2/anaconda2/pkgs/pilon-1.23-2/share/pilon-1.23-2/pilon-1.23.jar \\\n",
    "--genome 46_con.fa \\\n",
    "--changes \\\n",
    "--frags 46_a_bwa_sorted.bam \\\n",
    "--output pilon_46_bwarun \\\n",
    "--threads 50"
   ]
  },
  {
   "cell_type": "code",
   "execution_count": 4,
   "metadata": {},
   "outputs": [
    {
     "name": "stdout",
     "output_type": "stream",
     "text": [
      "total 3.1G\n",
      " 72K -rw-rw-r--  1 gladkov2  70K Mar 22 14:28 pilon_46_bwarun.changes\n",
      "105M -rw-rw-r--  1 gladkov2 105M Mar 22 14:28 pilon_46_bwarun.fasta\n",
      "228K -rw-rw-r--  1 gladkov2 226K Mar 22 14:27 46_a_bwa_sorted.bam.bai\n",
      " 77M -rw-rw-r--  1 gladkov2  77M Mar 22 14:18 46_a_bwa_sorted.bam\n",
      "248M -rw-rw-r--  1 gladkov2 247M Mar 22 14:18 46_a_bwa.sam\n",
      "337M -rw-rw-r--  1 gladkov2 337M Mar 22 14:18 46_con_fin.fasta.bwt.2bit.64\n",
      "207M -rw-rw-r--  1 gladkov2 207M Mar 22 14:17 46_con_fin.fasta.0123\n",
      "4.0K -rw-rw-r--  1 gladkov2   17 Mar 22 14:17 46_con_fin.fasta.amb\n",
      "108K -rw-rw-r--  1 gladkov2 108K Mar 22 14:17 46_con_fin.fasta.ann\n"
     ]
    }
   ],
   "source": [
    "%ll -hts | head"
   ]
  },
  {
   "cell_type": "code",
   "execution_count": 3,
   "metadata": {},
   "outputs": [
    {
     "data": {
      "text/plain": [
       "[380]"
      ]
     },
     "execution_count": 3,
     "metadata": {},
     "output_type": "execute_result"
    }
   ],
   "source": [
    "import subprocess\n",
    "import sys\n",
    "\n",
    "res_list = []\n",
    "process = subprocess.Popen(['wc', '-l', 'pilon_46.changes'], stdout=subprocess.PIPE)\n",
    "res_list.append(int(process.communicate()[0].split()[0].decode('UTF-8')))\n",
    "res_list"
   ]
  },
  {
   "cell_type": "code",
   "execution_count": null,
   "metadata": {},
   "outputs": [],
   "source": [
    "%%bash\n",
    "\n",
    "%cd /home/gladkov2/storage/metagenome/bact_4x/MiShitFull/\n",
    "%ll -hS"
   ]
  },
  {
   "cell_type": "code",
   "execution_count": 14,
   "metadata": {},
   "outputs": [
    {
     "name": "stdout",
     "output_type": "stream",
     "text": [
      "Installed kernelspec diamond in /home/gladkov2/.local/share/jupyter/kernels/diamond\n"
     ]
    }
   ],
   "source": [
    "!python -m ipykernel install --user --name=diamond"
   ]
  },
  {
   "cell_type": "code",
   "execution_count": 16,
   "metadata": {},
   "outputs": [
    {
     "name": "stdout",
     "output_type": "stream",
     "text": [
      "no change     /home/gladkov2/anaconda3/condabin/conda\n",
      "no change     /home/gladkov2/anaconda3/bin/conda\n",
      "no change     /home/gladkov2/anaconda3/bin/conda-env\n",
      "no change     /home/gladkov2/anaconda3/bin/activate\n",
      "no change     /home/gladkov2/anaconda3/bin/deactivate\n",
      "no change     /home/gladkov2/anaconda3/etc/profile.d/conda.sh\n",
      "no change     /home/gladkov2/anaconda3/etc/fish/conf.d/conda.fish\n",
      "no change     /home/gladkov2/anaconda3/shell/condabin/Conda.psm1\n",
      "no change     /home/gladkov2/anaconda3/shell/condabin/conda-hook.ps1\n",
      "no change     /home/gladkov2/anaconda3/lib/python3.8/site-packages/xontrib/conda.xsh\n",
      "no change     /home/gladkov2/anaconda3/etc/profile.d/conda.csh\n",
      "no change     /home/gladkov2/.bashrc\n",
      "No action taken.\n"
     ]
    }
   ],
   "source": [
    "!conda init bash"
   ]
  },
  {
   "cell_type": "code",
   "execution_count": 1,
   "metadata": {},
   "outputs": [
    {
     "name": "stdout",
     "output_type": "stream",
     "text": [
      "/bin/bash: bwa-mem2: command not found\n"
     ]
    }
   ],
   "source": [
    "!bwa-mem2 "
   ]
  },
  {
   "cell_type": "markdown",
   "metadata": {},
   "source": [
    "Run all processes in one chunk"
   ]
  },
  {
   "cell_type": "code",
   "execution_count": 13,
   "metadata": {},
   "outputs": [
    {
     "ename": "SyntaxError",
     "evalue": "invalid syntax (<ipython-input-13-d786cae14c0b>, line 4)",
     "output_type": "error",
     "traceback": [
      "\u001b[0;36m  File \u001b[0;32m\"<ipython-input-13-d786cae14c0b>\"\u001b[0;36m, line \u001b[0;32m4\u001b[0m\n\u001b[0;31m    bwa-mem2 index 46_con_fin.fasta\u001b[0m\n\u001b[0m             ^\u001b[0m\n\u001b[0;31mSyntaxError\u001b[0m\u001b[0;31m:\u001b[0m invalid syntax\n"
     ]
    }
   ],
   "source": [
    "%cd ~/storage/metagenome/bact_4x/new_con/\n",
    "!bbduk.sh  in1=46_S10_L001_R1_001.fastq.gz in2=46_S10_L001_R2_001.fastq.gz \\\n",
    "ftl=17 ftr2=2 \\\n",
    "out1=46_F_wa.fq out2=46_R_wa.fq \n",
    "\n",
    "bwa-mem2 index 46_con_fin.fasta\n",
    "bwa-mem2 mem -t 50 46_con_fin.fasta 46_F_wa.fq 46_R_wa.fq > 46_a_bwa.sam\n",
    "samtools sort 46_a_bwa.sam > 46_a_bwa_sorted.bam\n",
    "samtools flagstat 46_a_bwa_sorted.bam"
   ]
  },
  {
   "cell_type": "code",
   "execution_count": 3,
   "metadata": {},
   "outputs": [
    {
     "name": "stdout",
     "output_type": "stream",
     "text": [
      "/mnt/storage/metagenome/bact_4x/new_con\n",
      "14\n",
      "26\n",
      "29\n",
      "46\n"
     ]
    }
   ],
   "source": [
    "import os\n",
    "\n",
    "%cd ~/storage/metagenome/bact_4x/new_con/\n",
    "path_con = \"/home/gladkov2/storage/metagenome/bact_4x/new_con/\"\n",
    "\n",
    "counter = 0\n",
    "d = {\"14\":[\"con_1.fasta\",\n",
    "                    \"/home/gladkov2/storage/metagenome/bact_4x/MiShitFull/14_S1_L001_R1_001.fastq.gz\",\n",
    "                    \"/home/gladkov2/storage/metagenome/bact_4x/MiShitFull/14_S1_L001_R2_001.fastq.gz\",\n",
    "                    \"14_F_wa.fq\",\n",
    "                    \"14_R_wa.fq\"],\n",
    "     \"26\":[\"con_2.fasta\",\n",
    "                    \"/home/gladkov2/storage/metagenome/bact_4x/MiShitFull/26_S4_L001_R1_001.fastq.gz\",\n",
    "                    \"/home/gladkov2/storage/metagenome/bact_4x/MiShitFull/26_S4_L001_R2_001.fastq.gz\",\n",
    "                    \"26_F_wa.fq\",\n",
    "                    \"26_R_wa.fq\"],\n",
    "     \"29\":[\"con_3.fasta\",\n",
    "                    \"/home/gladkov2/storage/metagenome/bact_4x/MiShitFull/29_S7_L001_R1_001.fastq.gz\",\n",
    "                    \"/home/gladkov2/storage/metagenome/bact_4x/MiShitFull/29_S7_L001_R2_001.fastq.gz\",\n",
    "                    \"29_F_wa.fq\",\n",
    "                    \"29_R_wa.fq\"],\n",
    "     \"46\":[\"con_4.fasta\",\n",
    "                    \"/home/gladkov2/storage/metagenome/bact_4x/MiShitFull/46_S10_L001_R1_001.fastq.gz\",\n",
    "                    \"/home/gladkov2/storage/metagenome/bact_4x/MiShitFull/46_S10_L001_R2_001.fastq.gz\",\n",
    "                    \"46_F_wa.fq\",\n",
    "                    \"46_R_wa.fq\"],\n",
    "    }\n",
    "\n",
    "for f in d:\n",
    "    print(f)\n"
   ]
  },
  {
   "cell_type": "code",
   "execution_count": null,
   "metadata": {},
   "outputs": [],
   "source": [
    "for f in d:\n",
    "    con = d[f][0]\n",
    "    mi_f = d[f][1]\n",
    "    mi_r = d[f][2]\n",
    "    !bbduk.sh  in1=$mi_f in2=$mi_r \\\n",
    "    ftl=17 ftr2=2 \\\n",
    "    out1=$f\\_F_wa.fq out2=$f\\_R_wa.fq \n",
    "\n",
    "    !bwa-mem2 index $con\n",
    "    !bwa-mem2 mem -t 50 $con $f\\_F_wa.fq $f\\_R_wa.fq > $f\\_a_bwa.sam\n",
    "    !samtools sort $f\\_a_bwa.sam > $f\\_a_bwa_sorted.bam\n",
    "    !samtools index $f\\_a_bwa_sorted.bam\n",
    "    !pilon \\\n",
    "    --genome $con \\\n",
    "    --changes \\\n",
    "    --frags $f\\_a_bwa_sorted.bam \\\n",
    "    --output $f\\_1_pilon \\\n",
    "    --threads 50\n",
    "    for i in range(2, 5):\n",
    "        prev = i - 1\n",
    "        !bwa-mem2 index $f\\_$prev\\_pilon.fasta\n",
    "        !bwa-mem2 mem -t 50 $f\\_$prev\\_pilon.fasta $f\\_F_wa.fq $f\\_R_wa.fq > $f\\_$i\\_a_bwa.sam\n",
    "        !samtools sort $f\\_$i\\_a_bwa.sam > $f\\_$i\\_a_bwa_sorted.bam\n",
    "        !samtools index $f\\_$i\\_a_bwa_sorted.bam\n",
    "        !pilon \\\n",
    "        --genome $f\\_$prev\\_pilon.fasta \\\n",
    "        --changes \\\n",
    "        --frags $f\\_$i\\_a_bwa_sorted.bam \\\n",
    "        --output $f\\_$i\\_pilon \\\n",
    "        --threads 50\n",
    "        "
   ]
  },
  {
   "cell_type": "code",
   "execution_count": null,
   "metadata": {},
   "outputs": [],
   "source": []
  },
  {
   "cell_type": "markdown",
   "metadata": {},
   "source": [
    "env diamond"
   ]
  },
  {
   "cell_type": "code",
   "execution_count": 4,
   "metadata": {},
   "outputs": [
    {
     "name": "stdout",
     "output_type": "stream",
     "text": [
      "/mnt/storage/metagenome/bact_4x/new_con/diamond\n",
      "14.0.faa\t  26.1.faa\t    29.faa.flat       46.faa.gdx\n",
      "14.1.faa\t  26.faa.flat\t    29.faa.gdx\t      46_4_pilon.fasta\n",
      "14.faa.flat\t  26.faa.gdx\t    29_4_pilon.fasta  46_prokka\n",
      "14.faa.gdx\t  26_4_pilon.fasta  29_prokka\t      db\n",
      "14_4_pilon.fasta  26_prokka\t    46.0.faa\t      temp.57557\n",
      "14_prokka\t  29.0.faa\t    46.1.faa\n",
      "26.0.faa\t  29.1.faa\t    46.faa.flat\n",
      "14_4_pilon.fasta\n",
      "26_4_pilon.fasta\n",
      "29_4_pilon.fasta\n",
      "46_4_pilon.fasta\n"
     ]
    }
   ],
   "source": [
    "%cd ~/storage/metagenome/bact_4x/new_con/diamond/\n",
    "!ls\n",
    "\n",
    "d = {\"14\":\"14_4_pilon.fasta\",\n",
    "     \"26\":\"26_4_pilon.fasta\",\n",
    "     \"29\":\"29_4_pilon.fasta\",\n",
    "     \"46\":\"46_4_pilon.fasta\"}\n",
    "\n",
    "for f in d:\n",
    "    print(d[f])"
   ]
  },
  {
   "cell_type": "code",
   "execution_count": 2,
   "metadata": {},
   "outputs": [],
   "source": [
    "!sed -i 's/_pilon_pilon_pilon_pilon//g' 14_4_pilon.fasta\n",
    "!sed -i 's/_pilon_pilon_pilon_pilon//g' 26_4_pilon.fasta\n",
    "!sed -i 's/_pilon_pilon_pilon_pilon//g' 29_4_pilon.fasta\n",
    "!sed -i 's/_pilon_pilon_pilon_pilon//g' 46_4_pilon.fasta"
   ]
  },
  {
   "cell_type": "code",
   "execution_count": 32,
   "metadata": {},
   "outputs": [
    {
     "name": "stdout",
     "output_type": "stream",
     "text": [
      "1903\n",
      "1589\n",
      "1519\n",
      "1682\n"
     ]
    }
   ],
   "source": [
    "!grep -c \">\" 14_4_pilon.fasta\n",
    "!grep -c \">\" 26_4_pilon.fasta\n",
    "!grep -c \">\" 29_4_pilon.fasta\n",
    "!grep -c \">\" 46_4_pilon.fasta"
   ]
  },
  {
   "cell_type": "code",
   "execution_count": 26,
   "metadata": {},
   "outputs": [
    {
     "name": "stdout",
     "output_type": "stream",
     "text": [
      ">contig_427_pilon_pilon_pilon_pilon\n",
      "AAAAGTTCATAGGTGCAAGATACCATATTACCAGTGATGAATTTGCCGAAAAGATGTATAACCTGCAAGCTCAAAGATTA\n",
      "GGACTCCCTTTGCTGGAAGATCCTCAATATGCAAAGTAATTTCCATCAGTCCCAATTTGCAGATTCTCCATACCAAAGCA\n",
      "GAAAATAGCTTTTCATTCTGAAAATATGCAAATTGGAGCAAACAATTGTTTTGCATTCTAATGAGAGGCAATTCTAATAA\n",
      "TAGTGATTCATTAAAAGAATTAAGGAAATTCCTGAATCTAGTTACGACAGCTCCTCAAGAGGAAACCGAAACTTTTTTAA\n",
      "AGATTTTAAAACCTGTAAGAATATATAAAGGCGAATACTTTATCTCTGAAGGACAAATTCCAAGAAAGTTTGCATTCGTT\n",
      "AATGAAGGCCTTTTCAGATATCTTTATATTGATAAGACAGGAAAAGAATTTACCAAAAACTTTTTTAGCAGAAGGAAAAT\n",
      "TTATTGTTTCCTACTCCGCAATGATTGCTCAAAGGCCATCCTTATTATATATAGAAGCGCTTGAAGACAGCCATATTCTT\n",
      "GAAATTGACTATAGCCAATGGCTTGAGGTAAAAAAAAGACATGAATGCTGGAGTGTGCTCTTAATTGCGATGCTAGAAAA\n",
      "TGCATTCATCATTAAAGAAAAAAAGAGAACGAGACCTGCTTTTGCTTGATGCCAGGGAAAGATACCTTGACTTTCTCAAT\n"
     ]
    }
   ],
   "source": [
    "!head 14_4_pilon.fasta"
   ]
  },
  {
   "cell_type": "code",
   "execution_count": null,
   "metadata": {},
   "outputs": [],
   "source": [
    "for f in d:\n",
    "    con = d[f]\n",
    "#     !sed -i 's/contig_/c/g' $con\n",
    "#     !sed -i 's/scaffold_/s/g' $con\n",
    "    !framefix $con 0.00001 $f /home/gladkov2/storage/somebases/uniref90_diamond.dmnd"
   ]
  },
  {
   "cell_type": "code",
   "execution_count": 34,
   "metadata": {},
   "outputs": [
    {
     "name": "stdout",
     "output_type": "stream",
     "text": [
      "diamond v0.9.14.115 | by Benjamin Buchfink <buchfink@gmail.com>\n",
      "Licensed under the GNU AGPL <https://www.gnu.org/licenses/agpl.txt>\n",
      "Check http://github.com/bbuchfink/diamond for updates.\n",
      "\n",
      "#CPU threads: 30\n",
      "Scoring parameters: (Matrix=PAM30 Lambda=0.294 K=0.11 Penalties=9/1)\n",
      "#Target sequences to report alignments for: 1\n",
      "Temporary directory: \n",
      "Opening the database...  [2.2e-05s]\n",
      "Opening the input file...  [1.7e-05s]\n",
      "Opening the output file...  [1.7e-05s]\n",
      "Loading query sequences...  [0.006786s]\n",
      "Error: Error reading input stream at line 9935: Invalid character (>) in sequence\n",
      "Error running diamond blastx: exit code 256 at /home/gladkov2/storage/apps/framefix/framefix line 62.\n"
     ]
    }
   ],
   "source": [
    "!framefix test.fasta 1e-25 test /home/gladkov2/storage/somebases/uniref90_diamond.dmnd"
   ]
  },
  {
   "cell_type": "code",
   "execution_count": 41,
   "metadata": {},
   "outputs": [
    {
     "name": "stdout",
     "output_type": "stream",
     "text": [
      "Can't open test.homopolymers_query.txt: No such file or directory.\n"
     ]
    }
   ],
   "source": [
    "!perl -0777pe's/>//g' test.homopolymers_query.txt > tmp\n",
    "!tail tmp\n",
    "#system(\"sed 's/^[1-9]/>[1-9]/' tmp > $query_fasta\") and die \"Fuck $?\";\n",
    "#system(\"rm tmp\") and die \"Fuck $?\";"
   ]
  },
  {
   "cell_type": "code",
   "execution_count": 39,
   "metadata": {},
   "outputs": [
    {
     "name": "stdout",
     "output_type": "stream",
     "text": [
      "sed: can't read tmp: No such file or directory\n"
     ]
    }
   ],
   "source": [
    "!sed 's/^[1-9]/>/i' tmp > tmp2\n",
    "!tail tmp2"
   ]
  },
  {
   "cell_type": "code",
   "execution_count": 42,
   "metadata": {},
   "outputs": [],
   "source": [
    "!sed 's/contig_/c/g' 26_4_pilon.fasta > test.fasta\n",
    "!sed -i 's/scaffold_/s/g' test.fasta"
   ]
  },
  {
   "cell_type": "code",
   "execution_count": 15,
   "metadata": {},
   "outputs": [
    {
     "name": "stdout",
     "output_type": "stream",
     "text": [
      ">1492\n",
      "AACAGTTCACCTCCCGCCACTCGAGCCATGCGGAGAAACGAGTGAACGGTACAAGGATGAAGATGCCGGAGGCGGAGCCG\n",
      "CCAATATGATTGCCGAAGTAATGTTCGACGGAACCCGCCAGCTCTGCCCGGTGCTCCAGCACCGCTGCATGGACGCCAAA\n",
      "CTCGCGGGCCTCGCTGACGAAGCCTCGAAGGTAATTCAAAAGATCGCGCATGGATTGCCCCGTTAGTTCGCGGTGGTGCC\n",
      "ACCCGTCATCGGTAGGCATGGAGAGAAGCCTCCAGGAGGGGACAAAGGCAGAGGGATGGTACAGGCATGGGAGGCCCGCC\n",
      "ATTTGCGCCAGAGGCCGTCCTGTGTGCCCGCCGAGAGGCTCCTCAGGTGGCGCGGGCTCTCGGTTTACGAAGTCTGAGCG\n",
      "GTGGCCTTGCAGGTCGGGCGCTTTTCAGAGGCTGAGGCGGGACAACCTGGACGCTTGGCCTCCAATCGCTCGCATCAACA\n",
      "TCGAACCTGGGCGGTTTATTGATTTCAGCGTCTACCACCTTGGGAGACCAGTCGCCGTAGCCCCTCGCGGGCATCCGTCC\n",
      "GAGACCGGCTACCCATCATGTAGTCGCGGGCCTCTTTGTCCATTTTGTGAGTTCGGCTCAGGGTCGTGAAGGCATGTCGC\n",
      "CAGGCGTGGCTGGGCCTATTGCCGGGGCTTCAATGCCGACCTCATCCCGAACCCATTCCGCGATCTTGTCCCCGGCGCTT\n"
     ]
    }
   ],
   "source": [
    "!head test.fasta"
   ]
  },
  {
   "cell_type": "code",
   "execution_count": 23,
   "metadata": {},
   "outputs": [
    {
     "name": "stdout",
     "output_type": "stream",
     "text": [
      ">1_288-306_homopolymer_198-396\n",
      "AAAGATCGCGCATGGATTGCCCCGTTAGTTCGCGGTGGTGCCACCCGTCATCGGTAGGCA\n",
      "TGGAGAGAAGCAAAAAAAAAAAAAAAAAAACAGAGGGATGGTACAGGCATGGGAGGCCCG\n",
      "CCATTTGCGCCAGAGGCCGTCCTGTGTGCCCGCCGAGAGGCTCCTCAGGTGGCGCGGGCT\n",
      "CTCGGTTTACGAAGTCTGA\n",
      ">3_361-378_homopolymer_271-468\n",
      "CCAGGAGGGGACAAAGGCAGAGGGATGGTACAGGCATGGGAGGCCCGCCATTTGCGCCAG\n",
      "AGGCCGTCCTGTGGGGGGGGGGGGGGGGGGCTCAGGTGGCGCGGGCTCTCGGTTTACGAA\n",
      "GTCTGAGCGGTGGCCTTGCAGGTCGGGCGCTTTTCAGAGGCTGAGGCGGGACAACCTGGA\n",
      "CGCTTGGCCTCCAATCGC\n"
     ]
    }
   ],
   "source": [
    "!./framefix1 test.fasta 1e-25 test"
   ]
  },
  {
   "cell_type": "code",
   "execution_count": null,
   "metadata": {},
   "outputs": [],
   "source": [
    "for f in d:\n",
    "    con = d[f]\n",
    "#     !sed -i 's/contig_/c/g' $con\n",
    "#     !sed -i 's/scaffold_/s/g' $con\n",
    "    !prokka $con --norrna --notrna --metagenome --cpus 30 --outdir $f\\_prokka"
   ]
  },
  {
   "cell_type": "code",
   "execution_count": null,
   "metadata": {},
   "outputs": [],
   "source": [
    "for f in d:\n",
    "    con = d[f]\n",
    "#     !sed -i 's/contig_/c/g' $con\n",
    "#     !sed -i 's/scaffold_/s/g' $con\n",
    "    !run_dbcan.py $con protein --out_dir $f\\_dbcan  --hmm_cpu 50 --hotpep_cpu 50 --tf_cpu 50 --dia_cpu 50"
   ]
  },
  {
   "cell_type": "code",
   "execution_count": null,
   "metadata": {},
   "outputs": [],
   "source": [
    "for filename in *.faa; do\n",
    "    hmmscan --noali --notextw --acc -E 0.000000000000000001 --cpu 50 -o  hm_${filename}.txt hmm/glyco.hmm $filename\n",
    "done"
   ]
  },
  {
   "cell_type": "code",
   "execution_count": null,
   "metadata": {},
   "outputs": [],
   "source": [
    "%%bash\n",
    "\n",
    "for filename in *.faa; do\n",
    "    run_dbcan.py ${filename} protein --out_dir ${filename}_dbcan  --hmm_cpu 10 --hotpep_cpu 10 --tf_cpu 10 --dia_cpu 10 &\n",
    "done"
   ]
  },
  {
   "cell_type": "code",
   "execution_count": 13,
   "metadata": {},
   "outputs": [],
   "source": [
    "d = {\"14.0\":\"14.0.faa\",\n",
    "     \"14.1\":\"14.1.faa\",\n",
    "     \"26.0\":\"26.0.faa\",\n",
    "     \"26.1\":\"26.1.faa\",\n",
    "     \"29.0\":\"29.0.faa\",\n",
    "     \"29.1\":\"29.1.faa\",\n",
    "     \"46.0\":\"46.0.faa\",\n",
    "     \"46.1\":\"46.1.faa\"}"
   ]
  },
  {
   "cell_type": "markdown",
   "metadata": {},
   "source": [
    "install pyfasta for splitting dataset"
   ]
  },
  {
   "cell_type": "code",
   "execution_count": 8,
   "metadata": {},
   "outputs": [
    {
     "name": "stdout",
     "output_type": "stream",
     "text": [
      "14.faa:106370\n",
      "26.faa:106890\n",
      "29.faa:107541\n",
      "46.faa:121958\n"
     ]
    }
   ],
   "source": [
    "!grep -c \">\" *.faa\n"
   ]
  },
  {
   "cell_type": "code",
   "execution_count": 11,
   "metadata": {},
   "outputs": [
    {
     "name": "stdout",
     "output_type": "stream",
     "text": [
      "creating new files:\n",
      "14.0.faa\n",
      "14.1.faa\n",
      "creating new files:\n",
      "26.0.faa\n",
      "26.1.faa\n",
      "creating new files:\n",
      "29.0.faa\n",
      "29.1.faa\n",
      "creating new files:\n",
      "46.0.faa\n",
      "46.1.faa\n"
     ]
    }
   ],
   "source": [
    "for f in d:\n",
    "    con = d[f]\n",
    "#     !sed -i 's/contig_/c/g' $con\n",
    "#     !sed -i 's/scaffold_/s/g' $con\n",
    "    !pyfasta split -n 2 $f\\.faa"
   ]
  }
 ],
 "metadata": {
  "kernelspec": {
   "display_name": "Python [conda env:dbcan]",
   "language": "python",
   "name": "conda-env-dbcan-py"
  },
  "language_info": {
   "codemirror_mode": {
    "name": "ipython",
    "version": 3
   },
   "file_extension": ".py",
   "mimetype": "text/x-python",
   "name": "python",
   "nbconvert_exporter": "python",
   "pygments_lexer": "ipython3",
   "version": "3.8.10"
  },
  "toc-showcode": true,
  "toc-showmarkdowntxt": true,
  "toc-showtags": false
 },
 "nbformat": 4,
 "nbformat_minor": 4
}
