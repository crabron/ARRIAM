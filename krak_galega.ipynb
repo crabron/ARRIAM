{
 "cells": [
  {
   "cell_type": "code",
   "execution_count": 1,
   "id": "improved-breach",
   "metadata": {},
   "outputs": [],
   "source": [
    "# conda activate metabat\n",
    "# %load_ext rpy2.ipython - for pandas envinroment only \n",
    "# import vamb\n",
    "# %config IPCompleter.greedy=True\n",
    "%config Completer.use_jedi = False"
   ]
  },
  {
   "cell_type": "markdown",
   "id": "traditional-rocket",
   "metadata": {},
   "source": [
    "Рабочая директория с входными файлами\n",
    "\n",
    "gbk_concensus - входные фасты\n",
    "minikraken_8GB_20200312 - база для кракена2 с https://ccb.jhu.edu/software/kraken2/index.shtml?t=downloads"
   ]
  },
  {
   "cell_type": "code",
   "execution_count": 1,
   "id": "divine-asbestos",
   "metadata": {},
   "outputs": [
    {
     "name": "stdout",
     "output_type": "stream",
     "text": [
      "/mnt/storage/temp/serg\n",
      "total 5.7G\n",
      "-rw-rw-r-- 1 gladkov2 5.6G Feb 25 12:32 \u001b[0m\u001b[01;31mminikraken_8GB_202003.tgz\u001b[0m\n",
      "-rw-rw-r-- 1 gladkov2 100M Feb 26 20:04 \u001b[01;31mk2_standard_20201202.tar.gz\u001b[0m\n",
      "-rw-rw-r-- 1 gladkov2 960K Feb 27 15:02 Ng110_kraken.txt\n",
      "-rw-rw-r-- 1 gladkov2 960K Feb 27 14:45 Ng110_kraken.txt.bak\n",
      "-rw-rw-r-- 1 gladkov2 623K Feb 26 11:37 tast\n",
      "-rw-rw-r-- 1 gladkov2 525K Feb 27 13:11 inline-supplementary-material-1.xlsx\n",
      "drwxrwxr-x 2 gladkov2 4.0K Feb 25 11:29 \u001b[01;34mcheckm\u001b[0m/\n",
      "drwxrwxr-x 2 gladkov2 4.0K Feb 26 10:58 \u001b[01;34mgbk_concensus\u001b[0m/\n",
      "drwxrwxr-x 2 gladkov2 4.0K Feb 27 15:17 \u001b[01;34mkraken2_res\u001b[0m/\n",
      "drwxrwxr-x 2 gladkov2 4.0K Feb 26 13:39 \u001b[01;34mminikraken_8GB_20200312\u001b[0m/\n",
      "drwxrwxr-x 2 gladkov2 4.0K Feb 27 13:54 \u001b[01;34mstand_krak\u001b[0m/\n",
      "-rw-rw-r-- 1 gladkov2  227 Feb 27 15:06 third.txt\n",
      "-rw-rw-r-- 1 gladkov2    0 Feb 26 11:02 Ng35_gene.tsv\n",
      "-rw-rw-r-- 1 gladkov2    0 Feb 26 11:02 Ng46_gene.tsv\n",
      "-rw-rw-r-- 1 gladkov2    0 Feb 26 11:02 Ng47_gene.tsv\n",
      "-rw-rw-r-- 1 gladkov2    0 Feb 26 11:02 Ng58_gene.tsv\n",
      "-rw-rw-r-- 1 gladkov2    0 Feb 26 11:02 Ng77_gene.tsv\n",
      "-rw-rw-r-- 1 gladkov2    0 Feb 26 10:18 []_kr_res.tsv\n",
      "-rw-rw-r-- 1 gladkov2    0 Feb 26 10:55 kr_res.tsv\n"
     ]
    }
   ],
   "source": [
    "%cd ~/storage/temp/serg/\n",
    "%ll -hS"
   ]
  },
  {
   "cell_type": "markdown",
   "id": "stainless-gibraltar",
   "metadata": {},
   "source": [
    "Рабочий скрипт"
   ]
  },
  {
   "cell_type": "code",
   "execution_count": null,
   "id": "competitive-tanzania",
   "metadata": {},
   "outputs": [],
   "source": [
    "%%bash\n",
    "\n",
    "mkdir kraken2_res\n",
    "for file in gbk_concensus/*_gene.faa; do\n",
    "    mkdir temp\n",
    "    fname=$(basename \"$file\" .faa)\n",
    "    kraken2 --db minikraken_8GB_20200312 --threads 50 $file > temp/${fname}_res_kraken.tsv\n",
    "    cat temp/${fname}_res_kraken.tsv | cut -f3 | taxonkit --data-dir ~/storage/temp/  -j 50 lineage | taxonkit --data-dir ~/storage/temp/ -j 50 reformat > temp/${fname}_taxa.tsv\n",
    "    cat temp/${fname}_res_kraken.tsv | cut -f1 > temp/first\n",
    "    cat temp/${fname}_res_kraken.tsv | cut -f3-5 > temp/third\n",
    "    grep \">\" gbk_concensus/${fname}.faa | cut -c 3- > temp/second\n",
    "    cat temp/${fname}_taxa.tsv | cut -f2 > temp/var\n",
    "    paste temp/first temp/second temp/third temp/var > kraken2_res/${fname}_res_kraken.tsv\n",
    "    rm -r temp\n",
    "done;"
   ]
  },
  {
   "cell_type": "code",
   "execution_count": 235,
   "id": "prompt-joining",
   "metadata": {},
   "outputs": [
    {
     "name": "stdout",
     "output_type": "stream",
     "text": [
      "awk: not an option: -i.bak\n"
     ]
    }
   ],
   "source": [
    "!head -n 15 kraken2_res/Ng35_gene_res_kraken.tsv | awk -i'{print $3, $4,\\\\t$5}'"
   ]
  },
  {
   "cell_type": "markdown",
   "id": "approved-pricing",
   "metadata": {},
   "source": [
    "Версия кракена. Ипользованная база - minikraken_8GB_20200312\n"
   ]
  },
  {
   "cell_type": "code",
   "execution_count": 111,
   "id": "fresh-coach",
   "metadata": {},
   "outputs": [
    {
     "name": "stdout",
     "output_type": "stream",
     "text": [
      "Kraken version 2.1.1\n",
      "Copyright 2013-2020, Derrick Wood (dwood@cs.jhu.edu)\n"
     ]
    }
   ],
   "source": [
    "!kraken2 --version"
   ]
  },
  {
   "cell_type": "markdown",
   "id": "packed-international",
   "metadata": {},
   "source": [
    "Версия таксонкит"
   ]
  },
  {
   "cell_type": "code",
   "execution_count": 113,
   "id": "peaceful-compact",
   "metadata": {},
   "outputs": [
    {
     "name": "stdout",
     "output_type": "stream",
     "text": [
      "TaxonKit - A Cross-platform and Efficient NCBI Taxonomy Toolkit\n",
      "\n",
      "Version: 0.7.2\n",
      "\n",
      "Author: Wei Shen <shenwei356@gmail.com>\n",
      "\n",
      "Source code: https://github.com/shenwei356/taxonkit\n",
      "Documents  : https://bioinf.shenwei.me/taxonkit\n",
      "Citation   : https://www.biorxiv.org/content/early/2019/01/08/513523\n",
      "\n",
      "Dataset:\n",
      "\n",
      "    Please download and decompress \"taxdump.tar.gz\":\n",
      "    ftp://ftp.ncbi.nih.gov/pub/taxonomy/taxdump.tar.gz\n",
      "\n",
      "    and copy \"names.dmp\", \"nodes.dmp\", \"delnodes.dmp\" and \"merged.dmp\" to data directory:\n",
      "    \"/home/gladkov2/.taxonkit\"\n",
      "\n",
      "    or some other directory, and later you can refer to using flag --data-dir,\n",
      "    or environment variable TAXONKIT_DB\n",
      "\n",
      "Usage:\n",
      "  taxonkit [command]\n",
      "\n",
      "Available Commands:\n",
      "  filter          Filter taxIDs by taxonomic rank range\n",
      "  genautocomplete generate shell autocompletion script\n",
      "  help            Help about any command\n",
      "  lca             Compute lowest common ancestor (LCA) for taxIDs\n",
      "  lineage         Query taxonomic lineage of given taxIDs\n",
      "  list            List taxonomic subtrees of given taxIDs\n",
      "  name2taxid      Convert scientific names to taxIDs\n",
      "  reformat        Reformat lineage in canonical ranks\n",
      "  taxid-changelog Create taxID changelog from dump archives\n",
      "  version         print version information and check for update\n",
      "\n",
      "Flags:\n",
      "      --data-dir string   directory containing nodes.dmp and names.dmp (default \"/home/gladkov2/.taxonkit\")\n",
      "  -h, --help              help for taxonkit\n",
      "      --line-buffered     use line buffering on output, i.e., immediately writing to stdin/file for every line of output\n",
      "  -o, --out-file string   out file (\"-\" for stdout, suffix .gz for gzipped out) (default \"-\")\n",
      "  -j, --threads int       number of CPUs. 4 is enough (default 4)\n",
      "      --verbose           print verbose information\n",
      "\n",
      "Use \"taxonkit [command] --help\" for more information about a command.\n"
     ]
    }
   ],
   "source": [
    "!taxonkit"
   ]
  },
  {
   "cell_type": "code",
   "execution_count": 118,
   "id": "inclusive-fossil",
   "metadata": {},
   "outputs": [
    {
     "name": "stdout",
     "output_type": "stream",
     "text": [
      "total 12M\n",
      "-rw-rw-r-- 1 gladkov2 1.2M Feb 26 13:14 Ng46__gene_res_kraken.tsv\n",
      "-rw-rw-r-- 1 gladkov2 1.2M Feb 26 13:15 Ng58_gene_res_kraken.tsv\n",
      "-rw-rw-r-- 1 gladkov2 1.2M Feb 26 13:15 Ng58__gene_res_kraken.tsv\n",
      "-rw-rw-r-- 1 gladkov2 1.2M Feb 26 13:14 Ng46_gene_res_kraken.tsv\n",
      "-rw-rw-r-- 1 gladkov2 1.2M Feb 26 13:14 Ng110_gene_res_kraken.tsv\n",
      "-rw-rw-r-- 1 gladkov2 1.2M Feb 26 13:15 Ng81__gene_res_kraken.tsv\n",
      "-rw-rw-r-- 1 gladkov2 1.1M Feb 26 13:15 Ng77__gene_res_kraken.tsv\n",
      "-rw-rw-r-- 1 gladkov2 960K Feb 26 13:15 Ng77_gene_res_kraken.tsv\n",
      "-rw-rw-r-- 1 gladkov2 829K Feb 26 13:14 Ng35__gene_res_kraken.tsv\n",
      "-rw-rw-r-- 1 gladkov2 728K Feb 26 13:15 Ng47_gene_res_kraken.tsv\n",
      "-rw-rw-r-- 1 gladkov2 568K Feb 26 13:00 krak_galega.html\n",
      "-rw-rw-r-- 1 gladkov2 562K Feb 26 13:14 Ng35_gene_res_kraken.tsv\n",
      "-rw-rw-r-- 1 gladkov2 189K Feb 26 13:14 Ng110__gene_res_kraken.tsv\n"
     ]
    }
   ],
   "source": [
    "%ll -hS kraken2_res/"
   ]
  },
  {
   "cell_type": "markdown",
   "id": "failing-instruction",
   "metadata": {},
   "source": [
    "Колонки -\n",
    "https://github.com/DerrickWood/kraken2/wiki/Manual#output-formats\n",
    "\n",
    "Последняя - таксономия через taxonkit lineage - taxonkit reformat"
   ]
  },
  {
   "cell_type": "code",
   "execution_count": 121,
   "id": "further-express",
   "metadata": {},
   "outputs": [
    {
     "name": "stdout",
     "output_type": "stream",
     "text": [
      "C\t1 dnaA 100 1566 +\t2028343\t1467\t0:41 A:731 0:19 82115:1 0:40 356:4 82115:2 0:67 2028343:5 0:1 2028343:4 A:518 \tcellular organisms;Bacteria;Proteobacteria;Alphaproteobacteria;Rhizobiales;Rhizobiaceae;Rhizobium/Agrobacterium group;Rhizobium;unclassified Rhizobium;Rhizobium sp. 11515TR\n",
      "U\t2 dnaA 1572 2189 +\t0\t618\tA:135 0:92 A:103 0:254\t\n",
      "U\t3 - 2199 2792 +\t0\t594\tA:9 0:207 A:344 \t\n",
      "C\t4 - 2804 3997 -\t1028801\t1194\t0:41 227290:3 0:28 28211:3 0:25 28211:1 0:9 356:1 0:13 794846:5 0:94 356:1 0:53 366394:2 0:41 82115:1 227290:1 0:7 227290:1 0:40 82115:2 356:4 0:101 379:2 0:82 1028801:5 0:54 1842534:7 0:12 1028801:4 0:8 82115:5 0:4 2603277:1 0:10 384:1 0:26 1825976:5 0:39 A:68 0:167 A:183 \tcellular organisms;Bacteria;Proteobacteria;Alphaproteobacteria;Rhizobiales;Rhizobiaceae;Rhizobium/Agrobacterium group;Neorhizobium;Neorhizobium galegae;Neorhizobium galegae bv. officinalis;Neorhizobium galegae bv. officinalis bv. officinalis str. HAMBI 1141\n",
      "C\t5 - 4004 4648 -\t1028801\t645\t0:13 82115:1 0:90 1825976:5 0:38 82115:5 0:1 2632611:2 0:90 374606:1 0:20 399:5 394:2 0:136 A:40 0:89 A:54 0:2 1028801:5 0:11 399:1\tcellular organisms;Bacteria;Proteobacteria;Alphaproteobacteria;Rhizobiales;Rhizobiaceae;Rhizobium/Agrobacterium group;Neorhizobium;Neorhizobium galegae;Neorhizobium galegae bv. officinalis;Neorhizobium galegae bv. officinalis bv. officinalis str. HAMBI 1141\n",
      "C\t6 - 4657 5064 -\t399\t408\t0:3 716928:2 0:298 399:2 0:7 399:2 227290:2 0:13 399:1 0:31 356:2 399:4 0:7\tcellular organisms;Bacteria;Proteobacteria;Alphaproteobacteria;Rhizobiales;Rhizobiaceae;Rhizobium/Agrobacterium group;Neorhizobium;Neorhizobium galegae\n",
      "C\t7 - 5083 5799 -\t1028800\t717\tA:157 0:6 356:1 0:17 286:1 0:8 227290:3 0:16 1028800:5 227290:8 0:7 227290:3 0:18 1085:1 0:3 1224:4 0:21 363835:3 0:36 356:2 0:17 28211:1 0:13 1224:4 0:60 399:4 0:27 399:4 0:21 28211:1 0:22 227290:2 0:52 335928:5 0:2 28211:2 0:18 28211:1 2593676:5 0:67 1028801:1 0:34\tcellular organisms;Bacteria;Proteobacteria;Alphaproteobacteria;Rhizobiales;Rhizobiaceae;Rhizobium/Agrobacterium group;Neorhizobium;Neorhizobium galegae;Neorhizobium galegae bv. orientalis;Neorhizobium galegae bv. orientalis str. HAMBI 540\n",
      "C\t8 hrcA 5977 7056 +\t1028800\t1080\tA:31 0:1 399:2 0:28 2562582:1 0:229 1028800:1 0:41 A:254 0:98 1028800:5 0:33 1028800:2 0:29 1028801:2 0:53 A:236 \tcellular organisms;Bacteria;Proteobacteria;Alphaproteobacteria;Rhizobiales;Rhizobiaceae;Rhizobium/Agrobacterium group;Neorhizobium;Neorhizobium galegae;Neorhizobium galegae bv. orientalis;Neorhizobium galegae bv. orientalis str. HAMBI 540\n",
      "C\t9 grpE 7175 7816 +\t356\t642\tA:174 0:25 A:44 0:84 A:66 0:9 357:5 0:40 28211:2 0:61 1752398:4 0:17 1076:5 0:3 1028800:2 0:66 A:1 \tcellular organisms;Bacteria;Proteobacteria;Alphaproteobacteria;Rhizobiales\n",
      "C\t10 ptsN 8021 8485 -\t1028800\t465\tA:154 1028800:2 0:41 399:2 0:41 1028800:5 0:66 28211:4 0:116\tcellular organisms;Bacteria;Proteobacteria;Alphaproteobacteria;Rhizobiales;Rhizobiaceae;Rhizobium/Agrobacterium group;Neorhizobium;Neorhizobium galegae;Neorhizobium galegae bv. orientalis;Neorhizobium galegae bv. orientalis str. HAMBI 540\n"
     ]
    }
   ],
   "source": [
    "!head kraken2_res/Ng35__gene_res_kraken.tsv"
   ]
  }
 ],
 "metadata": {
  "kernelspec": {
   "display_name": "Python 3",
   "language": "python",
   "name": "python3"
  },
  "language_info": {
   "codemirror_mode": {
    "name": "ipython",
    "version": 3
   },
   "file_extension": ".py",
   "mimetype": "text/x-python",
   "name": "python",
   "nbconvert_exporter": "python",
   "pygments_lexer": "ipython3",
   "version": "3.8.5"
  }
 },
 "nbformat": 4,
 "nbformat_minor": 5
}
