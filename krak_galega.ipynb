{
 "cells": [
  {
   "cell_type": "code",
   "execution_count": 3,
   "metadata": {},
   "outputs": [],
   "source": [
    "# conda activate metabat\n",
    "# %load_ext rpy2.ipython - for pandas envinroment only \n",
    "# import vamb\n",
    "# %config IPCompleter.greedy=True\n",
    "%config Completer.use_jedi = False"
   ]
  },
  {
   "cell_type": "markdown",
   "metadata": {},
   "source": [
    "Рабочая директория с входными файлами\n",
    "\n",
    "gbk_concensus - входные фасты\n",
    "minikraken_8GB_20200312 - база для кракена2 с https://ccb.jhu.edu/software/kraken2/index.shtml?t=downloads"
   ]
  },
  {
   "cell_type": "code",
   "execution_count": 2,
   "metadata": {},
   "outputs": [
    {
     "name": "stdout",
     "output_type": "stream",
     "text": [
      "/mnt/storage/temp/serg\n",
      "total 5.7G\n",
      "-rw-rw-r-- 1 gladkov2 5.6G Feb 25 12:32 \u001b[0m\u001b[01;31mminikraken_8GB_202003.tgz\u001b[0m\n",
      "-rw-rw-r-- 1 gladkov2 100M Feb 26 20:04 \u001b[01;31mk2_standard_20201202.tar.gz\u001b[0m\n",
      "-rw-rw-r-- 1 gladkov2 960K Feb 27 15:02 Ng110_kraken.txt\n",
      "-rw-rw-r-- 1 gladkov2 960K Feb 27 14:45 Ng110_kraken.txt.bak\n",
      "-rw-rw-r-- 1 gladkov2 623K Feb 26 11:37 tast\n",
      "-rw-rw-r-- 1 gladkov2 525K Feb 27 13:11 inline-supplementary-material-1.xlsx\n",
      "drwxrwxr-x 2 gladkov2 4.0K Feb 25 11:29 \u001b[01;34mcheckm\u001b[0m/\n",
      "drwxrwxr-x 2 gladkov2 4.0K Feb 26 10:58 \u001b[01;34mgbk_concensus\u001b[0m/\n",
      "drwxrwxr-x 2 gladkov2 4.0K Feb 27 15:17 \u001b[01;34mkraken2_res\u001b[0m/\n",
      "drwxrwxr-x 2 gladkov2 4.0K Feb 26 13:39 \u001b[01;34mminikraken_8GB_20200312\u001b[0m/\n",
      "drwxrwxr-x 2 gladkov2 4.0K Feb 27 13:54 \u001b[01;34mstand_krak\u001b[0m/\n",
      "-rw-rw-r-- 1 gladkov2  227 Feb 27 15:06 third.txt\n",
      "-rw-rw-r-- 1 gladkov2    0 Feb 26 11:02 Ng35_gene.tsv\n",
      "-rw-rw-r-- 1 gladkov2    0 Feb 26 11:02 Ng46_gene.tsv\n",
      "-rw-rw-r-- 1 gladkov2    0 Feb 26 11:02 Ng47_gene.tsv\n",
      "-rw-rw-r-- 1 gladkov2    0 Feb 26 11:02 Ng58_gene.tsv\n",
      "-rw-rw-r-- 1 gladkov2    0 Feb 26 11:02 Ng77_gene.tsv\n",
      "-rw-rw-r-- 1 gladkov2    0 Feb 26 10:18 []_kr_res.tsv\n",
      "-rw-rw-r-- 1 gladkov2    0 Feb 26 10:55 kr_res.tsv\n"
     ]
    }
   ],
   "source": [
    "%cd ~/storage/temp/serg/\n",
    "%ll -hS"
   ]
  },
  {
   "cell_type": "markdown",
   "metadata": {},
   "source": [
    "Рабочий скрипт"
   ]
  },
  {
   "cell_type": "code",
   "execution_count": null,
   "metadata": {},
   "outputs": [],
   "source": [
    "%%bash\n",
    "\n",
    "mkdir kraken2_res\n",
    "for file in gbk_concensus/*_gene.faa; do\n",
    "    mkdir temp\n",
    "    fname=$(basename \"$file\" .faa)\n",
    "    kraken2 --db minikraken_8GB_20200312 --threads 50 $file > temp/${fname}_res_kraken.tsv\n",
    "    cat temp/${fname}_res_kraken.tsv | cut -f3 | taxonkit --data-dir ~/storage/temp/  -j 50 lineage | taxonkit --data-dir ~/storage/temp/ -j 50 reformat > temp/${fname}_taxa.tsv\n",
    "    cat temp/${fname}_res_kraken.tsv | cut -f1 > temp/first\n",
    "    cat temp/${fname}_res_kraken.tsv | cut -f3-5 > temp/third\n",
    "    grep \">\" gbk_concensus/${fname}.faa | cut -c 3- > temp/second\n",
    "    cat temp/${fname}_taxa.tsv | cut -f2 > temp/var\n",
    "    paste temp/first temp/second temp/third temp/var > kraken2_res/${fname}_res_kraken.tsv\n",
    "    rm -r temp\n",
    "done;"
   ]
  },
  {
   "cell_type": "code",
   "execution_count": 235,
   "metadata": {},
   "outputs": [
    {
     "name": "stdout",
     "output_type": "stream",
     "text": [
      "awk: not an option: -i.bak\n"
     ]
    }
   ],
   "source": [
    "!head -n 15 kraken2_res/Ng35_gene_res_kraken.tsv | awk -i'{print $3, $4,\\\\t$5}'"
   ]
  },
  {
   "cell_type": "markdown",
   "metadata": {},
   "source": [
    "Версия кракена. Ипользованная база - minikraken_8GB_20200312\n"
   ]
  },
  {
   "cell_type": "code",
   "execution_count": 111,
   "metadata": {},
   "outputs": [
    {
     "name": "stdout",
     "output_type": "stream",
     "text": [
      "Kraken version 2.1.1\n",
      "Copyright 2013-2020, Derrick Wood (dwood@cs.jhu.edu)\n"
     ]
    }
   ],
   "source": [
    "!kraken2 --version"
   ]
  },
  {
   "cell_type": "markdown",
   "metadata": {},
   "source": [
    "Версия таксонкит"
   ]
  },
  {
   "cell_type": "code",
   "execution_count": 113,
   "metadata": {},
   "outputs": [
    {
     "name": "stdout",
     "output_type": "stream",
     "text": [
      "TaxonKit - A Cross-platform and Efficient NCBI Taxonomy Toolkit\n",
      "\n",
      "Version: 0.7.2\n",
      "\n",
      "Author: Wei Shen <shenwei356@gmail.com>\n",
      "\n",
      "Source code: https://github.com/shenwei356/taxonkit\n",
      "Documents  : https://bioinf.shenwei.me/taxonkit\n",
      "Citation   : https://www.biorxiv.org/content/early/2019/01/08/513523\n",
      "\n",
      "Dataset:\n",
      "\n",
      "    Please download and decompress \"taxdump.tar.gz\":\n",
      "    ftp://ftp.ncbi.nih.gov/pub/taxonomy/taxdump.tar.gz\n",
      "\n",
      "    and copy \"names.dmp\", \"nodes.dmp\", \"delnodes.dmp\" and \"merged.dmp\" to data directory:\n",
      "    \"/home/gladkov2/.taxonkit\"\n",
      "\n",
      "    or some other directory, and later you can refer to using flag --data-dir,\n",
      "    or environment variable TAXONKIT_DB\n",
      "\n",
      "Usage:\n",
      "  taxonkit [command]\n",
      "\n",
      "Available Commands:\n",
      "  filter          Filter taxIDs by taxonomic rank range\n",
      "  genautocomplete generate shell autocompletion script\n",
      "  help            Help about any command\n",
      "  lca             Compute lowest common ancestor (LCA) for taxIDs\n",
      "  lineage         Query taxonomic lineage of given taxIDs\n",
      "  list            List taxonomic subtrees of given taxIDs\n",
      "  name2taxid      Convert scientific names to taxIDs\n",
      "  reformat        Reformat lineage in canonical ranks\n",
      "  taxid-changelog Create taxID changelog from dump archives\n",
      "  version         print version information and check for update\n",
      "\n",
      "Flags:\n",
      "      --data-dir string   directory containing nodes.dmp and names.dmp (default \"/home/gladkov2/.taxonkit\")\n",
      "  -h, --help              help for taxonkit\n",
      "      --line-buffered     use line buffering on output, i.e., immediately writing to stdin/file for every line of output\n",
      "  -o, --out-file string   out file (\"-\" for stdout, suffix .gz for gzipped out) (default \"-\")\n",
      "  -j, --threads int       number of CPUs. 4 is enough (default 4)\n",
      "      --verbose           print verbose information\n",
      "\n",
      "Use \"taxonkit [command] --help\" for more information about a command.\n"
     ]
    }
   ],
   "source": [
    "!taxonkit"
   ]
  },
  {
   "cell_type": "code",
   "execution_count": 118,
   "metadata": {},
   "outputs": [
    {
     "name": "stdout",
     "output_type": "stream",
     "text": [
      "total 12M\n",
      "-rw-rw-r-- 1 gladkov2 1.2M Feb 26 13:14 Ng46__gene_res_kraken.tsv\n",
      "-rw-rw-r-- 1 gladkov2 1.2M Feb 26 13:15 Ng58_gene_res_kraken.tsv\n",
      "-rw-rw-r-- 1 gladkov2 1.2M Feb 26 13:15 Ng58__gene_res_kraken.tsv\n",
      "-rw-rw-r-- 1 gladkov2 1.2M Feb 26 13:14 Ng46_gene_res_kraken.tsv\n",
      "-rw-rw-r-- 1 gladkov2 1.2M Feb 26 13:14 Ng110_gene_res_kraken.tsv\n",
      "-rw-rw-r-- 1 gladkov2 1.2M Feb 26 13:15 Ng81__gene_res_kraken.tsv\n",
      "-rw-rw-r-- 1 gladkov2 1.1M Feb 26 13:15 Ng77__gene_res_kraken.tsv\n",
      "-rw-rw-r-- 1 gladkov2 960K Feb 26 13:15 Ng77_gene_res_kraken.tsv\n",
      "-rw-rw-r-- 1 gladkov2 829K Feb 26 13:14 Ng35__gene_res_kraken.tsv\n",
      "-rw-rw-r-- 1 gladkov2 728K Feb 26 13:15 Ng47_gene_res_kraken.tsv\n",
      "-rw-rw-r-- 1 gladkov2 568K Feb 26 13:00 krak_galega.html\n",
      "-rw-rw-r-- 1 gladkov2 562K Feb 26 13:14 Ng35_gene_res_kraken.tsv\n",
      "-rw-rw-r-- 1 gladkov2 189K Feb 26 13:14 Ng110__gene_res_kraken.tsv\n"
     ]
    }
   ],
   "source": [
    "%ll -hS kraken2_res/"
   ]
  },
  {
   "cell_type": "markdown",
   "metadata": {},
   "source": [
    "Колонки -\n",
    "https://github.com/DerrickWood/kraken2/wiki/Manual#output-formats\n",
    "\n",
    "Последняя - таксономия через taxonkit lineage - taxonkit reformat"
   ]
  },
  {
   "cell_type": "code",
   "execution_count": 121,
   "metadata": {},
   "outputs": [
    {
     "name": "stdout",
     "output_type": "stream",
     "text": [
      "C\t1 dnaA 100 1566 +\t2028343\t1467\t0:41 A:731 0:19 82115:1 0:40 356:4 82115:2 0:67 2028343:5 0:1 2028343:4 A:518 \tcellular organisms;Bacteria;Proteobacteria;Alphaproteobacteria;Rhizobiales;Rhizobiaceae;Rhizobium/Agrobacterium group;Rhizobium;unclassified Rhizobium;Rhizobium sp. 11515TR\n",
      "U\t2 dnaA 1572 2189 +\t0\t618\tA:135 0:92 A:103 0:254\t\n",
      "U\t3 - 2199 2792 +\t0\t594\tA:9 0:207 A:344 \t\n",
      "C\t4 - 2804 3997 -\t1028801\t1194\t0:41 227290:3 0:28 28211:3 0:25 28211:1 0:9 356:1 0:13 794846:5 0:94 356:1 0:53 366394:2 0:41 82115:1 227290:1 0:7 227290:1 0:40 82115:2 356:4 0:101 379:2 0:82 1028801:5 0:54 1842534:7 0:12 1028801:4 0:8 82115:5 0:4 2603277:1 0:10 384:1 0:26 1825976:5 0:39 A:68 0:167 A:183 \tcellular organisms;Bacteria;Proteobacteria;Alphaproteobacteria;Rhizobiales;Rhizobiaceae;Rhizobium/Agrobacterium group;Neorhizobium;Neorhizobium galegae;Neorhizobium galegae bv. officinalis;Neorhizobium galegae bv. officinalis bv. officinalis str. HAMBI 1141\n",
      "C\t5 - 4004 4648 -\t1028801\t645\t0:13 82115:1 0:90 1825976:5 0:38 82115:5 0:1 2632611:2 0:90 374606:1 0:20 399:5 394:2 0:136 A:40 0:89 A:54 0:2 1028801:5 0:11 399:1\tcellular organisms;Bacteria;Proteobacteria;Alphaproteobacteria;Rhizobiales;Rhizobiaceae;Rhizobium/Agrobacterium group;Neorhizobium;Neorhizobium galegae;Neorhizobium galegae bv. officinalis;Neorhizobium galegae bv. officinalis bv. officinalis str. HAMBI 1141\n",
      "C\t6 - 4657 5064 -\t399\t408\t0:3 716928:2 0:298 399:2 0:7 399:2 227290:2 0:13 399:1 0:31 356:2 399:4 0:7\tcellular organisms;Bacteria;Proteobacteria;Alphaproteobacteria;Rhizobiales;Rhizobiaceae;Rhizobium/Agrobacterium group;Neorhizobium;Neorhizobium galegae\n",
      "C\t7 - 5083 5799 -\t1028800\t717\tA:157 0:6 356:1 0:17 286:1 0:8 227290:3 0:16 1028800:5 227290:8 0:7 227290:3 0:18 1085:1 0:3 1224:4 0:21 363835:3 0:36 356:2 0:17 28211:1 0:13 1224:4 0:60 399:4 0:27 399:4 0:21 28211:1 0:22 227290:2 0:52 335928:5 0:2 28211:2 0:18 28211:1 2593676:5 0:67 1028801:1 0:34\tcellular organisms;Bacteria;Proteobacteria;Alphaproteobacteria;Rhizobiales;Rhizobiaceae;Rhizobium/Agrobacterium group;Neorhizobium;Neorhizobium galegae;Neorhizobium galegae bv. orientalis;Neorhizobium galegae bv. orientalis str. HAMBI 540\n",
      "C\t8 hrcA 5977 7056 +\t1028800\t1080\tA:31 0:1 399:2 0:28 2562582:1 0:229 1028800:1 0:41 A:254 0:98 1028800:5 0:33 1028800:2 0:29 1028801:2 0:53 A:236 \tcellular organisms;Bacteria;Proteobacteria;Alphaproteobacteria;Rhizobiales;Rhizobiaceae;Rhizobium/Agrobacterium group;Neorhizobium;Neorhizobium galegae;Neorhizobium galegae bv. orientalis;Neorhizobium galegae bv. orientalis str. HAMBI 540\n",
      "C\t9 grpE 7175 7816 +\t356\t642\tA:174 0:25 A:44 0:84 A:66 0:9 357:5 0:40 28211:2 0:61 1752398:4 0:17 1076:5 0:3 1028800:2 0:66 A:1 \tcellular organisms;Bacteria;Proteobacteria;Alphaproteobacteria;Rhizobiales\n",
      "C\t10 ptsN 8021 8485 -\t1028800\t465\tA:154 1028800:2 0:41 399:2 0:41 1028800:5 0:66 28211:4 0:116\tcellular organisms;Bacteria;Proteobacteria;Alphaproteobacteria;Rhizobiales;Rhizobiaceae;Rhizobium/Agrobacterium group;Neorhizobium;Neorhizobium galegae;Neorhizobium galegae bv. orientalis;Neorhizobium galegae bv. orientalis str. HAMBI 540\n"
     ]
    }
   ],
   "source": [
    "!head kraken2_res/Ng35__gene_res_kraken.tsv"
   ]
  },
  {
   "cell_type": "markdown",
   "metadata": {},
   "source": [
    "Modification for cellulase code"
   ]
  },
  {
   "cell_type": "code",
   "execution_count": null,
   "metadata": {},
   "outputs": [],
   "source": [
    "%%bash\n",
    "\n",
    "mkdir kraken2_res\n",
    "for file in *.faa; do\n",
    "    mkdir temp\n",
    "    fname=$(basename \"$file\" .faa)\n",
    "    kraken2 --db /home/gladkov2/storage/somebases/maxikraken2_1903_140GB --threads 50 $file > temp/${fname}_res_kraken.tsv\n",
    "    cat temp/${fname}_res_kraken.tsv | cut -f3 | taxonkit --data-dir /home/gladkov2/storage/somebases/  -j 50 lineage | taxonkit --data-dir /home/gladkov2/storage/somebases/ -j 50 reformat > temp/${fname}_taxa.tsv\n",
    "    cat temp/${fname}_res_kraken.tsv | cut -f1 > temp/first\n",
    "    cat temp/${fname}_res_kraken.tsv | cut -f3-5 > temp/third\n",
    "    grep \">\" ${fname}.faa | cut -c 3- > temp/second\n",
    "    cat temp/${fname}_taxa.tsv | cut -f2 > temp/var\n",
    "    paste temp/first temp/second temp/third temp/var > kraken2_res/${fname}_res_kraken.tsv\n",
    "    rm -r temp\n",
    "done;"
   ]
  },
  {
   "cell_type": "code",
   "execution_count": null,
   "metadata": {},
   "outputs": [],
   "source": [
    "%%bash\n",
    "\n",
    "mkdir kraken2_res\n",
    "for file in *.faa; do\n",
    "    mkdir temp\n",
    "    fname=$(basename \"$file\" .faa)\n",
    "    kraken2 --db /home/gladkov2/storage/somebases/maxikraken2_1903_140GB --threads 50 $file > temp/${fname}_res_kraken.tsv\n",
    "done;"
   ]
  },
  {
   "cell_type": "code",
   "execution_count": null,
   "metadata": {},
   "outputs": [],
   "source": []
  },
  {
   "cell_type": "code",
   "execution_count": 2,
   "metadata": {},
   "outputs": [
    {
     "name": "stderr",
     "output_type": "stream",
     "text": [
      "IOPub data rate exceeded.\n",
      "The notebook server will temporarily stop sending output\n",
      "to the client in order to avoid crashing it.\n",
      "To change this limit, set the config variable\n",
      "`--NotebookApp.iopub_data_rate_limit`.\n",
      "\n",
      "Current values:\n",
      "NotebookApp.iopub_data_rate_limit=1000000.0 (bytes/sec)\n",
      "NotebookApp.rate_limit_window=3.0 (secs)\n",
      "\n",
      "Unknown option: /home/gladkov2/storage/metagenome/bact_4x/new_con/diamond\n",
      "Loading database information... done.\n",
      "1903 sequences (91.80 Mbp) processed in 1.674s (68.2 Kseq/m, 3290.95 Mbp/m).\n",
      "  1893 sequences classified (99.47%)\n",
      "  10 sequences unclassified (0.53%)\n",
      "Unknown option: /home/gladkov2/storage/metagenome/bact_4x/new_con/diamond\n",
      "Loading database information... done.\n",
      "1589 sequences (97.53 Mbp) processed in 1.835s (52.0 Kseq/m, 3189.43 Mbp/m).\n",
      "  1585 sequences classified (99.75%)\n",
      "  4 sequences unclassified (0.25%)\n",
      "Unknown option: /home/gladkov2/storage/metagenome/bact_4x/new_con/diamond\n",
      "Loading database information... done.\n",
      "1519 sequences (91.11 Mbp) processed in 1.749s (52.1 Kseq/m, 3125.36 Mbp/m).\n",
      "  1509 sequences classified (99.34%)\n",
      "  10 sequences unclassified (0.66%)\n",
      "Unknown option: /home/gladkov2/storage/metagenome/bact_4x/new_con/diamond\n",
      "Loading database information... done.\n",
      "1682 sequences (112.11 Mbp) processed in 1.947s (51.8 Kseq/m, 3455.03 Mbp/m).\n",
      "  1679 sequences classified (99.82%)\n",
      "  3 sequences unclassified (0.18%)\n"
     ]
    }
   ],
   "source": [
    "%%bash\n",
    "\n",
    "cd /home/gladkov2/storage/metagenome/bact_4x/new_con/diamond/con/\n",
    "mkdir kraken2_rep\n",
    "for file in *.faa; do\n",
    "    fname=$(basename \"$file\" .faa)\n",
    "    kraken2 --db /home/gladkov2/storage/somebases/maxikraken2_1903_140GB --/home/gladkov2/storage/metagenome/bact_4x/new_con/diamond  --threads 50 --report kraken2_rep/${fname}_rep $file\n",
    "done;"
   ]
  },
  {
   "cell_type": "code",
   "execution_count": 5,
   "metadata": {},
   "outputs": [
    {
     "name": "stdout",
     "output_type": "stream",
     "text": [
      ">>STEP 1: READING REPORTS\n",
      "\t4/4 samples processed\n",
      ">>STEP 2: WRITING NEW REPORT HEADERS\n",
      ">>STEP 3: PRINTING REPORT\n",
      "Writing all.krona.html...\n"
     ]
    }
   ],
   "source": [
    "%%bash\n",
    "\n",
    "cd /home/gladkov2/storage/metagenome/bact_4x/new_con/diamond/con/kraken2_rep/\n",
    "python /home/gladkov2/storage/apps/KrakenTools/combine_kreports.py \\\n",
    "    -r 14_rep  26_rep 29_rep 46_rep\\\n",
    "    -o all.kreport2 --display-headers \n",
    "\n",
    "python /home/gladkov2/storage/apps/KrakenTools/kreport2krona.py -r all.kreport2 -o all.krona\n",
    "ktImportText all.krona -o all.krona.html"
   ]
  },
  {
   "cell_type": "code",
   "execution_count": 7,
   "metadata": {},
   "outputs": [
    {
     "name": "stdout",
     "output_type": "stream",
     "text": [
      "Writing samples.krona.html...\n"
     ]
    }
   ],
   "source": [
    "%%bash\n",
    "\n",
    "cd /home/gladkov2/storage/metagenome/bact_4x/new_con/diamond/con/kraken2_rep/\n",
    "\n",
    "for file in *_rep; do\n",
    "    python /home/gladkov2/storage/apps/KrakenTools/kreport2krona.py -r ${file} -o ${file}.krona\n",
    "done;\n",
    "\n",
    "ktImportText 14_rep.krona  26_rep.krona 29_rep.krona 46_rep.krona -o samples.krona.html"
   ]
  },
  {
   "cell_type": "code",
   "execution_count": 4,
   "metadata": {},
   "outputs": [
    {
     "name": "stdout",
     "output_type": "stream",
     "text": [
      "/mnt/storage/metagenome/bact_4x/new_con/diamond/con\n"
     ]
    }
   ],
   "source": [
    "%cd /home/gladkov2/storage/metagenome/bact_4x/new_con/diamond/con "
   ]
  },
  {
   "cell_type": "code",
   "execution_count": 5,
   "metadata": {},
   "outputs": [
    {
     "name": "stdout",
     "output_type": "stream",
     "text": [
      "14.faa\t\t    46.faa.amb\t\t      emappertmp_dmdn_ddn1iuxw\n",
      "14.faa.0123\t    46.faa.ann\t\t      emappertmp_dmdn_es36gzfa\n",
      "14.faa.amb\t    46.faa.bwt.2bit.64\t      emappertmp_dmdn_hl71_i58\n",
      "14.faa.ann\t    46.faa.pac\t\t      emappertmp_dmdn_j93iidr0\n",
      "14.faa.bwt.2bit.64  46_filt.faa\t\t      emappertmp_dmdn_jx_ogk4f\n",
      "14.faa.pac\t    db_14\t\t      emappertmp_dmdn_k3m5wh2n\n",
      "14.fasta\t    db_26\t\t      emappertmp_dmdn_r5_wvzv9\n",
      "26.faa\t\t    db_29\t\t      import_file_2_1.txt\n",
      "26.faa.0123\t    db_46\t\t      import_file_2_2.txt\n",
      "26.faa.amb\t    dbcan3\t\t      import_file_3.txt\n",
      "26.faa.ann\t    dram\t\t      input_file.txt\n",
      "26.faa.bwt.2bit.64  eggnog\t\t      kraken2_rep\n",
      "26.faa.pac\t    eggnog2\t\t      kraken2_res\n",
      "29.faa\t\t    eggnog3\t\t      periodic_table.json\n",
      "29.faa.0123\t    emappertmp_dmdn_0ktzj6e8  staramr\n",
      "29.faa.amb\t    emappertmp_dmdn_1c37zntg  test.txt\n",
      "29.faa.ann\t    emappertmp_dmdn_2fzhmyhd  test_import_file_2_1.txt\n",
      "29.faa.bwt.2bit.64  emappertmp_dmdn_679yd7di  test_import_file_2_2.txt\n",
      "29.faa.pac\t    emappertmp_dmdn_884t_3j9  test_input_file_1.txt\n",
      "46.faa\t\t    emappertmp_dmdn_8ajot3py\n",
      "46.faa.0123\t    emappertmp_dmdn_a8xenu7y\n"
     ]
    }
   ],
   "source": []
  },
  {
   "cell_type": "code",
   "execution_count": null,
   "metadata": {},
   "outputs": [],
   "source": [
    "%%bash\n",
    "\n",
    "mkdir kraken2_gdtb_res\n",
    "for file in ~/storage/metagenome/bact_4x/new_con/diamond/con/*[0-9].faa; do\n",
    "    mkdir temp\n",
    "    fname=$(basename \"$file\" .faa)\n",
    "    kraken2 --report kraken2_gdtb_res/${fname}_report_gtdb --db /home/gladkov2/storage/somebases/kraken_gtdb_202_struo2/ --threads 50 $file > temp/${fname}_res_kraken.tsv\n",
    "    cat temp/${fname}_res_kraken.tsv | cut -f3 | taxonkit --data-dir /home/gladkov2/storage/somebases/  -j 50 lineage | taxonkit --data-dir /home/gladkov2/storage/somebases/ -j 50 reformat > temp/${fname}_taxa.tsv\n",
    "    cat temp/${fname}_res_kraken.tsv | cut -f3 > temp/third\n",
    "    cat temp/${fname}_res_kraken.tsv | cut -f2 > temp/second\n",
    "    cat temp/${fname}_taxa.tsv | cut -f2 > temp/var\n",
    "    paste temp/second temp/third temp/var > kraken2_gdtb_res/${fname}_res_kraken.tsv\n",
    "    rm -r temp\n",
    "done;"
   ]
  },
  {
   "cell_type": "code",
   "execution_count": null,
   "metadata": {},
   "outputs": [],
   "source": [
    "%%bash\n",
    "\n",
    "mkdir kraken2_gdtb_res\n",
    "for file in ~/storage/metagenome/bact_4x/new_con/diamond/con/*[0-9].faa; do\n",
    "    mkdir temp\n",
    "    fname=$(basename \"$file\" .faa)\n",
    "    kraken2 --report kraken2_gdtb_res/${fname}_report_gtdb --db /home/gladkov2/storage/somebases/kraken_gtdb_202_struo2/ --threads 50 $file > temp/${fname}_res_kraken.tsv\n",
    "    cat temp/${fname}_res_kraken.tsv | cut -f3 | taxonkit --data-dir /home/gladkov2/storage/somebases/  -j 50 lineage | taxonkit --data-dir /home/gladkov2/storage/somebases/ -j 50 reformat > temp/${fname}_taxa.tsv\n",
    "    cat temp/${fname}_res_kraken.tsv | cut -f3 > temp/third\n",
    "    cat temp/${fname}_res_kraken.tsv | cut -f2 > temp/second\n",
    "    cat temp/${fname}_taxa.tsv | cut -f2 > temp/var\n",
    "    paste temp/second temp/third temp/var > kraken2_gdtb_res/${fname}_res_kraken.tsv\n",
    "    rm -r temp\n",
    "done;"
   ]
  },
  {
   "cell_type": "code",
   "execution_count": 12,
   "metadata": {},
   "outputs": [],
   "source": [
    "!ls kraken2_gdtb_res/\n",
    "\n",
    "\n",
    "\n",
    "%%bash\n",
    "\n",
    "mkdir kraken2_gdtb_res\n",
    "for file in *.fasta; do\n",
    "    mkdir temp\n",
    "    fname=$(basename \"$file\" .faa)\n",
    "    kraken2 --report kraken2_gdtb_res/${fname}_report_gtdb --db /home/gladkov2/storage/somebases/kraken_gtdb_202_struo2/ --threads 50 $file > temp/${fname}_res_kraken.tsv\n",
    "    cat temp/${fname}_res_kraken.tsv | cut -f3 | cut -f3 |taxonkit --data-dir ~/storage/somebases/kraken_gtdb_202_struo2/taxonomy/  -j 50 lineage | taxonkit --data-dir ~/storage/somebases/kraken_gtdb_202_struo2/taxonomy/  -j 50 reformat  -I 1 -r \"Unassigned\" -f \"{k}\\t{p}\\t{c}\\t{o}\\t{f}\\t{g}\\t{s}\" > temp/first \n",
    "    cat temp/${fname}_res_kraken.tsv | cut -f2 > temp/second\n",
    "    paste temp/second temp/first > kraken2_gdtb_res/${fname}_res_kraken.tsv\n",
    "    rm -r temp\n",
    "done;"
   ]
  },
  {
   "cell_type": "code",
   "execution_count": 13,
   "metadata": {},
   "outputs": [
    {
     "name": "stderr",
     "output_type": "stream",
     "text": [
      "mkdir: cannot create directory ‘kraken2_gdtb_res’: File exists\n",
      "Loading database information... done.\n",
      "1903 sequences (91.80 Mbp) processed in 2.885s (39.6 Kseq/m, 1909.46 Mbp/m).\n",
      "  1898 sequences classified (99.74%)\n",
      "  5 sequences unclassified (0.26%)\n",
      "22:41:55.521 \u001b[33m[WARN]\u001b[0m merged file not found: /home/gladkov2/storage/somebases/kraken_gtdb_202_struo2/taxonomy/merged.dmp, merged taxids will not be checked\n",
      "22:41:55.522 \u001b[33m[WARN]\u001b[0m delnodes file not found: /home/gladkov2/storage/somebases/kraken_gtdb_202_struo2/taxonomy/delnodes.dmp, deleted taxids will not be checked\n",
      "22:41:55.525 \u001b[33m[WARN]\u001b[0m merged file not found: /home/gladkov2/storage/somebases/kraken_gtdb_202_struo2/taxonomy/merged.dmp, merged taxids will not be checked\n",
      "22:41:55.525 \u001b[33m[WARN]\u001b[0m delnodes file not found: /home/gladkov2/storage/somebases/kraken_gtdb_202_struo2/taxonomy/delnodes.dmp, deleted taxids will not be checked\n",
      "22:41:55.741 \u001b[33m[WARN]\u001b[0m taxid 0 not found\n",
      "22:41:55.741 \u001b[33m[WARN]\u001b[0m taxid 0 not found\n",
      "22:41:55.741 \u001b[33m[WARN]\u001b[0m taxid 0 not found\n",
      "22:41:55.741 \u001b[33m[WARN]\u001b[0m taxid 0 not found\n",
      "22:41:55.742 \u001b[33m[WARN]\u001b[0m taxid 0 not found\n",
      "22:41:55.819 \u001b[33m[WARN]\u001b[0m taxid 0 not found\n",
      "22:41:55.821 \u001b[33m[WARN]\u001b[0m taxid 0 not found\n",
      "22:41:55.819 \u001b[33m[WARN]\u001b[0m taxid 0 not found\n",
      "22:41:55.822 \u001b[33m[WARN]\u001b[0m taxid 0 not found\n",
      "22:41:55.822 \u001b[33m[WARN]\u001b[0m taxid 0 not found\n",
      "Loading database information... done.\n",
      "1589 sequences (97.53 Mbp) processed in 2.998s (31.8 Kseq/m, 1952.10 Mbp/m).\n",
      "  1585 sequences classified (99.75%)\n",
      "  4 sequences unclassified (0.25%)\n",
      "22:44:59.455 \u001b[33m[WARN]\u001b[0m merged file not found: /home/gladkov2/storage/somebases/kraken_gtdb_202_struo2/taxonomy/merged.dmp, merged taxids will not be checked\n",
      "22:44:59.455 \u001b[33m[WARN]\u001b[0m delnodes file not found: /home/gladkov2/storage/somebases/kraken_gtdb_202_struo2/taxonomy/delnodes.dmp, deleted taxids will not be checked\n",
      "22:44:59.460 \u001b[33m[WARN]\u001b[0m merged file not found: /home/gladkov2/storage/somebases/kraken_gtdb_202_struo2/taxonomy/merged.dmp, merged taxids will not be checked\n",
      "22:44:59.460 \u001b[33m[WARN]\u001b[0m delnodes file not found: /home/gladkov2/storage/somebases/kraken_gtdb_202_struo2/taxonomy/delnodes.dmp, deleted taxids will not be checked\n",
      "22:44:59.671 \u001b[33m[WARN]\u001b[0m taxid 0 not found\n",
      "22:44:59.671 \u001b[33m[WARN]\u001b[0m taxid 0 not found\n",
      "22:44:59.671 \u001b[33m[WARN]\u001b[0m taxid 0 not found\n",
      "22:44:59.672 \u001b[33m[WARN]\u001b[0m taxid 0 not found\n",
      "22:44:59.753 \u001b[33m[WARN]\u001b[0m taxid 0 not found\n",
      "22:44:59.753 \u001b[33m[WARN]\u001b[0m taxid 0 not found\n",
      "22:44:59.755 \u001b[33m[WARN]\u001b[0m taxid 0 not found\n",
      "22:44:59.755 \u001b[33m[WARN]\u001b[0m taxid 0 not found\n",
      "Loading database information... done.\n",
      "1519 sequences (91.11 Mbp) processed in 1.734s (52.6 Kseq/m, 3152.22 Mbp/m).\n",
      "  1514 sequences classified (99.67%)\n",
      "  5 sequences unclassified (0.33%)\n",
      "22:47:56.508 \u001b[33m[WARN]\u001b[0m merged file not found: /home/gladkov2/storage/somebases/kraken_gtdb_202_struo2/taxonomy/merged.dmp, merged taxids will not be checked\n",
      "22:47:56.508 \u001b[33m[WARN]\u001b[0m delnodes file not found: /home/gladkov2/storage/somebases/kraken_gtdb_202_struo2/taxonomy/delnodes.dmp, deleted taxids will not be checked\n",
      "22:47:56.513 \u001b[33m[WARN]\u001b[0m merged file not found: /home/gladkov2/storage/somebases/kraken_gtdb_202_struo2/taxonomy/merged.dmp, merged taxids will not be checked\n",
      "22:47:56.513 \u001b[33m[WARN]\u001b[0m delnodes file not found: /home/gladkov2/storage/somebases/kraken_gtdb_202_struo2/taxonomy/delnodes.dmp, deleted taxids will not be checked\n",
      "22:47:56.713 \u001b[33m[WARN]\u001b[0m taxid 0 not found\n",
      "22:47:56.713 \u001b[33m[WARN]\u001b[0m taxid 0 not found\n",
      "22:47:56.714 \u001b[33m[WARN]\u001b[0m taxid 0 not found\n",
      "22:47:56.714 \u001b[33m[WARN]\u001b[0m taxid 0 not found\n",
      "22:47:56.714 \u001b[33m[WARN]\u001b[0m taxid 0 not found\n",
      "22:47:56.781 \u001b[33m[WARN]\u001b[0m taxid 0 not found\n",
      "22:47:56.782 \u001b[33m[WARN]\u001b[0m taxid 0 not found\n",
      "22:47:56.783 \u001b[33m[WARN]\u001b[0m taxid 0 not found\n",
      "22:47:56.783 \u001b[33m[WARN]\u001b[0m taxid 0 not found\n",
      "22:47:56.783 \u001b[33m[WARN]\u001b[0m taxid 0 not found\n",
      "Loading database information... done.\n",
      "1682 sequences (112.11 Mbp) processed in 2.863s (35.3 Kseq/m, 2349.50 Mbp/m).\n",
      "  1677 sequences classified (99.70%)\n",
      "  5 sequences unclassified (0.30%)\n",
      "22:50:59.374 \u001b[33m[WARN]\u001b[0m merged file not found: /home/gladkov2/storage/somebases/kraken_gtdb_202_struo2/taxonomy/merged.dmp, merged taxids will not be checked\n",
      "22:50:59.374 \u001b[33m[WARN]\u001b[0m delnodes file not found: /home/gladkov2/storage/somebases/kraken_gtdb_202_struo2/taxonomy/delnodes.dmp, deleted taxids will not be checked\n",
      "22:50:59.377 \u001b[33m[WARN]\u001b[0m merged file not found: /home/gladkov2/storage/somebases/kraken_gtdb_202_struo2/taxonomy/merged.dmp, merged taxids will not be checked\n",
      "22:50:59.377 \u001b[33m[WARN]\u001b[0m delnodes file not found: /home/gladkov2/storage/somebases/kraken_gtdb_202_struo2/taxonomy/delnodes.dmp, deleted taxids will not be checked\n",
      "22:50:59.604 \u001b[33m[WARN]\u001b[0m taxid 0 not found\n",
      "22:50:59.604 \u001b[33m[WARN]\u001b[0m taxid 0 not found\n",
      "22:50:59.604 \u001b[33m[WARN]\u001b[0m taxid 0 not found\n",
      "22:50:59.604 \u001b[33m[WARN]\u001b[0m taxid 0 not found\n",
      "22:50:59.604 \u001b[33m[WARN]\u001b[0m taxid 0 not found\n",
      "22:50:59.672 \u001b[33m[WARN]\u001b[0m taxid 0 not found\n",
      "22:50:59.674 \u001b[33m[WARN]\u001b[0m taxid 0 not found\n",
      "22:50:59.675 \u001b[33m[WARN]\u001b[0m taxid 0 not found\n",
      "22:50:59.675 \u001b[33m[WARN]\u001b[0m taxid 0 not found\n",
      "22:50:59.675 \u001b[33m[WARN]\u001b[0m taxid 0 not found\n"
     ]
    }
   ],
   "source": [
    "%%bash\n",
    "\n",
    "mkdir kraken2_gdtb_res\n",
    "for file in ~/storage/metagenome/bact_4x/new_con/diamond/con/*[0-9].faa; do\n",
    "    mkdir temp\n",
    "    fname=$(basename \"$file\" .faa)\n",
    "    kraken2 --report kraken2_gdtb_res/${fname}_report_gtdb --db /home/gladkov2/storage/somebases/kraken_gtdb_202_struo2/ --threads 50 $file > temp/${fname}_res_kraken.tsv\n",
    "    cat temp/${fname}_res_kraken.tsv | cut -f3 | cut -f3 |taxonkit --data-dir ~/storage/somebases/kraken_gtdb_202_struo2/taxonomy/  -j 50 lineage | taxonkit --data-dir ~/storage/somebases/kraken_gtdb_202_struo2/taxonomy/  -j 50 reformat  -I 1 -r \"Unassigned\" -f \"{k}\\t{p}\\t{c}\\t{o}\\t{f}\\t{g}\\t{s}\" > temp/first \n",
    "    cat temp/${fname}_res_kraken.tsv | cut -f2 > temp/second\n",
    "    paste temp/second temp/first > kraken2_gdtb_res/${fname}_res_kraken.tsv\n",
    "    rm -r temp\n",
    "done;"
   ]
  },
  {
   "cell_type": "code",
   "execution_count": 15,
   "metadata": {},
   "outputs": [
    {
     "name": "stdout",
     "output_type": "stream",
     "text": [
      "14_report_gtdb\t   26_report_gtdb     29_report_gtdb\t 46_report_gtdb\n",
      "14_res_kraken.tsv  26_res_kraken.tsv  29_res_kraken.tsv  46_res_kraken.tsv\n"
     ]
    }
   ],
   "source": [
    "!ls kraken2_gdtb_res/"
   ]
  },
  {
   "cell_type": "code",
   "execution_count": 37,
   "metadata": {},
   "outputs": [
    {
     "name": "stdout",
     "output_type": "stream",
     "text": [
      "Writing kraken2_gdtb_res/all.krona.html...\n"
     ]
    }
   ],
   "source": [
    "!python /home/gladkov2/storage/apps/KrakenTools/kreport2krona.py \\\n",
    "    -r kraken2_gdtb_res/14_report_gtdb -r kraken2_gdtb_res/26_report_gtdb \\\n",
    "    -o kraken2_gdtb_res/all.krona\n",
    "!ktImportText kraken2_gdtb_res/all.krona -o kraken2_gdtb_res/all.krona.html"
   ]
  },
  {
   "cell_type": "code",
   "execution_count": 31,
   "metadata": {},
   "outputs": [
    {
     "name": "stdout",
     "output_type": "stream",
     "text": [
      ">>STEP 1: READING REPORTS\n",
      "\t4/4 samples processed\n",
      ">>STEP 2: WRITING NEW REPORT HEADERS\n",
      ">>STEP 3: PRINTING REPORT\n",
      "Writing kraken2_gdtb_res/all.krona.html...\n"
     ]
    }
   ],
   "source": [
    "!python /home/gladkov2/storage/apps/KrakenTools/combine_kreports.py \\\n",
    "    -r kraken2_gdtb_res/14_report_gtdb kraken2_gdtb_res/26_report_gtdb kraken2_gdtb_res/29_report_gtdb kraken2_gdtb_res/46_report_gtdb \\\n",
    "    --display-headers \\\n",
    "    --sample-names c14 c26 c29 c46 \\\n",
    "    -o kraken2_gdtb_res/all.kreport2 \n",
    "\n",
    "!python /home/gladkov2/storage/apps/KrakenTools/kreport2krona.py -r kraken2_gdtb_res/all.kreport2 -o kraken2_gdtb_res/all.krona\n",
    "!ktImportText kraken2_gdtb_res/all.krona -o kraken2_gdtb_res/all.krona.html"
   ]
  },
  {
   "cell_type": "code",
   "execution_count": 2,
   "metadata": {},
   "outputs": [
    {
     "name": "stdout",
     "output_type": "stream",
     "text": [
      "/mnt/storage/trash/chrz\n"
     ]
    }
   ],
   "source": [
    "%cd /home/gladkov2/storage/trash/chrz/"
   ]
  },
  {
   "cell_type": "code",
   "execution_count": 44,
   "metadata": {},
   "outputs": [
    {
     "name": "stdout",
     "output_type": "stream",
     "text": [
      "14_report_gtdb\t   26_res_kraken.tsv  46_report_gtdb\t all.krona\n",
      "14_res_kraken.tsv  29_report_gtdb     46_res_kraken.tsv  all.krona.html\n",
      "26_report_gtdb\t   29_res_kraken.tsv  all.kreport2\n"
     ]
    }
   ],
   "source": [
    "!ls kraken2_gdtb_res/"
   ]
  },
  {
   "cell_type": "code",
   "execution_count": 60,
   "metadata": {},
   "outputs": [],
   "source": [
    "!python /home/gladkov2/storage/apps/KrakenTools/kreport2krona.py -r kraken2_gdtb_res/14_report_gtdb -o kraken2_gdtb_res/14.krona\n",
    "\n"
   ]
  },
  {
   "cell_type": "code",
   "execution_count": 73,
   "metadata": {},
   "outputs": [
    {
     "name": "stdout",
     "output_type": "stream",
     "text": [
      "14\n",
      "kraken2_gdtb_res/14_report_gtdb\n",
      "26\n",
      "kraken2_gdtb_res/26_report_gtdb\n",
      "29\n",
      "kraken2_gdtb_res/29_report_gtdb\n",
      "46\n",
      "kraken2_gdtb_res/46_report_gtdb\n",
      "Writing kraken2_gdtb_res/all.krona.html...\n"
     ]
    }
   ],
   "source": [
    "%%bash\n",
    "\n",
    "for file in kraken2_gdtb_res/*report_gtdb; do\n",
    "    fname=$(basename \"$file\")\n",
    "    fname=${fname%%_*}\n",
    "    echo $fname\n",
    "    echo $file\n",
    "    python /home/gladkov2/storage/apps/KrakenTools/kreport2krona.py -r ${file} -o kraken2_gdtb_res/${fname}.krona\n",
    "    sed -i 's/.__.__//g' kraken2_gdtb_res/${fname}.krona\n",
    "done;\n",
    "\n",
    "ktImportText kraken2_gdtb_res/*.krona -o kraken2_gdtb_res/all.krona.html"
   ]
  },
  {
   "cell_type": "code",
   "execution_count": null,
   "metadata": {},
   "outputs": [],
   "source": [
    "%%bash\n",
    "\n",
    "for file in kraken2_plus_res/*_res_kraken; do\n",
    "    fname=$(basename \"$file\")\n",
    "    fname=${fname%%_*}\n",
    "    echo $fname\n",
    "    echo $file\n",
    "    python /home/gladkov2/storage/apps/KrakenTools/kreport2krona.py -r ${file} -o kraken2_plus_res/${fname}.krona\n",
    "    sed -i 's/.__.__//g' kraken2_plus_res/${fname}.krona\n",
    "done;\n",
    "\n",
    "ktImportText kraken2_plus_res/*.krona -o kraken2_plus_res/all.krona.plus.html"
   ]
  },
  {
   "cell_type": "code",
   "execution_count": null,
   "metadata": {},
   "outputs": [],
   "source": [
    "%%bash\n",
    "\n",
    "for file in *report_gtdb; do\n",
    "    fname=$(basename \"$file\" .faa)\n",
    "    python /home/gladkov2/storage/apps/KrakenTools/kreport2krona.py -r ${file} -o ${file}.krona\n",
    "    ktImportText ${file}.krona -o ${file}.krona.html\n",
    "done;\n"
   ]
  },
  {
   "cell_type": "code",
   "execution_count": null,
   "metadata": {},
   "outputs": [],
   "source": [
    "\n",
    "\n",
    "for f in glob.glob('/home/gladkov2/storage/metagenome/bact_4x/new_con/diamond/con/*[0-9].faa'):\n",
    "    l_1 = []\n",
    "    counter = 0\n",
    "    counter2 = 0\n",
    "    with open(f, 'r') as file:      \n",
    "        for l in file:\n",
    "\n",
    "            if counter > 0:\n",
    "                l_1[-1] = l_1[-1] + '\\n'\n",
    "            counter = 0\n",
    "            for i in l.split(\";\"):\n",
    "                if (not i.endswith(\"group\")) and (counter < 8):              \n",
    "                    l_1.append(i.rstrip())\n",
    "                    if counter2 == 0:\n",
    "                        l_1[0] = '\\t' + l_1[0]\n",
    "                    counter += 1\n",
    "                    counter2 += 1\n",
    "    with open(f, 'w') as file:\n",
    "        file.write('\\t'.join(l_1) + '\\n')"
   ]
  },
  {
   "cell_type": "code",
   "execution_count": null,
   "metadata": {},
   "outputs": [],
   "source": []
  },
  {
   "cell_type": "code",
   "execution_count": 3,
   "metadata": {},
   "outputs": [
    {
     "name": "stdout",
     "output_type": "stream",
     "text": [
      "glyco_ALL_DNA_3.fasta  glyco_chz_DNA.fasta  \u001b[0m\u001b[01;34moutput\u001b[0m   \u001b[01;34moutput3\u001b[0m\n",
      "glyco_ch2_DNA.fasta    \u001b[01;34mkraken2_gdtb_res\u001b[0m     \u001b[01;34moutput2\u001b[0m\n"
     ]
    }
   ],
   "source": [
    "!ls --color"
   ]
  },
  {
   "cell_type": "code",
   "execution_count": null,
   "metadata": {},
   "outputs": [],
   "source": [
    "/home/gladkov2/storage/somebases/kraken_PlusPFP"
   ]
  },
  {
   "cell_type": "markdown",
   "metadata": {},
   "source": [
    "# !\n",
    "\n",
    "--report kraken2_gdtb_res/${fname}_report_gtdb"
   ]
  },
  {
   "cell_type": "code",
   "execution_count": null,
   "metadata": {},
   "outputs": [],
   "source": [
    "kraken2 --report kraken2_gdtb_res/kraken2_plus_res--db /home/gladkov2/storage/somebases/kraken_PlusPFP --threads 50 $file > temp/${fname}_res_kraken.tsv"
   ]
  },
  {
   "cell_type": "code",
   "execution_count": null,
   "metadata": {},
   "outputs": [],
   "source": [
    "%%bash\n",
    "\n",
    "mkdir kraken2_plus_res\n",
    "for file in ~/storage/trash/chrz/glyco_ALL_DNA_3.fasta; do\n",
    "    mkdir temp\n",
    "    fname=$(basename \"$file\" .fasta)\n",
    "    kraken2 --report kraken2_gdtb_res/${fname}_report_gtdb --db /home/gladkov2/storage/somebases/kraken_PlusPFP --threads 50 $file > temp/${fname}_res_kraken.tsv\n",
    "    cat temp/${fname}_res_kraken.tsv | cut -f3 | cut -f3 |taxonkit  --data-dir /home/gladkov2/storage/somebases/  -j 50 lineage | taxonkit --data-dir --data-dir /home/gladkov2/storage/somebases/  -j 50 reformat  -I 1 -r \"Unassigned\" -f \"{k}\\t{p}\\t{c}\\t{o}\\t{f}\\t{g}\\t{s}\" > temp/first \n",
    "    cat temp/${fname}_res_kraken.tsv | cut -f2 > temp/second\n",
    "    paste temp/second temp/first > kraken2_gdtb_res/${fname}_res_kraken.tsv\n",
    "    rm -r temp\n",
    "done;"
   ]
  },
  {
   "cell_type": "code",
   "execution_count": 4,
   "metadata": {},
   "outputs": [
    {
     "name": "stderr",
     "output_type": "stream",
     "text": [
      "mkdir: cannot create directory ‘kraken2_gdtb_res’: File exists\n",
      "Loading database information... done.\n",
      "182 sequences (0.14 Mbp) processed in 0.045s (242.1 Kseq/m, 187.54 Mbp/m).\n",
      "  160 sequences classified (87.91%)\n",
      "  22 sequences unclassified (12.09%)\n",
      "14:22:38.254 \u001b[33m[WARN]\u001b[0m merged file not found: /home/gladkov2/storage/somebases/kraken_gtdb_202_struo2/taxonomy/merged.dmp, merged taxids will not be checked\n",
      "14:22:38.254 \u001b[33m[WARN]\u001b[0m delnodes file not found: /home/gladkov2/storage/somebases/kraken_gtdb_202_struo2/taxonomy/delnodes.dmp, deleted taxids will not be checked\n",
      "14:22:38.255 \u001b[33m[WARN]\u001b[0m merged file not found: /home/gladkov2/storage/somebases/kraken_gtdb_202_struo2/taxonomy/merged.dmp, merged taxids will not be checked\n",
      "14:22:38.256 \u001b[33m[WARN]\u001b[0m delnodes file not found: /home/gladkov2/storage/somebases/kraken_gtdb_202_struo2/taxonomy/delnodes.dmp, deleted taxids will not be checked\n",
      "14:22:38.463 \u001b[33m[WARN]\u001b[0m taxid 0 not found\n",
      "14:22:38.463 \u001b[33m[WARN]\u001b[0m taxid 0 not found\n",
      "14:22:38.463 \u001b[33m[WARN]\u001b[0m taxid 0 not found\n",
      "14:22:38.463 \u001b[33m[WARN]\u001b[0m taxid 0 not found\n",
      "14:22:38.463 \u001b[33m[WARN]\u001b[0m taxid 0 not found\n",
      "14:22:38.463 \u001b[33m[WARN]\u001b[0m taxid 0 not found\n",
      "14:22:38.463 \u001b[33m[WARN]\u001b[0m taxid 0 not found\n",
      "14:22:38.463 \u001b[33m[WARN]\u001b[0m taxid 0 not found\n",
      "14:22:38.463 \u001b[33m[WARN]\u001b[0m taxid 0 not found\n",
      "14:22:38.463 \u001b[33m[WARN]\u001b[0m taxid 0 not found\n",
      "14:22:38.463 \u001b[33m[WARN]\u001b[0m taxid 0 not found\n",
      "14:22:38.463 \u001b[33m[WARN]\u001b[0m taxid 0 not found\n",
      "14:22:38.463 \u001b[33m[WARN]\u001b[0m taxid 0 not found\n",
      "14:22:38.463 \u001b[33m[WARN]\u001b[0m taxid 0 not found\n",
      "14:22:38.463 \u001b[33m[WARN]\u001b[0m taxid 0 not found\n",
      "14:22:38.463 \u001b[33m[WARN]\u001b[0m taxid 0 not found\n",
      "14:22:38.463 \u001b[33m[WARN]\u001b[0m taxid 0 not found\n",
      "14:22:38.463 \u001b[33m[WARN]\u001b[0m taxid 0 not found\n",
      "14:22:38.463 \u001b[33m[WARN]\u001b[0m taxid 0 not found\n",
      "14:22:38.464 \u001b[33m[WARN]\u001b[0m taxid 0 not found\n",
      "14:22:38.464 \u001b[33m[WARN]\u001b[0m taxid 0 not found\n",
      "14:22:38.464 \u001b[33m[WARN]\u001b[0m taxid 0 not found\n",
      "14:22:38.532 \u001b[33m[WARN]\u001b[0m taxid 0 not found\n",
      "14:22:38.532 \u001b[33m[WARN]\u001b[0m taxid 0 not found\n",
      "14:22:38.533 \u001b[33m[WARN]\u001b[0m taxid 0 not found\n",
      "14:22:38.533 \u001b[33m[WARN]\u001b[0m taxid 0 not found\n",
      "14:22:38.533 \u001b[33m[WARN]\u001b[0m taxid 0 not found\n",
      "14:22:38.533 \u001b[33m[WARN]\u001b[0m taxid 0 not found\n",
      "14:22:38.533 \u001b[33m[WARN]\u001b[0m taxid 0 not found\n",
      "14:22:38.533 \u001b[33m[WARN]\u001b[0m taxid 0 not found\n",
      "14:22:38.533 \u001b[33m[WARN]\u001b[0m taxid 0 not found\n",
      "14:22:38.533 \u001b[33m[WARN]\u001b[0m taxid 0 not found\n",
      "14:22:38.533 \u001b[33m[WARN]\u001b[0m taxid 0 not found\n",
      "14:22:38.533 \u001b[33m[WARN]\u001b[0m taxid 0 not found\n",
      "14:22:38.533 \u001b[33m[WARN]\u001b[0m taxid 0 not found\n",
      "14:22:38.533 \u001b[33m[WARN]\u001b[0m taxid 0 not found\n",
      "14:22:38.533 \u001b[33m[WARN]\u001b[0m taxid 0 not found\n",
      "14:22:38.533 \u001b[33m[WARN]\u001b[0m taxid 0 not found\n",
      "14:22:38.534 \u001b[33m[WARN]\u001b[0m taxid 0 not found\n",
      "14:22:38.534 \u001b[33m[WARN]\u001b[0m taxid 0 not found\n",
      "14:22:38.534 \u001b[33m[WARN]\u001b[0m taxid 0 not found\n",
      "14:22:38.534 \u001b[33m[WARN]\u001b[0m taxid 0 not found\n",
      "14:22:38.534 \u001b[33m[WARN]\u001b[0m taxid 0 not found\n",
      "14:22:38.534 \u001b[33m[WARN]\u001b[0m taxid 0 not found\n"
     ]
    }
   ],
   "source": [
    "%%bash\n",
    "\n",
    "mkdir kraken2_gdtb_res\n",
    "for file in ~/storage/trash/chrz/glyco_ALL_DNA_3.fasta; do\n",
    "    mkdir temp\n",
    "    fname=$(basename \"$file\" .faa)\n",
    "    kraken2 --report kraken2_gdtb_res/${fname}_report_gtdb --db /home/gladkov2/storage/somebases/kraken_gtdb_202_struo2/ --threads 50 $file > temp/${fname}_res_kraken.tsv\n",
    "    cat temp/${fname}_res_kraken.tsv | cut -f3 | cut -f3 |taxonkit --data-dir ~/storage/somebases/kraken_gtdb_202_struo2/taxonomy/  -j 50 lineage | taxonkit --data-dir ~/storage/somebases/kraken_gtdb_202_struo2/taxonomy/  -j 50 reformat  -I 1 -r \"Unassigned\" -f \"{k}\\t{p}\\t{c}\\t{o}\\t{f}\\t{g}\\t{s}\" > temp/first \n",
    "    cat temp/${fname}_res_kraken.tsv | cut -f2 > temp/second\n",
    "    paste temp/second temp/first > kraken2_gdtb_res/${fname}_res_kraken.tsv\n",
    "    rm -r temp\n",
    "done;"
   ]
  },
  {
   "cell_type": "code",
   "execution_count": null,
   "metadata": {},
   "outputs": [],
   "source": [
    "%%bash\n",
    "\n",
    "mkdir kraken2_gdtb_res\n",
    "for file in ~/storage/trash/chrz/Glyco_hydro_1.nucs.fa; do\n",
    "    mkdir temp\n",
    "    fname=$(basename \"$file\" .faa)\n",
    "    kraken2 --report kraken2_gdtb_res/${fname}_report_gtdb --db /home/gladkov2/storage/somebases/kraken_gtdb_207_struo2/ --threads 50 $file > temp/${fname}_res_kraken.tsv\n",
    "    cat temp/${fname}_res_kraken.tsv | cut -f3 | cut -f3 |taxonkit --data-dir ~/storage/somebases/kraken_gtdb_207_struo2/taxonomy/  -j 50 lineage | taxonkit --data-dir ~/storage/somebases/kraken_gtdb_202_struo2/taxonomy/  -j 50 reformat  -I 1 -r \"Unassigned\" -f \"{k}\\t{p}\\t{c}\\t{o}\\t{f}\\t{g}\\t{s}\" > temp/first \n",
    "    cat temp/${fname}_res_kraken.tsv | cut -f2 > temp/second\n",
    "    paste temp/second temp/first > kraken2_gdtb_res/${fname}_res_kraken.tsv\n",
    "    rm -r temp\n",
    "done;"
   ]
  },
  {
   "cell_type": "code",
   "execution_count": null,
   "metadata": {},
   "outputs": [],
   "source": [
    "%%bash\n",
    "\n",
    "mkdir kraken2_plus_res\n",
    "for file in ~/storage/trash/chrz/Glyco_hydro_1.nucs.fa; do\n",
    "    mkdir temp\n",
    "    fname=$(basename \"$file\" .fasta)\n",
    "    kraken2 --report kraken2_gdtb_res/${fname}_report_gtdb --db /home/gladkov2/storage/somebases/kraken_PlusPFP --threads 50 $file > temp/${fname}_res_kraken.tsv\n",
    "    cat temp/${fname}_res_kraken.tsv | cut -f3 | cut -f3 |taxonkit  --data-dir /home/gladkov2/storage/somebases/  -j 50 lineage | taxonkit --data-dir /home/gladkov2/storage/somebases/  -j 50 reformat  -I 1 -r \"Unassigned\" -f \"{k}\\t{p}\\t{c}\\t{o}\\t{f}\\t{g}\\t{s}\" > temp/first \n",
    "    cat temp/${fname}_res_kraken.tsv | cut -f2 > temp/second\n",
    "    paste temp/second temp/first > kraken2_plus_res/${fname}_res_kraken.tsv\n",
    "    rm -r temp\n",
    "done;"
   ]
  },
  {
   "cell_type": "code",
   "execution_count": null,
   "metadata": {},
   "outputs": [],
   "source": [
    "%%bash\n",
    "\n",
    "mkdir kraken2_plus_res\n",
    "for file in ~/storage/trash/chrz/Glyco_hydro_1.nucs.fa; do\n",
    "    mkdir temp\n",
    "    fname=$(basename \"$file\" .fasta)\n",
    "    kraken2 --report kraken2_gdtb_res/${fname}_report_gtdb --db /home/gladkov2/storage/somebases/kraken_PlusPFP --threads 50 $file > temp/${fname}_res_kraken.tsv\n",
    "    cat temp/${fname}_res_kraken.tsv | cut -f3 | cut -f3 |taxonkit  --data-dir /home/gladkov2/storage/somebases/  -j 50 lineage | taxonkit --data-dir /home/gladkov2/storage/somebases/  -j 50 reformat  -I 1 -r \"Unassigned\" -f \"{k}\\t{p}\\t{c}\\t{o}\\t{f}\\t{g}\\t{s}\" > temp/first \n",
    "    cat temp/${fname}_res_kraken.tsv | cut -f2 > temp/second\n",
    "    paste temp/second temp/first > kraken2_plus_res/${fname}_res_kraken.tsv\n",
    "    rm -r temp\n",
    "done;"
   ]
  },
  {
   "cell_type": "code",
   "execution_count": null,
   "metadata": {},
   "outputs": [],
   "source": [
    "%%bash\n",
    "\n",
    "mkdir kraken2_gdtb_res\n",
    "for dirs in ../assembled_by_repeates/*; do\n",
    "    mkdir temp\n",
    "    fname=$(basename $dirs)\n",
    "    kraken2 --report kraken2_gdtb_res/${fname}_report_gtdb --db /home/gladkov2/storage/somebases/kraken_gtdb_207_struo2/ --threads 50 ${dirs}/medaka_consensus/consensus.fasta > temp/${fname}_res_kraken.tsv\n",
    "    cat temp/${fname}_res_kraken.tsv | cut -f3 | cut -f3 |taxonkit --data-dir ~/storage/somebases/kraken_gtdb_207_struo2/taxonomy/  -j 50 lineage | taxonkit --data-dir ~/storage/somebases/kraken_gtdb_202_struo2/taxonomy/  -j 50 reformat  -I 1 -r \"Unassigned\" -f \"{k}\\t{p}\\t{c}\\t{o}\\t{f}\\t{g}\\t{s}\" > temp/first \n",
    "    cat temp/${fname}_res_kraken.tsv | cut -f2 > temp/second\n",
    "    paste temp/second temp/first > kraken2_gdtb_res/${fname}_res_kraken.tsv\n",
    "    rm -r temp\n",
    "done;"
   ]
  },
  {
   "cell_type": "code",
   "execution_count": null,
   "metadata": {},
   "outputs": [],
   "source": [
    "%%bash\n",
    "\n",
    "\n",
    "mkdir kraken2_gdtb_res\n",
    "for dirs in ../assembled_by_repeates/*; do\n",
    "    mkdir temp\n",
    "    fname=$(basename $dirs)\n",
    "    kraken2 --report kraken2_gdtb_res/${fname}_report_gtdb --db /home/gladkov2/storage/somebases/kraken_gtdb_207_struo2/ --threads 50 ${dirs}/medaka_consensus/consensus.fasta > temp/${fname}_res_kraken.tsv\n",
    "    cat temp/${fname}_res_kraken.tsv | cut -f3 | cut -f3 |taxonkit --data-dir ~/storage/somebases/kraken_gtdb_207_struo2/taxonomy/  -j 50 lineage | taxonkit --data-dir ~/storage/somebases/kraken_gtdb_202_struo2/taxonomy/  -j 50 reformat  -I 1 -r \"Unassigned\" -f \"{k}\\t{p}\\t{c}\\t{o}\\t{f}\\t{g}\\t{s}\" > temp/first \n",
    "    cat temp/${fname}_res_kraken.tsv | cut -f2 > temp/second\n",
    "    paste temp/second temp/first > kraken2_gdtb_res/${fname}_res_kraken.tsv\n",
    "    rm -r temp\n",
    "done;\n",
    "\n",
    "cd /home/gladkov2/storage/metagenome/bact_4x/new_con/diamond/con/kraken2_rep/\n",
    "python /home/gladkov2/storage/apps/KrakenTools/combine_kreports.py \\\n",
    "    -r 14_rep  26_rep 29_rep 46_rep\\\n",
    "    -o all.kreport2 --display-headers \n",
    "\n",
    "python /home/gladkov2/storage/apps/KrakenTools/kreport2krona.py -r all.kreport2 -o all.krona\n",
    "ktImportText all.krona -o all.krona.html\n",
    "\n",
    "mkdir kraken2_plus_res\n",
    "for dirs in ../rnf_c/fastas/*.fasta; do\n",
    "    mkdir temp\n",
    "    fname=$(basename $dirs)\n",
    "    kraken2 --report kraken2_plus_res/${fname}_report_plus --db /home/gladkov2/storage/somebases/kraken_PlusPFP --threads 50 $dirs > temp/${fname}_res_kraken.tsv\n",
    "    cat temp/${fname}_res_kraken.tsv | cut -f3 | cut -f3 |taxonkit --data-dir ~/storage/somebases/  -j 50 lineage | taxonkit --data-dir ~/home/gladkov2/storage/somebases/ -j 50 reformat  -I 1 -r \"Unassigned\" -f \"{k}\\t{p}\\t{c}\\t{o}\\t{f}\\t{g}\\t{s}\" > temp/first \n",
    "    cat temp/${fname}_res_kraken.tsv | cut -f2 > temp/second\n",
    "    paste temp/second temp/first > kraken2_plus_res/${fname}_res_kraken.tsv\n",
    "    rm -r temp\n",
    "done;\n",
    "\n",
    "for file in kraken2_plus_res/*_report_plus; do\n",
    "    fname=$(basename \"$file\")\n",
    "    fname=${fname%%_*}\n",
    "    echo $fname\n",
    "    echo $file\n",
    "    python /home/gladkov2/storage/apps/KrakenTools/kreport2krona.py -r ${file} -o kraken2_plus_res/${fname}.krona\n",
    "    sed -i 's/.__.__//g' kraken2_plus_res/${fname}.krona\n",
    "done;\n",
    "\n",
    "ktImportText kraken2_plus_res/*.krona -o kraken2_plus_res/all.krona.plus.html"
   ]
  },
  {
   "cell_type": "code",
   "execution_count": null,
   "metadata": {},
   "outputs": [],
   "source": [
    "for dirs in ../assembled_by_repeates/*; do\n",
    "    fname=$(basename $dirs)\n",
    "    echo ${dirs}/medaka_consensus/consensus.fasta\n",
    "done;"
   ]
  },
  {
   "cell_type": "code",
   "execution_count": 7,
   "metadata": {},
   "outputs": [
    {
     "name": "stdout",
     "output_type": "stream",
     "text": [
      "glyco_ch2_DNA.fasta  glyco_chz_DNA.fasta  \u001b[0m\u001b[01;34mkraken2_gdtb_res\u001b[0m\n"
     ]
    }
   ],
   "source": [
    "!ls --color /medaka_consensus/consensus.fasta"
   ]
  },
  {
   "cell_type": "code",
   "execution_count": 10,
   "metadata": {},
   "outputs": [
    {
     "ename": "SyntaxError",
     "evalue": "invalid syntax (<ipython-input-10-4206437deea9>, line 3)",
     "output_type": "error",
     "traceback": [
      "\u001b[0;36m  File \u001b[0;32m\"<ipython-input-10-4206437deea9>\"\u001b[0;36m, line \u001b[0;32m3\u001b[0m\n\u001b[0;31m    run_dbcan --dia_cpu 20 --tf_cpu 20 --tools 'all' glyco_chz_DNA.fasta\u001b[0m\n\u001b[0m                        ^\u001b[0m\n\u001b[0;31mSyntaxError\u001b[0m\u001b[0;31m:\u001b[0m invalid syntax\n"
     ]
    }
   ],
   "source": [
    "%bash\n",
    "\n",
    "run_dbcan --dia_cpu 20 --tf_cpu 20 --tools 'all' glyco_chz_DNA.fasta"
   ]
  },
  {
   "cell_type": "code",
   "execution_count": null,
   "metadata": {},
   "outputs": [],
   "source": [
    "%%bash\n",
    "\n",
    "for file in ../rnf_c/fastas/*fasta; do\n",
    "    fname=$(basename \"$file\" .fasta)\n",
    "    run_dbcan $file meta --db_dir ~/storage/somebases/dbcan --dia_cpu 40 --tf_cpu 40 --dia_cpu 40 -c CLUSTER --out_pre $fname --out_dir  dbcan3\n",
    "done;\n"
   ]
  },
  {
   "cell_type": "code",
   "execution_count": null,
   "metadata": {},
   "outputs": [],
   "source": [
    "for file in ../rnf_c/fastas/*fasta; do\n",
    "    fname=$(basename \"$file\" .fasta)\n",
    "    echo $fname\n",
    "done;"
   ]
  },
  {
   "cell_type": "code",
   "execution_count": null,
   "metadata": {},
   "outputs": [],
   "source": [
    "%%bash\n",
    "\n",
    "for file in ../rnf_c/fastas/*fasta; do\n",
    "    fname=$(basename \"$file\" .fasta) \\\n",
    "    run_dbcan \\\n",
    "    $file \\\n",
    "    meta \\\n",
    "    -t diamond \\\n",
    "    --db_dir ~/storage/somebases/dbcan4/dbcan4 \\\n",
    "    --dia_cpu 50 \\\n",
    "    --tf_cpu 50 \\\n",
    "    --dia_cpu 50 \\\n",
    "    -c CLUSTER \\\n",
    "    -w dbcan4 \\\n",
    "    --cgc_sig_genes all\\\n",
    "    --out_pre $fname \\\n",
    "    --out_dir  dbcan4 \\\n",
    "    --cgc_substrate \n",
    "done;\n"
   ]
  },
  {
   "cell_type": "code",
   "execution_count": null,
   "metadata": {},
   "outputs": [],
   "source": [
    "%%bash\n",
    "\n",
    "\n",
    "\n",
    "for file in ../rnf_c/fastas/*fasta; do\n",
    "    fname=$(basename \"$file\" .fasta) \\\n",
    "    mkdir dbcan4/${fname}\n",
    "    nohup run_dbcan \\\n",
    "    $file \\\n",
    "    meta \\\n",
    "    -t diamond \\\n",
    "    --db_dir ~/storage/somebases/dbcan4/dbcan4 \\\n",
    "    --dia_cpu 50 \\\n",
    "    --tf_cpu 50 \\\n",
    "    --dia_cpu 50 \\\n",
    "    -c CLUSTER \\\n",
    "    -w dbcan4 \\\n",
    "    --cgc_sig_genes all\\\n",
    "    --out_pre $fname \\\n",
    "    --out_dir  dbcan4/$fname \\\n",
    "    --cgc_substrate \\\n",
    "    -o dbcan4/${fname}\n",
    "done;\n"
   ]
  },
  {
   "cell_type": "code",
   "execution_count": null,
   "metadata": {},
   "outputs": [],
   "source": [
    "%%bash\n",
    "\n",
    "for file in ../rnf_c/fastas/*fasta; do\n",
    "    fname=$(basename \"$file\" .fasta) \\\n",
    "    isescan.py \\\n",
    "    --seqfile $file \\\n",
    "    --output isescan/${fname} \\\n",
    "    --nthread 30\n",
    "done;\n"
   ]
  },
  {
   "cell_type": "code",
   "execution_count": null,
   "metadata": {},
   "outputs": [],
   "source": [
    "%%bash\n",
    "\n",
    "for file in ls ../rnf_c/fastas/*fasta; do\n",
    "    fname=$(basename \"$file\" .fasta)\n",
    "    echo $file\n",
    "    echo $fname\n",
    "done;"
   ]
  }
 ],
 "metadata": {
  "kernelspec": {
   "display_name": "Python [conda env:kraken]",
   "language": "python",
   "name": "conda-env-kraken-py"
  },
  "language_info": {
   "codemirror_mode": {
    "name": "ipython",
    "version": 3
   },
   "file_extension": ".py",
   "mimetype": "text/x-python",
   "name": "python",
   "nbconvert_exporter": "python",
   "pygments_lexer": "ipython3",
   "version": "3.9.5"
  },
  "toc-showtags": true
 },
 "nbformat": 4,
 "nbformat_minor": 5
}
