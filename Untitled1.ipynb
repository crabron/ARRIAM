{
 "cells": [
  {
   "cell_type": "code",
   "execution_count": 319,
   "metadata": {},
   "outputs": [
    {
     "ename": "KeyboardInterrupt",
     "evalue": "",
     "output_type": "error",
     "traceback": [
      "\u001b[0;31m---------------------------------------------------------------------------\u001b[0m",
      "\u001b[0;31mKeyboardInterrupt\u001b[0m                         Traceback (most recent call last)",
      "\u001b[0;32m<ipython-input-319-a36d2f86d151>\u001b[0m in \u001b[0;36m<module>\u001b[0;34m()\u001b[0m\n\u001b[1;32m    119\u001b[0m     \u001b[0mpuzzle\u001b[0m \u001b[0;34m=\u001b[0m \u001b[0mstr\u001b[0m\u001b[0;34m(\u001b[0m\u001b[0;34m[\u001b[0m\u001b[0;34m[\u001b[0m\u001b[0;36m2\u001b[0m\u001b[0;34m,\u001b[0m \u001b[0;36m11\u001b[0m\u001b[0;34m,\u001b[0m \u001b[0;36m4\u001b[0m\u001b[0;34m,\u001b[0m \u001b[0;36m13\u001b[0m\u001b[0;34m]\u001b[0m\u001b[0;34m,\u001b[0m\u001b[0;34m[\u001b[0m\u001b[0;36m14\u001b[0m\u001b[0;34m,\u001b[0m \u001b[0;36m0\u001b[0m\u001b[0;34m,\u001b[0m \u001b[0;36m9\u001b[0m\u001b[0;34m,\u001b[0m \u001b[0;36m5\u001b[0m\u001b[0;34m]\u001b[0m\u001b[0;34m,\u001b[0m \u001b[0;34m[\u001b[0m\u001b[0;36m8\u001b[0m\u001b[0;34m,\u001b[0m \u001b[0;36m3\u001b[0m\u001b[0;34m,\u001b[0m \u001b[0;36m10\u001b[0m\u001b[0;34m,\u001b[0m \u001b[0;36m12\u001b[0m\u001b[0;34m]\u001b[0m\u001b[0;34m,\u001b[0m\u001b[0;34m[\u001b[0m\u001b[0;36m15\u001b[0m\u001b[0;34m,\u001b[0m \u001b[0;36m6\u001b[0m\u001b[0;34m,\u001b[0m \u001b[0;36m7\u001b[0m\u001b[0;34m,\u001b[0m \u001b[0;36m1\u001b[0m\u001b[0;34m]\u001b[0m\u001b[0;34m]\u001b[0m\u001b[0;34m)\u001b[0m\u001b[0;34m\u001b[0m\u001b[0;34m\u001b[0m\u001b[0m\n\u001b[1;32m    120\u001b[0m     \u001b[0mend\u001b[0m \u001b[0;34m=\u001b[0m \u001b[0mstr\u001b[0m\u001b[0;34m(\u001b[0m\u001b[0;34m[\u001b[0m\u001b[0;34m[\u001b[0m\u001b[0;36m0\u001b[0m\u001b[0;34m,\u001b[0m \u001b[0;36m1\u001b[0m\u001b[0;34m,\u001b[0m \u001b[0;36m2\u001b[0m\u001b[0;34m,\u001b[0m \u001b[0;36m3\u001b[0m\u001b[0;34m]\u001b[0m\u001b[0;34m,\u001b[0m\u001b[0;34m[\u001b[0m\u001b[0;36m4\u001b[0m\u001b[0;34m,\u001b[0m \u001b[0;36m5\u001b[0m\u001b[0;34m,\u001b[0m \u001b[0;36m6\u001b[0m\u001b[0;34m,\u001b[0m \u001b[0;36m7\u001b[0m\u001b[0;34m]\u001b[0m\u001b[0;34m,\u001b[0m \u001b[0;34m[\u001b[0m\u001b[0;36m8\u001b[0m\u001b[0;34m,\u001b[0m \u001b[0;36m9\u001b[0m\u001b[0;34m,\u001b[0m \u001b[0;36m10\u001b[0m\u001b[0;34m,\u001b[0m \u001b[0;36m11\u001b[0m\u001b[0;34m]\u001b[0m\u001b[0;34m,\u001b[0m\u001b[0;34m[\u001b[0m\u001b[0;36m12\u001b[0m\u001b[0;34m,\u001b[0m \u001b[0;36m13\u001b[0m\u001b[0;34m,\u001b[0m \u001b[0;36m14\u001b[0m\u001b[0;34m,\u001b[0m \u001b[0;36m15\u001b[0m\u001b[0;34m]\u001b[0m\u001b[0;34m]\u001b[0m\u001b[0;34m)\u001b[0m\u001b[0;34m\u001b[0m\u001b[0;34m\u001b[0m\u001b[0m\n\u001b[0;32m--> 121\u001b[0;31m     \u001b[0mpuzz_astar\u001b[0m\u001b[0;34m(\u001b[0m\u001b[0mpuzzle\u001b[0m\u001b[0;34m,\u001b[0m\u001b[0mend\u001b[0m\u001b[0;34m)\u001b[0m\u001b[0;34m\u001b[0m\u001b[0;34m\u001b[0m\u001b[0m\n\u001b[0m\u001b[1;32m    122\u001b[0m     \u001b[0mpuzz_breadth_first\u001b[0m\u001b[0;34m(\u001b[0m\u001b[0mpuzzle\u001b[0m\u001b[0;34m,\u001b[0m\u001b[0mend\u001b[0m\u001b[0;34m)\u001b[0m\u001b[0;34m\u001b[0m\u001b[0;34m\u001b[0m\u001b[0m\n\u001b[1;32m    123\u001b[0m \u001b[0;34m\u001b[0m\u001b[0m\n",
      "\u001b[0;32m<ipython-input-319-a36d2f86d151>\u001b[0m in \u001b[0;36mpuzz_astar\u001b[0;34m(start, end)\u001b[0m\n\u001b[1;32m     38\u001b[0m         \u001b[0mi\u001b[0m \u001b[0;34m=\u001b[0m \u001b[0;36m0\u001b[0m\u001b[0;34m\u001b[0m\u001b[0;34m\u001b[0m\u001b[0m\n\u001b[1;32m     39\u001b[0m         \u001b[0;32mfor\u001b[0m \u001b[0mj\u001b[0m \u001b[0;32min\u001b[0m \u001b[0mrange\u001b[0m\u001b[0;34m(\u001b[0m\u001b[0;36m1\u001b[0m\u001b[0;34m,\u001b[0m \u001b[0mlen\u001b[0m\u001b[0;34m(\u001b[0m\u001b[0mfront\u001b[0m\u001b[0;34m)\u001b[0m\u001b[0;34m)\u001b[0m\u001b[0;34m:\u001b[0m\u001b[0;34m\u001b[0m\u001b[0;34m\u001b[0m\u001b[0m\n\u001b[0;32m---> 40\u001b[0;31m             \u001b[0;32mif\u001b[0m \u001b[0mfront\u001b[0m\u001b[0;34m[\u001b[0m\u001b[0mi\u001b[0m\u001b[0;34m]\u001b[0m\u001b[0;34m[\u001b[0m\u001b[0;36m0\u001b[0m\u001b[0;34m]\u001b[0m \u001b[0;34m>\u001b[0m \u001b[0mfront\u001b[0m\u001b[0;34m[\u001b[0m\u001b[0mj\u001b[0m\u001b[0;34m]\u001b[0m\u001b[0;34m[\u001b[0m\u001b[0;36m0\u001b[0m\u001b[0;34m]\u001b[0m\u001b[0;34m:\u001b[0m\u001b[0;34m\u001b[0m\u001b[0;34m\u001b[0m\u001b[0m\n\u001b[0m\u001b[1;32m     41\u001b[0m                 \u001b[0mi\u001b[0m \u001b[0;34m=\u001b[0m \u001b[0mj\u001b[0m\u001b[0;34m\u001b[0m\u001b[0;34m\u001b[0m\u001b[0m\n\u001b[1;32m     42\u001b[0m         \u001b[0mpath\u001b[0m \u001b[0;34m=\u001b[0m \u001b[0mfront\u001b[0m\u001b[0;34m[\u001b[0m\u001b[0mi\u001b[0m\u001b[0;34m]\u001b[0m\u001b[0;34m\u001b[0m\u001b[0;34m\u001b[0m\u001b[0m\n",
      "\u001b[0;31mKeyboardInterrupt\u001b[0m: "
     ]
    }
   ],
   "source": [
    "import pprint\n",
    "pp = pprint.PrettyPrinter(indent=4)\n",
    "\n",
    "def puzz_breadth_first(start,end):\n",
    "    \"\"\"\n",
    "    Breadth First algorithm\n",
    "    \"\"\"\n",
    "    front = [[puzzle]]\n",
    "    expanded = []\n",
    "    expanded_nodes=0\n",
    "    while front:\n",
    "        i = 0\n",
    "        for j in range(1, len(front)):    #minimum\n",
    "            if len(front[i]) > len(front[j]):\n",
    "                i = j\n",
    "        path = front[i]         \n",
    "        front = front[:i] + front[i+1:]\n",
    "        endnode = path[-1]\n",
    "        if endnode in expanded: continue\n",
    "        for k in moves(endnode):\n",
    "            if k in expanded: continue\n",
    "            front.append(path + [k])\n",
    "        expanded.append(endnode)\n",
    "        expanded_nodes += 1\n",
    "        if endnode == end: break\n",
    "    print(\"Expanded nodes:\",expanded_nodes)\n",
    "    print(\"Solution:\")\n",
    "    pp.pprint(path)\n",
    "\n",
    "def puzz_astar(start,end):\n",
    "    \"\"\"\n",
    "    A* algorithm\n",
    "    \"\"\"\n",
    "    front = [[heuristic_2(start), start]] #optional: heuristic_1\n",
    "    expanded = []\n",
    "    expanded_nodes=0\n",
    "    while front:\n",
    "        i = 0\n",
    "        for j in range(1, len(front)):\n",
    "            if front[i][0] > front[j][0]:\n",
    "                i = j\n",
    "        path = front[i]\n",
    "        front = front[:i] + front[i+1:]\n",
    "        endnode = path[-1]\n",
    "        if endnode == end:\n",
    "            break\n",
    "        if endnode in expanded: continue\n",
    "        for k in moves(endnode):\n",
    "            if k in expanded: continue\n",
    "            newpath = [path[0] + heuristic_2(k) - heuristic_2(endnode)] + path[1:] + [k] \n",
    "            front.append(newpath)\n",
    "            expanded.append(endnode)\n",
    "        expanded_nodes += 1 \n",
    "    print(\"Expanded nodes:\", expanded_nodes)\n",
    "    print(\"Solution:\")\n",
    "    pp.pprint(path)\n",
    "\n",
    "\n",
    "def moves(mat): \n",
    "    \"\"\"\n",
    "    Returns a list of all possible moves\n",
    "    \"\"\"\n",
    "    output = []  \n",
    "\n",
    "    m = eval(mat)   \n",
    "    i = 0\n",
    "    while 0 not in m[i]: i += 1\n",
    "    j = m[i].index(0); #blank space (zero)\n",
    "\n",
    "    if i > 0:                                   \n",
    "      m[i][j], m[i-1][j] = m[i-1][j], m[i][j];  #move up\n",
    "      output.append(str(m))\n",
    "      m[i][j], m[i-1][j] = m[i-1][j], m[i][j]; \n",
    "      \n",
    "    if i < 3:                                   \n",
    "      m[i][j], m[i+1][j] = m[i+1][j], m[i][j]   #move down\n",
    "      output.append(str(m))\n",
    "      m[i][j], m[i+1][j] = m[i+1][j], m[i][j]\n",
    "\n",
    "    if j > 0:                                                      \n",
    "      m[i][j], m[i][j-1] = m[i][j-1], m[i][j]   #move left\n",
    "      output.append(str(m))\n",
    "      m[i][j], m[i][j-1] = m[i][j-1], m[i][j]\n",
    "\n",
    "    if j < 3:                                   \n",
    "      m[i][j], m[i][j+1] = m[i][j+1], m[i][j]   #move right\n",
    "      output.append(str(m))\n",
    "      m[i][j], m[i][j+1] = m[i][j+1], m[i][j]\n",
    "\n",
    "    return output\n",
    "\n",
    "def heuristic_1(puzz):\n",
    "    \"\"\"\n",
    "    Counts the number of misplaced tiles\n",
    "    \"\"\" \n",
    "    misplaced = 0\n",
    "    compare = 0\n",
    "    m = eval(puzz)\n",
    "    for i in range(4):\n",
    "        for j in range(4):\n",
    "            if m[i][j] != compare:\n",
    "                misplaced += 1\n",
    "            compare += 1\n",
    "    return misplaced\n",
    "\n",
    "def heuristic_2(puzz):\n",
    "    \"\"\"\n",
    "    Manhattan distance\n",
    "    \"\"\"  \n",
    "    distance = 0\n",
    "    m = eval(puzz)          \n",
    "    for i in range(4):\n",
    "        for j in range(4):\n",
    "            if m[i][j] == 0: continue\n",
    "            distance += abs(i - (m[i][j]/4)) + abs(j -  (m[i][j]%4));\n",
    "    return distance\n",
    "\n",
    "if __name__ == '__main__':\n",
    "    puzzle = str([[2, 11, 4, 13],[14, 0, 9, 5], [8, 3, 10, 12],[15, 6, 7, 1]])\n",
    "    end = str([[0, 1, 2, 3],[4, 5, 6, 7], [8, 9, 10, 11],[12, 13, 14, 15]])\n",
    "    puzz_astar(puzzle,end)\n",
    "    puzz_breadth_first(puzzle,end)\n",
    "    "
   ]
  },
  {
   "cell_type": "code",
   "execution_count": 293,
   "metadata": {},
   "outputs": [
    {
     "name": "stdout",
     "output_type": "stream",
     "text": [
      "hi ' fuck\u000b",
      "fuck\u0007 your\tthereass\n",
      "shi\u000b",
      "tt\u000b",
      "asshi ' fuck\u000b",
      "fuck\u0007 your\tthereslut"
     ]
    }
   ],
   "source": [
    "print(s, p, s, sep=\"ass\", end = \"slut\")"
   ]
  },
  {
   "cell_type": "code",
   "execution_count": 173,
   "metadata": {},
   "outputs": [
    {
     "ename": "NameError",
     "evalue": "name 'split' is not defined",
     "output_type": "error",
     "traceback": [
      "\u001b[0;31m---------------------------------------------------------------------------\u001b[0m",
      "\u001b[0;31mNameError\u001b[0m                                 Traceback (most recent call last)",
      "\u001b[0;32m<ipython-input-173-17817e2a6036>\u001b[0m in \u001b[0;36m<module>\u001b[0;34m()\u001b[0m\n\u001b[0;32m----> 1\u001b[0;31m \u001b[0mprint\u001b[0m\u001b[0;34m(\u001b[0m\u001b[0msplit\u001b[0m\u001b[0;34m(\u001b[0m\u001b[0ms\u001b[0m\u001b[0;34m)\u001b[0m\u001b[0;34m)\u001b[0m\u001b[0;34m\u001b[0m\u001b[0;34m\u001b[0m\u001b[0m\n\u001b[0m",
      "\u001b[0;31mNameError\u001b[0m: name 'split' is not defined"
     ]
    }
   ],
   "source": [
    "print(split(s))"
   ]
  },
  {
   "cell_type": "code",
   "execution_count": 180,
   "metadata": {},
   "outputs": [],
   "source": [
    "xs = [1, 5, 6, \"sd\"]"
   ]
  },
  {
   "cell_type": "code",
   "execution_count": 303,
   "metadata": {},
   "outputs": [
    {
     "data": {
      "text/plain": [
       "10"
      ]
     },
     "execution_count": 303,
     "metadata": {},
     "output_type": "execute_result"
    }
   ],
   "source": [
    "s.index(\"fuck\", 8, -1)"
   ]
  },
  {
   "cell_type": "code",
   "execution_count": 304,
   "metadata": {},
   "outputs": [
    {
     "data": {
      "text/plain": [
       "\"hi ' fuck\\x0bfuck\\x07 your\\tthere\""
      ]
     },
     "execution_count": 304,
     "metadata": {},
     "output_type": "execute_result"
    }
   ],
   "source": [
    "s"
   ]
  }
 ],
 "metadata": {
  "kernelspec": {
   "display_name": "Python 3",
   "language": "python",
   "name": "python3"
  },
  "language_info": {
   "codemirror_mode": {
    "name": "ipython",
    "version": 3
   },
   "file_extension": ".py",
   "mimetype": "text/x-python",
   "name": "python",
   "nbconvert_exporter": "python",
   "pygments_lexer": "ipython3",
   "version": "3.6.11"
  }
 },
 "nbformat": 4,
 "nbformat_minor": 4
}
