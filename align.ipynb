{
 "cells": [
  {
   "cell_type": "code",
   "execution_count": 5,
   "id": "norman-burke",
   "metadata": {},
   "outputs": [
    {
     "name": "stderr",
     "output_type": "stream",
     "text": [
      "/home/gladkov2/anaconda2/envs/glyc/lib/python3.9/site-packages/rpy2/ipython/rmagic.py:81: UserWarning: The Python package `pandas` is strongly recommended when using `rpy2.ipython`. Unfortunately it could not be loaded, as we did not manage to load `numpy` in the first place (error: No module named 'numpy').\n",
      "  warnings.warn('The Python package `pandas` is strongly '\n"
     ]
    }
   ],
   "source": [
    "import os\n",
    "# %load_ext rpy2.ipython - for pandas envinroment only \n",
    "# import vamb\n",
    "# %config IPCompleter.greedy=True\n",
    "%config Completer.use_jedi = False\n",
    "%load_ext rpy2.ipython"
   ]
  },
  {
   "cell_type": "code",
   "execution_count": 2,
   "id": "dense-sensitivity",
   "metadata": {},
   "outputs": [
    {
     "name": "stdout",
     "output_type": "stream",
     "text": [
      "\u001b[0m\u001b[01;34mAnt_1\u001b[0m/         align_log.tsv  \u001b[01;34mmy_interproscan\u001b[0m/  \u001b[01;34msee_some_results\u001b[0m/  \u001b[01;34mtrees\u001b[0m/\n",
      "\u001b[01;34mBact_comm_4x\u001b[0m/  \u001b[01;34mant_1\u001b[0m/         \u001b[01;34mncbi\u001b[0m/             \u001b[01;34mserver1_arc\u001b[0m/       \u001b[01;34mwaypipe\u001b[0m/\n",
      "\u001b[01;34mCheckM\u001b[0m/        \u001b[01;34mant_1_tree\u001b[0m/    \u001b[01;34mnotebooks\u001b[0m/        \u001b[01;34msomebases\u001b[0m/\n",
      "\u001b[01;34mal_R\u001b[0m/          \u001b[34;42mmetagenome\u001b[0m/    \u001b[01;34mplates\u001b[0m/           \u001b[01;34mtemp\u001b[0m/\n"
     ]
    }
   ],
   "source": [
    "%ls ../\n"
   ]
  },
  {
   "cell_type": "markdown",
   "id": "characteristic-notion",
   "metadata": {},
   "source": [
    "### Фильтр:\n",
    "+ то что не прошло IQ-tree\n",
    "+ хлоропласты и митохондрии\n",
    "    + неидентифицировано\n",
    "    + не проходит galaxy\n",
    "    + минор\n",
    "    "
   ]
  },
  {
   "cell_type": "code",
   "execution_count": 9,
   "id": "sonic-reputation",
   "metadata": {},
   "outputs": [
    {
     "name": "stdout",
     "output_type": "stream",
     "text": [
      "/mnt/storage/trees/nal\n"
     ]
    }
   ],
   "source": [
    "%cd ~/storage/trees/nal/"
   ]
  },
  {
   "cell_type": "code",
   "execution_count": 6,
   "id": "female-realtor",
   "metadata": {},
   "outputs": [],
   "source": [
    "%%R\n",
    "\n",
    "a <- list.files()"
   ]
  },
  {
   "cell_type": "code",
   "execution_count": 8,
   "id": "russian-sport",
   "metadata": {},
   "outputs": [
    {
     "name": "stdout",
     "output_type": "stream",
     "text": [
      "nthread = 50\n",
      "nthreadpair = 50\n",
      "nthreadtb = 16\n",
      "ppenalty_ex = 0\n",
      "stacksize: 8192 kb\n",
      "generating a scoring matrix for nucleotide (dist=200) ... done\n",
      "Gap Penalty = -1.53, +0.00, +0.00\n",
      "\n",
      "\n",
      "\n",
      "Making a distance matrix ..\n",
      " 16101 / 16159 (thread   45)\n",
      "done.\n",
      "\n",
      "Constructing a UPGMA tree (efffree=0) ... \n",
      " 16150 / 16159\n",
      "done.\n",
      "\n",
      "Progressive alignment 1/2... \n",
      "STEP  14601 / 16158 (thread   15) h\n",
      "Reallocating..done. *alloclen = 1662\n",
      "STEP  16001 / 16158 (thread   15) h\n",
      "Reallocating..done. *alloclen = 2702\n",
      "STEP  16101 / 16158 (thread    1)\n",
      "Reallocating..done. *alloclen = 3724\n",
      "\n",
      "done.\n",
      "\n",
      "Making a distance matrix from msa.. \n",
      " 16100 / 16159 (thread   15)\n",
      "done.\n",
      "\n",
      "Constructing a UPGMA tree (efffree=1) ... \n",
      " 16150 / 16159\n",
      "done.\n",
      "\n",
      "Progressive alignment 2/2... \n",
      "STEP  15101 / 16158 (thread    1) h\n",
      "Reallocating..done. *alloclen = 1641\n",
      "STEP  16101 / 16158 (thread    8) h\n",
      "Reallocating..done. *alloclen = 2677\n",
      "\n",
      "Reallocating..done. *alloclen = 3688\n",
      "\n",
      "done.\n",
      "\n",
      "disttbfast (nuc) Version 7.475\n",
      "alg=A, model=DNA200 (2), 1.53 (4.59), -0.00 (-0.00), noshift, amax=0.0\n",
      "16 thread(s)\n",
      "\n",
      "\n",
      "Strategy:\n",
      " FFT-NS-2 (Fast but rough)\n",
      " Progressive method (guide trees were built 2 times.)\n",
      "\n",
      "If unsure which option to use, try 'mafft --auto input > output'.\n",
      "For more information, see 'mafft --help', 'mafft --man' and the mafft page.\n",
      "\n",
      "The default gap scoring scheme has been changed in version 7.110 (2013 Oct).\n",
      "It tends to insert more gaps into gap-rich regions than previous versions.\n",
      "To disable this change, add the --leavegappyregion option.\n",
      "\n"
     ]
    }
   ],
   "source": [
    "!mafft --auto --thread 50 --inputorder \"rep_seq.fasta\" > \"al_1.fasta\""
   ]
  },
  {
   "cell_type": "code",
   "execution_count": 8,
   "id": "realistic-blade",
   "metadata": {},
   "outputs": [
    {
     "name": "stdout",
     "output_type": "stream",
     "text": [
      "total 57M\n",
      "-rw-rw-r-- 1 gladkov2 gladkov2  11K Apr  2 13:39 Untitled.ipynb\n",
      "-rw-rw-r-- 1 gladkov2 gladkov2 1.2M Apr  1 11:57 vamb.ipynb\n",
      "-rw-rw-r-- 1 gladkov2 gladkov2  13K Mar  3 11:51 krak_galega.ipynb\n",
      "-rw-rw-r-- 1 gladkov2 gladkov2 2.4K Mar  1 14:04 metabat2.sh\n",
      "-rw-rw-r-- 1 gladkov2 gladkov2 1.8K Mar  1 10:50 Untitled5.ipynb\n",
      "-rw-rw-r-- 1 gladkov2 gladkov2  26K Feb  1 14:54 cond.R\n",
      "-rw-rw-r-- 1 gladkov2 gladkov2  11K Feb  1 14:54 mal_2021.Rmd\n",
      "-rw-rw-r-- 1 gladkov2 gladkov2  19K Feb  1 14:54 nal.Rmd\n",
      "-rw-rw-r-- 1 gladkov2 gladkov2  90K Feb  1 14:54 plots_for_BI.ipynb\n",
      "-rw-rw-r-- 1 gladkov2 gladkov2  77K Feb  1 14:54 Al_RF_2.ipynb\n",
      "-rw-rw-r-- 1 gladkov2 gladkov2   72 Feb  1 09:49 Untitled3.ipynb\n",
      "-rw-rw-r-- 1 gladkov2 gladkov2   72 Jan 29 12:50 Untitled2.ipynb\n",
      "-rw-rw-r-- 1 gladkov2 gladkov2 1.4M Jan 27 11:09 hmmer.ipynb\n",
      "-rw-rw-r-- 1 gladkov2 gladkov2 2.1K Jan 27 11:08 hmms.ipynb\n",
      "-rw-rw-r-- 1 gladkov2 gladkov2  172 Jan 18 10:55 README.md\n",
      "-rw-rw-r-- 1 gladkov2 gladkov2  26K Jan 18 10:55 ant_1.Rmd\n",
      "-rw-rw-r-- 1 gladkov2 gladkov2  19K Jan 18 10:55 ant_cr.Rmd\n",
      "-rw-rw-r-- 1 gladkov2 gladkov2 5.5K Jan 18 10:55 ant_cr_its.R\n",
      "-rw-rw-r-- 1 gladkov2 gladkov2  25K Jan 18 10:55 cryo.Rmd\n",
      "-rw-rw-r-- 1 gladkov2 gladkov2  83K Dec 30 09:53 plates_plos_v2.Rmd\n",
      "-rw-rw-r-- 1 gladkov2 gladkov2 2.2M Dec 30 09:53 rf_2.ipynb\n",
      "-rw-rw-r-- 1 gladkov2 gladkov2 1.6K Dec 30 09:53 seaborn_tast_habr_file.ipynb\n",
      "-rw-rw-r-- 1 gladkov2 gladkov2 1.7K Dec 30 09:53 shitty_prop_delete.R\n",
      "-rw-rw-r-- 1 gladkov2 gladkov2  876 Dec 30 09:53 spades.R\n",
      "-rw-rw-r-- 1 gladkov2 gladkov2  29K Dec 30 09:53 straw.R\n",
      "-rw-rw-r-- 1 gladkov2 gladkov2  14K Dec 30 09:53 straw_its.R\n",
      "-rw-rw-r-- 1 gladkov2 gladkov2  13K Dec 30 09:53 straw_nets.Rmd\n",
      "-rw-rw-r-- 1 gladkov2 gladkov2 4.4K Dec 30 09:53 stud_fire.Rmd\n",
      "-rw-rw-r-- 1 gladkov2 gladkov2 1.2K Dec 30 09:53 svir.R\n",
      "-rw-rw-r-- 1 gladkov2 gladkov2 4.5K Dec 30 09:53 taxa_summary.ipynb\n",
      "-rw-rw-r-- 1 gladkov2 gladkov2 1.1K Dec 30 09:53 trees.R\n",
      "-rw-rw-r-- 1 gladkov2 gladkov2 1.6K Dec 30 09:53 who_nows_but_maybe_last_some.R\n",
      "-rw-rw-r-- 1 gladkov2 gladkov2 7.9K Dec 30 09:53 work_dada\n",
      "-rw-rw-r-- 1 gladkov2 gladkov2 6.2K Dec 30 09:53 zverev_amazing_q1\n",
      "-rw-rw-r-- 1 gladkov2 gladkov2 2.2M Dec 30 09:53 plates_plos.html\n",
      "-rw-rw-r-- 1 gladkov2 gladkov2 1.1K Dec 30 09:53 div_net.R\n",
      "-rw-rw-r-- 1 gladkov2 gladkov2  11K Dec 30 09:53 domain_analysis.ipynb\n",
      "-rw-rw-r-- 1 gladkov2 gladkov2  752 Dec 30 09:53 elize_delete.py\n",
      "-rw-rw-r-- 1 gladkov2 gladkov2 5.9K Dec 30 09:53 fire_end.R\n",
      "-rw-rw-r-- 1 gladkov2 gladkov2 8.1K Dec 30 09:53 freqsigch.py\n",
      "-rw-rw-r-- 1 gladkov2 gladkov2  25K Dec 30 09:53 functions.R\n",
      "-rw-rw-r-- 1 gladkov2 gladkov2  15K Dec 30 09:53 gh_contig_hist.ipynb\n",
      "-rw-rw-r-- 1 gladkov2 gladkov2  291 Dec 30 09:53 git.sh\n",
      "-rw-rw-r-- 1 gladkov2 gladkov2  16K Dec 30 09:53 glyc.Rmd\n",
      "-rw-rw-r-- 1 gladkov2 gladkov2 1.8K Dec 30 09:53 heat_graphs.R\n",
      "-rw-rw-r-- 1 gladkov2 gladkov2 1.7K Dec 30 09:53 idtaxa.Rmd\n",
      "-rw-rw-r-- 1 gladkov2 gladkov2 7.7K Dec 30 09:53 kate_cca.R\n",
      "-rw-rw-r-- 1 gladkov2 gladkov2 2.7K Dec 30 09:53 kate_cca.txt\n",
      "-rw-rw-r-- 1 gladkov2 gladkov2 1.5K Dec 30 09:53 kim_plot.R\n",
      "-rw-rw-r-- 1 gladkov2 gladkov2 7.4K Dec 30 09:53 krim_chrono.R\n",
      "-rw-rw-r-- 1 gladkov2 gladkov2 6.2K Dec 30 09:53 kuz.Rmd\n",
      "-rw-rw-r-- 1 gladkov2 gladkov2 3.7K Dec 30 09:53 lazy_kuz.R\n",
      "-rw-rw-r-- 1 gladkov2 gladkov2 1.6K Dec 30 09:53 lise.heat.R\n",
      "-rw-rw-r-- 1 gladkov2 gladkov2 1.7K Dec 30 09:53 lize_shitty_prop_delete.R\n",
      "-rw-rw-r-- 1 gladkov2 gladkov2 6.2K Dec 30 09:53 main.sh\n",
      "-rw-rw-r-- 1 gladkov2 gladkov2 3.0K Dec 30 09:53 mantel.R\n",
      "-rw-rw-r-- 1 gladkov2 gladkov2 2.0K Dec 30 09:53 nadim_pipe.R\n",
      "-rw-rw-r-- 1 gladkov2 gladkov2 2.0K Dec 30 09:53 nadim_pipe.Rmd\n",
      "-rw-rw-r-- 1 gladkov2 gladkov2 7.1K Dec 30 09:53 plates\n",
      "-rw-rw-r-- 1 gladkov2 gladkov2  30K Dec 30 09:53 plates.R\n",
      "-rw-rw-r-- 1 gladkov2 gladkov2 656K Dec 30 09:53 crim_chrono_2.nb.html\n",
      "-rw-rw-r-- 1 gladkov2 gladkov2 2.7K Dec 30 09:53 crim_chrono_2_plots.Rmd\n",
      "-rw-rw-r-- 1 gladkov2 gladkov2    0 Dec 30 09:53 dada2_for_abacel.R\n",
      "-rw-rw-r-- 1 gladkov2 gladkov2 5.5K Dec 30 09:53 dada2_its.R\n",
      "-rw-rw-r-- 1 gladkov2 gladkov2  13K Dec 30 09:53 dada2_pipe\n",
      "-rw-rw-r-- 1 gladkov2 gladkov2 5.3K Dec 30 09:53 dada2_pipe.R\n",
      "-rw-rw-r-- 1 gladkov2 gladkov2 1.2K Dec 30 09:53 dada2_pipe.sh\n",
      "drwxrwxr-x 3 gladkov2 gladkov2 4.0K Dec 30 09:53 dada2_pipeline\n",
      "-rw-rw-r-- 1 gladkov2 gladkov2 649K Dec 30 09:53 crim_chrono_2.html\n",
      "-rw-rw-r-- 1 gladkov2 gladkov2 3.9K Dec 30 09:53 cca.R\n",
      "-rw-rw-r-- 1 gladkov2 gladkov2  24K Dec 30 09:53 cellulo_16.R\n",
      "-rw-rw-r-- 1 gladkov2 gladkov2 7.8K Dec 30 09:53 cellulo_its.R\n",
      "-rw-rw-r-- 1 gladkov2 gladkov2 3.2K Dec 30 09:53 corr.meta\n",
      "-rw-rw-r-- 1 gladkov2 gladkov2  13K Dec 30 09:53 crim_chrono_2.Rmd\n",
      "-rw-rw-r-- 1 gladkov2 gladkov2  17M Dec 30 09:53 Al.html\n",
      "-rw-rw-r-- 1 gladkov2 gladkov2 102K Dec 30 09:53 Al_rf_fregression.ipynb\n",
      "-rw-rw-r-- 1 gladkov2 gladkov2 5.7K Dec 30 09:53 AnDan.Rmd\n",
      "-rw-rw-r-- 1 gladkov2 gladkov2 2.0K Dec 30 09:53 CRT.R\n",
      "-rw-rw-r-- 1 gladkov2 gladkov2 4.1K Dec 30 09:53 CRT_Functions_v1.1.R\n",
      "-rw-rw-r-- 1 gladkov2 gladkov2  914 Dec 30 09:53 Des.Sim.Otu.Phylo.R\n",
      "-rw-rw-r-- 1 gladkov2 gladkov2 9.8K Dec 30 09:53 Deseq2_adundanse.R\n",
      "-rw-rw-r-- 1 gladkov2 gladkov2  14K Dec 30 09:53 Ordination_scikit_tutorial.ipynb\n",
      "-rw-rw-r-- 1 gladkov2 gladkov2  67K Dec 30 09:53 StepicPython.ipynb\n",
      "-rw-rw-r-- 1 gladkov2 gladkov2 2.2K Dec 30 09:53 beta_for_Al.R\n",
      "-rw-rw-r-- 1 gladkov2 gladkov2  27K Dec 30 09:53 454.Cd.R\n",
      "-rw-rw-r-- 1 gladkov2 gladkov2 8.2K Dec 30 09:53 Al\n",
      "-rw-rw-r-- 1 gladkov2 gladkov2  42K Dec 30 09:53 Al.R\n",
      "-rw-rw-r-- 1 gladkov2 gladkov2  48K Dec 30 09:53 Al.Rmd\n",
      "-rw-rw-r-- 1 gladkov2 gladkov2  74K Dec 21 10:15 plates_plos.Rmd\n",
      "-rw-rw-r-- 1 gladkov2 gladkov2 141K Oct 29 13:25 R.ipynb\n",
      "-rw-rw-r-- 1 gladkov2 gladkov2  12K Oct 23 14:19 Untitled1.ipynb\n",
      "-rw-r--r-- 1 gladkov2 gladkov2  41K Oct  3 08:08 Al_s2_version.Rmd\n",
      "-rw-rw-r-- 1 gladkov2 gladkov2  677 Aug  8  2020 Krio_1.ipynb\n",
      "-rw-rw-r-- 1 gladkov2 gladkov2  76K Aug  7  2020 Al_RF_2-Copy1.ipynb\n",
      "-rw-r--r-- 1 gladkov2 gladkov2 5.8K Aug  5  2020 Al.wgc.txt\n",
      "-rw-rw-r-- 1 gladkov2 gladkov2  31M Aug  5  2020 Al.ipynb\n",
      "-rw-r--r-- 1 gladkov2 gladkov2  14K Jul 17  2020 pkgs.rds\n"
     ]
    }
   ],
   "source": [
    "!ls -htl"
   ]
  },
  {
   "cell_type": "code",
   "execution_count": 11,
   "id": "living-double",
   "metadata": {},
   "outputs": [
    {
     "name": "stdout",
     "output_type": "stream",
     "text": [
      ">Seq1\n",
      "------------------------------------------acgtaggtg---------\n",
      "---------------------gc-------------aagcg-------------------\n",
      "------------------------------------------------------------\n",
      "-------------------ttgtc--cg------------------------------ga\n",
      "at-------------------------------------tat----t-----gg-g-cg-\n",
      "t-------------aa-ag-----------------------------------------\n",
      "--------cg-cgc--gc-a-------------------------gg-cgg-tc-c-t-t\n",
      "---------------------------t-------------------------------a\n",
      "----------a---------------------------------------------gtc-\n",
      "--------------t-g-a-t-------------------------------------gt\n",
      "-------------------------------------g----------------------\n",
      "---------------------------------------------aa-------------\n",
      "-----------a-----------------------g--c-cc-------a-c-g------\n",
      "-gc-tca------------------------acc-----------gtg------------\n",
      "--gaggg---------tca-t---------------------------------------\n",
      "-----------------------------t-g----g--------aaa------------\n",
      "---------------------------------------------------------ct-\n",
      "g-g------------g--gg-a--c------------t----t--ga-gtgc-a-gg---\n",
      "-------a-ga-g---------------------------a-a-----------------\n",
      "---------------------ga----------------------gtg-gaa--------\n",
      "------ttc---ca------------------------------cgtg----------t-\n",
      "a---------------------gcg----------gt------------gaaat------\n",
      "-------gc-g-t-----------------------------------------------\n",
      "-ag---------aga-------t-g-tg-----------------------g-agga---\n",
      "----------------------a-cac------------------------c--------\n",
      "-----a---------------g-t----------------------ggc-gaag-gcg--\n",
      "--------------actc-t-tt---------------------------g---------\n",
      "----gc-c----------------------------------------------------\n",
      "----------------------------------------------------------t-\n",
      "------------------------g-----------------------------------\n",
      "------------------------------t-----------------------------\n",
      "--------------------------------------a---------------------\n",
      "---------------------------------------------a--------------\n",
      "----------------c-----------------------t-g----------acgct--\n",
      "------g-a-g-g-c-----------g-c-------------------------------\n",
      "-------------------g-----------aaag-------------------------\n",
      "---cgt---------------------------------------gggg-a---------\n",
      "---------------------------------------gcaaacagg------------\n",
      "-------------------------------------------\n",
      ">Seq2\n",
      "------------------------------------------acgtaggtg---------\n",
      "---------------------gc-------------aagcg-------------------\n",
      "------------------------------------------------------------\n",
      "-------------------ttgtc--cg------------------------------ga\n",
      "at-------------------------------------tat----t-----gg-g-cg-\n",
      "t-------------aa-ag-----------------------------------------\n",
      "--------cg-cgc--gc-a-------------------------gg-cgg-tc-c-t-t\n",
      "---------------------------t-------------------------------a\n",
      "----------a---------------------------------------------gtc-\n"
     ]
    }
   ],
   "source": [
    "!head -n 50 al_1.fasta"
   ]
  },
  {
   "cell_type": "code",
   "execution_count": null,
   "id": "naked-therapist",
   "metadata": {},
   "outputs": [],
   "source": [
    "%%R\n",
    "\n",
    "library(DECIPHER)\n",
    "dna <- readDNAStringSet(\"rep_seq.fasta\")\n",
    "head(dna)\n",
    "alignment <- AlignSeqs(DNAStringSet(dna), anchor=NA,verbose=FALSE, processors = 50)\n",
    "writeXStringSet(alignment, file=\"al_d_2.fasta\")"
   ]
  },
  {
   "cell_type": "code",
   "execution_count": null,
   "id": "lesbian-salmon",
   "metadata": {},
   "outputs": [],
   "source": [
    "!head -n 50 al_d_2.fasta"
   ]
  }
 ],
 "metadata": {
  "kernelspec": {
   "display_name": "Python 3",
   "language": "python",
   "name": "python3"
  },
  "language_info": {
   "codemirror_mode": {
    "name": "ipython",
    "version": 3
   },
   "file_extension": ".py",
   "mimetype": "text/x-python",
   "name": "python",
   "nbconvert_exporter": "python",
   "pygments_lexer": "ipython3",
   "version": "3.9.1"
  },
  "toc-autonumbering": false,
  "toc-showcode": true,
  "toc-showmarkdowntxt": true
 },
 "nbformat": 4,
 "nbformat_minor": 5
}
