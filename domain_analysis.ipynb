{
 "cells": [
  {
   "cell_type": "code",
   "execution_count": 1,
   "metadata": {},
   "outputs": [],
   "source": [
    "import typing as t\n",
    "import operator as op\n",
    "import subprocess as sp\n",
    "import glob\n",
    "import os\n",
    "from concurrent.futures import ThreadPoolExecutor, ProcessPoolExecutor\n",
    "from itertools import chain\n",
    "\n",
    "import tqdm\n",
    "import pandas as pd\n",
    "from fn import F\n",
    "from Bio import SearchIO, SeqIO\n",
    "\n",
    "pd.set_option('display.max_rows', 1000)\n",
    "%matplotlib inline"
   ]
  },
  {
   "cell_type": "markdown",
   "metadata": {},
   "source": [
    "Parse hmmscan output and extract domain annotations"
   ]
  },
  {
   "cell_type": "code",
   "execution_count": 2,
   "metadata": {},
   "outputs": [],
   "source": [
    "scan_files = [\n",
    "    'search/hmmscan/sp.txt',\n",
    "    'search/hmmscan/chz.txt'\n",
    "]\n",
    "samples = ['sp', 'chz']\n",
    "\n",
    "scans = [\n",
    "    list(SearchIO.parse(fname, 'hmmer3-text')) for fname in scan_files\n",
    "]\n"
   ]
  },
  {
   "cell_type": "code",
   "execution_count": 3,
   "metadata": {},
   "outputs": [],
   "source": [
    "hmmscan_annotation_keys = [\n",
    "    'query', 'model', 'description', 'bitscore', \n",
    "    'evalue', 'domains_expected', 'domains_observed'\n",
    "]\n",
    "\n",
    "def extract_query_annotations(query) -> pd.DataFrame:\n",
    "    query_id = query.id\n",
    "    hits = query.hits\n",
    "    hit_ids = [hit.id for hit in hits]\n",
    "    hit_descriptions = [hit.description for hit in hits]\n",
    "    hit_scores = [hit.bitscore for hit in hits]\n",
    "    hit_evalues = [hit.evalue for hit in hits]\n",
    "    domains_expected = [hit.domain_exp_num for hit in hits]\n",
    "    domains_observed = [hit.domain_obs_num for hit in hits]\n",
    "    records = [\n",
    "        [query_id, hit_id, hit_descr, hit_score, hit_eval, dom_exp, dom_obs]\n",
    "        for hit_id, hit_descr, hit_score, hit_eval, dom_exp, dom_obs, in \n",
    "        zip(hit_ids, hit_descriptions, hit_scores, hit_evalues,\n",
    "            domains_expected, domains_observed)\n",
    "    ]\n",
    "    return pd.DataFrame(records, columns=hmmscan_annotation_keys)\n",
    "\n",
    "\n",
    "def extract_hmmscan_annotations(sample_id, sample_queries) -> pd.DataFrame:\n",
    "    empty = pd.DataFrame(\n",
    "        data=[['NA', 'NA', 'NA', 0, 99999.0, 0.0, 0.0]], \n",
    "        columns=hmmscan_annotation_keys\n",
    "    )\n",
    "    hmmscan = (\n",
    "        F(map, extract_query_annotations)\n",
    "        >> list\n",
    "        >> (lambda dfs: pd.concat(dfs) if dfs else empty)\n",
    "        >> (lambda df: df.reset_index(drop=True))\n",
    "    )(sample_queries)\n",
    "    return pd.concat([\n",
    "        pd.Series(sample_id, index=hmmscan.index, name='sample'),\n",
    "        hmmscan\n",
    "    ], axis=1)\n"
   ]
  },
  {
   "cell_type": "code",
   "execution_count": 4,
   "metadata": {},
   "outputs": [],
   "source": [
    "scan_annotations = [\n",
    "    extract_hmmscan_annotations(id_, scan) for id_, scan in zip(samples, scans)\n",
    "]\n"
   ]
  },
  {
   "cell_type": "code",
   "execution_count": 5,
   "metadata": {},
   "outputs": [
    {
     "data": {
      "text/html": [
       "<div>\n",
       "<style scoped>\n",
       "    .dataframe tbody tr th:only-of-type {\n",
       "        vertical-align: middle;\n",
       "    }\n",
       "\n",
       "    .dataframe tbody tr th {\n",
       "        vertical-align: top;\n",
       "    }\n",
       "\n",
       "    .dataframe thead th {\n",
       "        text-align: right;\n",
       "    }\n",
       "</style>\n",
       "<table border=\"1\" class=\"dataframe\">\n",
       "  <thead>\n",
       "    <tr style=\"text-align: right;\">\n",
       "      <th></th>\n",
       "      <th>sample</th>\n",
       "      <th>query</th>\n",
       "      <th>model</th>\n",
       "      <th>description</th>\n",
       "      <th>bitscore</th>\n",
       "      <th>evalue</th>\n",
       "      <th>domains_expected</th>\n",
       "      <th>domains_observed</th>\n",
       "    </tr>\n",
       "  </thead>\n",
       "  <tbody>\n",
       "    <tr>\n",
       "      <th>81</th>\n",
       "      <td>chz</td>\n",
       "      <td>NBJEAOJI_45955</td>\n",
       "      <td>PF00150.18</td>\n",
       "      <td>Cellulase (glycosyl hydrolase family 5)</td>\n",
       "      <td>86.0</td>\n",
       "      <td>3.400000e-27</td>\n",
       "      <td>1.1</td>\n",
       "      <td>1</td>\n",
       "    </tr>\n",
       "    <tr>\n",
       "      <th>98</th>\n",
       "      <td>chz</td>\n",
       "      <td>NBJEAOJI_60505</td>\n",
       "      <td>PF00150.18</td>\n",
       "      <td>Cellulase (glycosyl hydrolase family 5)</td>\n",
       "      <td>102.0</td>\n",
       "      <td>4.300000e-32</td>\n",
       "      <td>1.3</td>\n",
       "      <td>1</td>\n",
       "    </tr>\n",
       "    <tr>\n",
       "      <th>120</th>\n",
       "      <td>chz</td>\n",
       "      <td>NBJEAOJI_86854</td>\n",
       "      <td>PF00150.18</td>\n",
       "      <td>Cellulase (glycosyl hydrolase family 5)</td>\n",
       "      <td>100.4</td>\n",
       "      <td>1.400000e-31</td>\n",
       "      <td>1.1</td>\n",
       "      <td>1</td>\n",
       "    </tr>\n",
       "    <tr>\n",
       "      <th>121</th>\n",
       "      <td>chz</td>\n",
       "      <td>NBJEAOJI_88210</td>\n",
       "      <td>PF00150.18</td>\n",
       "      <td>Cellulase (glycosyl hydrolase family 5)</td>\n",
       "      <td>76.8</td>\n",
       "      <td>2.100000e-24</td>\n",
       "      <td>1.0</td>\n",
       "      <td>1</td>\n",
       "    </tr>\n",
       "    <tr>\n",
       "      <th>122</th>\n",
       "      <td>chz</td>\n",
       "      <td>NBJEAOJI_88582</td>\n",
       "      <td>PF00150.18</td>\n",
       "      <td>Cellulase (glycosyl hydrolase family 5)</td>\n",
       "      <td>64.2</td>\n",
       "      <td>1.500000e-20</td>\n",
       "      <td>1.0</td>\n",
       "      <td>1</td>\n",
       "    </tr>\n",
       "  </tbody>\n",
       "</table>\n",
       "</div>"
      ],
      "text/plain": [
       "    sample           query       model  \\\n",
       "81     chz  NBJEAOJI_45955  PF00150.18   \n",
       "98     chz  NBJEAOJI_60505  PF00150.18   \n",
       "120    chz  NBJEAOJI_86854  PF00150.18   \n",
       "121    chz  NBJEAOJI_88210  PF00150.18   \n",
       "122    chz  NBJEAOJI_88582  PF00150.18   \n",
       "\n",
       "                                 description  bitscore        evalue  \\\n",
       "81   Cellulase (glycosyl hydrolase family 5)      86.0  3.400000e-27   \n",
       "98   Cellulase (glycosyl hydrolase family 5)     102.0  4.300000e-32   \n",
       "120  Cellulase (glycosyl hydrolase family 5)     100.4  1.400000e-31   \n",
       "121  Cellulase (glycosyl hydrolase family 5)      76.8  2.100000e-24   \n",
       "122  Cellulase (glycosyl hydrolase family 5)      64.2  1.500000e-20   \n",
       "\n",
       "     domains_expected domains_observed  \n",
       "81                1.1                1  \n",
       "98                1.3                1  \n",
       "120               1.1                1  \n",
       "121               1.0                1  \n",
       "122               1.0                1  "
      ]
     },
     "execution_count": 5,
     "metadata": {},
     "output_type": "execute_result"
    }
   ],
   "source": [
    "scan_annotations_concat = (\n",
    "    pd.concat(scan_annotations)\n",
    "    .reset_index(drop=True)\n",
    "    .sort_values(['sample', 'description'])\n",
    ")\n",
    "scan_annotations_concat.head()\n"
   ]
  },
  {
   "cell_type": "code",
   "execution_count": 7,
   "metadata": {},
   "outputs": [
    {
     "data": {
      "text/plain": [
       "1"
      ]
     },
     "execution_count": 7,
     "metadata": {},
     "output_type": "execute_result"
    }
   ],
   "source": [
    "# ambiguity check: several domain profiles matching the same query?\n",
    "scan_annotations_concat.groupby('query').apply(len).max()\n"
   ]
  },
  {
   "cell_type": "code",
   "execution_count": 6,
   "metadata": {},
   "outputs": [],
   "source": [
    "os.makedirs('search/glyco', exist_ok=True)\n"
   ]
  },
  {
   "cell_type": "code",
   "execution_count": 8,
   "metadata": {},
   "outputs": [],
   "source": [
    "# export domain annotations\n",
    "scan_annotations_concat.to_csv('search/glyco/annotations.tsv', sep='\\t', index=False)\n"
   ]
  },
  {
   "cell_type": "markdown",
   "metadata": {},
   "source": [
    "Extract nucleotide (or protein) sequences with positive matches"
   ]
  },
  {
   "cell_type": "code",
   "execution_count": null,
   "metadata": {},
   "outputs": [],
   "source": [
    "scan_annotations_concat['description'].value_counts()\n"
   ]
  },
  {
   "cell_type": "code",
   "execution_count": null,
   "metadata": {},
   "outputs": [],
   "source": [
    "selected_queries = set(scan_annotations_concat['query'])\n",
    "proteins = [\n",
    "    SeqIO.parse('annotation/sp/PROKKA_01112020.ffn', 'fasta'),\n",
    "    SeqIO.parse('annotation/chz/PROKKA_12302019.ffn', 'fasta')\n",
    "]\n",
    "for samp, prots in zip(samples, proteins):\n",
    "    SeqIO.write((seq for seq in prots if seq.id in selected_queries), f'search/glyco/{samp}.faa', 'fasta')"
   ]
  },
  {
   "cell_type": "code",
   "execution_count": null,
   "metadata": {},
   "outputs": [],
   "source": []
  },
  {
   "cell_type": "code",
   "execution_count": null,
   "metadata": {},
   "outputs": [],
   "source": []
  },
  {
   "cell_type": "code",
   "execution_count": null,
   "metadata": {},
   "outputs": [],
   "source": []
  },
  {
   "cell_type": "code",
   "execution_count": null,
   "metadata": {},
   "outputs": [],
   "source": []
  },
  {
   "cell_type": "code",
   "execution_count": null,
   "metadata": {},
   "outputs": [],
   "source": []
  },
  {
   "cell_type": "code",
   "execution_count": null,
   "metadata": {},
   "outputs": [],
   "source": []
  }
 ],
 "metadata": {
  "kernelspec": {
   "display_name": "Python 3",
   "language": "python",
   "name": "python3"
  },
  "language_info": {
   "codemirror_mode": {
    "name": "ipython",
    "version": 3
   },
   "file_extension": ".py",
   "mimetype": "text/x-python",
   "name": "python",
   "nbconvert_exporter": "python",
   "pygments_lexer": "ipython3",
   "version": "3.6.8"
  }
 },
 "nbformat": 4,
 "nbformat_minor": 4
}
