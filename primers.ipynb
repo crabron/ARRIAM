{
 "cells": [
  {
   "cell_type": "code",
   "execution_count": 156,
   "metadata": {},
   "outputs": [],
   "source": [
    "# %load_ext rpy2.ipython \n",
    "# import vamb\n",
    "%config IPCompleter.greedy=True\n",
    "%config Completer.use_jedi = True\n",
    "# %load_ext rpy2.ipython\n",
    "%matplotlib inline\n"
   ]
  },
  {
   "cell_type": "code",
   "execution_count": 162,
   "metadata": {},
   "outputs": [],
   "source": [
    "import pickle\n",
    "import numpy as np\n",
    "import pandas as pd\n",
    "import os\n",
    "import glob\n",
    "import requests\n",
    "import xmltodict\n",
    "import json\n",
    "from itertools import compress\n",
    "import re\n",
    "import seaborn as sns\n",
    "import matplotlib as plt\n",
    "plt.rcParams['figure.figsize'] = [10, 5]"
   ]
  },
  {
   "cell_type": "code",
   "execution_count": 4,
   "metadata": {},
   "outputs": [
    {
     "name": "stdout",
     "output_type": "stream",
     "text": [
      "/mnt/storage/metagenome/rnf_c_new\n",
      "total 12K\n",
      "drwxrwxr-x 3 gladkov2 gladkov2 4.0K Aug 13 08:25 .\n",
      "drwxrwxr-x 2 gladkov2 gladkov2 4.0K Aug 12 00:43 anno\n",
      "drwxrwxrwx 9 root     root     4.0K Aug  2 09:25 ..\n"
     ]
    }
   ],
   "source": [
    "%cd /home/gladkov2/storage/metagenome/rnf_c_new/\n",
    "!ls -halt"
   ]
  },
  {
   "cell_type": "code",
   "execution_count": 5,
   "metadata": {},
   "outputs": [
    {
     "data": {
      "text/plain": [
       "'/mnt/storage/metagenome/rnf_c_new'"
      ]
     },
     "execution_count": 5,
     "metadata": {},
     "output_type": "execute_result"
    }
   ],
   "source": [
    "os.getcwd()"
   ]
  },
  {
   "cell_type": "code",
   "execution_count": 6,
   "metadata": {},
   "outputs": [],
   "source": [
    "files = sorted(glob.glob(f\"{os.getcwd()}/anno/*.emapper.annotations\"))\n",
    "names = [os.path.basename(i).split(\".\")[0] for i in files]\n",
    "file_list = list(zip(names, files))\n",
    "header = pd.read_csv(file_list[1][1],sep=\"\\t\", skiprows=4 ,nrows=0).columns.to_list()\n",
    "dfs = [pd.read_csv(f[1], sep=\"\\t\", comment=\"#\", header=None, names=header).assign(site=f[0]) for f in file_list]\n",
    "df = pd.concat(dfs, ignore_index=True)"
   ]
  },
  {
   "cell_type": "code",
   "execution_count": 175,
   "metadata": {},
   "outputs": [
    {
     "data": {
      "text/plain": [
       "Index(['#query', 'seed_ortholog', 'evalue', 'score', 'eggNOG_OGs',\n",
       "       'max_annot_lvl', 'COG_category', 'Description', 'Preferred_name', 'GOs',\n",
       "       'EC', 'KEGG_ko', 'KEGG_Pathway', 'KEGG_Module', 'KEGG_Reaction',\n",
       "       'KEGG_rclass', 'BRITE', 'KEGG_TC', 'CAZy', 'BiGG_Reaction', 'PFAMs',\n",
       "       'site'],\n",
       "      dtype='object')"
      ]
     },
     "execution_count": 175,
     "metadata": {},
     "output_type": "execute_result"
    }
   ],
   "source": [
    "df.columns"
   ]
  },
  {
   "cell_type": "code",
   "execution_count": 180,
   "metadata": {},
   "outputs": [
    {
     "data": {
      "text/html": [
       "<div>\n",
       "<style scoped>\n",
       "    .dataframe tbody tr th:only-of-type {\n",
       "        vertical-align: middle;\n",
       "    }\n",
       "\n",
       "    .dataframe tbody tr th {\n",
       "        vertical-align: top;\n",
       "    }\n",
       "\n",
       "    .dataframe thead th {\n",
       "        text-align: right;\n",
       "    }\n",
       "</style>\n",
       "<table border=\"1\" class=\"dataframe\">\n",
       "  <thead>\n",
       "    <tr style=\"text-align: right;\">\n",
       "      <th></th>\n",
       "      <th>#query</th>\n",
       "      <th>seed_ortholog</th>\n",
       "      <th>evalue</th>\n",
       "      <th>score</th>\n",
       "      <th>eggNOG_OGs</th>\n",
       "      <th>max_annot_lvl</th>\n",
       "      <th>COG_category</th>\n",
       "      <th>Description</th>\n",
       "      <th>Preferred_name</th>\n",
       "      <th>GOs</th>\n",
       "      <th>EC</th>\n",
       "      <th>KEGG_ko</th>\n",
       "      <th>KEGG_Pathway</th>\n",
       "      <th>KEGG_Module</th>\n",
       "      <th>KEGG_Reaction</th>\n",
       "      <th>KEGG_rclass</th>\n",
       "      <th>BRITE</th>\n",
       "      <th>KEGG_TC</th>\n",
       "      <th>CAZy</th>\n",
       "      <th>BiGG_Reaction</th>\n",
       "      <th>PFAMs</th>\n",
       "      <th>site</th>\n",
       "    </tr>\n",
       "  </thead>\n",
       "  <tbody>\n",
       "    <tr>\n",
       "      <th>0</th>\n",
       "      <td>contig_1_0</td>\n",
       "      <td>700598.Niako_5238</td>\n",
       "      <td>0.000000e+00</td>\n",
       "      <td>1404.0</td>\n",
       "      <td>COG1629@1|root,COG1629@2|Bacteria,4NDXS@976|Ba...</td>\n",
       "      <td>976|Bacteroidetes</td>\n",
       "      <td>P</td>\n",
       "      <td>CarboxypepD_reg-like domain</td>\n",
       "      <td>-</td>\n",
       "      <td>-</td>\n",
       "      <td>-</td>\n",
       "      <td>-</td>\n",
       "      <td>-</td>\n",
       "      <td>-</td>\n",
       "      <td>-</td>\n",
       "      <td>-</td>\n",
       "      <td>-</td>\n",
       "      <td>-</td>\n",
       "      <td>-</td>\n",
       "      <td>-</td>\n",
       "      <td>CarbopepD_reg_2,Plug,TonB_dep_Rec</td>\n",
       "      <td>C1</td>\n",
       "    </tr>\n",
       "    <tr>\n",
       "      <th>1</th>\n",
       "      <td>contig_1_3</td>\n",
       "      <td>700598.Niako_5237</td>\n",
       "      <td>4.340000e-255</td>\n",
       "      <td>790.0</td>\n",
       "      <td>COG1435@1|root,COG1435@2|Bacteria,4NHCM@976|Ba...</td>\n",
       "      <td>976|Bacteroidetes</td>\n",
       "      <td>F</td>\n",
       "      <td>SusD family</td>\n",
       "      <td>-</td>\n",
       "      <td>-</td>\n",
       "      <td>-</td>\n",
       "      <td>ko:K21572</td>\n",
       "      <td>-</td>\n",
       "      <td>-</td>\n",
       "      <td>-</td>\n",
       "      <td>-</td>\n",
       "      <td>ko00000,ko02000</td>\n",
       "      <td>8.A.46.1,8.A.46.3</td>\n",
       "      <td>-</td>\n",
       "      <td>-</td>\n",
       "      <td>SusD-like_3,SusD_RagB</td>\n",
       "      <td>C1</td>\n",
       "    </tr>\n",
       "    <tr>\n",
       "      <th>2</th>\n",
       "      <td>contig_1_6</td>\n",
       "      <td>700598.Niako_5236</td>\n",
       "      <td>3.420000e-155</td>\n",
       "      <td>503.0</td>\n",
       "      <td>28IBC@1|root,2Z8DV@2|Bacteria,4NQRQ@976|Bacter...</td>\n",
       "      <td>976|Bacteroidetes</td>\n",
       "      <td>S</td>\n",
       "      <td>Domain of unknown function (DUF5018)</td>\n",
       "      <td>-</td>\n",
       "      <td>-</td>\n",
       "      <td>-</td>\n",
       "      <td>-</td>\n",
       "      <td>-</td>\n",
       "      <td>-</td>\n",
       "      <td>-</td>\n",
       "      <td>-</td>\n",
       "      <td>-</td>\n",
       "      <td>-</td>\n",
       "      <td>-</td>\n",
       "      <td>-</td>\n",
       "      <td>DUF5018</td>\n",
       "      <td>C1</td>\n",
       "    </tr>\n",
       "    <tr>\n",
       "      <th>3</th>\n",
       "      <td>contig_1_5</td>\n",
       "      <td>700598.Niako_5235</td>\n",
       "      <td>2.440000e-198</td>\n",
       "      <td>623.0</td>\n",
       "      <td>COG1649@1|root,COG1649@2|Bacteria,4PHU5@976|Ba...</td>\n",
       "      <td>976|Bacteroidetes</td>\n",
       "      <td>S</td>\n",
       "      <td>Domain of unknown function</td>\n",
       "      <td>-</td>\n",
       "      <td>-</td>\n",
       "      <td>-</td>\n",
       "      <td>-</td>\n",
       "      <td>-</td>\n",
       "      <td>-</td>\n",
       "      <td>-</td>\n",
       "      <td>-</td>\n",
       "      <td>-</td>\n",
       "      <td>-</td>\n",
       "      <td>-</td>\n",
       "      <td>-</td>\n",
       "      <td>DUF4985,GHL10</td>\n",
       "      <td>C1</td>\n",
       "    </tr>\n",
       "    <tr>\n",
       "      <th>4</th>\n",
       "      <td>contig_1_8</td>\n",
       "      <td>714943.Mucpa_2717</td>\n",
       "      <td>3.390000e-110</td>\n",
       "      <td>364.0</td>\n",
       "      <td>COG4632@1|root,COG4632@2|Bacteria,4NR1M@976|Ba...</td>\n",
       "      <td>976|Bacteroidetes</td>\n",
       "      <td>G</td>\n",
       "      <td>COGs COG4632 Exopolysaccharide biosynthesis pr...</td>\n",
       "      <td>-</td>\n",
       "      <td>-</td>\n",
       "      <td>-</td>\n",
       "      <td>-</td>\n",
       "      <td>-</td>\n",
       "      <td>-</td>\n",
       "      <td>-</td>\n",
       "      <td>-</td>\n",
       "      <td>-</td>\n",
       "      <td>-</td>\n",
       "      <td>-</td>\n",
       "      <td>-</td>\n",
       "      <td>Metallophos,NAGPA,fn3</td>\n",
       "      <td>C1</td>\n",
       "    </tr>\n",
       "  </tbody>\n",
       "</table>\n",
       "</div>"
      ],
      "text/plain": [
       "       #query      seed_ortholog         evalue   score  \\\n",
       "0  contig_1_0  700598.Niako_5238   0.000000e+00  1404.0   \n",
       "1  contig_1_3  700598.Niako_5237  4.340000e-255   790.0   \n",
       "2  contig_1_6  700598.Niako_5236  3.420000e-155   503.0   \n",
       "3  contig_1_5  700598.Niako_5235  2.440000e-198   623.0   \n",
       "4  contig_1_8  714943.Mucpa_2717  3.390000e-110   364.0   \n",
       "\n",
       "                                          eggNOG_OGs      max_annot_lvl  \\\n",
       "0  COG1629@1|root,COG1629@2|Bacteria,4NDXS@976|Ba...  976|Bacteroidetes   \n",
       "1  COG1435@1|root,COG1435@2|Bacteria,4NHCM@976|Ba...  976|Bacteroidetes   \n",
       "2  28IBC@1|root,2Z8DV@2|Bacteria,4NQRQ@976|Bacter...  976|Bacteroidetes   \n",
       "3  COG1649@1|root,COG1649@2|Bacteria,4PHU5@976|Ba...  976|Bacteroidetes   \n",
       "4  COG4632@1|root,COG4632@2|Bacteria,4NR1M@976|Ba...  976|Bacteroidetes   \n",
       "\n",
       "  COG_category                                        Description  \\\n",
       "0            P                        CarboxypepD_reg-like domain   \n",
       "1            F                                        SusD family   \n",
       "2            S               Domain of unknown function (DUF5018)   \n",
       "3            S                         Domain of unknown function   \n",
       "4            G  COGs COG4632 Exopolysaccharide biosynthesis pr...   \n",
       "\n",
       "  Preferred_name GOs EC    KEGG_ko KEGG_Pathway KEGG_Module KEGG_Reaction  \\\n",
       "0              -   -  -          -            -           -             -   \n",
       "1              -   -  -  ko:K21572            -           -             -   \n",
       "2              -   -  -          -            -           -             -   \n",
       "3              -   -  -          -            -           -             -   \n",
       "4              -   -  -          -            -           -             -   \n",
       "\n",
       "  KEGG_rclass            BRITE            KEGG_TC CAZy BiGG_Reaction  \\\n",
       "0           -                -                  -    -             -   \n",
       "1           -  ko00000,ko02000  8.A.46.1,8.A.46.3    -             -   \n",
       "2           -                -                  -    -             -   \n",
       "3           -                -                  -    -             -   \n",
       "4           -                -                  -    -             -   \n",
       "\n",
       "                               PFAMs site  \n",
       "0  CarbopepD_reg_2,Plug,TonB_dep_Rec   C1  \n",
       "1              SusD-like_3,SusD_RagB   C1  \n",
       "2                            DUF5018   C1  \n",
       "3                      DUF4985,GHL10   C1  \n",
       "4              Metallophos,NAGPA,fn3   C1  "
      ]
     },
     "execution_count": 180,
     "metadata": {},
     "output_type": "execute_result"
    }
   ],
   "source": [
    "pd.set_option('display.max_columns', None)\n",
    "df.head()"
   ]
  },
  {
   "cell_type": "code",
   "execution_count": 7,
   "metadata": {},
   "outputs": [],
   "source": [
    "df = df.replace('-', np.nan)"
   ]
  },
  {
   "cell_type": "code",
   "execution_count": 205,
   "metadata": {},
   "outputs": [
    {
     "data": {
      "text/plain": [
       "#query            100.0\n",
       "seed_ortholog     100.0\n",
       "evalue            100.0\n",
       "score             100.0\n",
       "eggNOG_OGs        100.0\n",
       "max_annot_lvl     100.0\n",
       "COG_category       93.0\n",
       "Description        93.0\n",
       "Preferred_name     31.0\n",
       "GOs                 8.0\n",
       "EC                 26.0\n",
       "KEGG_ko            51.0\n",
       "KEGG_Pathway       30.0\n",
       "KEGG_Module        20.0\n",
       "KEGG_Reaction      20.0\n",
       "KEGG_rclass        20.0\n",
       "BRITE              51.0\n",
       "KEGG_TC            11.0\n",
       "CAZy                1.0\n",
       "BiGG_Reaction       1.0\n",
       "PFAMs              91.0\n",
       "site              100.0\n",
       "dtype: float64"
      ]
     },
     "execution_count": 205,
     "metadata": {},
     "output_type": "execute_result"
    }
   ],
   "source": [
    "(df.count() / df.count()[0] * 100).round()"
   ]
  },
  {
   "cell_type": "code",
   "execution_count": 262,
   "metadata": {},
   "outputs": [
    {
     "data": {
      "text/plain": [
       "0      False\n",
       "1      False\n",
       "2      False\n",
       "3      False\n",
       "4      False\n",
       "       ...  \n",
       "995    False\n",
       "996     True\n",
       "997    False\n",
       "998     True\n",
       "999    False\n",
       "Name: Description, Length: 1000, dtype: bool"
      ]
     },
     "execution_count": 262,
     "metadata": {},
     "output_type": "execute_result"
    }
   ],
   "source": [
    "mask = df.head(1000).Description.str.contains(\"ATPase\", na=False)\n",
    "mask"
   ]
  },
  {
   "cell_type": "code",
   "execution_count": 370,
   "metadata": {},
   "outputs": [
    {
     "data": {
      "text/plain": [
       "7243957"
      ]
     },
     "execution_count": 370,
     "metadata": {},
     "output_type": "execute_result"
    }
   ],
   "source": [
    "df.shape[0]"
   ]
  },
  {
   "cell_type": "code",
   "execution_count": 366,
   "metadata": {},
   "outputs": [],
   "source": [
    "df_cat = df[df.Description.str.contains(\"catalase\", na=False)]"
   ]
  },
  {
   "cell_type": "code",
   "execution_count": 376,
   "metadata": {},
   "outputs": [
    {
     "data": {
      "text/plain": [
       "KEGG_ko\n",
       "ko:K03782    1103\n",
       "ko:K07217     412\n",
       "ko:K03781     191\n",
       "ko:K06334      32\n",
       "Name: #query, dtype: int64"
      ]
     },
     "execution_count": 376,
     "metadata": {},
     "output_type": "execute_result"
    }
   ],
   "source": [
    "df_cat.groupby(\"KEGG_ko\").count()[\"#query\"].sort_values(ascending=False)"
   ]
  },
  {
   "cell_type": "markdown",
   "metadata": {},
   "source": [
    "amazings re for and -- save for great future ```r'^(?=.*K03781)(?=.*K19885)'```"
   ]
  },
  {
   "cell_type": "markdown",
   "metadata": {},
   "source": [
    "\"1.11.1.6\" -- for catalases -- that means ko ko:K03781,ko:K05520"
   ]
  },
  {
   "cell_type": "code",
   "execution_count": 129,
   "metadata": {},
   "outputs": [],
   "source": [
    "df['id'] = df['site'] + \"_\" + df['#query'] "
   ]
  },
  {
   "cell_type": "code",
   "execution_count": 130,
   "metadata": {},
   "outputs": [],
   "source": [
    "df_cat_ko = df[df.KEGG_ko.str.contains(\"K03781|K19885\", na=False)]"
   ]
  },
  {
   "cell_type": "code",
   "execution_count": 9,
   "metadata": {},
   "outputs": [
    {
     "data": {
      "text/plain": [
       "Description\n",
       "Serves to protect cells from the toxic effects of hydrogen peroxide                                                             690\n",
       "Catalase                                                                                                                        311\n",
       "serves to protect cells from the toxic effects of hydrogen peroxide                                                             250\n",
       "Belongs to the catalase family                                                                                                  178\n",
       "Has an organic peroxide-dependent peroxidase activity                                                                           162\n",
       "PFAM Catalase domain protein                                                                                                     22\n",
       "Occurs in almost all aerobically respiring organisms and serves to protect cells from the toxic effects of hydrogen peroxide     18\n",
       "COG0753 Catalase                                                                                                                 14\n",
       "catalase activity                                                                                                                13\n",
       "Catalase-related immune-responsive                                                                                                7\n",
       "PFAM Catalase                                                                                                                     6\n",
       "Catalase domain protein                                                                                                           4\n",
       "protein deglycation                                                                                                               4\n",
       "Name: #query, dtype: int64"
      ]
     },
     "execution_count": 9,
     "metadata": {},
     "output_type": "execute_result"
    }
   ],
   "source": [
    "df_cat_ko.groupby(\"Description\").count()[\"#query\"].sort_values(ascending=False)"
   ]
  },
  {
   "cell_type": "code",
   "execution_count": 10,
   "metadata": {},
   "outputs": [
    {
     "data": {
      "text/plain": [
       "KEGG_ko\n",
       "ko:K03781                        1675\n",
       "ko:K03781,ko:K05520                 3\n",
       "ko:K03152,ko:K03781,ko:K05520       1\n",
       "Name: #query, dtype: int64"
      ]
     },
     "execution_count": 10,
     "metadata": {},
     "output_type": "execute_result"
    }
   ],
   "source": [
    "df_cat_ko.groupby(\"KEGG_ko\").count()[\"#query\"].sort_values(ascending=False)"
   ]
  },
  {
   "cell_type": "code",
   "execution_count": 131,
   "metadata": {},
   "outputs": [],
   "source": [
    "query_cat_list = df_cat_ko[\"id\"].to_list()"
   ]
  },
  {
   "cell_type": "code",
   "execution_count": 125,
   "metadata": {},
   "outputs": [],
   "source": [
    "files = sorted(glob.glob(f\"{os.getcwd()}/anno/*.emapper.genepred.gff\"))\n",
    "names = [os.path.basename(i).split(\".\")[0] for i in files]\n",
    "file_list = list(zip(names, files))\n",
    "header = [\"seqid\", \"source\", \"type\", \"start\", \"end\", \"score\", \"strand\", \"phase\", \"attributes\"]\n",
    "df_gf_l = [pd.read_csv(f[1], sep=\"\\t\", comment=\"#\", header=None, names=header).assign(site=f[0]) for f in file_list]\n",
    "df_gff = pd.concat(df_gf_l, ignore_index=True)"
   ]
  },
  {
   "cell_type": "code",
   "execution_count": 126,
   "metadata": {},
   "outputs": [],
   "source": [
    "cat_col_id = df_gff[\"attributes\"].str.extract(r'(?<=ID=)(.*)(?=;em_target)')\n",
    "df_gff[\"id\"] = cat_col_id\n"
   ]
  },
  {
   "cell_type": "code",
   "execution_count": 127,
   "metadata": {},
   "outputs": [],
   "source": [
    "df_gff['id'] = df_gff['site'] + \"_\" +df_gff['id']"
   ]
  },
  {
   "cell_type": "code",
   "execution_count": 133,
   "metadata": {},
   "outputs": [],
   "source": [
    "df_gff_cat = df_gff[df_gff[\"id\"].str.contains('|'.join(query_cat_list))]"
   ]
  },
  {
   "cell_type": "code",
   "execution_count": 174,
   "metadata": {},
   "outputs": [],
   "source": [
    "df_gff_cat_ch = df_gff_cat.copy()"
   ]
  },
  {
   "cell_type": "code",
   "execution_count": 177,
   "metadata": {},
   "outputs": [
    {
     "data": {
      "text/plain": [
       "<AxesSubplot:ylabel='Count'>"
      ]
     },
     "execution_count": 177,
     "metadata": {},
     "output_type": "execute_result"
    },
    {
     "data": {
      "image/png": "[encoded data removed]",
      "text/plain": [
       "<Figure size 720x360 with 1 Axes>"
      ]
     },
     "metadata": {
      "needs_background": "light"
     },
     "output_type": "display_data"
    }
   ],
   "source": [
    "sns.histplot(df_gff_cat_ch['end'] - df_gff_cat_ch['start'])"
   ]
  },
  {
   "cell_type": "code",
   "execution_count": 176,
   "metadata": {},
   "outputs": [
    {
     "data": {
      "text/html": [
       "<div>\n",
       "<style scoped>\n",
       "    .dataframe tbody tr th:only-of-type {\n",
       "        vertical-align: middle;\n",
       "    }\n",
       "\n",
       "    .dataframe tbody tr th {\n",
       "        vertical-align: top;\n",
       "    }\n",
       "\n",
       "    .dataframe thead th {\n",
       "        text-align: right;\n",
       "    }\n",
       "</style>\n",
       "<table border=\"1\" class=\"dataframe\">\n",
       "  <thead>\n",
       "    <tr style=\"text-align: right;\">\n",
       "      <th></th>\n",
       "      <th>seqid</th>\n",
       "      <th>source</th>\n",
       "      <th>type</th>\n",
       "      <th>start</th>\n",
       "      <th>end</th>\n",
       "      <th>score</th>\n",
       "      <th>strand</th>\n",
       "      <th>phase</th>\n",
       "      <th>attributes</th>\n",
       "      <th>site</th>\n",
       "      <th>id</th>\n",
       "    </tr>\n",
       "  </thead>\n",
       "  <tbody>\n",
       "    <tr>\n",
       "      <th>672</th>\n",
       "      <td>contig_10014</td>\n",
       "      <td>eggNOG-mapper</td>\n",
       "      <td>CDS</td>\n",
       "      <td>417889</td>\n",
       "      <td>419036</td>\n",
       "      <td>694.0</td>\n",
       "      <td>+</td>\n",
       "      <td>.</td>\n",
       "      <td>ID=contig_10014_255;em_target=717785.HYPMC_155...</td>\n",
       "      <td>C1</td>\n",
       "      <td>C1_contig_10014_255</td>\n",
       "    </tr>\n",
       "    <tr>\n",
       "      <th>2815</th>\n",
       "      <td>contig_10071</td>\n",
       "      <td>eggNOG-mapper</td>\n",
       "      <td>CDS</td>\n",
       "      <td>78570</td>\n",
       "      <td>79711</td>\n",
       "      <td>540.0</td>\n",
       "      <td>-</td>\n",
       "      <td>.</td>\n",
       "      <td>ID=contig_10071_106;em_target=1005994.GTGU_045...</td>\n",
       "      <td>C1</td>\n",
       "      <td>C1_contig_10071_106</td>\n",
       "    </tr>\n",
       "    <tr>\n",
       "      <th>12680</th>\n",
       "      <td>contig_1031</td>\n",
       "      <td>eggNOG-mapper</td>\n",
       "      <td>CDS</td>\n",
       "      <td>22080</td>\n",
       "      <td>24324</td>\n",
       "      <td>1221.0</td>\n",
       "      <td>-</td>\n",
       "      <td>.</td>\n",
       "      <td>ID=contig_1031_0;em_target=1114964.L485_11740;...</td>\n",
       "      <td>C1</td>\n",
       "      <td>C1_contig_1031_0</td>\n",
       "    </tr>\n",
       "    <tr>\n",
       "      <th>12755</th>\n",
       "      <td>contig_10321</td>\n",
       "      <td>eggNOG-mapper</td>\n",
       "      <td>CDS</td>\n",
       "      <td>1617</td>\n",
       "      <td>2346</td>\n",
       "      <td>317.0</td>\n",
       "      <td>-</td>\n",
       "      <td>.</td>\n",
       "      <td>ID=contig_10321_22;em_target=365046.Rta_35780;...</td>\n",
       "      <td>C1</td>\n",
       "      <td>C1_contig_10321_22</td>\n",
       "    </tr>\n",
       "    <tr>\n",
       "      <th>12758</th>\n",
       "      <td>contig_10321</td>\n",
       "      <td>eggNOG-mapper</td>\n",
       "      <td>CDS</td>\n",
       "      <td>4211</td>\n",
       "      <td>4961</td>\n",
       "      <td>323.0</td>\n",
       "      <td>-</td>\n",
       "      <td>.</td>\n",
       "      <td>ID=contig_10321_21;em_target=365046.Rta_35810;...</td>\n",
       "      <td>C1</td>\n",
       "      <td>C1_contig_10321_21</td>\n",
       "    </tr>\n",
       "    <tr>\n",
       "      <th>...</th>\n",
       "      <td>...</td>\n",
       "      <td>...</td>\n",
       "      <td>...</td>\n",
       "      <td>...</td>\n",
       "      <td>...</td>\n",
       "      <td>...</td>\n",
       "      <td>...</td>\n",
       "      <td>...</td>\n",
       "      <td>...</td>\n",
       "      <td>...</td>\n",
       "      <td>...</td>\n",
       "    </tr>\n",
       "    <tr>\n",
       "      <th>7214168</th>\n",
       "      <td>contig_98432</td>\n",
       "      <td>eggNOG-mapper</td>\n",
       "      <td>CDS</td>\n",
       "      <td>12399</td>\n",
       "      <td>13935</td>\n",
       "      <td>776.0</td>\n",
       "      <td>+</td>\n",
       "      <td>.</td>\n",
       "      <td>ID=contig_98432_2;em_target=1385515.N791_11315...</td>\n",
       "      <td>L3</td>\n",
       "      <td>L3_contig_98432_2</td>\n",
       "    </tr>\n",
       "    <tr>\n",
       "      <th>7227235</th>\n",
       "      <td>contig_99083</td>\n",
       "      <td>eggNOG-mapper</td>\n",
       "      <td>CDS</td>\n",
       "      <td>9914</td>\n",
       "      <td>10204</td>\n",
       "      <td>104.0</td>\n",
       "      <td>+</td>\n",
       "      <td>.</td>\n",
       "      <td>ID=contig_99083_20;em_target=1403313.AXBR01000...</td>\n",
       "      <td>L3</td>\n",
       "      <td>L3_contig_99083_20</td>\n",
       "    </tr>\n",
       "    <tr>\n",
       "      <th>7227236</th>\n",
       "      <td>contig_99083</td>\n",
       "      <td>eggNOG-mapper</td>\n",
       "      <td>CDS</td>\n",
       "      <td>10115</td>\n",
       "      <td>10550</td>\n",
       "      <td>189.0</td>\n",
       "      <td>+</td>\n",
       "      <td>.</td>\n",
       "      <td>ID=contig_99083_13;em_target=414684.RC1_2172;e...</td>\n",
       "      <td>L3</td>\n",
       "      <td>L3_contig_99083_13</td>\n",
       "    </tr>\n",
       "    <tr>\n",
       "      <th>7233994</th>\n",
       "      <td>contig_99452</td>\n",
       "      <td>eggNOG-mapper</td>\n",
       "      <td>CDS</td>\n",
       "      <td>42028</td>\n",
       "      <td>44192</td>\n",
       "      <td>996.0</td>\n",
       "      <td>-</td>\n",
       "      <td>.</td>\n",
       "      <td>ID=contig_99452_0;em_target=1120983.KB894576_g...</td>\n",
       "      <td>L3</td>\n",
       "      <td>L3_contig_99452_0</td>\n",
       "    </tr>\n",
       "    <tr>\n",
       "      <th>7237693</th>\n",
       "      <td>contig_99669</td>\n",
       "      <td>eggNOG-mapper</td>\n",
       "      <td>CDS</td>\n",
       "      <td>-14</td>\n",
       "      <td>1509</td>\n",
       "      <td>549.0</td>\n",
       "      <td>-</td>\n",
       "      <td>.</td>\n",
       "      <td>ID=contig_99669_6;em_target=1122611.KB903950_g...</td>\n",
       "      <td>L3</td>\n",
       "      <td>L3_contig_99669_6</td>\n",
       "    </tr>\n",
       "  </tbody>\n",
       "</table>\n",
       "<p>8080 rows × 11 columns</p>\n",
       "</div>"
      ],
      "text/plain": [
       "                seqid         source type   start     end   score strand  \\\n",
       "672      contig_10014  eggNOG-mapper  CDS  417889  419036   694.0      +   \n",
       "2815     contig_10071  eggNOG-mapper  CDS   78570   79711   540.0      -   \n",
       "12680     contig_1031  eggNOG-mapper  CDS   22080   24324  1221.0      -   \n",
       "12755    contig_10321  eggNOG-mapper  CDS    1617    2346   317.0      -   \n",
       "12758    contig_10321  eggNOG-mapper  CDS    4211    4961   323.0      -   \n",
       "...               ...            ...  ...     ...     ...     ...    ...   \n",
       "7214168  contig_98432  eggNOG-mapper  CDS   12399   13935   776.0      +   \n",
       "7227235  contig_99083  eggNOG-mapper  CDS    9914   10204   104.0      +   \n",
       "7227236  contig_99083  eggNOG-mapper  CDS   10115   10550   189.0      +   \n",
       "7233994  contig_99452  eggNOG-mapper  CDS   42028   44192   996.0      -   \n",
       "7237693  contig_99669  eggNOG-mapper  CDS     -14    1509   549.0      -   \n",
       "\n",
       "        phase                                         attributes site  \\\n",
       "672         .  ID=contig_10014_255;em_target=717785.HYPMC_155...   C1   \n",
       "2815        .  ID=contig_10071_106;em_target=1005994.GTGU_045...   C1   \n",
       "12680       .  ID=contig_1031_0;em_target=1114964.L485_11740;...   C1   \n",
       "12755       .  ID=contig_10321_22;em_target=365046.Rta_35780;...   C1   \n",
       "12758       .  ID=contig_10321_21;em_target=365046.Rta_35810;...   C1   \n",
       "...       ...                                                ...  ...   \n",
       "7214168     .  ID=contig_98432_2;em_target=1385515.N791_11315...   L3   \n",
       "7227235     .  ID=contig_99083_20;em_target=1403313.AXBR01000...   L3   \n",
       "7227236     .  ID=contig_99083_13;em_target=414684.RC1_2172;e...   L3   \n",
       "7233994     .  ID=contig_99452_0;em_target=1120983.KB894576_g...   L3   \n",
       "7237693     .  ID=contig_99669_6;em_target=1122611.KB903950_g...   L3   \n",
       "\n",
       "                          id  \n",
       "672      C1_contig_10014_255  \n",
       "2815     C1_contig_10071_106  \n",
       "12680       C1_contig_1031_0  \n",
       "12755     C1_contig_10321_22  \n",
       "12758     C1_contig_10321_21  \n",
       "...                      ...  \n",
       "7214168    L3_contig_98432_2  \n",
       "7227235   L3_contig_99083_20  \n",
       "7227236   L3_contig_99083_13  \n",
       "7233994    L3_contig_99452_0  \n",
       "7237693    L3_contig_99669_6  \n",
       "\n",
       "[8080 rows x 11 columns]"
      ]
     },
     "execution_count": 176,
     "metadata": {},
     "output_type": "execute_result"
    }
   ],
   "source": [
    "\n",
    "df_gff_cat_ch['start'] = df_gff_cat_ch['start'] - 50\n",
    "df_gff_cat_ch['end'] = df_gff_cat_ch['end'] + 50\n",
    "df_gff_cat_ch"
   ]
  },
  {
   "cell_type": "code",
   "execution_count": null,
   "metadata": {},
   "outputs": [],
   "source": [
    "df_gff_"
   ]
  },
  {
   "cell_type": "code",
   "execution_count": 168,
   "metadata": {},
   "outputs": [
    {
     "data": {
      "text/html": [
       "<div>\n",
       "<style scoped>\n",
       "    .dataframe tbody tr th:only-of-type {\n",
       "        vertical-align: middle;\n",
       "    }\n",
       "\n",
       "    .dataframe tbody tr th {\n",
       "        vertical-align: top;\n",
       "    }\n",
       "\n",
       "    .dataframe thead th {\n",
       "        text-align: right;\n",
       "    }\n",
       "</style>\n",
       "<table border=\"1\" class=\"dataframe\">\n",
       "  <thead>\n",
       "    <tr style=\"text-align: right;\">\n",
       "      <th></th>\n",
       "      <th>seqid</th>\n",
       "      <th>source</th>\n",
       "      <th>type</th>\n",
       "      <th>start</th>\n",
       "      <th>end</th>\n",
       "      <th>score</th>\n",
       "      <th>strand</th>\n",
       "      <th>phase</th>\n",
       "      <th>attributes</th>\n",
       "      <th>site</th>\n",
       "      <th>id</th>\n",
       "    </tr>\n",
       "  </thead>\n",
       "  <tbody>\n",
       "    <tr>\n",
       "      <th>672</th>\n",
       "      <td>contig_10014</td>\n",
       "      <td>eggNOG-mapper</td>\n",
       "      <td>CDS</td>\n",
       "      <td>417939</td>\n",
       "      <td>418986</td>\n",
       "      <td>694.0</td>\n",
       "      <td>+</td>\n",
       "      <td>.</td>\n",
       "      <td>ID=contig_10014_255;em_target=717785.HYPMC_155...</td>\n",
       "      <td>C1</td>\n",
       "      <td>C1_contig_10014_255</td>\n",
       "    </tr>\n",
       "    <tr>\n",
       "      <th>2815</th>\n",
       "      <td>contig_10071</td>\n",
       "      <td>eggNOG-mapper</td>\n",
       "      <td>CDS</td>\n",
       "      <td>78620</td>\n",
       "      <td>79661</td>\n",
       "      <td>540.0</td>\n",
       "      <td>-</td>\n",
       "      <td>.</td>\n",
       "      <td>ID=contig_10071_106;em_target=1005994.GTGU_045...</td>\n",
       "      <td>C1</td>\n",
       "      <td>C1_contig_10071_106</td>\n",
       "    </tr>\n",
       "    <tr>\n",
       "      <th>12680</th>\n",
       "      <td>contig_1031</td>\n",
       "      <td>eggNOG-mapper</td>\n",
       "      <td>CDS</td>\n",
       "      <td>22130</td>\n",
       "      <td>24274</td>\n",
       "      <td>1221.0</td>\n",
       "      <td>-</td>\n",
       "      <td>.</td>\n",
       "      <td>ID=contig_1031_0;em_target=1114964.L485_11740;...</td>\n",
       "      <td>C1</td>\n",
       "      <td>C1_contig_1031_0</td>\n",
       "    </tr>\n",
       "    <tr>\n",
       "      <th>12755</th>\n",
       "      <td>contig_10321</td>\n",
       "      <td>eggNOG-mapper</td>\n",
       "      <td>CDS</td>\n",
       "      <td>1667</td>\n",
       "      <td>2296</td>\n",
       "      <td>317.0</td>\n",
       "      <td>-</td>\n",
       "      <td>.</td>\n",
       "      <td>ID=contig_10321_22;em_target=365046.Rta_35780;...</td>\n",
       "      <td>C1</td>\n",
       "      <td>C1_contig_10321_22</td>\n",
       "    </tr>\n",
       "    <tr>\n",
       "      <th>12758</th>\n",
       "      <td>contig_10321</td>\n",
       "      <td>eggNOG-mapper</td>\n",
       "      <td>CDS</td>\n",
       "      <td>4261</td>\n",
       "      <td>4911</td>\n",
       "      <td>323.0</td>\n",
       "      <td>-</td>\n",
       "      <td>.</td>\n",
       "      <td>ID=contig_10321_21;em_target=365046.Rta_35810;...</td>\n",
       "      <td>C1</td>\n",
       "      <td>C1_contig_10321_21</td>\n",
       "    </tr>\n",
       "    <tr>\n",
       "      <th>...</th>\n",
       "      <td>...</td>\n",
       "      <td>...</td>\n",
       "      <td>...</td>\n",
       "      <td>...</td>\n",
       "      <td>...</td>\n",
       "      <td>...</td>\n",
       "      <td>...</td>\n",
       "      <td>...</td>\n",
       "      <td>...</td>\n",
       "      <td>...</td>\n",
       "      <td>...</td>\n",
       "    </tr>\n",
       "    <tr>\n",
       "      <th>7214168</th>\n",
       "      <td>contig_98432</td>\n",
       "      <td>eggNOG-mapper</td>\n",
       "      <td>CDS</td>\n",
       "      <td>12449</td>\n",
       "      <td>13885</td>\n",
       "      <td>776.0</td>\n",
       "      <td>+</td>\n",
       "      <td>.</td>\n",
       "      <td>ID=contig_98432_2;em_target=1385515.N791_11315...</td>\n",
       "      <td>L3</td>\n",
       "      <td>L3_contig_98432_2</td>\n",
       "    </tr>\n",
       "    <tr>\n",
       "      <th>7227235</th>\n",
       "      <td>contig_99083</td>\n",
       "      <td>eggNOG-mapper</td>\n",
       "      <td>CDS</td>\n",
       "      <td>9964</td>\n",
       "      <td>10154</td>\n",
       "      <td>104.0</td>\n",
       "      <td>+</td>\n",
       "      <td>.</td>\n",
       "      <td>ID=contig_99083_20;em_target=1403313.AXBR01000...</td>\n",
       "      <td>L3</td>\n",
       "      <td>L3_contig_99083_20</td>\n",
       "    </tr>\n",
       "    <tr>\n",
       "      <th>7227236</th>\n",
       "      <td>contig_99083</td>\n",
       "      <td>eggNOG-mapper</td>\n",
       "      <td>CDS</td>\n",
       "      <td>10165</td>\n",
       "      <td>10500</td>\n",
       "      <td>189.0</td>\n",
       "      <td>+</td>\n",
       "      <td>.</td>\n",
       "      <td>ID=contig_99083_13;em_target=414684.RC1_2172;e...</td>\n",
       "      <td>L3</td>\n",
       "      <td>L3_contig_99083_13</td>\n",
       "    </tr>\n",
       "    <tr>\n",
       "      <th>7233994</th>\n",
       "      <td>contig_99452</td>\n",
       "      <td>eggNOG-mapper</td>\n",
       "      <td>CDS</td>\n",
       "      <td>42078</td>\n",
       "      <td>44142</td>\n",
       "      <td>996.0</td>\n",
       "      <td>-</td>\n",
       "      <td>.</td>\n",
       "      <td>ID=contig_99452_0;em_target=1120983.KB894576_g...</td>\n",
       "      <td>L3</td>\n",
       "      <td>L3_contig_99452_0</td>\n",
       "    </tr>\n",
       "    <tr>\n",
       "      <th>7237693</th>\n",
       "      <td>contig_99669</td>\n",
       "      <td>eggNOG-mapper</td>\n",
       "      <td>CDS</td>\n",
       "      <td>36</td>\n",
       "      <td>1459</td>\n",
       "      <td>549.0</td>\n",
       "      <td>-</td>\n",
       "      <td>.</td>\n",
       "      <td>ID=contig_99669_6;em_target=1122611.KB903950_g...</td>\n",
       "      <td>L3</td>\n",
       "      <td>L3_contig_99669_6</td>\n",
       "    </tr>\n",
       "  </tbody>\n",
       "</table>\n",
       "<p>8080 rows × 11 columns</p>\n",
       "</div>"
      ],
      "text/plain": [
       "                seqid         source type   start     end   score strand  \\\n",
       "672      contig_10014  eggNOG-mapper  CDS  417939  418986   694.0      +   \n",
       "2815     contig_10071  eggNOG-mapper  CDS   78620   79661   540.0      -   \n",
       "12680     contig_1031  eggNOG-mapper  CDS   22130   24274  1221.0      -   \n",
       "12755    contig_10321  eggNOG-mapper  CDS    1667    2296   317.0      -   \n",
       "12758    contig_10321  eggNOG-mapper  CDS    4261    4911   323.0      -   \n",
       "...               ...            ...  ...     ...     ...     ...    ...   \n",
       "7214168  contig_98432  eggNOG-mapper  CDS   12449   13885   776.0      +   \n",
       "7227235  contig_99083  eggNOG-mapper  CDS    9964   10154   104.0      +   \n",
       "7227236  contig_99083  eggNOG-mapper  CDS   10165   10500   189.0      +   \n",
       "7233994  contig_99452  eggNOG-mapper  CDS   42078   44142   996.0      -   \n",
       "7237693  contig_99669  eggNOG-mapper  CDS      36    1459   549.0      -   \n",
       "\n",
       "        phase                                         attributes site  \\\n",
       "672         .  ID=contig_10014_255;em_target=717785.HYPMC_155...   C1   \n",
       "2815        .  ID=contig_10071_106;em_target=1005994.GTGU_045...   C1   \n",
       "12680       .  ID=contig_1031_0;em_target=1114964.L485_11740;...   C1   \n",
       "12755       .  ID=contig_10321_22;em_target=365046.Rta_35780;...   C1   \n",
       "12758       .  ID=contig_10321_21;em_target=365046.Rta_35810;...   C1   \n",
       "...       ...                                                ...  ...   \n",
       "7214168     .  ID=contig_98432_2;em_target=1385515.N791_11315...   L3   \n",
       "7227235     .  ID=contig_99083_20;em_target=1403313.AXBR01000...   L3   \n",
       "7227236     .  ID=contig_99083_13;em_target=414684.RC1_2172;e...   L3   \n",
       "7233994     .  ID=contig_99452_0;em_target=1120983.KB894576_g...   L3   \n",
       "7237693     .  ID=contig_99669_6;em_target=1122611.KB903950_g...   L3   \n",
       "\n",
       "                          id  \n",
       "672      C1_contig_10014_255  \n",
       "2815     C1_contig_10071_106  \n",
       "12680       C1_contig_1031_0  \n",
       "12755     C1_contig_10321_22  \n",
       "12758     C1_contig_10321_21  \n",
       "...                      ...  \n",
       "7214168    L3_contig_98432_2  \n",
       "7227235   L3_contig_99083_20  \n",
       "7227236   L3_contig_99083_13  \n",
       "7233994    L3_contig_99452_0  \n",
       "7237693    L3_contig_99669_6  \n",
       "\n",
       "[8080 rows x 11 columns]"
      ]
     },
     "execution_count": 168,
     "metadata": {},
     "output_type": "execute_result"
    }
   ],
   "source": [
    "df_gff_cat_ch"
   ]
  },
  {
   "cell_type": "code",
   "execution_count": 41,
   "metadata": {},
   "outputs": [
    {
     "data": {
      "text/html": [
       "<div>\n",
       "<style scoped>\n",
       "    .dataframe tbody tr th:only-of-type {\n",
       "        vertical-align: middle;\n",
       "    }\n",
       "\n",
       "    .dataframe tbody tr th {\n",
       "        vertical-align: top;\n",
       "    }\n",
       "\n",
       "    .dataframe thead th {\n",
       "        text-align: right;\n",
       "    }\n",
       "</style>\n",
       "<table border=\"1\" class=\"dataframe\">\n",
       "  <thead>\n",
       "    <tr style=\"text-align: right;\">\n",
       "      <th></th>\n",
       "      <th>#query</th>\n",
       "      <th>seed_ortholog</th>\n",
       "      <th>evalue</th>\n",
       "      <th>score</th>\n",
       "      <th>eggNOG_OGs</th>\n",
       "      <th>max_annot_lvl</th>\n",
       "      <th>COG_category</th>\n",
       "      <th>Description</th>\n",
       "      <th>Preferred_name</th>\n",
       "      <th>GOs</th>\n",
       "      <th>...</th>\n",
       "      <th>KEGG_Pathway</th>\n",
       "      <th>KEGG_Module</th>\n",
       "      <th>KEGG_Reaction</th>\n",
       "      <th>KEGG_rclass</th>\n",
       "      <th>BRITE</th>\n",
       "      <th>KEGG_TC</th>\n",
       "      <th>CAZy</th>\n",
       "      <th>BiGG_Reaction</th>\n",
       "      <th>PFAMs</th>\n",
       "      <th>site</th>\n",
       "    </tr>\n",
       "  </thead>\n",
       "  <tbody>\n",
       "    <tr>\n",
       "      <th>1004059</th>\n",
       "      <td>contig_69705_1</td>\n",
       "      <td>666684.AfiDRAFT_1589</td>\n",
       "      <td>0.000000e+00</td>\n",
       "      <td>1083.0</td>\n",
       "      <td>COG0443@1|root,COG0443@2|Bacteria,1MVEN@1224|P...</td>\n",
       "      <td>28211|Alphaproteobacteria</td>\n",
       "      <td>O</td>\n",
       "      <td>Heat shock 70 kDa protein</td>\n",
       "      <td>dnaK</td>\n",
       "      <td>NaN</td>\n",
       "      <td>...</td>\n",
       "      <td>ko03018,ko04212,ko05152,map03018,map04212,map0...</td>\n",
       "      <td>NaN</td>\n",
       "      <td>NaN</td>\n",
       "      <td>NaN</td>\n",
       "      <td>ko00000,ko00001,ko03019,ko03029,ko03110,ko04147</td>\n",
       "      <td>1.A.33.1</td>\n",
       "      <td>NaN</td>\n",
       "      <td>NaN</td>\n",
       "      <td>HSP70</td>\n",
       "      <td>C1</td>\n",
       "    </tr>\n",
       "    <tr>\n",
       "      <th>1170178</th>\n",
       "      <td>contig_10001:1.0-29871.0_22</td>\n",
       "      <td>666684.AfiDRAFT_1589</td>\n",
       "      <td>6.600000e-53</td>\n",
       "      <td>211.0</td>\n",
       "      <td>COG0443@1|root,COG0443@2|Bacteria,1MVEN@1224|P...</td>\n",
       "      <td>28211|Alphaproteobacteria</td>\n",
       "      <td>O</td>\n",
       "      <td>Heat shock 70 kDa protein</td>\n",
       "      <td>dnaK</td>\n",
       "      <td>NaN</td>\n",
       "      <td>...</td>\n",
       "      <td>ko03018,ko04212,ko05152,map03018,map04212,map0...</td>\n",
       "      <td>NaN</td>\n",
       "      <td>NaN</td>\n",
       "      <td>NaN</td>\n",
       "      <td>ko00000,ko00001,ko03019,ko03029,ko03110,ko04147</td>\n",
       "      <td>1.A.33.1</td>\n",
       "      <td>NaN</td>\n",
       "      <td>NaN</td>\n",
       "      <td>HSP70</td>\n",
       "      <td>C2</td>\n",
       "    </tr>\n",
       "    <tr>\n",
       "      <th>1170493</th>\n",
       "      <td>contig_10010:1.0-176242.0_4</td>\n",
       "      <td>666684.AfiDRAFT_1589</td>\n",
       "      <td>0.000000e+00</td>\n",
       "      <td>1107.0</td>\n",
       "      <td>COG0443@1|root,COG0443@2|Bacteria,1MVEN@1224|P...</td>\n",
       "      <td>28211|Alphaproteobacteria</td>\n",
       "      <td>O</td>\n",
       "      <td>Heat shock 70 kDa protein</td>\n",
       "      <td>dnaK</td>\n",
       "      <td>NaN</td>\n",
       "      <td>...</td>\n",
       "      <td>ko03018,ko04212,ko05152,map03018,map04212,map0...</td>\n",
       "      <td>NaN</td>\n",
       "      <td>NaN</td>\n",
       "      <td>NaN</td>\n",
       "      <td>ko00000,ko00001,ko03019,ko03029,ko03110,ko04147</td>\n",
       "      <td>1.A.33.1</td>\n",
       "      <td>NaN</td>\n",
       "      <td>NaN</td>\n",
       "      <td>HSP70</td>\n",
       "      <td>C2</td>\n",
       "    </tr>\n",
       "    <tr>\n",
       "      <th>2415277</th>\n",
       "      <td>contig_9998:1.0-5353.0_4</td>\n",
       "      <td>666684.AfiDRAFT_1589</td>\n",
       "      <td>7.230000e-32</td>\n",
       "      <td>143.0</td>\n",
       "      <td>COG0443@1|root,COG0443@2|Bacteria,1MVEN@1224|P...</td>\n",
       "      <td>28211|Alphaproteobacteria</td>\n",
       "      <td>O</td>\n",
       "      <td>Heat shock 70 kDa protein</td>\n",
       "      <td>dnaK</td>\n",
       "      <td>NaN</td>\n",
       "      <td>...</td>\n",
       "      <td>ko03018,ko04212,ko05152,map03018,map04212,map0...</td>\n",
       "      <td>NaN</td>\n",
       "      <td>NaN</td>\n",
       "      <td>NaN</td>\n",
       "      <td>ko00000,ko00001,ko03019,ko03029,ko03110,ko04147</td>\n",
       "      <td>1.A.33.1</td>\n",
       "      <td>NaN</td>\n",
       "      <td>NaN</td>\n",
       "      <td>HSP70</td>\n",
       "      <td>C2</td>\n",
       "    </tr>\n",
       "    <tr>\n",
       "      <th>3247847</th>\n",
       "      <td>contig_4182_74</td>\n",
       "      <td>666684.AfiDRAFT_1589</td>\n",
       "      <td>2.170000e-26</td>\n",
       "      <td>131.0</td>\n",
       "      <td>COG0443@1|root,COG0443@2|Bacteria,1MVEN@1224|P...</td>\n",
       "      <td>28211|Alphaproteobacteria</td>\n",
       "      <td>O</td>\n",
       "      <td>Heat shock 70 kDa protein</td>\n",
       "      <td>dnaK</td>\n",
       "      <td>NaN</td>\n",
       "      <td>...</td>\n",
       "      <td>ko03018,ko04212,ko05152,map03018,map04212,map0...</td>\n",
       "      <td>NaN</td>\n",
       "      <td>NaN</td>\n",
       "      <td>NaN</td>\n",
       "      <td>ko00000,ko00001,ko03019,ko03029,ko03110,ko04147</td>\n",
       "      <td>1.A.33.1</td>\n",
       "      <td>NaN</td>\n",
       "      <td>NaN</td>\n",
       "      <td>HSP70</td>\n",
       "      <td>C3</td>\n",
       "    </tr>\n",
       "    <tr>\n",
       "      <th>4048753</th>\n",
       "      <td>contig_46471_0</td>\n",
       "      <td>666684.AfiDRAFT_1589</td>\n",
       "      <td>4.730000e-205</td>\n",
       "      <td>649.0</td>\n",
       "      <td>COG0443@1|root,COG0443@2|Bacteria,1MVEN@1224|P...</td>\n",
       "      <td>28211|Alphaproteobacteria</td>\n",
       "      <td>O</td>\n",
       "      <td>Heat shock 70 kDa protein</td>\n",
       "      <td>dnaK</td>\n",
       "      <td>NaN</td>\n",
       "      <td>...</td>\n",
       "      <td>ko03018,ko04212,ko05152,map03018,map04212,map0...</td>\n",
       "      <td>NaN</td>\n",
       "      <td>NaN</td>\n",
       "      <td>NaN</td>\n",
       "      <td>ko00000,ko00001,ko03019,ko03029,ko03110,ko04147</td>\n",
       "      <td>1.A.33.1</td>\n",
       "      <td>NaN</td>\n",
       "      <td>NaN</td>\n",
       "      <td>HSP70</td>\n",
       "      <td>L1</td>\n",
       "    </tr>\n",
       "    <tr>\n",
       "      <th>4693271</th>\n",
       "      <td>contig_1978_33</td>\n",
       "      <td>666684.AfiDRAFT_1589</td>\n",
       "      <td>0.000000e+00</td>\n",
       "      <td>1214.0</td>\n",
       "      <td>COG0443@1|root,COG0443@2|Bacteria,1MVEN@1224|P...</td>\n",
       "      <td>28211|Alphaproteobacteria</td>\n",
       "      <td>O</td>\n",
       "      <td>Heat shock 70 kDa protein</td>\n",
       "      <td>dnaK</td>\n",
       "      <td>NaN</td>\n",
       "      <td>...</td>\n",
       "      <td>ko03018,ko04212,ko05152,map03018,map04212,map0...</td>\n",
       "      <td>NaN</td>\n",
       "      <td>NaN</td>\n",
       "      <td>NaN</td>\n",
       "      <td>ko00000,ko00001,ko03019,ko03029,ko03110,ko04147</td>\n",
       "      <td>1.A.33.1</td>\n",
       "      <td>NaN</td>\n",
       "      <td>NaN</td>\n",
       "      <td>HSP70</td>\n",
       "      <td>L2</td>\n",
       "    </tr>\n",
       "    <tr>\n",
       "      <th>4721092</th>\n",
       "      <td>contig_20919_0</td>\n",
       "      <td>666684.AfiDRAFT_1589</td>\n",
       "      <td>2.530000e-200</td>\n",
       "      <td>597.0</td>\n",
       "      <td>COG0443@1|root,COG0443@2|Bacteria,1MVEN@1224|P...</td>\n",
       "      <td>28211|Alphaproteobacteria</td>\n",
       "      <td>O</td>\n",
       "      <td>Heat shock 70 kDa protein</td>\n",
       "      <td>dnaK</td>\n",
       "      <td>NaN</td>\n",
       "      <td>...</td>\n",
       "      <td>ko03018,ko04212,ko05152,map03018,map04212,map0...</td>\n",
       "      <td>NaN</td>\n",
       "      <td>NaN</td>\n",
       "      <td>NaN</td>\n",
       "      <td>ko00000,ko00001,ko03019,ko03029,ko03110,ko04147</td>\n",
       "      <td>1.A.33.1</td>\n",
       "      <td>NaN</td>\n",
       "      <td>NaN</td>\n",
       "      <td>HSP70</td>\n",
       "      <td>L2</td>\n",
       "    </tr>\n",
       "    <tr>\n",
       "      <th>4880703</th>\n",
       "      <td>contig_3073_75</td>\n",
       "      <td>666684.AfiDRAFT_1589</td>\n",
       "      <td>2.940000e-53</td>\n",
       "      <td>213.0</td>\n",
       "      <td>COG0443@1|root,COG0443@2|Bacteria,1MVEN@1224|P...</td>\n",
       "      <td>28211|Alphaproteobacteria</td>\n",
       "      <td>O</td>\n",
       "      <td>Heat shock 70 kDa protein</td>\n",
       "      <td>dnaK</td>\n",
       "      <td>NaN</td>\n",
       "      <td>...</td>\n",
       "      <td>ko03018,ko04212,ko05152,map03018,map04212,map0...</td>\n",
       "      <td>NaN</td>\n",
       "      <td>NaN</td>\n",
       "      <td>NaN</td>\n",
       "      <td>ko00000,ko00001,ko03019,ko03029,ko03110,ko04147</td>\n",
       "      <td>1.A.33.1</td>\n",
       "      <td>NaN</td>\n",
       "      <td>NaN</td>\n",
       "      <td>HSP70</td>\n",
       "      <td>L2</td>\n",
       "    </tr>\n",
       "    <tr>\n",
       "      <th>4881318</th>\n",
       "      <td>contig_3078_16</td>\n",
       "      <td>666684.AfiDRAFT_1589</td>\n",
       "      <td>3.000000e-47</td>\n",
       "      <td>193.0</td>\n",
       "      <td>COG0443@1|root,COG0443@2|Bacteria,1MVEN@1224|P...</td>\n",
       "      <td>28211|Alphaproteobacteria</td>\n",
       "      <td>O</td>\n",
       "      <td>Heat shock 70 kDa protein</td>\n",
       "      <td>dnaK</td>\n",
       "      <td>NaN</td>\n",
       "      <td>...</td>\n",
       "      <td>ko03018,ko04212,ko05152,map03018,map04212,map0...</td>\n",
       "      <td>NaN</td>\n",
       "      <td>NaN</td>\n",
       "      <td>NaN</td>\n",
       "      <td>ko00000,ko00001,ko03019,ko03029,ko03110,ko04147</td>\n",
       "      <td>1.A.33.1</td>\n",
       "      <td>NaN</td>\n",
       "      <td>NaN</td>\n",
       "      <td>HSP70</td>\n",
       "      <td>L2</td>\n",
       "    </tr>\n",
       "    <tr>\n",
       "      <th>4883059</th>\n",
       "      <td>contig_3090_0</td>\n",
       "      <td>666684.AfiDRAFT_1589</td>\n",
       "      <td>0.000000e+00</td>\n",
       "      <td>1115.0</td>\n",
       "      <td>COG0443@1|root,COG0443@2|Bacteria,1MVEN@1224|P...</td>\n",
       "      <td>28211|Alphaproteobacteria</td>\n",
       "      <td>O</td>\n",
       "      <td>Heat shock 70 kDa protein</td>\n",
       "      <td>dnaK</td>\n",
       "      <td>NaN</td>\n",
       "      <td>...</td>\n",
       "      <td>ko03018,ko04212,ko05152,map03018,map04212,map0...</td>\n",
       "      <td>NaN</td>\n",
       "      <td>NaN</td>\n",
       "      <td>NaN</td>\n",
       "      <td>ko00000,ko00001,ko03019,ko03029,ko03110,ko04147</td>\n",
       "      <td>1.A.33.1</td>\n",
       "      <td>NaN</td>\n",
       "      <td>NaN</td>\n",
       "      <td>HSP70</td>\n",
       "      <td>L2</td>\n",
       "    </tr>\n",
       "    <tr>\n",
       "      <th>4935059</th>\n",
       "      <td>contig_34621_0</td>\n",
       "      <td>666684.AfiDRAFT_1589</td>\n",
       "      <td>6.870000e-65</td>\n",
       "      <td>223.0</td>\n",
       "      <td>COG0443@1|root,COG0443@2|Bacteria,1MVEN@1224|P...</td>\n",
       "      <td>28211|Alphaproteobacteria</td>\n",
       "      <td>O</td>\n",
       "      <td>Heat shock 70 kDa protein</td>\n",
       "      <td>dnaK</td>\n",
       "      <td>NaN</td>\n",
       "      <td>...</td>\n",
       "      <td>ko03018,ko04212,ko05152,map03018,map04212,map0...</td>\n",
       "      <td>NaN</td>\n",
       "      <td>NaN</td>\n",
       "      <td>NaN</td>\n",
       "      <td>ko00000,ko00001,ko03019,ko03029,ko03110,ko04147</td>\n",
       "      <td>1.A.33.1</td>\n",
       "      <td>NaN</td>\n",
       "      <td>NaN</td>\n",
       "      <td>HSP70</td>\n",
       "      <td>L2</td>\n",
       "    </tr>\n",
       "    <tr>\n",
       "      <th>5223720</th>\n",
       "      <td>contig_58421_11</td>\n",
       "      <td>666684.AfiDRAFT_1589</td>\n",
       "      <td>3.860000e-33</td>\n",
       "      <td>149.0</td>\n",
       "      <td>COG0443@1|root,COG0443@2|Bacteria,1MVEN@1224|P...</td>\n",
       "      <td>28211|Alphaproteobacteria</td>\n",
       "      <td>O</td>\n",
       "      <td>Heat shock 70 kDa protein</td>\n",
       "      <td>dnaK</td>\n",
       "      <td>NaN</td>\n",
       "      <td>...</td>\n",
       "      <td>ko03018,ko04212,ko05152,map03018,map04212,map0...</td>\n",
       "      <td>NaN</td>\n",
       "      <td>NaN</td>\n",
       "      <td>NaN</td>\n",
       "      <td>ko00000,ko00001,ko03019,ko03029,ko03110,ko04147</td>\n",
       "      <td>1.A.33.1</td>\n",
       "      <td>NaN</td>\n",
       "      <td>NaN</td>\n",
       "      <td>HSP70</td>\n",
       "      <td>L2</td>\n",
       "    </tr>\n",
       "    <tr>\n",
       "      <th>5677470</th>\n",
       "      <td>contig_9812_28</td>\n",
       "      <td>666684.AfiDRAFT_1589</td>\n",
       "      <td>4.020000e-61</td>\n",
       "      <td>236.0</td>\n",
       "      <td>COG0443@1|root,COG0443@2|Bacteria,1MVEN@1224|P...</td>\n",
       "      <td>28211|Alphaproteobacteria</td>\n",
       "      <td>O</td>\n",
       "      <td>Heat shock 70 kDa protein</td>\n",
       "      <td>dnaK</td>\n",
       "      <td>NaN</td>\n",
       "      <td>...</td>\n",
       "      <td>ko03018,ko04212,ko05152,map03018,map04212,map0...</td>\n",
       "      <td>NaN</td>\n",
       "      <td>NaN</td>\n",
       "      <td>NaN</td>\n",
       "      <td>ko00000,ko00001,ko03019,ko03029,ko03110,ko04147</td>\n",
       "      <td>1.A.33.1</td>\n",
       "      <td>NaN</td>\n",
       "      <td>NaN</td>\n",
       "      <td>HSP70</td>\n",
       "      <td>L2</td>\n",
       "    </tr>\n",
       "    <tr>\n",
       "      <th>6215678</th>\n",
       "      <td>contig_3177_0</td>\n",
       "      <td>666684.AfiDRAFT_1589</td>\n",
       "      <td>7.640000e-309</td>\n",
       "      <td>951.0</td>\n",
       "      <td>COG0443@1|root,COG0443@2|Bacteria,1MVEN@1224|P...</td>\n",
       "      <td>28211|Alphaproteobacteria</td>\n",
       "      <td>O</td>\n",
       "      <td>Heat shock 70 kDa protein</td>\n",
       "      <td>dnaK</td>\n",
       "      <td>NaN</td>\n",
       "      <td>...</td>\n",
       "      <td>ko03018,ko04212,ko05152,map03018,map04212,map0...</td>\n",
       "      <td>NaN</td>\n",
       "      <td>NaN</td>\n",
       "      <td>NaN</td>\n",
       "      <td>ko00000,ko00001,ko03019,ko03029,ko03110,ko04147</td>\n",
       "      <td>1.A.33.1</td>\n",
       "      <td>NaN</td>\n",
       "      <td>NaN</td>\n",
       "      <td>HSP70</td>\n",
       "      <td>L3</td>\n",
       "    </tr>\n",
       "    <tr>\n",
       "      <th>6294326</th>\n",
       "      <td>contig_362_37</td>\n",
       "      <td>666684.AfiDRAFT_1589</td>\n",
       "      <td>0.000000e+00</td>\n",
       "      <td>1211.0</td>\n",
       "      <td>COG0443@1|root,COG0443@2|Bacteria,1MVEN@1224|P...</td>\n",
       "      <td>28211|Alphaproteobacteria</td>\n",
       "      <td>O</td>\n",
       "      <td>Heat shock 70 kDa protein</td>\n",
       "      <td>dnaK</td>\n",
       "      <td>NaN</td>\n",
       "      <td>...</td>\n",
       "      <td>ko03018,ko04212,ko05152,map03018,map04212,map0...</td>\n",
       "      <td>NaN</td>\n",
       "      <td>NaN</td>\n",
       "      <td>NaN</td>\n",
       "      <td>ko00000,ko00001,ko03019,ko03029,ko03110,ko04147</td>\n",
       "      <td>1.A.33.1</td>\n",
       "      <td>NaN</td>\n",
       "      <td>NaN</td>\n",
       "      <td>HSP70</td>\n",
       "      <td>L3</td>\n",
       "    </tr>\n",
       "    <tr>\n",
       "      <th>6576597</th>\n",
       "      <td>contig_5453_11</td>\n",
       "      <td>666684.AfiDRAFT_1589</td>\n",
       "      <td>0.000000e+00</td>\n",
       "      <td>991.0</td>\n",
       "      <td>COG0443@1|root,COG0443@2|Bacteria,1MVEN@1224|P...</td>\n",
       "      <td>28211|Alphaproteobacteria</td>\n",
       "      <td>O</td>\n",
       "      <td>Heat shock 70 kDa protein</td>\n",
       "      <td>dnaK</td>\n",
       "      <td>NaN</td>\n",
       "      <td>...</td>\n",
       "      <td>ko03018,ko04212,ko05152,map03018,map04212,map0...</td>\n",
       "      <td>NaN</td>\n",
       "      <td>NaN</td>\n",
       "      <td>NaN</td>\n",
       "      <td>ko00000,ko00001,ko03019,ko03029,ko03110,ko04147</td>\n",
       "      <td>1.A.33.1</td>\n",
       "      <td>NaN</td>\n",
       "      <td>NaN</td>\n",
       "      <td>HSP70</td>\n",
       "      <td>L3</td>\n",
       "    </tr>\n",
       "    <tr>\n",
       "      <th>6851526</th>\n",
       "      <td>contig_7453_5</td>\n",
       "      <td>666684.AfiDRAFT_1589</td>\n",
       "      <td>0.000000e+00</td>\n",
       "      <td>1119.0</td>\n",
       "      <td>COG0443@1|root,COG0443@2|Bacteria,1MVEN@1224|P...</td>\n",
       "      <td>28211|Alphaproteobacteria</td>\n",
       "      <td>O</td>\n",
       "      <td>Heat shock 70 kDa protein</td>\n",
       "      <td>dnaK</td>\n",
       "      <td>NaN</td>\n",
       "      <td>...</td>\n",
       "      <td>ko03018,ko04212,ko05152,map03018,map04212,map0...</td>\n",
       "      <td>NaN</td>\n",
       "      <td>NaN</td>\n",
       "      <td>NaN</td>\n",
       "      <td>ko00000,ko00001,ko03019,ko03029,ko03110,ko04147</td>\n",
       "      <td>1.A.33.1</td>\n",
       "      <td>NaN</td>\n",
       "      <td>NaN</td>\n",
       "      <td>HSP70</td>\n",
       "      <td>L3</td>\n",
       "    </tr>\n",
       "  </tbody>\n",
       "</table>\n",
       "<p>18 rows × 22 columns</p>\n",
       "</div>"
      ],
      "text/plain": [
       "                              #query         seed_ortholog         evalue  \\\n",
       "1004059               contig_69705_1  666684.AfiDRAFT_1589   0.000000e+00   \n",
       "1170178  contig_10001:1.0-29871.0_22  666684.AfiDRAFT_1589   6.600000e-53   \n",
       "1170493  contig_10010:1.0-176242.0_4  666684.AfiDRAFT_1589   0.000000e+00   \n",
       "2415277     contig_9998:1.0-5353.0_4  666684.AfiDRAFT_1589   7.230000e-32   \n",
       "3247847               contig_4182_74  666684.AfiDRAFT_1589   2.170000e-26   \n",
       "4048753               contig_46471_0  666684.AfiDRAFT_1589  4.730000e-205   \n",
       "4693271               contig_1978_33  666684.AfiDRAFT_1589   0.000000e+00   \n",
       "4721092               contig_20919_0  666684.AfiDRAFT_1589  2.530000e-200   \n",
       "4880703               contig_3073_75  666684.AfiDRAFT_1589   2.940000e-53   \n",
       "4881318               contig_3078_16  666684.AfiDRAFT_1589   3.000000e-47   \n",
       "4883059                contig_3090_0  666684.AfiDRAFT_1589   0.000000e+00   \n",
       "4935059               contig_34621_0  666684.AfiDRAFT_1589   6.870000e-65   \n",
       "5223720              contig_58421_11  666684.AfiDRAFT_1589   3.860000e-33   \n",
       "5677470               contig_9812_28  666684.AfiDRAFT_1589   4.020000e-61   \n",
       "6215678                contig_3177_0  666684.AfiDRAFT_1589  7.640000e-309   \n",
       "6294326                contig_362_37  666684.AfiDRAFT_1589   0.000000e+00   \n",
       "6576597               contig_5453_11  666684.AfiDRAFT_1589   0.000000e+00   \n",
       "6851526                contig_7453_5  666684.AfiDRAFT_1589   0.000000e+00   \n",
       "\n",
       "          score                                         eggNOG_OGs  \\\n",
       "1004059  1083.0  COG0443@1|root,COG0443@2|Bacteria,1MVEN@1224|P...   \n",
       "1170178   211.0  COG0443@1|root,COG0443@2|Bacteria,1MVEN@1224|P...   \n",
       "1170493  1107.0  COG0443@1|root,COG0443@2|Bacteria,1MVEN@1224|P...   \n",
       "2415277   143.0  COG0443@1|root,COG0443@2|Bacteria,1MVEN@1224|P...   \n",
       "3247847   131.0  COG0443@1|root,COG0443@2|Bacteria,1MVEN@1224|P...   \n",
       "4048753   649.0  COG0443@1|root,COG0443@2|Bacteria,1MVEN@1224|P...   \n",
       "4693271  1214.0  COG0443@1|root,COG0443@2|Bacteria,1MVEN@1224|P...   \n",
       "4721092   597.0  COG0443@1|root,COG0443@2|Bacteria,1MVEN@1224|P...   \n",
       "4880703   213.0  COG0443@1|root,COG0443@2|Bacteria,1MVEN@1224|P...   \n",
       "4881318   193.0  COG0443@1|root,COG0443@2|Bacteria,1MVEN@1224|P...   \n",
       "4883059  1115.0  COG0443@1|root,COG0443@2|Bacteria,1MVEN@1224|P...   \n",
       "4935059   223.0  COG0443@1|root,COG0443@2|Bacteria,1MVEN@1224|P...   \n",
       "5223720   149.0  COG0443@1|root,COG0443@2|Bacteria,1MVEN@1224|P...   \n",
       "5677470   236.0  COG0443@1|root,COG0443@2|Bacteria,1MVEN@1224|P...   \n",
       "6215678   951.0  COG0443@1|root,COG0443@2|Bacteria,1MVEN@1224|P...   \n",
       "6294326  1211.0  COG0443@1|root,COG0443@2|Bacteria,1MVEN@1224|P...   \n",
       "6576597   991.0  COG0443@1|root,COG0443@2|Bacteria,1MVEN@1224|P...   \n",
       "6851526  1119.0  COG0443@1|root,COG0443@2|Bacteria,1MVEN@1224|P...   \n",
       "\n",
       "                     max_annot_lvl COG_category                Description  \\\n",
       "1004059  28211|Alphaproteobacteria            O  Heat shock 70 kDa protein   \n",
       "1170178  28211|Alphaproteobacteria            O  Heat shock 70 kDa protein   \n",
       "1170493  28211|Alphaproteobacteria            O  Heat shock 70 kDa protein   \n",
       "2415277  28211|Alphaproteobacteria            O  Heat shock 70 kDa protein   \n",
       "3247847  28211|Alphaproteobacteria            O  Heat shock 70 kDa protein   \n",
       "4048753  28211|Alphaproteobacteria            O  Heat shock 70 kDa protein   \n",
       "4693271  28211|Alphaproteobacteria            O  Heat shock 70 kDa protein   \n",
       "4721092  28211|Alphaproteobacteria            O  Heat shock 70 kDa protein   \n",
       "4880703  28211|Alphaproteobacteria            O  Heat shock 70 kDa protein   \n",
       "4881318  28211|Alphaproteobacteria            O  Heat shock 70 kDa protein   \n",
       "4883059  28211|Alphaproteobacteria            O  Heat shock 70 kDa protein   \n",
       "4935059  28211|Alphaproteobacteria            O  Heat shock 70 kDa protein   \n",
       "5223720  28211|Alphaproteobacteria            O  Heat shock 70 kDa protein   \n",
       "5677470  28211|Alphaproteobacteria            O  Heat shock 70 kDa protein   \n",
       "6215678  28211|Alphaproteobacteria            O  Heat shock 70 kDa protein   \n",
       "6294326  28211|Alphaproteobacteria            O  Heat shock 70 kDa protein   \n",
       "6576597  28211|Alphaproteobacteria            O  Heat shock 70 kDa protein   \n",
       "6851526  28211|Alphaproteobacteria            O  Heat shock 70 kDa protein   \n",
       "\n",
       "        Preferred_name  GOs  ...  \\\n",
       "1004059           dnaK  NaN  ...   \n",
       "1170178           dnaK  NaN  ...   \n",
       "1170493           dnaK  NaN  ...   \n",
       "2415277           dnaK  NaN  ...   \n",
       "3247847           dnaK  NaN  ...   \n",
       "4048753           dnaK  NaN  ...   \n",
       "4693271           dnaK  NaN  ...   \n",
       "4721092           dnaK  NaN  ...   \n",
       "4880703           dnaK  NaN  ...   \n",
       "4881318           dnaK  NaN  ...   \n",
       "4883059           dnaK  NaN  ...   \n",
       "4935059           dnaK  NaN  ...   \n",
       "5223720           dnaK  NaN  ...   \n",
       "5677470           dnaK  NaN  ...   \n",
       "6215678           dnaK  NaN  ...   \n",
       "6294326           dnaK  NaN  ...   \n",
       "6576597           dnaK  NaN  ...   \n",
       "6851526           dnaK  NaN  ...   \n",
       "\n",
       "                                              KEGG_Pathway KEGG_Module  \\\n",
       "1004059  ko03018,ko04212,ko05152,map03018,map04212,map0...         NaN   \n",
       "1170178  ko03018,ko04212,ko05152,map03018,map04212,map0...         NaN   \n",
       "1170493  ko03018,ko04212,ko05152,map03018,map04212,map0...         NaN   \n",
       "2415277  ko03018,ko04212,ko05152,map03018,map04212,map0...         NaN   \n",
       "3247847  ko03018,ko04212,ko05152,map03018,map04212,map0...         NaN   \n",
       "4048753  ko03018,ko04212,ko05152,map03018,map04212,map0...         NaN   \n",
       "4693271  ko03018,ko04212,ko05152,map03018,map04212,map0...         NaN   \n",
       "4721092  ko03018,ko04212,ko05152,map03018,map04212,map0...         NaN   \n",
       "4880703  ko03018,ko04212,ko05152,map03018,map04212,map0...         NaN   \n",
       "4881318  ko03018,ko04212,ko05152,map03018,map04212,map0...         NaN   \n",
       "4883059  ko03018,ko04212,ko05152,map03018,map04212,map0...         NaN   \n",
       "4935059  ko03018,ko04212,ko05152,map03018,map04212,map0...         NaN   \n",
       "5223720  ko03018,ko04212,ko05152,map03018,map04212,map0...         NaN   \n",
       "5677470  ko03018,ko04212,ko05152,map03018,map04212,map0...         NaN   \n",
       "6215678  ko03018,ko04212,ko05152,map03018,map04212,map0...         NaN   \n",
       "6294326  ko03018,ko04212,ko05152,map03018,map04212,map0...         NaN   \n",
       "6576597  ko03018,ko04212,ko05152,map03018,map04212,map0...         NaN   \n",
       "6851526  ko03018,ko04212,ko05152,map03018,map04212,map0...         NaN   \n",
       "\n",
       "        KEGG_Reaction KEGG_rclass  \\\n",
       "1004059           NaN         NaN   \n",
       "1170178           NaN         NaN   \n",
       "1170493           NaN         NaN   \n",
       "2415277           NaN         NaN   \n",
       "3247847           NaN         NaN   \n",
       "4048753           NaN         NaN   \n",
       "4693271           NaN         NaN   \n",
       "4721092           NaN         NaN   \n",
       "4880703           NaN         NaN   \n",
       "4881318           NaN         NaN   \n",
       "4883059           NaN         NaN   \n",
       "4935059           NaN         NaN   \n",
       "5223720           NaN         NaN   \n",
       "5677470           NaN         NaN   \n",
       "6215678           NaN         NaN   \n",
       "6294326           NaN         NaN   \n",
       "6576597           NaN         NaN   \n",
       "6851526           NaN         NaN   \n",
       "\n",
       "                                                   BRITE   KEGG_TC CAZy  \\\n",
       "1004059  ko00000,ko00001,ko03019,ko03029,ko03110,ko04147  1.A.33.1  NaN   \n",
       "1170178  ko00000,ko00001,ko03019,ko03029,ko03110,ko04147  1.A.33.1  NaN   \n",
       "1170493  ko00000,ko00001,ko03019,ko03029,ko03110,ko04147  1.A.33.1  NaN   \n",
       "2415277  ko00000,ko00001,ko03019,ko03029,ko03110,ko04147  1.A.33.1  NaN   \n",
       "3247847  ko00000,ko00001,ko03019,ko03029,ko03110,ko04147  1.A.33.1  NaN   \n",
       "4048753  ko00000,ko00001,ko03019,ko03029,ko03110,ko04147  1.A.33.1  NaN   \n",
       "4693271  ko00000,ko00001,ko03019,ko03029,ko03110,ko04147  1.A.33.1  NaN   \n",
       "4721092  ko00000,ko00001,ko03019,ko03029,ko03110,ko04147  1.A.33.1  NaN   \n",
       "4880703  ko00000,ko00001,ko03019,ko03029,ko03110,ko04147  1.A.33.1  NaN   \n",
       "4881318  ko00000,ko00001,ko03019,ko03029,ko03110,ko04147  1.A.33.1  NaN   \n",
       "4883059  ko00000,ko00001,ko03019,ko03029,ko03110,ko04147  1.A.33.1  NaN   \n",
       "4935059  ko00000,ko00001,ko03019,ko03029,ko03110,ko04147  1.A.33.1  NaN   \n",
       "5223720  ko00000,ko00001,ko03019,ko03029,ko03110,ko04147  1.A.33.1  NaN   \n",
       "5677470  ko00000,ko00001,ko03019,ko03029,ko03110,ko04147  1.A.33.1  NaN   \n",
       "6215678  ko00000,ko00001,ko03019,ko03029,ko03110,ko04147  1.A.33.1  NaN   \n",
       "6294326  ko00000,ko00001,ko03019,ko03029,ko03110,ko04147  1.A.33.1  NaN   \n",
       "6576597  ko00000,ko00001,ko03019,ko03029,ko03110,ko04147  1.A.33.1  NaN   \n",
       "6851526  ko00000,ko00001,ko03019,ko03029,ko03110,ko04147  1.A.33.1  NaN   \n",
       "\n",
       "        BiGG_Reaction  PFAMs site  \n",
       "1004059           NaN  HSP70   C1  \n",
       "1170178           NaN  HSP70   C2  \n",
       "1170493           NaN  HSP70   C2  \n",
       "2415277           NaN  HSP70   C2  \n",
       "3247847           NaN  HSP70   C3  \n",
       "4048753           NaN  HSP70   L1  \n",
       "4693271           NaN  HSP70   L2  \n",
       "4721092           NaN  HSP70   L2  \n",
       "4880703           NaN  HSP70   L2  \n",
       "4881318           NaN  HSP70   L2  \n",
       "4883059           NaN  HSP70   L2  \n",
       "4935059           NaN  HSP70   L2  \n",
       "5223720           NaN  HSP70   L2  \n",
       "5677470           NaN  HSP70   L2  \n",
       "6215678           NaN  HSP70   L3  \n",
       "6294326           NaN  HSP70   L3  \n",
       "6576597           NaN  HSP70   L3  \n",
       "6851526           NaN  HSP70   L3  \n",
       "\n",
       "[18 rows x 22 columns]"
      ]
     },
     "execution_count": 41,
     "metadata": {},
     "output_type": "execute_result"
    }
   ],
   "source": [
    "df[df[\"seed_ortholog\"].str.contains(\"AfiDRAFT_1589\", na=False)]"
   ]
  },
  {
   "cell_type": "markdown",
   "metadata": {},
   "source": [
    "## bedtools -- env metabat"
   ]
  },
  {
   "cell_type": "code",
   "execution_count": 27,
   "metadata": {},
   "outputs": [
    {
     "name": "stdout",
     "output_type": "stream",
     "text": [
      "##gff-version 3\n",
      "## created with emapper-2.1.9\n",
      "contig_10001:1.0-29871.0\teggNOG-mapper\tCDS\t1\t495\t211.0\t-\t.\tID=contig_10001:1.0-29871.0_22;em_target=666684.AfiDRAFT_1589;em_score=211.0;em_evalue=6.6e-53;em_tcov=21.0;em_searcher=diamond\n"
     ]
    }
   ],
   "source": [
    "!head -n 3 anno/C2.emapper.genepred.gff"
   ]
  },
  {
   "cell_type": "code",
   "execution_count": 46,
   "metadata": {},
   "outputs": [
    {
     "name": "stdout",
     "output_type": "stream",
     "text": [
      "contig_10001:1.0-29871.0\teggNOG-mapper\tCDS\t29744\t29904\t64.7\t+\t.\tID=contig_10001:1.0-29871.0_28;em_target=709797.CSIRO_1031;em_score=64.7;em_evalue=5.48e-07;em_tcov=16.7;em_searcher=diamond\n"
     ]
    }
   ],
   "source": [
    "!grep \"contig_10001:1.0-29871.0_28\" anno/C2.emapper.genepred.gff"
   ]
  },
  {
   "cell_type": "code",
   "execution_count": 50,
   "metadata": {},
   "outputs": [
    {
     "data": {
      "text/plain": [
       "160"
      ]
     },
     "execution_count": 50,
     "metadata": {},
     "output_type": "execute_result"
    }
   ],
   "source": [
    "29904 - 29744"
   ]
  },
  {
   "cell_type": "code",
   "execution_count": 52,
   "metadata": {},
   "outputs": [
    {
     "name": "stdout",
     "output_type": "stream",
     "text": [
      ">contig_10001:1.0-29871.0_23\n",
      "GCTGGCGCAATCGCCGACGGCGGGCCGCACAGCTTCTCGGCCAGTTCGGAGATTGGGGCGCCTATACGGCCCGCCCGGCGGCAAGAAAATCTGCTTCGCCCTGGCCAAGCCAGCCACGTCCGAGACCAATCCGCCCAATCGCCCGCGTGATCCAGCCTGGTTCTTTGTGTCCACCCGGCCTGCCGAAAGGTGAAGGAAGAGGTTTCGGTCATCATCGGCTATCGTTCAAGGCGAACAGCGATGCCGTGGTCGAGATCGGCAGCACCAATTTGCCATGTACACGCAGAATGACGGCGCGTGGGTGAAGAACGCCGCCGAGGAAGCCCGGCTGATCGAGGCCATGCGGCGCGGCGCCGATGTAACGGTGCGGGGCAGATCGGCCGCGGCACCAAGACGACCGACCGCTTTTCGCTGAAGGGCGTTGCCCAGGCGCTCGACCGCGCCGCGCAGGAATGCCGG\n",
      ">contig_10001:1.0-29871.0_28\n"
     ]
    }
   ],
   "source": [
    "!grep -B 2 \"contig_10001:1.0-29871.0_28\" anno/C2.emapper.genepred.fasta"
   ]
  },
  {
   "cell_type": "code",
   "execution_count": 49,
   "metadata": {},
   "outputs": [
    {
     "name": "stdout",
     "output_type": "stream",
     "text": [
      ">contig_10001:1.0-29871.0\n"
     ]
    }
   ],
   "source": [
    "!grep \"contig_10001:1.0-29871.0\" ../rnf_c/fastas/C2.fasta"
   ]
  },
  {
   "cell_type": "code",
   "execution_count": 1010,
   "metadata": {},
   "outputs": [
    {
     "name": "stdout",
     "output_type": "stream",
     "text": [
      "ORTHOLOGY   K03781  catalase\n",
      "            K19885  dichlorochromopyrrolate synthase / catalase\n"
     ]
    }
   ],
   "source": [
    "keggRest(\"1.11.1.6\")"
   ]
  },
  {
   "cell_type": "code",
   "execution_count": 926,
   "metadata": {},
   "outputs": [
    {
     "name": "stdout",
     "output_type": "stream",
     "text": [
      "NAME        Mn-containing catalase\n",
      "DBLINKS     COG: COG3546\n"
     ]
    }
   ],
   "source": [
    "keggRest(\"ko:K07217 \", [\"NAME\", \"PATHWAY\", \"DBLINKS\"])"
   ]
  },
  {
   "cell_type": "code",
   "execution_count": 974,
   "metadata": {},
   "outputs": [],
   "source": [
    "rq = requests.get(\"https://rest.uniprot.org/uniprotkb/search?query=xref:eggno-:COG3546?format=json\")"
   ]
  },
  {
   "cell_type": "code",
   "execution_count": 973,
   "metadata": {},
   "outputs": [
    {
     "data": {
      "text/plain": [
       "'{\"url\":\"http://rest.uniprot.org/uniprotkb/search\",\"messages\":[\"query parameter has an invalid syntax\"]}'"
      ]
     },
     "execution_count": 973,
     "metadata": {},
     "output_type": "execute_result"
    }
   ],
   "source": [
    "rq.text"
   ]
  },
  {
   "cell_type": "code",
   "execution_count": 993,
   "metadata": {},
   "outputs": [],
   "source": [
    "rq = requests.get(\"https://rest.uniprot.org/uniprotkb/search?query=xref:eggnog-COG3546&format=json\")\n",
    "search_res = rq.json()"
   ]
  },
  {
   "cell_type": "code",
   "execution_count": 1006,
   "metadata": {},
   "outputs": [
    {
     "name": "stdout",
     "output_type": "stream",
     "text": [
      "dict_keys(['entryType', 'primaryAccession', 'uniProtkbId', 'entryAudit', 'annotationScore', 'organism', 'proteinExistence', 'proteinDescription', 'genes', 'comments', 'features', 'keywords', 'references', 'uniProtKBCrossReferences', 'sequence', 'extraAttributes'])\n"
     ]
    }
   ],
   "source": [
    "for i in search_res['results']:\n",
    "    print(i.keys())\n",
    "    break"
   ]
  },
  {
   "cell_type": "code",
   "execution_count": 1008,
   "metadata": {},
   "outputs": [
    {
     "name": "stdout",
     "output_type": "stream",
     "text": [
      "{'recommendedName': {'fullName': {'value': 'Protein CotJC'}}}\n",
      "{'recommendedName': {'fullName': {'value': 'Probable manganese catalase'}, 'ecNumbers': [{'value': '1.11.1.6'}]}, 'alternativeNames': [{'fullName': {'value': 'General stress protein 80'}, 'shortNames': [{'value': 'GSP80'}]}]}\n",
      "{'recommendedName': {'fullName': {'value': 'Probable manganese catalase'}, 'ecNumbers': [{'value': '1.11.1.6'}]}}\n",
      "{'recommendedName': {'fullName': {'value': 'Uncharacterized protein YjqC'}}}\n",
      "{'submissionNames': [{'fullName': {'evidences': [{'evidenceCode': 'ECO:0000313', 'source': 'EMBL', 'id': 'EFP61762.1'}], 'value': 'Uncharacterized protein'}}]}\n",
      "{'submissionNames': [{'fullName': {'evidences': [{'evidenceCode': 'ECO:0000313', 'source': 'EMBL', 'id': 'OXC75705.1'}], 'value': 'Uncharacterized protein'}}]}\n",
      "{'submissionNames': [{'fullName': {'evidences': [{'evidenceCode': 'ECO:0000313', 'source': 'EMBL', 'id': 'CCV05657.1'}], 'value': 'Manganese containing catalase'}}]}\n",
      "{'submissionNames': [{'fullName': {'evidences': [{'evidenceCode': 'ECO:0000313', 'source': 'EMBL', 'id': 'GAL86744.1'}], 'value': 'Manganese containing catalase'}}]}\n",
      "{'submissionNames': [{'fullName': {'evidences': [{'evidenceCode': 'ECO:0000313', 'source': 'EMBL', 'id': 'CUN80841.1'}], 'value': 'Probable manganese catalase'}, 'ecNumbers': [{'evidences': [{'evidenceCode': 'ECO:0000313', 'source': 'EMBL', 'id': 'CUN80841.1'}], 'value': '1.11.1.6'}]}]}\n",
      "{'submissionNames': [{'fullName': {'evidences': [{'evidenceCode': 'ECO:0000313', 'source': 'EMBL', 'id': 'EDM88787.1'}], 'value': 'Uncharacterized protein'}}]}\n",
      "{'submissionNames': [{'fullName': {'evidences': [{'evidenceCode': 'ECO:0000313', 'source': 'EMBL', 'id': 'EDM88847.1'}], 'value': 'Uncharacterized protein'}}]}\n",
      "{'submissionNames': [{'fullName': {'evidences': [{'evidenceCode': 'ECO:0000313', 'source': 'EMBL', 'id': 'EDN76404.1'}], 'value': 'CotJC protein'}}]}\n",
      "{'submissionNames': [{'fullName': {'evidences': [{'evidenceCode': 'ECO:0000313', 'source': 'EMBL', 'id': 'EEG35324.1'}], 'value': 'Uncharacterized protein'}}]}\n",
      "{'submissionNames': [{'fullName': {'evidences': [{'evidenceCode': 'ECO:0000313', 'source': 'EMBL', 'id': 'EET88085.1'}], 'value': 'Spore coat protein CotJC'}}]}\n",
      "{'submissionNames': [{'fullName': {'evidences': [{'evidenceCode': 'ECO:0000313', 'source': 'EMBL', 'id': 'GAE43440.1'}], 'value': 'Polypeptide composition of the spore coat protein CotJC'}}]}\n",
      "{'submissionNames': [{'fullName': {'evidences': [{'evidenceCode': 'ECO:0000313', 'source': 'EMBL', 'id': 'GAF06303.1'}], 'value': 'Polypeptide composition of the spore coat protein CotJC'}}]}\n",
      "{'submissionNames': [{'fullName': {'evidences': [{'evidenceCode': 'ECO:0000313', 'source': 'EMBL', 'id': 'KEZ87268.1'}], 'value': 'Uncharacterized protein'}}]}\n",
      "{'submissionNames': [{'fullName': {'evidences': [{'evidenceCode': 'ECO:0000313', 'source': 'EMBL', 'id': 'KGP71495.1'}], 'value': 'CotJC'}}]}\n",
      "{'submissionNames': [{'fullName': {'evidences': [{'evidenceCode': 'ECO:0000313', 'source': 'EMBL', 'id': 'OXC72269.1'}], 'value': 'Manganese catalase'}}]}\n",
      "{'submissionNames': [{'fullName': {'evidences': [{'evidenceCode': 'ECO:0000313', 'source': 'EMBL', 'id': 'EET59294.1'}], 'value': 'Uncharacterized protein'}}]}\n",
      "{'submissionNames': [{'fullName': {'evidences': [{'evidenceCode': 'ECO:0000313', 'source': 'EMBL', 'id': 'EQM98898.1'}], 'value': 'Uncharacterized protein'}}]}\n",
      "{'submissionNames': [{'fullName': {'evidences': [{'evidenceCode': 'ECO:0000313', 'source': 'EMBL', 'id': 'GAF06304.1'}], 'value': 'Polypeptide composition of the spore coat protein CotJC'}}]}\n",
      "{'submissionNames': [{'fullName': {'evidences': [{'evidenceCode': 'ECO:0000313', 'source': 'EMBL', 'id': 'OUN03472.1'}], 'value': 'Manganese catalase'}}]}\n",
      "{'submissionNames': [{'fullName': {'evidences': [{'evidenceCode': 'ECO:0000313', 'source': 'EMBL', 'id': 'EDN00138.1'}], 'value': 'Uncharacterized protein'}}]}\n",
      "{'submissionNames': [{'fullName': {'evidences': [{'evidenceCode': 'ECO:0000313', 'source': 'EMBL', 'id': 'EHH69573.1'}], 'value': 'Non-heme manganese-containing catalase'}}]}\n"
     ]
    }
   ],
   "source": [
    "for i in search_res['results']:\n",
    "    print(i[\"proteinDescription\"])\n"
   ]
  },
  {
   "cell_type": "code",
   "execution_count": 923,
   "metadata": {},
   "outputs": [
    {
     "name": "stdout",
     "output_type": "stream",
     "text": [
      "NAME        catalase [EC:1.11.1.6]\n",
      "PATHWAY     map00380  Tryptophan metabolism\n",
      "            map00630  Glyoxylate and dicarboxylate metabolism\n",
      "            map01100  Metabolic pathways\n",
      "            map01110  Biosynthesis of secondary metabolites\n",
      "            map01200  Carbon metabolism\n",
      "            map04011  MAPK signaling pathway - yeast\n",
      "            map04016  MAPK signaling pathway - plant\n",
      "            map04068  FoxO signaling pathway\n",
      "            map04146  Peroxisome\n",
      "            map04211  Longevity regulating pathway\n",
      "            map04212  Longevity regulating pathway - worm\n",
      "            map04213  Longevity regulating pathway - multiple species\n",
      "            map05014  Amyotrophic lateral sclerosis\n",
      "            map05022  Pathways of neurodegeneration - multiple diseases\n",
      "            map05208  Chemical carcinogenesis - reactive oxygen species\n"
     ]
    }
   ],
   "source": [
    "keggRest(\"ko:K03781 \", [\"NAME\", \"PATHWAY\"])"
   ]
  },
  {
   "cell_type": "code",
   "execution_count": 207,
   "metadata": {},
   "outputs": [
    {
     "data": {
      "text/plain": [
       "eggNOG_OGs\n",
       "28HJP@1|root,2Z7UT@2|Bacteria,1MWM4@1224|Proteobacteria,1RQNG@1236|Gammaproteobacteria,1Y5H3@135624|Aeromonadales                       1\n",
       "COG2207@1|root,COG2207@2|Bacteria,1RJPK@1224|Proteobacteria,2TVEN@28211|Alphaproteobacteria,2K6A9@204457|Sphingomonadales               1\n",
       "COG2197@1|root,COG2197@2|Bacteria,1MWGM@1224|Proteobacteria,2U0JP@28211|Alphaproteobacteria,2K2JD@204457|Sphingomonadales               1\n",
       "COG2173@1|root,COG2173@2|Bacteria,1RENK@1224|Proteobacteria,1S3SJ@1236|Gammaproteobacteria,1X64M@135614|Xanthomonadales                 1\n",
       "COG2128@1|root,COG2128@2|Bacteria,1RAS1@1224|Proteobacteria,1S2WN@1236|Gammaproteobacteria,1YIKW@136841|Pseudomonas aeruginosa group    1\n",
       "                                                                                                                                       ..\n",
       "COG0791@1|root,COG0791@2|Bacteria,1R45H@1224|Proteobacteria,1RZDR@1236|Gammaproteobacteria,1X5RQ@135614|Xanthomonadales                 1\n",
       "COG0702@1|root,COG0702@2|Bacteria,1NT7T@1224|Proteobacteria,2UNXY@28211|Alphaproteobacteria,4BE57@82115|Rhizobiaceae                    1\n",
       "COG1028@1|root,COG1028@2|Bacteria,1MXNY@1224|Proteobacteria,2U126@28211|Alphaproteobacteria                                             1\n",
       "COG0583@1|root,COG0583@2|Bacteria,1MX2F@1224|Proteobacteria,1S340@1236|Gammaproteobacteria,1X73N@135614|Xanthomonadales                 2\n",
       "COG0477@1|root,COG2814@2|Bacteria,1QUCI@1224|Proteobacteria,1T1TC@1236|Gammaproteobacteria                                              2\n",
       "Name: #query, Length: 98, dtype: int64"
      ]
     },
     "execution_count": 207,
     "metadata": {},
     "output_type": "execute_result"
    }
   ],
   "source": [
    "df.head(100).groupby(\"eggNOG_OGs\").count()[\"#query\"].sort_values(ascending=True)"
   ]
  },
  {
   "cell_type": "code",
   "execution_count": 213,
   "metadata": {},
   "outputs": [
    {
     "data": {
      "text/plain": [
       "0     False\n",
       "1     False\n",
       "2     False\n",
       "3     False\n",
       "4     False\n",
       "      ...  \n",
       "95    False\n",
       "96    False\n",
       "97    False\n",
       "98    False\n",
       "99    False\n",
       "Name: COG_category, Length: 100, dtype: bool"
      ]
     },
     "execution_count": 213,
     "metadata": {},
     "output_type": "execute_result"
    }
   ],
   "source": [
    "df.head(100)[\"COG_category\"].isnull()"
   ]
  },
  {
   "cell_type": "code",
   "execution_count": 241,
   "metadata": {},
   "outputs": [
    {
     "data": {
      "text/plain": [
       "'COG1435'"
      ]
     },
     "execution_count": 241,
     "metadata": {},
     "output_type": "execute_result"
    }
   ],
   "source": [
    "df.head(10)[\"eggNOG_OGs\"].to_list()[1].split(\",\")[0].split(\"@\")[0]"
   ]
  },
  {
   "cell_type": "code",
   "execution_count": 232,
   "metadata": {},
   "outputs": [
    {
     "data": {
      "text/plain": [
       "'29XXR'"
      ]
     },
     "execution_count": 232,
     "metadata": {},
     "output_type": "execute_result"
    }
   ],
   "source": [
    "df.head(1000).loc[df.head(1000)[\"COG_category\"].isnull()][\"eggNOG_OGs\"].to_list()[1].split(\",\")[0].split(\"@\")[0]"
   ]
  },
  {
   "cell_type": "code",
   "execution_count": null,
   "metadata": {},
   "outputs": [],
   "source": [
    "requests.get(\"http://eggnogapi5.embl.de/nog_data/json/tree,go_terms,domains/COG1435\").json()"
   ]
  },
  {
   "cell_type": "code",
   "execution_count": null,
   "metadata": {},
   "outputs": [],
   "source": [
    "r.json()"
   ]
  },
  {
   "cell_type": "code",
   "execution_count": 915,
   "metadata": {},
   "outputs": [],
   "source": [
    "def keggRest(what, entry =\"ORTHOLOGY\"):\n",
    "    HELP = ['ENTRY', 'NAME', 'CLASS', 'SYSNAME', 'REACTION', 'ALL_REAC', 'SUBSTRATE', 'PRODUCT', 'COMMENT', 'HISTORY', 'REFERENCE','PATHWAY', 'ORTHOLOGY', 'GENES', 'DBLINKS']\n",
    "    if what.lower() == \"help\":\n",
    "        print(HELP)\n",
    "        return\n",
    "    entry_l = []\n",
    "    if isinstance(entry, str):\n",
    "        entry_l.append(entry)\n",
    "    if isinstance(entry, type([])):\n",
    "        entry_l.extend(entry)      \n",
    "    kr = requests.get(f\"https://rest.kegg.jp/get/{what}\")\n",
    "    if kr.status_code != 200:\n",
    "        print(f\"ERROR {kr.status_code}\")\n",
    "        return\n",
    "    l = kr.text.split(\"\\n\")\n",
    "    res = [i[0] for i in enumerate(l) if i[1].startswith(tuple(entry_l))]\n",
    "    for a in res:\n",
    "        for num, line in [i for i in enumerate(l)][a:]:\n",
    "            if num >= a:\n",
    "                if (not num == a) and not line.startswith(\" \"):\n",
    "                    break\n",
    "                else:\n",
    "                    print(line)"
   ]
  },
  {
   "cell_type": "code",
   "execution_count": 881,
   "metadata": {},
   "outputs": [
    {
     "data": {
      "text/plain": [
       "200"
      ]
     },
     "execution_count": 881,
     "metadata": {},
     "output_type": "execute_result"
    }
   ],
   "source": [
    "kr.status_code"
   ]
  },
  {
   "cell_type": "code",
   "execution_count": 913,
   "metadata": {},
   "outputs": [
    {
     "name": "stdout",
     "output_type": "stream",
     "text": [
      "ENTRY       EC 1.11.1.6                 Enzyme\n",
      "NAME        catalase;\n",
      "            equilase;\n",
      "            caperase;\n",
      "            optidase;\n",
      "            catalase-peroxidase;\n",
      "            CAT\n",
      "ORTHOLOGY   K03781  catalase\n",
      "            K19885  dichlorochromopyrrolate synthase / catalase\n",
      "DBLINKS     ExplorEnz - The Enzyme Database: 1.11.1.6\n",
      "            IUBMB Enzyme Nomenclature: 1.11.1.6\n",
      "            ExPASy - ENZYME nomenclature database: 1.11.1.6\n",
      "            UM-BBD (Biocatalysis/Biodegradation Database): 1.11.1.6\n",
      "            BRENDA, the Enzyme Database: 1.11.1.6\n",
      "            CAS: 9001-05-2\n"
     ]
    }
   ],
   "source": [
    "keggRest(\"1.11.1.6\", [\"ORTHOLOGY\", \"ENTRY\", \"DBLINKS\", \"NAME\"])"
   ]
  },
  {
   "cell_type": "code",
   "execution_count": 914,
   "metadata": {},
   "outputs": [
    {
     "name": "stdout",
     "output_type": "stream",
     "text": [
      "['ENTRY', 'NAME', 'CLASS', 'SYSNAME', 'REACTION', 'ALL_REAC', 'SUBSTRATE', 'PRODUCT', 'COMMENT', 'HISTORY', 'REFERENCE', 'PATHWAY', 'ORTHOLOGY', 'GENES', 'DBLINKS']\n"
     ]
    }
   ],
   "source": [
    "keggRest(\"help\")"
   ]
  },
  {
   "cell_type": "code",
   "execution_count": 380,
   "metadata": {},
   "outputs": [
    {
     "data": {
      "text/plain": [
       "['ORTHOLOGY   K03781  catalase',\n",
       " '            K19885  dichlorochromopyrrolate synthase / catalase']"
      ]
     },
     "execution_count": 380,
     "metadata": {},
     "output_type": "execute_result"
    }
   ],
   "source": [
    "keggRest(\"1.11.1.6\")"
   ]
  },
  {
   "cell_type": "code",
   "execution_count": null,
   "metadata": {},
   "outputs": [],
   "source": [
    "kr."
   ]
  },
  {
   "cell_type": "code",
   "execution_count": 273,
   "metadata": {},
   "outputs": [
    {
     "name": "stdout",
     "output_type": "stream",
     "text": [
      "anno\n"
     ]
    }
   ],
   "source": [
    "!ls"
   ]
  }
 ],
 "metadata": {
  "kernelspec": {
   "display_name": "Python [conda env:vamb]",
   "language": "python",
   "name": "conda-env-vamb-py"
  },
  "language_info": {
   "codemirror_mode": {
    "name": "ipython",
    "version": 3
   },
   "file_extension": ".py",
   "mimetype": "text/x-python",
   "name": "python",
   "nbconvert_exporter": "python",
   "pygments_lexer": "ipython3",
   "version": "3.8.10"
  }
 },
 "nbformat": 4,
 "nbformat_minor": 4
}
