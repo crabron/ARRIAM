{
 "cells": [
  {
   "cell_type": "code",
   "execution_count": 1,
   "metadata": {},
   "outputs": [],
   "source": [
    "import typing as t\n",
    "import os\n",
    "from glob import glob\n",
    "\n",
    "import pandas as pd\n",
    "import numpy as np\n",
    "from Bio import SeqIO\n",
    "from Bio.SeqRecord import SeqRecord\n",
    "\n",
    "%matplotlib inline"
   ]
  },
  {
   "cell_type": "code",
   "execution_count": 2,
   "metadata": {},
   "outputs": [
    {
     "data": {
      "text/plain": [
       "array(['chz', 'sp'], dtype=object)"
      ]
     },
     "execution_count": 2,
     "metadata": {},
     "output_type": "execute_result"
    }
   ],
   "source": [
    "gh_path = '/home/is6/glyco/annotations.tsv'\n",
    "\n",
    "gh_matches = pd.read_csv(gh_path, sep='\\t')\n",
    "gh_matches['sample'].unique()"
   ]
  },
  {
   "cell_type": "code",
   "execution_count": 3,
   "metadata": {},
   "outputs": [],
   "source": [
    "sample = 'sp'"
   ]
  },
  {
   "cell_type": "code",
   "execution_count": 4,
   "metadata": {},
   "outputs": [],
   "source": [
    "gh_loci = set(\n",
    "    gh_matches\n",
    "    .groupby('sample')\n",
    "    .filter(lambda grp: grp.name == sample)\n",
    "    ['query']\n",
    ")"
   ]
  },
  {
   "cell_type": "code",
   "execution_count": 5,
   "metadata": {},
   "outputs": [],
   "source": [
    "def extract_cds_loci(contig: SeqRecord) -> t.Set[str]:\n",
    "    features = contig.features\n",
    "    # extract cds locus tags\n",
    "    loci = (feat.qualifiers['locus_tag'][0] \n",
    "            for feat in features if feat.type == 'CDS')\n",
    "    return set(loci)\n",
    "\n",
    "\n",
    "annotation_root = f'/home/is6/annotation/{sample}'\n",
    "annotation_path = glob(f'{annotation_root}/*.gbk')[0]\n",
    "annotation = list(SeqIO.parse(annotation_path, 'gb'))\n",
    "\n",
    "# fetch IDs of contigs bearing GH proteins\n",
    "contigs_gh = [contig.id for contig in annotation if extract_cds_loci(contig) & gh_loci]"
   ]
  },
  {
   "cell_type": "code",
   "execution_count": 6,
   "metadata": {},
   "outputs": [
    {
     "data": {
      "text/plain": [
       "{'contig_2342', 'contig_2394', 'contig_2531'}"
      ]
     },
     "execution_count": 6,
     "metadata": {},
     "output_type": "execute_result"
    }
   ],
   "source": [
    "# parse CAT predictions and fetch taxonomy for selected contigs\n",
    "\n",
    "taxonomy_path = f'/home/is6/SolidBin/CAT_taxonomic_classification/{sample}/contigs_taxonomy_noscores.tsv'\n",
    "taxa_levels = ['superkingdom', 'phylum', 'class', 'order', 'family', 'genus', 'species']\n",
    "taxonomy = pd.read_csv(taxonomy_path, sep='\\t',  usecols=['# contig', *taxa_levels], index_col='# contig').fillna('NA')\n",
    "taxonomy_gh = taxonomy.loc[[contig for contig in contigs_gh if contig in taxonomy.index]]\n",
    "# are there any GH contigs missing from CAT predictions?\n",
    "set(contigs_gh) - set(taxonomy_gh.index)"
   ]
  },
  {
   "cell_type": "code",
   "execution_count": 7,
   "metadata": {},
   "outputs": [
    {
     "name": "stderr",
     "output_type": "stream",
     "text": [
      "/home/ilia/.conda/envs/py3/lib/python3.6/site-packages/ipykernel_launcher.py:7: FutureWarning: The signature of `Series.to_csv` was aligned to that of `DataFrame.to_csv`, and argument 'header' will change its default value from False to True: please pass an explicit value to suppress this warning.\n",
      "  import sys\n"
     ]
    }
   ],
   "source": [
    "# export taxa summaries\n",
    "os.makedirs(f'gh_taxa_summary/{sample}', exist_ok=True)\n",
    "\n",
    "for level in taxa_levels:\n",
    "    tax_counts = taxonomy_gh[level].value_counts()\n",
    "    tax_freqs = tax_counts / tax_counts.sum()\n",
    "    tax_freqs.to_csv(f'gh_taxa_summary/{sample}/{level}.tsv', sep='\\t', header=None)\n",
    "    "
   ]
  },
  {
   "cell_type": "code",
   "execution_count": null,
   "metadata": {},
   "outputs": [],
   "source": []
  },
  {
   "cell_type": "code",
   "execution_count": null,
   "metadata": {},
   "outputs": [],
   "source": []
  }
 ],
 "metadata": {
  "kernelspec": {
   "display_name": "Python 3",
   "language": "python",
   "name": "python3"
  },
  "language_info": {
   "codemirror_mode": {
    "name": "ipython",
    "version": 3
   },
   "file_extension": ".py",
   "mimetype": "text/x-python",
   "name": "python",
   "nbconvert_exporter": "python",
   "pygments_lexer": "ipython3",
   "version": "3.6.8"
  }
 },
 "nbformat": 4,
 "nbformat_minor": 4
}
